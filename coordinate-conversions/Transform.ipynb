{
 "cells": [
  {
   "cell_type": "code",
   "execution_count": 22,
   "metadata": {
    "collapsed": false
   },
   "outputs": [],
   "source": [
    "'''Object oriented transformations'''\n",
    "from math import *\n",
    "import polynomial\n"
   ]
  },
  {
   "cell_type": "code",
   "execution_count": 21,
   "metadata": {
    "collapsed": false
   },
   "outputs": [
    {
     "name": "stdout",
     "output_type": "stream",
     "text": [
      "From Detector to Science\n",
      "None\n",
      "0.0 0.0\n"
     ]
    }
   ],
   "source": [
    "class Transform(object):\n",
    "    coords = ['Detector', 'Science', 'Ideal', 'V2V3']\n",
    "    \n",
    "    def __init__(self, fromCoords, toCoords):\n",
    "        self.instrument = 'None'\n",
    "        self.aperture = 'None'\n",
    "        self.xin, self.yin = 0.0, 0.0  # until defined\n",
    "        if fromCoords in self.coords: self.fromCoords = fromCoords\n",
    "        else: print ('Unrecognized coordinate system', fromCoords)    \n",
    "        if toCoords in self.coords: self.toCoords = toCoords\n",
    "        else: print ('Unrecognized coordinate system', toCoords)    \n",
    "\n",
    "        print ('From', self.fromCoords, 'to', self.toCoords)\n",
    "        \n",
    "        \n",
    "\n",
    "calc1 = Transform('Detector', 'Science')\n",
    "print (calc1.aperture)\n",
    "print (calc1.xin, calc1.yin)\n"
   ]
  },
  {
   "cell_type": "code",
   "execution_count": null,
   "metadata": {
    "collapsed": true
   },
   "outputs": [],
   "source": []
  }
 ],
 "metadata": {
  "kernelspec": {
   "display_name": "Python 3",
   "language": "python",
   "name": "python3"
  },
  "language_info": {
   "codemirror_mode": {
    "name": "ipython",
    "version": 3
   },
   "file_extension": ".py",
   "mimetype": "text/x-python",
   "name": "python",
   "nbconvert_exporter": "python",
   "pygments_lexer": "ipython3",
   "version": "3.5.1"
  }
 },
 "nbformat": 4,
 "nbformat_minor": 0
}
