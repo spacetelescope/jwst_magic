{
 "cells": [
  {
   "cell_type": "code",
   "execution_count": null,
   "metadata": {},
   "outputs": [],
   "source": [
    "from lxml import etree\n",
    "import numpy as np\n",
    "import os\n",
    "import pandas as pd\n",
    "# import requests\n",
    "import urllib.request\n",
    "import yaml"
   ]
  },
  {
   "cell_type": "markdown",
   "metadata": {},
   "source": [
    "# Parse OTE Car # and APT Program # from PIF Summary\n",
    "\n",
    "\"PIF Status Summary\" file can be downloaded from Box: https://stsci.app.box.com/s/etmxlxpvsneiede1dc5hhft2hjwelels/folder/3346031526"
   ]
  },
  {
   "cell_type": "code",
   "execution_count": null,
   "metadata": {},
   "outputs": [],
   "source": [
    "# Parse PIF summary Excel file into pandas dataframe\n",
    "pif_summary_xlsx = '/Users/lchambers/TEL/Commissioning/PIF Status Summary 2019-01.xlsx'\n",
    "pif_summary = pd.read_excel(pif_summary_xlsx)\n",
    "pif_summary.columns"
   ]
  },
  {
   "cell_type": "code",
   "execution_count": null,
   "metadata": {
    "scrolled": true
   },
   "outputs": [],
   "source": [
    "# Look at columns for OTE # and APT program #\n",
    "pif_summary[['OTE #', 'APT Prog. ID']]"
   ]
  },
  {
   "cell_type": "code",
   "execution_count": null,
   "metadata": {
    "scrolled": true
   },
   "outputs": [],
   "source": [
    "# Start to build commissioning dictionary\n",
    "commissioning_dict = {}\n",
    "for index, row in pif_summary.iterrows():\n",
    "    car = row['OTE #']\n",
    "    apt = row['APT Prog. ID']\n",
    "#     print(row['APT Prog. ID'], type(row['APT Prog. ID']), pd.isna(row['APT Prog. ID']))\n",
    "    if pd.notna(car) and pd.notna(apt) and \\\n",
    "        isinstance(apt, int) and len(car.split()) == 1:\n",
    "        \n",
    "        commissioning_dict[car.lower()] = {}\n",
    "        commissioning_dict[car.lower()]['apt'] = apt\n",
    "        \n",
    "#         print(row['OTE #'], row['APT Prog. ID'], type(row['APT Prog. ID']))\n",
    "\n",
    "commissioning_dict"
   ]
  },
  {
   "cell_type": "markdown",
   "metadata": {},
   "source": [
    "# Download each APT program and get # of observations"
   ]
  },
  {
   "cell_type": "code",
   "execution_count": null,
   "metadata": {},
   "outputs": [],
   "source": [
    "# List all APT programs\n",
    "all_apt_programs = [commissioning_dict[item]['apt'] for item in commissioning_dict.keys()]\n",
    "all_cars = list(commissioning_dict.keys())\n",
    "\n",
    "# Build temporary directory\n",
    "!mkdir temp_apt\n",
    "\n",
    "# For each APT program...\n",
    "for prog, car in zip(all_apt_programs, all_cars):\n",
    "    print('''* * * * * *\n",
    "STARTING PROGRAM {}\n",
    "* * * * * *\n",
    "    '''.format(prog))\n",
    "    \n",
    "    # Download the APT file\n",
    "    urllib.request.urlretrieve(\n",
    "        'http://www.stsci.edu/jwst/phase2-public/{}.aptx'.format(prog), \n",
    "        'temp_apt/{}.aptx'.format(prog)\n",
    "    )\n",
    "    \n",
    "    # Export the APT XML file\n",
    "    os.system(\n",
    "        \"/Applications/APT\\ 26.2.2/bin/apt -nogui -export xml temp_apt/{}.aptx\"\n",
    "        .format(prog)\n",
    "    )\n",
    "    \n",
    "    # Figure out how many observations are in the program\n",
    "    apt_namespace = '{http://www.stsci.edu/JWST/APT}'\n",
    "    with open('temp_apt/{}.xml'.format(prog)) as f:\n",
    "        tree = etree.parse(f)\n",
    "    observation_data = tree.find(apt_namespace + 'DataRequests')\n",
    "    observation_list = observation_data.findall('.//' + apt_namespace + 'Observation')\n",
    "    n_obs = len(observation_list)\n",
    "    \n",
    "    # Add to the commissioning directory\n",
    "    commissioning_dict[car]['observations'] = n_obs\n",
    "    \n",
    "# Tear down temporary directory\n",
    "!rm -r temp_apt"
   ]
  },
  {
   "cell_type": "markdown",
   "metadata": {},
   "source": [
    "# Save out file"
   ]
  },
  {
   "cell_type": "code",
   "execution_count": null,
   "metadata": {},
   "outputs": [],
   "source": [
    "commissioning_dict"
   ]
  },
  {
   "cell_type": "code",
   "execution_count": null,
   "metadata": {},
   "outputs": [],
   "source": [
    "commissioning_activities_yaml = '/Users/lchambers/TEL/Commissioning/tools/fgs-commissioning/jwst_magic/data/commissioning_activities.yaml'\n",
    "\n",
    "with open(commissioning_activities_yaml, 'w') as outfile:\n",
    "    yaml.dump(commissioning_dict, outfile, default_flow_style=False) "
   ]
  }
 ],
 "metadata": {
  "kernelspec": {
   "display_name": "Python 3",
   "language": "python",
   "name": "python3"
  },
  "language_info": {
   "codemirror_mode": {
    "name": "ipython",
    "version": 3
   },
   "file_extension": ".py",
   "mimetype": "text/x-python",
   "name": "python",
   "nbconvert_exporter": "python",
   "pygments_lexer": "ipython3",
   "version": "3.6.8"
  }
 },
 "nbformat": 4,
 "nbformat_minor": 2
}
