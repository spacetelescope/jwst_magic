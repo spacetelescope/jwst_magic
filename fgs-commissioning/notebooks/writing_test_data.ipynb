{
 "cells": [
  {
   "cell_type": "markdown",
   "metadata": {},
   "source": [
    "# Generate data for `test_correct_count_rate`"
   ]
  },
  {
   "cell_type": "code",
   "execution_count": null,
   "metadata": {},
   "outputs": [],
   "source": [
    "import os\n",
    "import pprint\n",
    "\n",
    "from astropy.io import fits\n",
    "import numpy as np\n",
    "\n",
    "from jwst_magic.fsw_file_writer import buildfgssteps"
   ]
  },
  {
   "cell_type": "code",
   "execution_count": null,
   "metadata": {},
   "outputs": [],
   "source": [
    "__location__ = '/Users/lchambers/TEL/Commissioning/Tools/fgs-commissioning/jwst_magic/tests/'\n",
    "ROOT = \"test_buildfgssteps\"\n",
    "SEGMENT_INFILE = os.path.join(__location__, 'data', '{}_ALLpsfs.txt'.format(ROOT))\n",
    "SELECTED_SEGS = os.path.join(__location__, 'data', '{}_regfile.txt'.format(ROOT))"
   ]
  },
  {
   "cell_type": "code",
   "execution_count": null,
   "metadata": {},
   "outputs": [],
   "source": [
    "with fits.open(\n",
    "    '/Users/lchambers/TEL/Commissioning/Tools/fgs-commissioning/jwst_magic/tests/data/fgs_data_2_cmimf.fits'\n",
    ") as hdulist:\n",
    "    open_image = hdulist[1].data"
   ]
  },
  {
   "cell_type": "code",
   "execution_count": null,
   "metadata": {},
   "outputs": [],
   "source": [
    "1 ID\n",
    "bias : [4113.857078887622, 104049.3416361762]\n",
    "norm : [-1.7679394239994082e-20, 5283.94677734375]\n",
    "strips : [4113.857078887622, 65535.0]\n",
    "cds : [-16.6, 65000.0]\n",
    "product : [4113.857078887622, 65535.0]\n",
    "countrates: [65596. 91475. 91549. 95731. 95747.]"
   ]
  },
  {
   "cell_type": "code",
   "execution_count": null,
   "metadata": {
    "scrolled": true
   },
   "outputs": [],
   "source": [
    "d = {}\n",
    "for guider in [1, 2]:\n",
    "    d[guider] = {}\n",
    "    for step in ['LOSTRK', 'CAL', 'ID', 'ACQ1', 'ACQ2', 'TRK']:\n",
    "        d[guider][step] = {}\n",
    "        \n",
    "        bias = []\n",
    "        norm = []\n",
    "        strips = []\n",
    "        cds = []\n",
    "        product = []\n",
    "        \n",
    "        if step != 'LOSTRK':\n",
    "            n = 10\n",
    "        else:\n",
    "            n = 1\n",
    "            \n",
    "        for i in range(n):\n",
    "            # Run the code\n",
    "            BFS = buildfgssteps.BuildFGSSteps(open_image, guider, 'test', step, guiding_selections_file=SELECTED_SEGS,\n",
    "                                out_dir=__location__, catalog=SEGMENT_INFILE);\n",
    "\n",
    "            # Don't know how to test bias - since it is so variable\n",
    "            if step is not 'LOSTRK':\n",
    "                bias.append([np.min(BFS.bias), np.max(BFS.bias)])\n",
    "\n",
    "            norm.append([np.min(BFS.time_normed_im), np.max(BFS.time_normed_im)])\n",
    "            if step is 'ID':\n",
    "                strips.append([np.min(BFS.strips), np.max(BFS.strips)])\n",
    "            if 'TRK' not in step:\n",
    "                cds.append([np.min(BFS.cds), np.max(BFS.cds)])\n",
    "            product.append([np.min(BFS.image), np.max(BFS.image)])\n",
    "        \n",
    "        print()\n",
    "        print(guider, step)\n",
    "        print()\n",
    "        for l, name in zip([bias, norm , strips , cds , product, BFS.countrate], \n",
    "                              ['bias', 'norm' , 'strips' , 'cds' , 'product', 'countrate']):\n",
    "            if (l != [] and step == 'LOSTRK') or (name in ['countrate', 'norm']):\n",
    "                d[guider][step][name] = l[0]\n",
    "            elif l != [] and name != 'countrate':\n",
    "#                 print(name, ': [{}, {}]'.format(np.average([m[0] for m in l]), np.average([m[1] for m in l])))\n",
    "#                 print(name)\n",
    "#                 print(l)\n",
    "#                 print()\n",
    "#                 print(np.average([m[0] for m in l]))\n",
    "#                 print(np.average([m[1] for m in l]))\n",
    "                d[guider][step][name] = [round(np.average([m[0] for m in l]), -1), \n",
    "                                         round(np.average([m[1] for m in l]), -1)]\n",
    "#             elif name == 'countrate':\n",
    "#                 d[guider][step][name] = l\n",
    "#         print('countrates:', BFS.countrate)\n",
    "        "
   ]
  },
  {
   "cell_type": "code",
   "execution_count": null,
   "metadata": {},
   "outputs": [],
   "source": [
    "pprint.pprint(d)"
   ]
  },
  {
   "cell_type": "markdown",
   "metadata": {},
   "source": [
    "# Generate data for `coordinate_tranforms`"
   ]
  },
  {
   "cell_type": "code",
   "execution_count": null,
   "metadata": {},
   "outputs": [],
   "source": [
    "import inspect\n",
    "from jwst_magic.utils import coordinate_transforms"
   ]
  },
  {
   "cell_type": "code",
   "execution_count": null,
   "metadata": {},
   "outputs": [],
   "source": [
    "for func in sorted(dir(coordinate_transforms)):\n",
    "    if not func.startswith('_') and '2' in func:\n",
    "        print(func)\n",
    "        func_to_call = getattr(coordinate_transforms, func)\n",
    "#         result = func_to_call()\n",
    "        arg_names = inspect.getfullargspec(func_to_call)[0]\n",
    "#         print(arg_names)\n",
    "    \n",
    "        if 'x_raw' in arg_names:\n",
    "            x, y = (1743.3, 241.9)\n",
    "            \n",
    "        else:\n",
    "            x, y = (-55.736935, 8.139518)\n",
    "            \n",
    "        if 'guider' in arg_names:\n",
    "            for guider in range(2):\n",
    "                result = func_to_call(x, y, guider + 1)\n",
    "                print(result)\n",
    "        else:\n",
    "            result = func_to_call(x, y)\n",
    "            print(result)"
   ]
  },
  {
   "cell_type": "code",
   "execution_count": null,
   "metadata": {},
   "outputs": [],
   "source": [
    "method_to_call = getattr(foo, 'bar')\n",
    "result = method_to_call()"
   ]
  },
  {
   "cell_type": "code",
   "execution_count": null,
   "metadata": {},
   "outputs": [],
   "source": [
    "ANGLE_COORDS = (-55.736935, 8.139518)\n",
    "coordinate_transforms.DHAS2Raw(*ANGLE_COORDS, 1)"
   ]
  },
  {
   "cell_type": "code",
   "execution_count": null,
   "metadata": {},
   "outputs": [],
   "source": []
  }
 ],
 "metadata": {
  "kernelspec": {
   "display_name": "Python 3",
   "language": "python",
   "name": "python3"
  },
  "language_info": {
   "codemirror_mode": {
    "name": "ipython",
    "version": 3
   },
   "file_extension": ".py",
   "mimetype": "text/x-python",
   "name": "python",
   "nbconvert_exporter": "python",
   "pygments_lexer": "ipython3",
   "version": "3.7.2"
  }
 },
 "nbformat": 4,
 "nbformat_minor": 2
}
