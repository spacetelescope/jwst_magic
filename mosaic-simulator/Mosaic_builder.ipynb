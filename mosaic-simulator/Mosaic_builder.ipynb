{
 "cells": [
  {
   "cell_type": "code",
   "execution_count": 1,
   "metadata": {
    "collapsed": true
   },
   "outputs": [],
   "source": [
    "%matplotlib inline"
   ]
  },
  {
   "cell_type": "code",
   "execution_count": 2,
   "metadata": {
    "collapsed": false
   },
   "outputs": [],
   "source": [
    "import numpy as np\n",
    "from astropy.io import fits as pyfits\n",
    "from astropy import wcs\n",
    "import os, glob, sys\n",
    "import scipy.interpolate as scint\n",
    "import scipy.ndimage\n",
    "import scipy.optimize as scopt\n",
    "\n",
    "import matplotlib.pyplot as plt"
   ]
  },
  {
   "cell_type": "markdown",
   "metadata": {},
   "source": [
    "# METHOD: BIN DOWN IMAGES"
   ]
  },
  {
   "cell_type": "code",
   "execution_count": 3,
   "metadata": {
    "collapsed": true
   },
   "outputs": [],
   "source": [
    "#http://scipy.github.io/old-wiki/pages/Cookbook/Rebinning\n",
    "\n",
    "def congrid(a, newdims, method='linear', centre=False, minusone=False):\n",
    "    '''Arbitrary resampling of source array to new dimension sizes.\n",
    "    Currently only supports maintaining the same number of dimensions.\n",
    "    To use 1-D arrays, first promote them to shape (x,1).\n",
    "    \n",
    "    Uses the same parameters and creates the same co-ordinate lookup points\n",
    "    as IDL''s congrid routine, which apparently originally came from a VAX/VMS\n",
    "    routine of the same name.\n",
    "\n",
    "    method:\n",
    "    neighbour - closest value from original data\n",
    "    nearest and linear - uses n x 1-D interpolations using\n",
    "                         scipy.interpolate.interp1d\n",
    "    (see Numerical Recipes for validity of use of n 1-D interpolations)\n",
    "    spline - uses ndimage.map_coordinates\n",
    "\n",
    "    centre:\n",
    "    True - interpolation points are at the centres of the bins\n",
    "    False - points are at the front edge of the bin\n",
    "\n",
    "    minusone:\n",
    "    For example- inarray.shape = (i,j) & new dimensions = (x,y)\n",
    "    False - inarray is resampled by factors of (i/x) * (j/y)\n",
    "    True - inarray is resampled by(i-1)/(x-1) * (j-1)/(y-1)\n",
    "    This prevents extrapolation one element beyond bounds of input array.\n",
    "    '''\n",
    "    if not a.dtype in [np.float64, np.float32]:\n",
    "        a = np.cast[float](a)\n",
    "    \n",
    "    m1 = np.cast[int](minusone)\n",
    "    ofs = np.cast[int](centre) * 0.5\n",
    "    old = np.array( a.shape )\n",
    "    ndims = len( a.shape )\n",
    "    if len( newdims ) != ndims:\n",
    "        print \"[congrid] dimensions error. \" \\\n",
    "              \"This routine currently only support \" \\\n",
    "              \"rebinning to the same number of dimensions.\"\n",
    "        return None\n",
    "    newdims = np.asarray( newdims, dtype=float )    \n",
    "    dimlist = []\n",
    "\n",
    "    if method == 'neighbour':\n",
    "        for i in range( ndims ):\n",
    "            base = np.indices(newdims)[i]\n",
    "            dimlist.append( (old[i] - m1) / (newdims[i] - m1) \\\n",
    "                            * (base + ofs) - ofs )\n",
    "        cd = np.array( dimlist ).round().astype(int)\n",
    "        newa = a[list( cd )]\n",
    "        return newa\n",
    "    \n",
    "    elif method in ['nearest','linear']:\n",
    "        # calculate new dims\n",
    "        for i in range( ndims ):\n",
    "            base = np.arange( newdims[i] )\n",
    "            dimlist.append( (old[i] - m1) / (newdims[i] - m1) \\\n",
    "                            * (base + ofs) - ofs )\n",
    "        # specify old dims\n",
    "        olddims = [np.arange(i, dtype = np.float) for i in list( a.shape )]\n",
    "\n",
    "        # first interpolation - for ndims = any\n",
    "        mint = scipy.interpolate.interp1d( olddims[-1], a, kind=method )\n",
    "        newa = mint( dimlist[-1] )\n",
    "\n",
    "        trorder = [ndims - 1] + range( ndims - 1 )\n",
    "        for i in range( ndims - 2, -1, -1 ):\n",
    "            newa = newa.transpose( trorder )\n",
    "\n",
    "            mint = scipy.interpolate.interp1d( olddims[i], newa, kind=method )\n",
    "            newa = mint( dimlist[i] )\n",
    "\n",
    "        if ndims > 1:\n",
    "            # need one more transpose to return to original dimensions\n",
    "            newa = newa.transpose( trorder )\n",
    "\n",
    "        return newa\n",
    "    elif method in ['spline']:\n",
    "        oslices = [ slice(0,j) for j in old ]\n",
    "        oldcoords = np.ogrid[oslices]\n",
    "        nslices = [ slice(0,j) for j in list(newdims) ]\n",
    "        newcoords = np.mgrid[nslices]\n",
    "\n",
    "        newcoords_dims = range(np.rank(newcoords))\n",
    "        #make first index last\n",
    "        newcoords_dims.append(newcoords_dims.pop(0))\n",
    "        newcoords_tr = newcoords.transpose(newcoords_dims)\n",
    "        # makes a view that affects newcoords\n",
    "\n",
    "        newcoords_tr += ofs        \n",
    "\n",
    "        deltas = (np.asarray(old) - m1) / (newdims - m1)\n",
    "        newcoords_tr *= deltas\n",
    "\n",
    "        newcoords_tr -= ofs\n",
    "\n",
    "        newa = scipy.ndimage.map_coordinates(a, newcoords)\n",
    "        return newa\n",
    "    else:\n",
    "        print \"Congrid error: Unrecognized interpolation type.\\n\", \\\n",
    "              \"Currently only \\'neighbour\\', \\'nearest\\',\\'linear\\',\", \\\n",
    "              \"and \\'spline\\' are supported.\"\n",
    "        return None  "
   ]
  },
  {
   "cell_type": "markdown",
   "metadata": {},
   "source": [
    "# METHOD: READ APT POINTINGS FILE"
   ]
  },
  {
   "cell_type": "code",
   "execution_count": 4,
   "metadata": {
    "collapsed": false
   },
   "outputs": [],
   "source": [
    "def readPointingFile(fname):\n",
    "    # READ APT POINTINGS FILE AND STRIP DITHERS/BASES:\n",
    "    \n",
    "    with open(fname) as f:\n",
    "        content = f.read().splitlines()\n",
    "    \n",
    "    # FIND WHERE EACH OBSERVATION STARTS IN THE POINTINGS FILE:\n",
    "    obs_start = [iline for iline in xrange(len(content)) if \"==============\" in content[iline]]\n",
    "    obs_start.append(len(content))\n",
    "    \n",
    "    # GET ALL THE DITHERS FOR EACH OF THE OBSERVATIONS:\n",
    "    dithers=[]\n",
    "    for iobs in xrange( len(obs_start[:-1]) ):\n",
    "        temp = content[obs_start[iobs]:obs_start[iobs+1]]\n",
    "        \n",
    "        temp = [x.split() for x in temp] # remove white spaces\n",
    "        temp = filter(None, temp) # remove empty lines\n",
    "    \n",
    "        temp = [x for x in temp if \"SCIENCE\" in x]\n",
    "    \n",
    "        target  = np.array(  [float(i) for i in temp[0][7:9]] )\n",
    "        dithers.append(np.array( [ [ (float(x[9])+float(x[11])), (float(x[10])-float(x[12])) ] for x in temp] ) )\n",
    "    \n",
    "    return target, np.array(dithers)"
   ]
  },
  {
   "cell_type": "markdown",
   "metadata": {},
   "source": [
    "# METHODS: CENTER PSF + GENERATE SEGMENT POSITIONS"
   ]
  },
  {
   "cell_type": "code",
   "execution_count": 5,
   "metadata": {
    "collapsed": true
   },
   "outputs": [],
   "source": [
    "def centerPSF(image):\n",
    "    hdu = pyfits.open(image)\n",
    "    sci = hdu[1].data\n",
    "\n",
    "    com = scipy.ndimage.center_of_mass(sci) \n",
    "    com = [int(com[0]), int(com[1])]\n",
    "    mid = len(sci)/2\n",
    "        \n",
    "    PSF = np.roll(sci, mid-com[0], axis=0)\n",
    "    PSF = np.roll(PSF, mid-com[1], axis=1)\n",
    "    \n",
    "    PSF = np.asarray([PSF]*18)\n",
    "    \n",
    "    return PSF\n",
    "\n",
    "def read18PSF(image):\n",
    "    \n",
    "    hdu = pyfits.open(image)\n",
    "    PSF = hdu[0].data\n",
    "    \n",
    "    return PSF\n",
    "\n",
    "\n",
    "def get_boresight_offset(sigma):\n",
    "    return  np.random.normal(0., (sigma/np.sqrt(2)), (1,2))\n",
    "\n",
    "\n",
    "def get_segment_offset(sigma):\n",
    "    return np.random.normal(0., (sigma/np.sqrt(2)), (18,2))"
   ]
  },
  {
   "cell_type": "markdown",
   "metadata": {},
   "source": [
    "# METHODS: ROTATE SCA/POINTS FOR PLOTTING"
   ]
  },
  {
   "cell_type": "code",
   "execution_count": 6,
   "metadata": {
    "collapsed": true
   },
   "outputs": [],
   "source": [
    "def shift_rotate_pts(points, rotation, dec):\n",
    "    # FOR PLOTTING PURPOSES:\n",
    "    temp = np.copy(points)\n",
    "    angle = rotation * np.pi/180.\n",
    "\n",
    "    points[:,0] = (temp[:,0]*np.cos(angle) - temp[:,1]*np.sin(angle) ) \n",
    "    points[:,1] = (temp[:,1]*np.cos(angle) + temp[:,0]*np.sin(angle) )\n",
    "    \n",
    "    points[:,0] /= np.cos(dec*np.pi/180.)\n",
    "\n",
    "    return points\n",
    "\n",
    "\n",
    "def shift_rotate_SCA(SCA, radangle, target, dither):\n",
    "    xdith = dither[1]\n",
    "    ydith = dither[0]\n",
    "\n",
    "    tempSCA = np.copy(SCA)\n",
    "    tempSCA[:,0]= SCA[:,0]*np.cos(radangle) - SCA[:,1]*np.sin(radangle) \n",
    "    tempSCA[:,1]= SCA[:,0]*np.sin(radangle) + SCA[:,1]*np.cos(radangle)\n",
    "\n",
    "    xdith = dither[0]*np.sin(radangle) + dither[1]*np.cos(radangle)\n",
    "    ydith = dither[0]*np.cos(radangle) - dither[1]*np.sin(radangle)\n",
    "\n",
    "    xdith /= np.cos(target[1]*np.pi/180.)\n",
    "\n",
    "    SCA[:,0] = tempSCA[:,0] + target[1] + ydith/3600.\n",
    "    SCA[:,1] = tempSCA[:,1]/np.cos(target[1]*np.pi/180.) + target[0] + xdith/3600.\n",
    "            \n",
    "    return SCA"
   ]
  },
  {
   "cell_type": "markdown",
   "metadata": {},
   "source": [
    "# CLASS: CREATE TILE OBJECT"
   ]
  },
  {
   "cell_type": "code",
<<<<<<< HEAD
<<<<<<< HEAD
   "execution_count": 33,
=======
   "execution_count": 28,
>>>>>>> 079c60e8d2cec69b540914634556768026159acc
=======
   "execution_count": 28,
>>>>>>> 079c60e8d2cec69b540914634556768026159acc
   "metadata": {
    "collapsed": false
   },
   "outputs": [],
   "source": [
    "class NRCtile():\n",
    "    \n",
    "        def __init__(self, target, rotation):   \n",
    "            \n",
    "            # ARCSECONDS:\n",
    "            SCAgap  = 5.\n",
    "            self.SCAwidth= 65.\n",
    "            MODgap  = 44.\n",
    "            MODwidth= SCAgap + 2.*self.SCAwidth\n",
    "            self.radangle = rotation *np.pi/180.\n",
    "\n",
    "            # DEFINE MIDDLE OF SCA's:\n",
    "            self.SCA = np.asarray([\n",
    "                [-MODwidth/2, +MODgap/2+MODwidth],              # A1\n",
    "                [+SCAgap/2,   +MODgap/2+MODwidth],              # A2\n",
    "                [-MODwidth/2, +MODgap/2+self.SCAwidth],         # A3\n",
    "                [+SCAgap/2,   +MODgap/2+self.SCAwidth],         # A4\n",
    "                [SCAgap/2,    -MODgap/2-self.SCAwidth-SCAgap],  # B1\n",
    "                [-MODwidth/2, -MODgap/2-self.SCAwidth-SCAgap],  # B2\n",
    "                [SCAgap/2,    -MODgap/2],                       # B3\n",
    "                [-MODwidth/2, -MODgap/2]                        # B4\n",
    "            ]) \n",
    "            self.SCA[:,0] += self.SCAwidth/2.\n",
    "            self.SCA[:,1] -= self.SCAwidth/2.\n",
    "            \n",
    "            # CONVERT TO DEGREES:\n",
    "            self.SCA[:,0]= self.SCA[:,0]/3600. \n",
    "            self.SCA[:,1]= self.SCA[:,1]/3600.\n",
    "        \n",
    "    \n",
    "        #\n",
    "        # THIS IS WHERE ALL THE MAGIC OF CREATING THE MOSAIC HAPPENS:\n",
    "        # \n",
<<<<<<< HEAD
<<<<<<< HEAD
    "        def assignWCS(self, iobs, idither, target, dither, dark, PSFcentered, segment_RADEC, bindim, seg_found, outdir, inputhistory):\n",
=======
    "        def assignWCS(self, iobs, idither, target, dither, dark, PSFcentered, segment_RADEC, seg_found):\n",
>>>>>>> 079c60e8d2cec69b540914634556768026159acc
=======
    "        def assignWCS(self, iobs, idither, target, dither, dark, PSFcentered, segment_RADEC, seg_found):\n",
>>>>>>> 079c60e8d2cec69b540914634556768026159acc
    "            # Defining function for finding center values:\n",
    "            linwcs = lambda x, y, n: ((x+y)/2)\n",
    "            \n",
    "            bindim = 300\n",
    "            dither = dither[::-1] \n",
    "            scaledSCAwidth = self.SCAwidth/np.cos(target[1]*np.pi/180.)\n",
    "            platescale = 0.032/3600. *(2048./bindim)\n",
    "            \n",
    "            SCA = shift_rotate_SCA(np.copy(self.SCA), self.radangle, target, dither)\n",
    "            \n",
    "            # LOOP OVER EACH SCA, ASSESS IF THERE SHOULD BE A PSF, ADD ONE IF NECESSARY ELSE USE A DARK:\n",
    "            iimg = 0\n",
    "            for isca in xrange( len(self.SCA) ):                \n",
    "                ipsf = 0\n",
    "                            \n",
    "                # DETERMINE RELEVANT WCS HEADER INFORMATION:\n",
    "                crvalY = SCA[isca,0] \n",
    "                crvalX = SCA[isca,1]            \n",
    "                cdeltaX, cdeltaY = -platescale, platescale\n",
    "                \n",
    "                w = wcs.WCS(naxis=2)                           # http://docs.astropy.org/en/latest/wcs/index.html\n",
    "                w.wcs.crpix = [bindim/2, bindim/2]             # what is the center pixel of the XY grid.\n",
    "                w.wcs.crval = [crvalX, crvalY]                 # what is the galactic coordinate of that pixel.                \n",
    "                w.wcs.cdelt = np.array([cdeltaX, cdeltaY])     # what is the pixel scale in lon, lat.\n",
    "                w.wcs.ctype = [\"RA---TAN-SIP\", \"DEC--TAN-SIP\"] # you determine if this is in fact a tangential projection \n",
    "                WCShdr = w.to_header()                         # write the HDU object WITH THE HEADER\n",
    "                                \n",
    "                cpa = np.cos(self.radangle)\n",
    "                spa = np.sin(self.radangle)\n",
    "                WCShdr[\"CD1_1\"] = cdeltaX * cpa\n",
    "                WCShdr[\"CD1_2\"] = cdeltaY * spa\n",
    "                WCShdr[\"CD2_1\"] =-cdeltaX * spa\n",
    "                WCShdr[\"CD2_2\"] = cdeltaY * cpa\n",
    "            \n",
    "\n",
    "                # OPEN DARK FITS FILE AND USE AS TEMPLATE:\n",
    "                fitsfile = dark \n",
    "                hdu = pyfits.open(fitsfile)\n",
    "                \n",
    "                sci = hdu[1].data/50.  #REDUCE THE ITM NOISE LEVEL IN DARKS\n",
    "                dq  = hdu[2].data\n",
    "                prihdr = hdu[0].header\n",
    "                scihdr = hdu[1].header\n",
    "                dqhdr  = hdu[2].header\n",
    "                                \n",
    "                # BIN DOWN THE IMAGES FOR QUIP TO BE ABLE TO HANDLE:\n",
    "                sci = congrid(sci, [bindim, bindim])\n",
    "                dq  = congrid(dq,  [bindim, bindim])\n",
    "\n",
    "\n",
    "                # RANDOMIZE THE DARK A BIT BY SHIFTING IT RANDOMLY:\n",
    "                dy, dx = np.random.randint(1,bindim, size=2)\n",
    "                sci = np.roll(sci, dy, axis=0) # I CAN'T GET THIS TO WORK FOR BOTH AXES AT ONCE:\n",
    "                sci = np.roll(sci, dx, axis=1)\n",
    "                \n",
    "                \n",
    "                nseg = 0\n",
    "                tempPSF = np.zeros( (len(sci), len(sci)) )\n",
    "                for iseg in xrange(len(segment_RADEC)):\n",
    "\n",
    "                    w = wcs.WCS( scihdr+WCShdr )\n",
    "                    px, py = w.wcs_world2pix(segment_RADEC[iseg][0], segment_RADEC[iseg][1], 1)\n",
    "                    # IS THERE A SEGMENT ON THAT SCA?\n",
    "                    if (0 < px < bindim) and (0< py < bindim): \n",
    "                    \n",
    "                        # MARK SEGMENT AS CAPTURED BY NIRCAM SCA:\n",
    "                        if seg_found[iseg]==0: seg_found[iseg]=1\n",
    "                        print \"Found Segment #{:d} on SCA ({:d}/18)\".format(iseg+1,np.count_nonzero(seg_found))\n",
    "                        ipsf  = iseg+1\n",
    "                        nseg += 1\n",
    "                        mid=len(sci)/2.\n",
    "                        \n",
    "                        # BACK OFF FROM SCA EDGE BY A FEW PIXELS TO AVOID ROLL OVER:\n",
    "                        xedge, yedge = int(0.05*bindim), int(0.05*bindim)\n",
    "                        if px < xedge:        px = xedge\n",
    "                        if px > bindim-xedge: px = bindim-xedge\n",
    "                        if py < yedge:        py = yedge\n",
    "                        if py > bindim-yedge: py = bindim-yedge                            \n",
    "\n",
    "                        PSF = congrid(PSFcentered[iseg], [bindim, bindim])\n",
    "\n",
    "                        # INJECT THE PSF WHERE IT OUGHT TO BE ON SCA:\n",
    "                        PSF = np.roll(PSF, int(np.round(py)-mid), axis=0)\n",
    "                        PSF = np.roll(PSF, int(np.round(px)-mid), axis=1) \n",
    "                            \n",
    "                        tempPSF += PSF\n",
    "\n",
    "                # IF WE STITCHED MORE THAN ONE PSF ON SAME SCA, NORMALIZE THE TOTAL COUNTS:\n",
    "                if nseg >= 1: sci = tempPSF/nseg\n",
    "                \n",
    "                \n",
    "                # UPDATE HEADER INFORMATION AND SAVE FILE: \n",
    "                prihdr[\"SUBSIZE1\"]=bindim*10\n",
    "                prihdr[\"SUBSIZE2\"]=bindim\n",
    "                prihdr[\"HISTORY\"] =inputhistory\n",
    "                \n",
    "                new_hdul = pyfits.HDUList()\n",
    "                new_hdul.append(pyfits.ImageHDU(header=prihdr+WCShdr))\n",
    "                new_hdul.append(pyfits.ImageHDU(sci, header=WCShdr, name='SCI'))   \n",
    "                new_hdul.append(pyfits.ImageHDU(dq , header=WCShdr, name='DQ'))   \n",
    "                filename = outdir+'test{:04d}.fits'.format(8*idither+iimg)\n",
    "                if ipsf !=0 : print '   -->', filename\n",
    "                new_hdul.writeto(filename, clobber=True)     \n",
    "                hdu.close()\n",
    "                new_hdul.close()\n",
    "                \n",
    "                \n",
    "                iimg+=1\n",
    "            \n",
    "            return seg_found"
   ]
  },
  {
   "cell_type": "markdown",
   "metadata": {},
   "source": [
    "# MAIN: INPUTS PARAMETERS"
   ]
  },
  {
   "cell_type": "code",
<<<<<<< HEAD
<<<<<<< HEAD
   "execution_count": 48,
   "metadata": {
    "collapsed": false
   },
   "outputs": [],
   "source": [
    "#seed = np.random.randint(10000)\n",
    "#seed = 8471\n",
    "np.random.seed(seed)\n",
    "\n",
    "imgdir       = \"/Users/lajoie/TEL/WFSC/tools/mosaic-simulator/\"\n",
    "pointingfile = \"1134_Mosaic.pointing.txt\"      # GET FROM APT\n",
    "seglocations = \"PSF_location.txt\"              # GOT FROM ACTON'S ITM; HOW DO WE GENERATE THAT OURSELVES?\n",
    "psffile      = imgdir+\"ITM-OnePSF.fits\"\n",
    "psf18file    = imgdir+\"ITM-18PSF.fits\"\n",
    "darkfile     = imgdir+\"ITM-Dark.fits\"\n",
    "outdir       = 'Obs{:d}_test{:d}/'.format(obs, bindim)\n",
    "\n",
    "# CHOOSE WHICH OTE-01 OBSERVATION TO EXECUTE (1 to 7):\n",
    "#       Obs 1: Central\n",
    "#       Obs 2: East\n",
    "#       Obs 3: West\n",
    "#       Obs 4: NorthEast\n",
    "#       Obs 5: NorthWest\n",
    "#       Obs 6: SouthEast\n",
    "#       Obs 7: SouthWest\n",
    "obs = 1\n",
    "\n",
    "# FIX SIZE OF DOWSAMPLED IMAGES; IN FLIGHT, THIS IS ACCOMPLISHED BY MOSAIC_CONGRID.IPYND\n",
    "bindim = 100\n",
    "\n",
    "\n",
    "# ARE WE USING A RANDOM DEPLOYMENT OR PARTICULAR ITM STATE (E.G. FOR REHEARSAL)?\n",
    "random_segs = False\n",
    "\n",
    "boresight_sigma = 17.   #3-sigma radial; arcminutes\n",
    "segments_sigma  = 16.   #3-sigma radial; arcminutes\n",
    "\n",
    "# THIS ANGLE MOVES THE NORTH/EAST AXES CW, OR THE MOSAIC CCW:\n",
    "rotation = np.random.uniform(0.0, 90.0)"
   ]
  },
  {
   "cell_type": "markdown",
   "metadata": {},
   "source": [
    "# MAIN: INITIAL PREPARATION"
   ]
  },
  {
   "cell_type": "code",
   "execution_count": 49,
=======
   "execution_count": 29,
>>>>>>> 079c60e8d2cec69b540914634556768026159acc
=======
   "execution_count": 29,
>>>>>>> 079c60e8d2cec69b540914634556768026159acc
   "metadata": {
    "collapsed": false
   },
   "outputs": [
    {
     "name": "stdout",
     "output_type": "stream",
     "text": [
      "Target  : [ 146.877   63.248]\n",
      "Rotation:  31.3854410102\n",
      "7 observations in APT file (dithers in arcseconds)\n",
<<<<<<< HEAD
<<<<<<< HEAD
      "Random seed is: 8471 \n",
      "\n",
      "Boresight offset:  [[ 4.62308067 -4.34835328]]\n"
=======
      "Random seed is: 9937 \n",
      "\n"
>>>>>>> 079c60e8d2cec69b540914634556768026159acc
=======
      "Random seed is: 9937 \n",
      "\n"
>>>>>>> 079c60e8d2cec69b540914634556768026159acc
     ]
    }
   ],
   "source": [
    "seed = np.random.randint(10000)\n",
    "seed = 9937\n",
    "np.random.seed(seed)\n",
    "\n",
    "\n",
    "imgdir       = \"/Users/lajoie/TEL/WFSC/tools/\"\n",
    "pointingfile = \"1134_Mosaic.pointing.txt\"\n",
    "seglocations = \"PSF_location.txt\"\n",
    "psffile      = imgdir+\"ITM-OnePSF.fits\"\n",
    "psf18file    = imgdir+\"ITM-18PSF.fits\"\n",
    "darkfile     = imgdir+\"ITM-Dark.fits\"\n",
    "\n",
    "os.chdir(imgdir)\n",
    "if not os.path.isdir(outdir): os.mkdir(outdir)\n",
    "\n",
    "target, dithers = readPointingFile(imgdir+pointingfile)\n",
    "print \"Target  :\",target\n",
    "\n",
    "# THIS ANGLE MOVES THE NORTH/EAST AXES CW, OR THE MOSAIC CCW:\n",
    "rotation = 0. # np.random.uniform(0.0, 90.0)\n",
    "print \"Rotation: \",rotation\n",
    "\n",
    "\n",
    "boresight_sigma = 17.   #3-sigma radial; arcminutes\n",
    "segments_sigma  = 16.   #3-sigma radial; arcminutes\n",
    "boresight_offset = get_boresight_offset(boresight_sigma/3.) \n",
    "\n",
    "if random_segs:\n",
    "    segment_offsets = get_segment_offset(segments_sigma/3.)\n",
    "else:\n",
    "    # READ ACTON'S ITM SEGMENT LOCATIONS INSTEAD:\n",
    "    x, y = np.loadtxt(seglocations, usecols=(1, 2), unpack=True)\n",
    "    x =-x*0.032/60.\n",
    "    y = y*0.032/60.\n",
    "    segment_offsets = np.asarray(zip(x,y))\n",
    "    segment_offsets = shift_rotate_pts(segment_offsets, -rotation, 0.)\n",
    "\n",
    "\n",
    "total_offsets = (boresight_offset + segment_offsets)/60.\n",
    "\n",
    "\n",
    "# THIS ADJUSTMENT, SEEN THROUGHOUT, IS TO ACCOUNT FOR THE FACT \n",
    "# THAT AS YOU GO HIGHER IN DECLINATION, A GIVEN ANGULAR \n",
    "# SEPARATION RESULTS IN A LARGER R.A. SEPARATION:\n",
    "total_offsets[:,0] /= np.cos(target[1]*np.pi/180.)\n",
    "segment_RADEC = target + total_offsets\n",
    "\n",
    "print len(dithers),'observations in APT file (dithers in arcseconds)'\n",
<<<<<<< HEAD
<<<<<<< HEAD
    "print \"Random seed is:\", seed, '\\n'\n",
    "print \"Boresight offset: \",boresight_offset\n",
    "\n",
    "inputhistory = {\"Target\": target, \"Rotation\": rotation, \"Random seed\": seed, \"Boresight\": boresight_offset}"
=======
=======
>>>>>>> 079c60e8d2cec69b540914634556768026159acc
    "print \"Random seed is:\", seed, '\\n'"
   ]
  },
  {
   "cell_type": "code",
   "execution_count": 30,
   "metadata": {
    "collapsed": false
   },
   "outputs": [
    {
     "name": "stdout",
     "output_type": "stream",
     "text": [
      "[[ 3.45037987  2.71885817]]\n"
     ]
    }
   ],
   "source": [
    "print boresight_offset"
>>>>>>> 079c60e8d2cec69b540914634556768026159acc
   ]
  },
  {
   "cell_type": "markdown",
   "metadata": {},
   "source": [
    "# PLOT DEPLOYED SEGMENTS"
   ]
  },
  {
   "cell_type": "code",
<<<<<<< HEAD
<<<<<<< HEAD
   "execution_count": 50,
=======
   "execution_count": 31,
>>>>>>> 079c60e8d2cec69b540914634556768026159acc
=======
   "execution_count": 31,
>>>>>>> 079c60e8d2cec69b540914634556768026159acc
   "metadata": {
    "collapsed": false
   },
   "outputs": [
    {
     "data": {
      "image/png": "iVBORw0KGgoAAAANSUhEUgAAAYwAAAGDCAYAAAA4byefAAAABHNCSVQICAgIfAhkiAAAAAlwSFlz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\nThhmZlYXJwwzM6uLE4aZmdXl/zp0GSJjnV5iAAAAAElFTkSuQmCC\n",
      "text/plain": [
<<<<<<< HEAD
<<<<<<< HEAD
       "<matplotlib.figure.Figure at 0x13df87a50>"
=======
       "<matplotlib.figure.Figure at 0x10bb6b490>"
>>>>>>> 079c60e8d2cec69b540914634556768026159acc
=======
       "<matplotlib.figure.Figure at 0x10bb6b490>"
>>>>>>> 079c60e8d2cec69b540914634556768026159acc
      ]
     },
     "metadata": {},
     "output_type": "display_data"
    }
   ],
   "source": [
    "plt.figure(figsize=(6,6))\n",
    "\n",
    "for i in xrange(18):\n",
    "    plt.plot(segment_RADEC[i,0], segment_RADEC[i,1], 'ro', markersize=6)\n",
    "    plt.annotate(str(i+1), xy=(segment_RADEC[i,0], segment_RADEC[i,1]), fontsize=15, ha='center', va='bottom' )\n",
    "\n",
    "deltadeg = 0.26\n",
    "plt.xlim( target[0]-deltadeg/np.cos(target[1]*np.pi/180.), target[0]+deltadeg/np.cos(target[1]*np.pi/180.)  )\n",
    "plt.ylim( target[1]-deltadeg, target[1]+deltadeg )\n",
    "plt.axvline(x=target[0], color='black', linestyle='--')\n",
    "plt.axhline(y=target[1], color='black', linestyle='--')\n",
    "\n",
    "obs1width = 2.2*10./60.\n",
    "left  = obs1width/2. \n",
    "right =-obs1width/2. \n",
    "top   = obs1width/2.\n",
    "bottom=-obs1width/2.\n",
    "\n",
    "corners = np.array([ [left,top], [left, bottom], [right, bottom], [right, top], [left,top] ])\n",
    "corners = shift_rotate_pts(corners, -rotation, target[1]) + target\n",
    "\n",
    "plt.plot(corners[:,0], corners[:,1], color='red', linestyle='--') \n",
    "plt.plot(corners[3,0], corners[3,1], 'bo')\n",
    "\n",
    "plt.xlabel(\"RA\")\n",
    "plt.ylabel(\"DEC\")\n",
    "plt.gca().invert_xaxis()\n",
    "plt.title(\"Seed {:d}\".format(seed))\n",
    "plt.show()"
   ]
  },
  {
   "cell_type": "markdown",
   "metadata": {},
   "source": [
    "# MAIN: LOOP OVER EACH OTE-01 OBSERVATION"
   ]
  },
  {
   "cell_type": "code",
<<<<<<< HEAD
<<<<<<< HEAD
   "execution_count": 51,
=======
=======
>>>>>>> 079c60e8d2cec69b540914634556768026159acc
   "execution_count": 32,
   "metadata": {
    "collapsed": true
   },
   "outputs": [],
   "source": [
    "seg_found = np.zeros(18)"
   ]
  },
  {
   "cell_type": "code",
   "execution_count": 33,
>>>>>>> 079c60e8d2cec69b540914634556768026159acc
   "metadata": {
    "collapsed": false,
    "scrolled": false
   },
   "outputs": [
    {
     "name": "stdout",
     "output_type": "stream",
     "text": [
      "156 pointings\n",
      "Found Segment #7 on SCA (1/18)\n",
      "   --> Obs1_test500/test0545.fits\n",
      "Found Segment #7 on SCA (1/18)\n",
      "   --> Obs1_test500/test0564.fits\n",
      "Found Segment #6 on SCA (2/18)\n",
      "   --> Obs1_test500/test0624.fits\n",
      "Found Segment #1 on SCA (3/18)\n",
      "   --> Obs1_test500/test0632.fits\n",
      "Found Segment #6 on SCA (3/18)\n",
      "Found Segment #9 on SCA (4/18)\n",
      "Found Segment #10 on SCA (5/18)\n",
      "   --> Obs1_test500/test0634.fits\n",
      "Found Segment #18 on SCA (6/18)\n",
      "   --> Obs1_test500/test0640.fits\n",
      "Found Segment #1 on SCA (6/18)\n",
      "Found Segment #4 on SCA (7/18)\n",
      "   --> Obs1_test500/test0642.fits\n",
      "Found Segment #6 on SCA (7/18)\n",
      "Found Segment #9 on SCA (7/18)\n",
      "Found Segment #10 on SCA (7/18)\n",
      "   --> Obs1_test500/test0647.fits\n",
      "Found Segment #17 on SCA (8/18)\n",
      "   --> Obs1_test500/test0648.fits\n",
      "Found Segment #8 on SCA (9/18)\n",
      "   --> Obs1_test500/test0651.fits\n",
      "Found Segment #10 on SCA (9/18)\n",
      "   --> Obs1_test500/test0653.fits\n",
      "Found Segment #1 on SCA (9/18)\n",
      "Found Segment #4 on SCA (9/18)\n",
      "   --> Obs1_test500/test0655.fits\n",
      "Found Segment #17 on SCA (9/18)\n",
      "   --> Obs1_test500/test0658.fits\n",
      "Found Segment #15 on SCA (10/18)\n",
      "   --> Obs1_test500/test0659.fits\n",
      "Found Segment #4 on SCA (10/18)\n",
      "Found Segment #18 on SCA (10/18)\n",
      "   --> Obs1_test500/test0661.fits\n",
      "Found Segment #8 on SCA (10/18)\n",
      "   --> Obs1_test500/test0662.fits\n",
      "Found Segment #15 on SCA (10/18)\n",
      "   --> Obs1_test500/test0670.fits\n",
      "Found Segment #17 on SCA (10/18)\n",
      "   --> Obs1_test500/test0671.fits\n",
      "Found Segment #11 on SCA (11/18)\n",
      "   --> Obs1_test500/test0720.fits\n",
      "Found Segment #6 on SCA (11/18)\n",
      "   --> Obs1_test500/test0721.fits\n",
      "Found Segment #1 on SCA (11/18)\n",
      "   --> Obs1_test500/test0729.fits\n",
      "Found Segment #11 on SCA (11/18)\n",
      "   --> Obs1_test500/test0730.fits\n",
      "Found Segment #6 on SCA (11/18)\n",
      "Found Segment #10 on SCA (11/18)\n",
      "   --> Obs1_test500/test0731.fits\n",
      "Found Segment #18 on SCA (11/18)\n",
      "   --> Obs1_test500/test0737.fits\n",
      "Found Segment #1 on SCA (11/18)\n",
      "Found Segment #5 on SCA (12/18)\n",
      "   --> Obs1_test500/test0739.fits\n",
      "Found Segment #6 on SCA (12/18)\n",
      "Found Segment #10 on SCA (12/18)\n",
      "   --> Obs1_test500/test0742.fits\n",
      "Found Segment #11 on SCA (12/18)\n",
      "   --> Obs1_test500/test0743.fits\n",
      "Found Segment #16 on SCA (13/18)\n",
      "   --> Obs1_test500/test0744.fits\n",
      "Found Segment #17 on SCA (13/18)\n",
      "   --> Obs1_test500/test0745.fits\n",
      "Found Segment #2 on SCA (14/18)\n",
      "Found Segment #3 on SCA (15/18)\n",
      "   --> Obs1_test500/test0747.fits\n",
      "Found Segment #10 on SCA (15/18)\n",
      "   --> Obs1_test500/test0748.fits\n",
      "Found Segment #1 on SCA (15/18)\n",
      "Found Segment #5 on SCA (15/18)\n",
      "   --> Obs1_test500/test0750.fits\n",
      "Found Segment #17 on SCA (15/18)\n",
      "   --> Obs1_test500/test0755.fits\n",
      "Found Segment #5 on SCA (15/18)\n",
      "Found Segment #18 on SCA (15/18)\n",
      "   --> Obs1_test500/test0756.fits\n",
      "Found Segment #2 on SCA (15/18)\n",
      "Found Segment #3 on SCA (15/18)\n",
      "   --> Obs1_test500/test0758.fits\n",
      "Found Segment #2 on SCA (15/18)\n",
      "Found Segment #3 on SCA (15/18)\n",
      "   --> Obs1_test500/test0764.fits\n",
      "Found Segment #16 on SCA (15/18)\n",
      "   --> Obs1_test500/test0765.fits\n",
      "Found Segment #17 on SCA (15/18)\n",
      "   --> Obs1_test500/test0766.fits\n",
      "Found Segment #11 on SCA (15/18)\n",
      "   --> Obs1_test500/test0817.fits\n",
      "Found Segment #12 on SCA (16/18)\n",
      "   --> Obs1_test500/test0825.fits\n",
      "Found Segment #11 on SCA (16/18)\n",
      "   --> Obs1_test500/test0827.fits\n",
      "Found Segment #12 on SCA (16/18)\n",
      "   --> Obs1_test500/test0835.fits\n",
      "Found Segment #11 on SCA (16/18)\n",
      "   --> Obs1_test500/test0838.fits\n",
      "Found Segment #13 on SCA (17/18)\n",
      "   --> Obs1_test500/test0842.fits\n",
      "Found Segment #12 on SCA (17/18)\n",
      "Found Segment #14 on SCA (18/18)\n",
      "   --> Obs1_test500/test0846.fits\n",
      "Found Segment #14 on SCA (18/18)\n",
      "   --> Obs1_test500/test0852.fits\n",
      "Found Segment #13 on SCA (18/18)\n",
      "   --> Obs1_test500/test0855.fits\n",
      "Found Segment #13 on SCA (18/18)\n",
      "   --> Obs1_test500/test0939.fits\n",
      "Found Segment #13 on SCA (18/18)\n",
      "   --> Obs1_test500/test0950.fits\n",
      "\n",
      "FOUND 18 SEGMENTS\n"
     ]
    }
   ],
   "source": [
    "tile = NRCtile(target, rotation)\n",
    "\n",
    "obs_dithers = dithers[obs-1]\n",
    "print len(obs_dithers), \"pointings\"\n",
    "\n",
    "# THIS IS OUR DEFAULT PSF THAT WE STITCH ON THE MOSAIC WHERE THERE ARE SEGMENTS:\n",
    "if random_segs: \n",
    "    centeredPSF = centerPSF(psffile)\n",
    "else: \n",
    "    centeredPSF = read18PSF(psf18file)\n",
    "\n",
    "\n",
    "# FOR EACH DITHER POINT, CREATE IMAGES. IF A SEGMENT IS THERE, USE THE centeredPSF:\n",
<<<<<<< HEAD
    "for itile in xrange( len(obs_dithers) ):   \n",
    "    #print itile,obs_dithers[itile]\n",
    "    seg_found = tile.assignWCS(obs, itile, target, obs_dithers[itile], darkfile, centeredPSF, segment_RADEC, bindim, seg_found, outdir, inputhistory)\n",
=======
    "for i in xrange( len(obs_dithers) ):   \n",
    "    #print obs_dithers[i]\n",
    "    seg_found = tile.assignWCS(obs, i, target, obs_dithers[i], darkfile, centeredPSF, segment_RADEC, seg_found)\n",
<<<<<<< HEAD
>>>>>>> 079c60e8d2cec69b540914634556768026159acc
=======
>>>>>>> 079c60e8d2cec69b540914634556768026159acc
    "        \n",
    "    \n",
    "print \"\\nFOUND {:d} SEGMENTS\".format(np.count_nonzero(seg_found))"
   ]
  },
  {
   "cell_type": "markdown",
   "metadata": {},
   "source": [
    "# PLOT FOUND/MISSING SEGMENTS"
   ]
  },
  {
   "cell_type": "code",
   "execution_count": 52,
   "metadata": {
    "collapsed": false,
    "scrolled": false
   },
   "outputs": [
    {
     "data": {
      "image/png": "iVBORw0KGgoAAAANSUhEUgAAAYwAAAGDCAYAAAA4byefAAAABHNCSVQICAgIfAhkiAAAAAlwSFlz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\n",
      "text/plain": [
       "<matplotlib.figure.Figure at 0x13e0f2690>"
      ]
     },
     "metadata": {},
     "output_type": "display_data"
    }
   ],
   "source": [
    "plt.figure(figsize=(6,6))\n",
    "\n",
    "for i in xrange(18):\n",
    "    if seg_found[i]==0: \n",
    "        plt.plot(segment_RADEC[i,0], segment_RADEC[i,1], 'ro', markersize=6)\n",
    "        plt.annotate(str(i+1), xy=(segment_RADEC[i,0], segment_RADEC[i,1]), fontsize=15, ha='center', va='bottom' )\n",
    "    if seg_found[i]==1: \n",
    "        plt.plot(segment_RADEC[i,0], segment_RADEC[i,1], 'go', markersize=6)\n",
    "        plt.annotate(str(i+1), xy=(segment_RADEC[i,0], segment_RADEC[i,1]), fontsize=15, ha='center', va='bottom')\n",
    "\n",
    "plt.plot(corners[:,0], corners[:,1], color='red', linestyle='--') \n",
    "plt.plot(corners[3,0], corners[3,1], 'bo')\n",
    "\n",
    "plt.axvline(x=target[0], color='black', linestyle='--')\n",
    "plt.axhline(y=target[1], color='black', linestyle='--')\n",
    "\n",
    "plt.xlabel(\"RA\")\n",
    "plt.ylabel(\"DEC\")\n",
    "plt.gca().invert_xaxis()\n",
    "plt.title(\"Seed {:d}\".format(seed))\n",
    "plt.show()"
   ]
  },
  {
   "cell_type": "markdown",
   "metadata": {},
   "source": [
    "# PREPARE QUIP OPERATION XML FILE "
   ]
  },
  {
   "cell_type": "code",
   "execution_count": 53,
   "metadata": {
    "collapsed": false
   },
   "outputs": [],
   "source": [
    "opsfile = 'ops_file_'+outdir.strip('/')+'.xml'\n",
    "f = open(opsfile,'w')\n",
    "\n",
    "f.write('<?xml version=\"1.0\" encoding=\"UTF-8\" standalone=\"yes\"?>\\n')\n",
    "f.write('<QUIP_OPERATION_FILE xmlns:xsi=\"http://www.w3.org/2001/XMLSchema-instance\" creator=\"WSS Executive\" time=\"16:22:40.093Z\" date=\"2017-06-14Z\" version=\"6.0.1\" operational=\"false\" xsi:noNamespaceSchemaLocation=\"/Users/lajoie/TEL/WSS-6.0.1/Software/schema/quip_operation_file.xsd\">\\n')\n",
    "f.write('    <CORRECTION_ID>R2017061401</CORRECTION_ID>\\n')\n",
    "f.write('    <OPERATION_TYPE>THUMBNAIL</OPERATION_TYPE>\\n')\n",
    "f.write('    <IMAGES>\\n')\n",
    "\n",
    "for i in xrange((itile+1)*8):\n",
    "    f.write(\"       <IMAGE_PATH>{:s}{:s}{:04d}.fits</IMAGE_PATH>\\n\".format(imgdir+outdir,\"test\",i))\n",
    "    \n",
    "f.write( '       </IMAGES>\\n'    )\n",
    "f.write( '       <OUTPUT>\\n')\n",
    "f.write( '           <OUTPUT_DIRECTORY>{:s}quip/</OUTPUT_DIRECTORY>\\n'.format(imgdir))\n",
    "f.write( '           <LOG_FILE_PATH>{:s}quip/R2017061401_quip_activity_log.xml</LOG_FILE_PATH>\\n'.format(imgdir))\n",
    "f.write( '           <OUT_FILE_PATH>{:s}quip/R2017061401_quip_out.xml</OUT_FILE_PATH>\\n'.format(imgdir))\n",
    "f.write( '       </OUTPUT>\\n')\n",
    "\n",
    "f.write('</QUIP_OPERATION_FILE>\\n')\n",
    "\n",
    "f.close()"
   ]
  },
  {
   "cell_type": "code",
   "execution_count": null,
   "metadata": {
    "collapsed": true
   },
   "outputs": [],
   "source": []
  }
 ],
 "metadata": {
  "kernelspec": {
   "display_name": "Python 2",
   "language": "python",
   "name": "python2"
  },
  "language_info": {
   "codemirror_mode": {
    "name": "ipython",
    "version": 2
   },
   "file_extension": ".py",
   "mimetype": "text/x-python",
   "name": "python",
   "nbconvert_exporter": "python",
   "pygments_lexer": "ipython2",
   "version": "2.7.12"
  }
 },
 "nbformat": 4,
 "nbformat_minor": 0
}
