{
 "cells": [
  {
   "cell_type": "code",
   "execution_count": 1,
   "metadata": {
    "collapsed": true
   },
   "outputs": [],
   "source": [
    "import os, glob\n",
    "from astropy.io import fits as pyfits\n",
    "import numpy as np\n",
    "import scipy.interpolate"
   ]
  },
  {
   "cell_type": "markdown",
   "metadata": {},
   "source": [
    "# METHOD: BIN DOWN IMAGES"
   ]
  },
  {
   "cell_type": "code",
   "execution_count": 2,
   "metadata": {
    "collapsed": true
   },
   "outputs": [],
   "source": [
    "#http://scipy.github.io/old-wiki/pages/Cookbook/Rebinning\n",
    "\n",
    "def congrid(a, newdims, method='linear', centre=False, minusone=False):\n",
    "    '''Arbitrary resampling of source array to new dimension sizes.\n",
    "    Currently only supports maintaining the same number of dimensions.\n",
    "    To use 1-D arrays, first promote them to shape (x,1).\n",
    "    \n",
    "    Uses the same parameters and creates the same co-ordinate lookup points\n",
    "    as IDL''s congrid routine, which apparently originally came from a VAX/VMS\n",
    "    routine of the same name.\n",
    "\n",
    "    method:\n",
    "    neighbour - closest value from original data\n",
    "    nearest and linear - uses n x 1-D interpolations using\n",
    "                         scipy.interpolate.interp1d\n",
    "    (see Numerical Recipes for validity of use of n 1-D interpolations)\n",
    "    spline - uses ndimage.map_coordinates\n",
    "\n",
    "    centre:\n",
    "    True - interpolation points are at the centres of the bins\n",
    "    False - points are at the front edge of the bin\n",
    "\n",
    "    minusone:\n",
    "    For example- inarray.shape = (i,j) & new dimensions = (x,y)\n",
    "    False - inarray is resampled by factors of (i/x) * (j/y)\n",
    "    True - inarray is resampled by(i-1)/(x-1) * (j-1)/(y-1)\n",
    "    This prevents extrapolation one element beyond bounds of input array.\n",
    "    '''\n",
    "    if not a.dtype in [np.float64, np.float32]:\n",
    "        a = np.cast[float](a)\n",
    "    \n",
    "    m1 = np.cast[int](minusone)\n",
    "    ofs = np.cast[int](centre) * 0.5\n",
    "    old = np.array( a.shape )\n",
    "    ndims = len( a.shape )\n",
    "    if len( newdims ) != ndims:\n",
    "        print \"[congrid] dimensions error. \" \\\n",
    "              \"This routine currently only support \" \\\n",
    "              \"rebinning to the same number of dimensions.\"\n",
    "        return None\n",
    "    newdims = np.asarray( newdims, dtype=float )    \n",
    "    dimlist = []\n",
    "\n",
    "    if method == 'neighbour':\n",
    "        for i in range( ndims ):\n",
    "            base = np.indices(newdims)[i]\n",
    "            dimlist.append( (old[i] - m1) / (newdims[i] - m1) \\\n",
    "                            * (base + ofs) - ofs )\n",
    "        cd = np.array( dimlist ).round().astype(int)\n",
    "        newa = a[list( cd )]\n",
    "        return newa\n",
    "    \n",
    "    elif method in ['nearest','linear']:\n",
    "        # calculate new dims\n",
    "        for i in range( ndims ):\n",
    "            base = np.arange( newdims[i] )\n",
    "            dimlist.append( (old[i] - m1) / (newdims[i] - m1) \\\n",
    "                            * (base + ofs) - ofs )\n",
    "        # specify old dims\n",
    "        olddims = [np.arange(i, dtype = np.float) for i in list( a.shape )]\n",
    "\n",
    "        # first interpolation - for ndims = any\n",
    "        mint = scipy.interpolate.interp1d( olddims[-1], a, kind=method )\n",
    "        newa = mint( dimlist[-1] )\n",
    "\n",
    "        trorder = [ndims - 1] + range( ndims - 1 )\n",
    "        for i in range( ndims - 2, -1, -1 ):\n",
    "            newa = newa.transpose( trorder )\n",
    "\n",
    "            mint = scipy.interpolate.interp1d( olddims[i], newa, kind=method )\n",
    "            newa = mint( dimlist[i] )\n",
    "\n",
    "        if ndims > 1:\n",
    "            # need one more transpose to return to original dimensions\n",
    "            newa = newa.transpose( trorder )\n",
    "\n",
    "        return newa\n",
    "    elif method in ['spline']:\n",
    "        oslices = [ slice(0,j) for j in old ]\n",
    "        oldcoords = np.ogrid[oslices]\n",
    "        nslices = [ slice(0,j) for j in list(newdims) ]\n",
    "        newcoords = np.mgrid[nslices]\n",
    "\n",
    "        newcoords_dims = range(np.rank(newcoords))\n",
    "        #make first index last\n",
    "        newcoords_dims.append(newcoords_dims.pop(0))\n",
    "        newcoords_tr = newcoords.transpose(newcoords_dims)\n",
    "        # makes a view that affects newcoords\n",
    "\n",
    "        newcoords_tr += ofs        \n",
    "\n",
    "        deltas = (np.asarray(old) - m1) / (newdims - m1)\n",
    "        newcoords_tr *= deltas\n",
    "\n",
    "        newcoords_tr -= ofs\n",
    "\n",
    "        newa = scipy.ndimage.map_coordinates(a, newcoords)\n",
    "        return newa\n",
    "    else:\n",
    "        print \"Congrid error: Unrecognized interpolation type.\\n\", \\\n",
    "              \"Currently only \\'neighbour\\', \\'nearest\\',\\'linear\\',\", \\\n",
    "              \"and \\'spline\\' are supported.\"\n",
    "        return None  "
   ]
  },
  {
   "cell_type": "markdown",
   "metadata": {},
   "source": [
    "# MAIN USER INPUTS"
   ]
  },
  {
   "cell_type": "code",
   "execution_count": 3,
   "metadata": {
    "collapsed": false
   },
   "outputs": [],
   "source": [
    "# DIRECTORY WHERE INPUT IMAGES ARE LOCATED:\n",
    "maindir = \"/Users/lajoie/TEL/WFSC/tools/mosaic-simulator/Obs1_test300/\"\n",
    "if maindir[-1]!='/': maindir+='/'\n",
    "observ = maindir.split(\"/\")[-2]\n",
    "\n",
    "# DOWNSAMPLE IMAGE SIZE:\n",
    "bindim =  200 \n",
    "\n",
    "# OUTPUT SUBDIRECTORY:\n",
    "outdir  = maindir+'congrid'+str(bindim)+\"/\"\n",
    "if not os.path.isdir(outdir): os.mkdir(outdir)\n",
    "\n",
    "# PREFIX ON OUTPUT FILENAMES:\n",
    "outfile = 'congrid' # prefix on output files\n"
   ]
  },
  {
   "cell_type": "markdown",
   "metadata": {},
   "source": [
    "# LOOP OVER FILES, SHRINK THEM, AND MODIFY HEADER ACCORDINGLY"
   ]
  },
  {
   "cell_type": "code",
   "execution_count": 4,
   "metadata": {
    "collapsed": false,
    "scrolled": false
   },
   "outputs": [
    {
     "ename": "KeyboardInterrupt",
     "evalue": "",
     "output_type": "error",
     "traceback": [
      "\u001b[0;31m---------------------------------------------------------------------------\u001b[0m",
      "\u001b[0;31mKeyboardInterrupt\u001b[0m                         Traceback (most recent call last)",
      "\u001b[0;32m<ipython-input-4-b0109250f48f>\u001b[0m in \u001b[0;36m<module>\u001b[0;34m()\u001b[0m\n\u001b[1;32m     11\u001b[0m     \u001b[0;32mfor\u001b[0m \u001b[0miext\u001b[0m \u001b[0;32min\u001b[0m \u001b[0mxrange\u001b[0m\u001b[0;34m(\u001b[0m\u001b[0mlen\u001b[0m\u001b[0;34m(\u001b[0m\u001b[0mhdu\u001b[0m\u001b[0;34m)\u001b[0m\u001b[0;34m)\u001b[0m\u001b[0;34m:\u001b[0m\u001b[0;34m\u001b[0m\u001b[0m\n\u001b[1;32m     12\u001b[0m         \u001b[0mhdr\u001b[0m \u001b[0;34m=\u001b[0m \u001b[0mhdu\u001b[0m\u001b[0;34m[\u001b[0m\u001b[0miext\u001b[0m\u001b[0;34m]\u001b[0m\u001b[0;34m.\u001b[0m\u001b[0mheader\u001b[0m\u001b[0;34m\u001b[0m\u001b[0m\n\u001b[0;32m---> 13\u001b[0;31m         \u001b[0mdata\u001b[0m\u001b[0;34m=\u001b[0m \u001b[0mhdu\u001b[0m\u001b[0;34m[\u001b[0m\u001b[0miext\u001b[0m\u001b[0;34m]\u001b[0m\u001b[0;34m.\u001b[0m\u001b[0mdata\u001b[0m\u001b[0;34m\u001b[0m\u001b[0m\n\u001b[0m\u001b[1;32m     14\u001b[0m \u001b[0;34m\u001b[0m\u001b[0m\n\u001b[1;32m     15\u001b[0m         \u001b[0mimgsize\u001b[0m\u001b[0;34m=\u001b[0m\u001b[0mhdu\u001b[0m\u001b[0;34m[\u001b[0m\u001b[0;36m1\u001b[0m\u001b[0;34m]\u001b[0m\u001b[0;34m.\u001b[0m\u001b[0mheader\u001b[0m\u001b[0;34m[\u001b[0m\u001b[0;34m\"NAXIS1\"\u001b[0m\u001b[0;34m]\u001b[0m\u001b[0;34m\u001b[0m\u001b[0m\n",
      "\u001b[0;32m/Users/lajoie/anaconda/lib/python2.7/site-packages/astropy/utils/decorators.pyc\u001b[0m in \u001b[0;36m__get__\u001b[0;34m(self, obj, owner)\u001b[0m\n\u001b[1;32m    734\u001b[0m             \u001b[0;32mreturn\u001b[0m \u001b[0mobj\u001b[0m\u001b[0;34m.\u001b[0m\u001b[0m__dict__\u001b[0m\u001b[0;34m[\u001b[0m\u001b[0mself\u001b[0m\u001b[0;34m.\u001b[0m\u001b[0m_key\u001b[0m\u001b[0;34m]\u001b[0m\u001b[0;34m\u001b[0m\u001b[0m\n\u001b[1;32m    735\u001b[0m         \u001b[0;32mexcept\u001b[0m \u001b[0mKeyError\u001b[0m\u001b[0;34m:\u001b[0m\u001b[0;34m\u001b[0m\u001b[0m\n\u001b[0;32m--> 736\u001b[0;31m             \u001b[0mval\u001b[0m \u001b[0;34m=\u001b[0m \u001b[0mself\u001b[0m\u001b[0;34m.\u001b[0m\u001b[0mfget\u001b[0m\u001b[0;34m(\u001b[0m\u001b[0mobj\u001b[0m\u001b[0;34m)\u001b[0m\u001b[0;34m\u001b[0m\u001b[0m\n\u001b[0m\u001b[1;32m    737\u001b[0m             \u001b[0mobj\u001b[0m\u001b[0;34m.\u001b[0m\u001b[0m__dict__\u001b[0m\u001b[0;34m[\u001b[0m\u001b[0mself\u001b[0m\u001b[0;34m.\u001b[0m\u001b[0m_key\u001b[0m\u001b[0;34m]\u001b[0m \u001b[0;34m=\u001b[0m \u001b[0mval\u001b[0m\u001b[0;34m\u001b[0m\u001b[0m\n\u001b[1;32m    738\u001b[0m             \u001b[0;32mreturn\u001b[0m \u001b[0mval\u001b[0m\u001b[0;34m\u001b[0m\u001b[0m\n",
      "\u001b[0;32m/Users/lajoie/anaconda/lib/python2.7/site-packages/astropy/io/fits/hdu/image.pyc\u001b[0m in \u001b[0;36mdata\u001b[0;34m(self)\u001b[0m\n\u001b[1;32m    241\u001b[0m             \u001b[0;32mreturn\u001b[0m\u001b[0;34m\u001b[0m\u001b[0m\n\u001b[1;32m    242\u001b[0m \u001b[0;34m\u001b[0m\u001b[0m\n\u001b[0;32m--> 243\u001b[0;31m         \u001b[0mdata\u001b[0m \u001b[0;34m=\u001b[0m \u001b[0mself\u001b[0m\u001b[0;34m.\u001b[0m\u001b[0m_get_scaled_image_data\u001b[0m\u001b[0;34m(\u001b[0m\u001b[0mself\u001b[0m\u001b[0;34m.\u001b[0m\u001b[0m_data_offset\u001b[0m\u001b[0;34m,\u001b[0m \u001b[0mself\u001b[0m\u001b[0;34m.\u001b[0m\u001b[0mshape\u001b[0m\u001b[0;34m)\u001b[0m\u001b[0;34m\u001b[0m\u001b[0m\n\u001b[0m\u001b[1;32m    244\u001b[0m         \u001b[0mself\u001b[0m\u001b[0;34m.\u001b[0m\u001b[0m_update_header_scale_info\u001b[0m\u001b[0;34m(\u001b[0m\u001b[0mdata\u001b[0m\u001b[0;34m.\u001b[0m\u001b[0mdtype\u001b[0m\u001b[0;34m)\u001b[0m\u001b[0;34m\u001b[0m\u001b[0m\n\u001b[1;32m    245\u001b[0m \u001b[0;34m\u001b[0m\u001b[0m\n",
      "\u001b[0;32m/Users/lajoie/anaconda/lib/python2.7/site-packages/astropy/io/fits/hdu/image.pyc\u001b[0m in \u001b[0;36m_get_scaled_image_data\u001b[0;34m(self, offset, shape)\u001b[0m\n\u001b[1;32m    707\u001b[0m         \u001b[0mcode\u001b[0m \u001b[0;34m=\u001b[0m \u001b[0mBITPIX2DTYPE\u001b[0m\u001b[0;34m[\u001b[0m\u001b[0mself\u001b[0m\u001b[0;34m.\u001b[0m\u001b[0m_orig_bitpix\u001b[0m\u001b[0;34m]\u001b[0m\u001b[0;34m\u001b[0m\u001b[0m\n\u001b[1;32m    708\u001b[0m \u001b[0;34m\u001b[0m\u001b[0m\n\u001b[0;32m--> 709\u001b[0;31m         \u001b[0mraw_data\u001b[0m \u001b[0;34m=\u001b[0m \u001b[0mself\u001b[0m\u001b[0;34m.\u001b[0m\u001b[0m_get_raw_data\u001b[0m\u001b[0;34m(\u001b[0m\u001b[0mshape\u001b[0m\u001b[0;34m,\u001b[0m \u001b[0mcode\u001b[0m\u001b[0;34m,\u001b[0m \u001b[0moffset\u001b[0m\u001b[0;34m)\u001b[0m\u001b[0;34m\u001b[0m\u001b[0m\n\u001b[0m\u001b[1;32m    710\u001b[0m         \u001b[0mraw_data\u001b[0m\u001b[0;34m.\u001b[0m\u001b[0mdtype\u001b[0m \u001b[0;34m=\u001b[0m \u001b[0mraw_data\u001b[0m\u001b[0;34m.\u001b[0m\u001b[0mdtype\u001b[0m\u001b[0;34m.\u001b[0m\u001b[0mnewbyteorder\u001b[0m\u001b[0;34m(\u001b[0m\u001b[0;34m'>'\u001b[0m\u001b[0;34m)\u001b[0m\u001b[0;34m\u001b[0m\u001b[0m\n\u001b[1;32m    711\u001b[0m \u001b[0;34m\u001b[0m\u001b[0m\n",
      "\u001b[0;32m/Users/lajoie/anaconda/lib/python2.7/site-packages/astropy/io/fits/hdu/base.pyc\u001b[0m in \u001b[0;36m_get_raw_data\u001b[0;34m(self, shape, code, offset)\u001b[0m\n\u001b[1;32m    478\u001b[0m                               offset=offset)\n\u001b[1;32m    479\u001b[0m         \u001b[0;32melif\u001b[0m \u001b[0mself\u001b[0m\u001b[0;34m.\u001b[0m\u001b[0m_file\u001b[0m\u001b[0;34m:\u001b[0m\u001b[0;34m\u001b[0m\u001b[0m\n\u001b[0;32m--> 480\u001b[0;31m             \u001b[0;32mreturn\u001b[0m \u001b[0mself\u001b[0m\u001b[0;34m.\u001b[0m\u001b[0m_file\u001b[0m\u001b[0;34m.\u001b[0m\u001b[0mreadarray\u001b[0m\u001b[0;34m(\u001b[0m\u001b[0moffset\u001b[0m\u001b[0;34m=\u001b[0m\u001b[0moffset\u001b[0m\u001b[0;34m,\u001b[0m \u001b[0mdtype\u001b[0m\u001b[0;34m=\u001b[0m\u001b[0mcode\u001b[0m\u001b[0;34m,\u001b[0m \u001b[0mshape\u001b[0m\u001b[0;34m=\u001b[0m\u001b[0mshape\u001b[0m\u001b[0;34m)\u001b[0m\u001b[0;34m\u001b[0m\u001b[0m\n\u001b[0m\u001b[1;32m    481\u001b[0m         \u001b[0;32melse\u001b[0m\u001b[0;34m:\u001b[0m\u001b[0;34m\u001b[0m\u001b[0m\n\u001b[1;32m    482\u001b[0m             \u001b[0;32mreturn\u001b[0m \u001b[0mNone\u001b[0m\u001b[0;34m\u001b[0m\u001b[0m\n",
      "\u001b[0;32m/Users/lajoie/anaconda/lib/python2.7/site-packages/astropy/io/fits/file.pyc\u001b[0m in \u001b[0;36mreadarray\u001b[0;34m(self, size, offset, dtype, shape)\u001b[0m\n\u001b[1;32m    268\u001b[0m                     \u001b[0;31m# file)\u001b[0m\u001b[0;34m\u001b[0m\u001b[0;34m\u001b[0m\u001b[0m\n\u001b[1;32m    269\u001b[0m                     memmap = Memmap(self._file, mode=MEMMAP_MODES[self.mode],\n\u001b[0;32m--> 270\u001b[0;31m                                     dtype=np.uint8)\n\u001b[0m\u001b[1;32m    271\u001b[0m \u001b[0;34m\u001b[0m\u001b[0m\n\u001b[1;32m    272\u001b[0m                     \u001b[0;31m# Now we immediately discard the memmap array; we are\u001b[0m\u001b[0;34m\u001b[0m\u001b[0;34m\u001b[0m\u001b[0m\n",
      "\u001b[0;32m/Users/lajoie/anaconda/lib/python2.7/site-packages/numpy/core/memmap.pyc\u001b[0m in \u001b[0;36m__new__\u001b[0;34m(subtype, filename, dtype, mode, offset, shape, order)\u001b[0m\n\u001b[1;32m    262\u001b[0m         \u001b[0mbytes\u001b[0m \u001b[0;34m-=\u001b[0m \u001b[0mstart\u001b[0m\u001b[0;34m\u001b[0m\u001b[0m\n\u001b[1;32m    263\u001b[0m         \u001b[0marray_offset\u001b[0m \u001b[0;34m=\u001b[0m \u001b[0moffset\u001b[0m \u001b[0;34m-\u001b[0m \u001b[0mstart\u001b[0m\u001b[0;34m\u001b[0m\u001b[0m\n\u001b[0;32m--> 264\u001b[0;31m         \u001b[0mmm\u001b[0m \u001b[0;34m=\u001b[0m \u001b[0mmmap\u001b[0m\u001b[0;34m.\u001b[0m\u001b[0mmmap\u001b[0m\u001b[0;34m(\u001b[0m\u001b[0mfid\u001b[0m\u001b[0;34m.\u001b[0m\u001b[0mfileno\u001b[0m\u001b[0;34m(\u001b[0m\u001b[0;34m)\u001b[0m\u001b[0;34m,\u001b[0m \u001b[0mbytes\u001b[0m\u001b[0;34m,\u001b[0m \u001b[0maccess\u001b[0m\u001b[0;34m=\u001b[0m\u001b[0macc\u001b[0m\u001b[0;34m,\u001b[0m \u001b[0moffset\u001b[0m\u001b[0;34m=\u001b[0m\u001b[0mstart\u001b[0m\u001b[0;34m)\u001b[0m\u001b[0;34m\u001b[0m\u001b[0m\n\u001b[0m\u001b[1;32m    265\u001b[0m \u001b[0;34m\u001b[0m\u001b[0m\n\u001b[1;32m    266\u001b[0m         self = ndarray.__new__(subtype, shape, dtype=descr, buffer=mm,\n",
      "\u001b[0;31mKeyboardInterrupt\u001b[0m: "
     ]
    }
   ],
   "source": [
    "os.chdir(maindir)\n",
    "folderfiles = glob.glob(\"*.fits\")\n",
    "nfiles = len(folderfiles)\n",
    "\n",
    "ic = 0\n",
    "for ifile in folderfiles:\n",
    "    hdu = pyfits.open(ifile)\n",
    "    outhdu = pyfits.HDUList()\n",
    "\n",
    "    # MODIFY EACH EXTENSION ACCORDINGLY:\n",
    "    for iext in xrange(len(hdu)):\n",
    "        hdr = hdu[iext].header\n",
    "        data= hdu[iext].data\n",
    "        \n",
    "        imgsize=hdu[1].header[\"NAXIS1\"]\n",
    "        binfactor = float(imgsize)/float(bindim)\n",
    "        \n",
    "        hdr[\"CRPIX1\"] = bindim/2\n",
    "        hdr[\"CRPIX2\"] = bindim/2\n",
    "        hdr[\"CDELT1\"] = hdr[\"CDELT1\"]*binfactor\n",
    "        hdr[\"CDELT2\"] = hdr[\"CDELT2\"]*binfactor\n",
    "        hdr[\"CD1_1\"]  = hdr[\"CD1_1\"] *binfactor\n",
    "        hdr[\"CD1_2\"]  = hdr[\"CD1_2\"] *binfactor\n",
    "        hdr[\"CD2_1\"]  = hdr[\"CD2_1\"] *binfactor\n",
    "        hdr[\"CD2_2\"]  = hdr[\"CD2_2\"] *binfactor\n",
    "        \n",
    "        if data is not None:\n",
    "            data = congrid(data, [bindim,bindim])\n",
    "            if hdr[\"EXTNAME\"]: extname = hdr[\"EXTNAME\"] \n",
    "            outhdu.append(pyfits.ImageHDU(data, header=hdr, name=extname))   \n",
    "        else: outhdu.append(pyfits.ImageHDU(header=hdr))\n",
    "    \n",
    "    filename = outdir+outfile+\"{:04d}.fits\".format(ic)\n",
    "    outhdu.writeto(filename, overwrite=True)  \n",
    "    \n",
    "    hdu.close()\n",
    "    outhdu.close()\n",
    "    ic += 1"
   ]
  },
  {
   "cell_type": "markdown",
   "metadata": {},
   "source": [
    "# CREATE OPERATION FILE FOR QUIP"
   ]
  },
  {
   "cell_type": "code",
   "execution_count": 6,
   "metadata": {
    "collapsed": false
   },
   "outputs": [
    {
     "name": "stdout",
     "output_type": "stream",
     "text": [
      "/Users/lajoie/TEL/WFSC/tools/mosaic-simulator/Obs1_test300/congrid200/ops_file_congrid200.xml\n"
     ]
    }
   ],
   "source": [
    "opsfile = outdir+'ops_file_'+outfile.strip(\"/\")+str(bindim)+'.xml'\n",
    "print outdir+'ops_file_'+outfile.strip(\"/\")+str(bindim)+'.xml'\n",
    "f = open(opsfile,'w')\n",
    "\n",
    "f.write('<?xml version=\"1.0\" encoding=\"UTF-8\" standalone=\"yes\"?>\\n')\n",
    "f.write('<QUIP_OPERATION_FILE xmlns:xsi=\"http://www.w3.org/2001/XMLSchema-instance\" creator=\"WSS Executive\" time=\"16:22:40.093Z\" date=\"2017-06-14Z\" version=\"6.0.1\" operational=\"false\" xsi:noNamespaceSchemaLocation=\"/Users/lajoie/TEL/WSS-6.0.1/Software/schema/quip_operation_file.xsd\">\\n')\n",
    "f.write('    <CORRECTION_ID>R2017061401</CORRECTION_ID>\\n')\n",
    "f.write('    <OPERATION_TYPE>THUMBNAIL</OPERATION_TYPE>\\n')\n",
    "f.write('    <IMAGES>\\n')\n",
    "\n",
    "for i in xrange(nfiles):\n",
    "    f.write(\"       <IMAGE_PATH>{:s}{:s}{:04d}.fits</IMAGE_PATH>\\n\".format(outdir,outfile,i))\n",
    "    \n",
    "f.write( '       </IMAGES>\\n'    )\n",
    "f.write( '       <OUTPUT>\\n')\n",
    "f.write( '           <OUTPUT_DIRECTORY>{:s}quip/</OUTPUT_DIRECTORY>\\n'.format(outdir))\n",
    "f.write( '           <LOG_FILE_PATH>{:s}quip/R2017061401_quip_activity_log.xml</LOG_FILE_PATH>\\n'.format(outdir))\n",
    "f.write( '           <OUT_FILE_PATH>{:s}quip/R2017061401_quip_out.xml</OUT_FILE_PATH>\\n'.format(outdir))\n",
    "f.write( '       </OUTPUT>\\n')\n",
    "\n",
    "f.write('</QUIP_OPERATION_FILE>\\n')\n",
    "\n",
    "f.close()\n",
    "if not os.path.isdir(outdir+\"/quip/\"): os.mkdir(outdir+\"/quip/\")"
   ]
  },
  {
   "cell_type": "code",
   "execution_count": null,
   "metadata": {
    "collapsed": true
   },
   "outputs": [],
   "source": []
  }
 ],
 "metadata": {
  "kernelspec": {
   "display_name": "Python 2",
   "language": "python",
   "name": "python2"
  },
  "language_info": {
   "codemirror_mode": {
    "name": "ipython",
    "version": 2
   },
   "file_extension": ".py",
   "mimetype": "text/x-python",
   "name": "python",
   "nbconvert_exporter": "python",
   "pygments_lexer": "ipython2",
   "version": "2.7.12"
  }
 },
 "nbformat": 4,
 "nbformat_minor": 2
}
