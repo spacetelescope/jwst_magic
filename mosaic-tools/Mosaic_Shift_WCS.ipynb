{
 "cells": [
  {
   "cell_type": "code",
   "execution_count": 1,
   "metadata": {
    "collapsed": true
   },
   "outputs": [],
   "source": [
    "import numpy as np\n",
    "import astropy.io.fits as pf"
   ]
  },
  {
   "cell_type": "markdown",
   "metadata": {},
   "source": [
    "# USER INPUTS"
   ]
  },
  {
   "cell_type": "code",
   "execution_count": 40,
   "metadata": {
    "collapsed": false
   },
   "outputs": [],
   "source": [
    "infile  = '/Users/lajoie/TEL/WFSC/tools/mosaic-simulator/Obs1_test300/congrid200/mosaic200_quip_seed8471.fits'\n",
    "outfile = \"/Users/lajoie/Desktop/test_shift.fits\"\n",
    "\n",
    "# TARGET RA/DEC:\n",
    "targetRA = 146.877   \n",
    "targetDEC= 63.248\n",
    "\n",
    "# PIXEL ON THE MOSAIC WHERE WE WANT THE NEW BORESIGHT:\n",
    "# GET FROM OTE-02\n",
    "xpix = 597\n",
    "ypix = 2228"
   ]
  },
  {
   "cell_type": "markdown",
   "metadata": {},
   "source": [
    "# SHIFT WCS & SAVE NEW MOSAIC"
   ]
  },
  {
   "cell_type": "code",
   "execution_count": 41,
   "metadata": {
    "collapsed": false
   },
   "outputs": [],
   "source": [
    "mosaic = pf.open(infile)\n",
    "mosaic[0].header['CRVAL1'] = targetRA  \n",
    "mosaic[0].header['CRVAL2'] = targetDEC\n",
    "\n",
    "mosaic[0].header['CRPIX1'] = xpix\n",
    "mosaic[0].header['CRPIX2'] = ypix\n",
    "\n",
    "mosaic.writeto(outfile, overwrite=True)"
   ]
  },
  {
   "cell_type": "code",
   "execution_count": null,
   "metadata": {
    "collapsed": true
   },
   "outputs": [],
   "source": []
  }
 ],
 "metadata": {
  "kernelspec": {
   "display_name": "Python 2",
   "language": "python",
   "name": "python2"
  },
  "language_info": {
   "codemirror_mode": {
    "name": "ipython",
    "version": 2
   },
   "file_extension": ".py",
   "mimetype": "text/x-python",
   "name": "python",
   "nbconvert_exporter": "python",
   "pygments_lexer": "ipython2",
   "version": "2.7.12"
  }
 },
 "nbformat": 4,
 "nbformat_minor": 0
}
