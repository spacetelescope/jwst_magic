{
 "cells": [
  {
   "cell_type": "markdown",
   "metadata": {},
   "source": [
    "This notebook will walk you through how to make a converted FGS raw image from a FGS point source uncal image from MIRAGE. These images have PSFs for all stars in the field of view, but do not have detector effects, and have not been clipped for saturation. While the absolute count rates for each PSF are not particularly correct, the relative count rates between the stars in the sky is correct. \n",
    "\n",
    "These images, once renormlized to the correct count rate values, can be used on the FGSES for OTB runs in conjunction with the override file created from a NIRCam image. "
   ]
  },
  {
   "cell_type": "markdown",
   "metadata": {},
   "source": [
    "Plan:\n",
    "\n",
    "1. use star selector gui to manually select all PSFs in associated with the guide star\n",
    "\n",
    "2. use the \"guiding selections\" file to identify the 18 PSFs\n",
    "\n",
    "3. (ideally) use code for cutting out GS PSF postage stamps to calculate the count rate sum \n",
    "\n",
    "4. find the ratio between calculated sum and the actual count rate (forom `fgscountrate`)\n",
    "\n",
    "5. multiple image by that factor\n",
    "\n",
    "Put that image in the FGS_imgs directory and use MAGIC for the star selection step. "
   ]
  },
  {
   "cell_type": "code",
   "execution_count": null,
   "metadata": {},
   "outputs": [],
   "source": []
  }
 ],
 "metadata": {
  "kernelspec": {
   "display_name": "Python 3",
   "language": "python",
   "name": "python3"
  },
  "language_info": {
   "codemirror_mode": {
    "name": "ipython",
    "version": 3
   },
   "file_extension": ".py",
   "mimetype": "text/x-python",
   "name": "python",
   "nbconvert_exporter": "python",
   "pygments_lexer": "ipython3",
   "version": "3.7.6"
  }
 },
 "nbformat": 4,
 "nbformat_minor": 2
}
