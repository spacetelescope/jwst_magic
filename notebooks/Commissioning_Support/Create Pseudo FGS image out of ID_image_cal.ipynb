{
 "cells": [
  {
   "cell_type": "markdown",
   "id": "a639cf80",
   "metadata": {},
   "source": [
    "# Create Pseudo FGS image out of an `ID_image_cal.fits` image"
   ]
  },
  {
   "cell_type": "markdown",
   "id": "ffb62e6a",
   "metadata": {},
   "source": [
    "This notebook will be used during the case that we want to check the 3x3 count rates from the pseudo-FGS image created from the NIRCam image against FGS ID strips.\n",
    "\n",
    "This will be important if the last guiding attempt failed due to a mismatch between the commanded count rates and the measured countrates. At that time we will retrieve the ID merged image from MAST from the last guiding attempt and use it to determine what the 3x3 count rates are for the commanded PSFs. The pseudo-FGS image should not be used to create a new command, instead, the measured 3x3 count rates can be used in place of those in the previous command; be sure to update the threshold as well. "
   ]
  },
  {
   "cell_type": "code",
   "execution_count": null,
   "id": "49c199c8",
   "metadata": {},
   "outputs": [],
   "source": [
    "import os\n",
    "from functools import reduce\n",
    "import logging\n",
    "import shutil\n",
    "\n",
    "from astropy.io import fits\n",
    "import matplotlib.pyplot as plt\n",
    "from matplotlib.colors import LogNorm\n",
    "import numpy as np\n",
    "import pandas as pd\n",
    "from IPython.display import Image\n",
    "\n",
    "import fgscountrate\n",
    "import jwst_magic\n",
    "from jwst_magic.convert_image import convert_image_to_raw_fgs\n",
    "from jwst_magic.utils import utils\n",
    "PACKAGE_PATH = jwst_magic.__file__.split('jwst_magic/__init__.py')[0]\n",
    "\n",
    "LOGGER = logging.getLogger('convert_merged_id_strips_to_raw-notebook')\n",
    "\n",
    "%matplotlib inline"
   ]
  },
  {
   "cell_type": "markdown",
   "id": "d4f6090f",
   "metadata": {},
   "source": [
    "# Table of Contents\n",
    "1. [About this Observation](#About-this-Observation)\n",
    "2. [Segment ID matching to MAGIC labeling](#Segment-ID-matching-to-MAGIC-labeling)\n",
    "2. [Functions](#Functions)\n",
    "3. [Load in the ID strips merged image](#Load-in-the-ID-strips-merged-image)\n",
    "4. [Run this image through the backend of MAGIC to create a pseudo-FGS image](#Run-this-image-through-the-backend-of-MAGIC-to-create-a-pseudo-FGS-image)"
   ]
  },
  {
   "cell_type": "markdown",
   "id": "0e3d3e8d",
   "metadata": {},
   "source": [
    "# About this Observation"
   ]
  },
  {
   "cell_type": "markdown",
   "id": "3cccdd77",
   "metadata": {},
   "source": [
    "Edit the cell below with the guider used for this observations"
   ]
  },
  {
   "cell_type": "code",
   "execution_count": null,
   "id": "758c1e03",
   "metadata": {},
   "outputs": [],
   "source": [
    "guider = 1"
   ]
  },
  {
   "cell_type": "markdown",
   "id": "aa4e8da5",
   "metadata": {},
   "source": [
    "# Segment ID matching to MAGIC labeling\n",
    "Run but do not change these cells"
   ]
  },
  {
   "cell_type": "code",
   "execution_count": null,
   "id": "a8426b50",
   "metadata": {},
   "outputs": [],
   "source": [
    "if guider==1:\n",
    "    orientation_filename = \"../Commissioning_Support/fgs_raw_orientation_numbering_wss_guider1.png\"  \n",
    "elif guider==2:\n",
    "    orientation_filename=\"../Commissioning_Support/fgs_raw_orientation_numbering_wss_guider2.png\"\n",
    "    \n",
    "magic_grid_filename = \"../JWSTgrid_side.png\""
   ]
  },
  {
   "cell_type": "code",
   "execution_count": null,
   "id": "74e02bfa",
   "metadata": {},
   "outputs": [],
   "source": [
    "print(f'Guider {guider}')"
   ]
  },
  {
   "cell_type": "code",
   "execution_count": null,
   "id": "12139c63",
   "metadata": {},
   "outputs": [],
   "source": [
    "Image(filename=orientation_filename, height=400, width=400)"
   ]
  },
  {
   "cell_type": "code",
   "execution_count": null,
   "id": "cca82240",
   "metadata": {},
   "outputs": [],
   "source": [
    "Image(filename=magic_grid_filename, height=400, width=400)"
   ]
  },
  {
   "cell_type": "code",
   "execution_count": null,
   "id": "f0138ea1",
   "metadata": {},
   "outputs": [],
   "source": [
    "# MAGIC segment labels to segment naming G1 map\n",
    "SEGMENT_MAP_G1 = {\"A\":\"B4-13\", \"B\":\"C4-14\", \"C\":\"C3-12\", \"D\":\"B5-15\",\n",
    "                  \"E\":\"A4-4\", \"F\":\"B3-11\", \"G\":\"A5-5\", \"H\":\"A3-3\", \n",
    "                  \"I\":\"C5-16\", \"J\":\"C2-10\", \"K\":\"A6-6\", \"L\":\"A2-2\", \n",
    "                  \"M\":\"B6-17\", \"N\":\"A1-1\", \"O\":\"B2-9\", \"P\":\"C6-18\", \n",
    "                  \"Q\":\"C1-8\", \"R\":\"B1-7\"}\n",
    "\n",
    "# MAGIC segment lbabels to segment naming G2 map\n",
    "SEGMENT_MAP_G2 = {\"A\":\"B1-7\", \"B\":\"C6-18\", \"C\":\"C1-8\", \"D\":\"B6-17\",\n",
    "                  \"E\":\"A1-1\", \"F\":\"B2-9\", \"G\":\"A6-6\", \"H\":\"A2-2\", \n",
    "                  \"I\":\"C5-16\", \"J\":\"C2-10\", \"K\":\"A5-5\", \"L\":\"A3-3\", \n",
    "                  \"M\":\"B5-15\", \"N\":\"A4-4\", \"O\":\"B3-11\", \"P\":\"C4-14\", \n",
    "                  \"Q\":\"C3-12\", \"R\":\"B4-13\"}"
   ]
  },
  {
   "cell_type": "markdown",
   "id": "c3869852",
   "metadata": {},
   "source": [
    "# Functions \n",
    "Do not change these cells"
   ]
  },
  {
   "cell_type": "code",
   "execution_count": null,
   "id": "d47a561c",
   "metadata": {},
   "outputs": [],
   "source": [
    "def read_all_found_psfs(all_psfs_filename):\n",
    "    \"\"\"\n",
    "    Read in the all found PSFs file from MAGIC and map the segment ID to the measured PSF. Return a data frame \n",
    "    (table) with the information in this file\n",
    "    \"\"\"\n",
    "    # Read in all found PSFs\n",
    "    segment_map = SEGMENT_MAP_G1 if guider==1 else SEGMENT_MAP_G2\n",
    "    \n",
    "    all_psfs_table = pd.read_csv(all_psfs_filename, comment='#', \n",
    "                                 names=['label', 'y', 'x', 'countrate'], sep=' ')\n",
    "    segments = [segment_map[label] for label in all_psfs_table['label']]\n",
    "\n",
    "    # Add the segment name to the table\n",
    "    all_psfs_table.insert(1, 'segment', segments)\n",
    "    all_psfs_table = all_psfs_table.sort_values('segment', ascending=True)\n",
    "    \n",
    "    return all_psfs_table"
   ]
  },
  {
   "cell_type": "code",
   "execution_count": null,
   "id": "2f66100a",
   "metadata": {},
   "outputs": [],
   "source": [
    "def convert_id_to_fgs_raw(input_image, root, out_dir, guider, smoothing):\n",
    "    # Determine filename root\n",
    "    root = utils.make_root(root, input_image)\n",
    "\n",
    "    # Determine output directory\n",
    "    out_dir_root = utils.make_out_dir(out_dir, PACKAGE_PATH, root)\n",
    "    utils.ensure_dir_exists(out_dir_root)\n",
    "\n",
    "    # Set up logging\n",
    "    _, log_filename = utils.create_logger_from_yaml(__name__, out_dir_root=out_dir_root, root=root, level='DEBUG')\n",
    "\n",
    "    LOGGER.info(\"Package directory: {}\".format(PACKAGE_PATH))\n",
    "    LOGGER.info(\"Processing request for {}.\".format(root))\n",
    "    LOGGER.info(\"All data will be saved in: {}\".format(out_dir_root))\n",
    "    LOGGER.info(\"Input image: {}\".format(os.path.abspath(input_image)))\n",
    "\n",
    "    # Copy input image into out directory\n",
    "    try:\n",
    "        shutil.copy(os.path.abspath(input_image), out_dir_root)\n",
    "    except shutil.SameFileError:\n",
    "        pass\n",
    "\n",
    "    # Convert provided FGS ID image to a \"raw\" FGS image\n",
    "    fgs_im, all_found_psfs_file, psf_center_file, fgs_hdr_dict = \\\n",
    "        convert_image_to_raw_fgs.convert_im(input_image, guider, root,\n",
    "                                            out_dir=out_dir,\n",
    "                                            nircam=False,\n",
    "                                            nircam_det=None,\n",
    "                                            normalize=False,\n",
    "                                            smoothing=smoothing,\n",
    "                                            coarse_pointing=False,\n",
    "                                            jitter_rate_arcsec=None,\n",
    "                                            logger_passed=True,\n",
    "                                            itm=False)\n",
    "\n",
    "    # Add logging information to fgs image header\n",
    "    fgs_hdr_dict['LOG_FILE'] = (os.path.basename(log_filename), 'Log filename')\n",
    "\n",
    "    # Write converted image\n",
    "    convert_image_to_raw_fgs.write_fgs_im(fgs_im, out_dir, root, guider, fgs_hdr_dict)\n",
    "    LOGGER.info(\"*** Image Conversion COMPLETE ***\")\n"
   ]
  },
  {
   "cell_type": "markdown",
   "id": "d15fcdf3",
   "metadata": {},
   "source": [
    "# Load in the ID strips merged image"
   ]
  },
  {
   "cell_type": "markdown",
   "id": "35d0aeba",
   "metadata": {},
   "source": [
    "We will be loading the `gs-id_<guider>_image_cal.fits` associated with the observation we care about. This a merged ID strips image. It has the shape 2048x2024 so you will need to pad it by 24 rows of zeros. Since the positions of the PSFs don't matter in the image, this change will not negatively impact the data or our analysis. "
   ]
  },
  {
   "cell_type": "code",
   "execution_count": null,
   "id": "f0d98e02",
   "metadata": {},
   "outputs": [],
   "source": [
    "##############################################################################\n",
    "### UPDATE the path below to match where the image_cal.fits image is saved ###\n",
    "##############################################################################\n",
    "\n",
    "# Grab the *_gs-id_1_image_cal.fits image associated with your CAR/obs from MAST\n",
    "# and provide the path to this image below\n",
    "\n",
    "path_to_id_image_cal = '/Users/kbrooks/Documents/tel/FGS/sample_images/jw00646183001_02101_00002_nrcblong/jw00646183001_gs-id_1_image_cal.fits'"
   ]
  },
  {
   "cell_type": "code",
   "execution_count": null,
   "id": "be4f88cc",
   "metadata": {},
   "outputs": [],
   "source": [
    "hdu = fits.open(path_to_id_image_cal)\n",
    "hdu.info()"
   ]
  },
  {
   "cell_type": "code",
   "execution_count": null,
   "id": "83f30630",
   "metadata": {},
   "outputs": [],
   "source": [
    "sci = fits.getdata(path_to_id_image_cal)\n",
    "print(np.shape(sci))\n",
    "\n",
    "plt.figure(figsize=(10, 8))\n",
    "plt.imshow(sci[0], norm=LogNorm())\n",
    "plt.colorbar()\n",
    "plt.show()"
   ]
  },
  {
   "cell_type": "code",
   "execution_count": null,
   "id": "4c1ad438",
   "metadata": {},
   "outputs": [],
   "source": [
    "# Subtract off the median of the image to remove as much background as possible\n",
    "bk_sub_sci = sci[0] - np.median(np.asarray(sci[0])) \n",
    "\n",
    "#####################################################\n",
    "### UPDATE the variables below to match your data ###\n",
    "#####################################################\n",
    "center_of_config = (690, 1000) # Eye ball the center of the guide star PSF configuration\n",
    "radius_of_window = 500 # The half size of the window around the guide star PSF configuration\n",
    "\n",
    "# Crop out the guide star PSF configuration\n",
    "cropped = bk_sub_sci[center_of_config[1]-radius_of_window: center_of_config[1]+radius_of_window,\n",
    "                     center_of_config[0]-radius_of_window: center_of_config[0]+radius_of_window]"
   ]
  },
  {
   "cell_type": "code",
   "execution_count": null,
   "id": "2ce00f31",
   "metadata": {},
   "outputs": [],
   "source": [
    "plt.figure(figsize=(10,8))\n",
    "plt.imshow(cropped, norm=LogNorm())\n",
    "plt.colorbar()\n",
    "plt.show()"
   ]
  },
  {
   "cell_type": "code",
   "execution_count": null,
   "id": "abe74b38",
   "metadata": {},
   "outputs": [],
   "source": [
    "# Pad the image to a 2048x2048 image\n",
    "pad = (2048 - (2*radius_of_window)) // 2\n",
    "padded_sci = np.pad(cropped, pad, 'constant')\n",
    "\n",
    "if np.shape(padded_sci) != (2048, 2048):\n",
    "    print(f'The shape of the input data is not as expected ({np.shape(padded_sci)}, adjust the padding function accordingly')"
   ]
  },
  {
   "cell_type": "code",
   "execution_count": null,
   "id": "b01df22e",
   "metadata": {},
   "outputs": [],
   "source": [
    "# Make sure that the associated data is the same shape as the SCI image\n",
    "err = hdu['ERR'].data\n",
    "padded_err = np.pad(err[0], ((0,0), (12,12)), 'constant')\n",
    "if np.shape(padded_err) != (2048, 2048):\n",
    "    print('The shape of the input data is not as expected, adjust the padding function accordingly')\n",
    "\n",
    "dq = hdu['DQ'].data\n",
    "padded_dq = np.pad(dq, ((0,0), (12,12)), 'constant')\n",
    "if np.shape(padded_dq) != (2048, 2048):\n",
    "    print('The shape of the input data is not as expected, adjust the padding function accordingly')"
   ]
  },
  {
   "cell_type": "code",
   "execution_count": null,
   "id": "684fd606",
   "metadata": {},
   "outputs": [],
   "source": [
    "# Put these back into the file that we will be using and write it out\n",
    "hdu['SCI'].data = padded_sci\n",
    "hdu['ERR'].data = padded_err\n",
    "hdu['DQ'].data = padded_dq\n",
    "\n",
    "path, filename = os.path.split(path_to_id_image_cal)\n",
    "new_filename = f'expanded_{filename}'\n",
    "outfile = os.path.join('/Users/kbrooks/Desktop', new_filename)\n",
    "hdu.writeto(outfile, overwrite=True)"
   ]
  },
  {
   "cell_type": "markdown",
   "id": "e687c476",
   "metadata": {},
   "source": [
    "# Run this image through the backend of MAGIC to create a pseudo-FGS image "
   ]
  },
  {
   "cell_type": "code",
   "execution_count": null,
   "id": "0bf85242",
   "metadata": {},
   "outputs": [],
   "source": [
    "# Be sure to change the root and out_dir as it relates to your observation\n",
    "# Input image and paths\n",
    "input_image = outfile # This is the same image that you just wrote out\n",
    "root = 'from_ote07_obs1_id' # Change this root to something that makes sense for this observation\n",
    "out_dir = '/Users/kbrooks/Desktop/MAGIC/test/' # Change this path\n",
    "\n",
    "# Smoothing information\n",
    "smoothing = 'high' #\"high\" for large smoothing (e.g. Global Alignment), \"default\" for medium smoothing "
   ]
  },
  {
   "cell_type": "code",
   "execution_count": null,
   "id": "205805f9",
   "metadata": {},
   "outputs": [],
   "source": [
    "fits.info(input_image)"
   ]
  },
  {
   "cell_type": "code",
   "execution_count": null,
   "id": "ac0a763d",
   "metadata": {},
   "outputs": [],
   "source": [
    "# Create a peusdo-FGS image from the ID image\n",
    "convert_id_to_fgs_raw(input_image, root, out_dir, guider, smoothing)"
   ]
  },
  {
   "cell_type": "code",
   "execution_count": null,
   "id": "67a43289",
   "metadata": {},
   "outputs": [],
   "source": [
    "# Make a table of the all found PSFs\n",
    "all_psfs_filename = os.path.join(out_dir, 'out', root, f'unshifted_all_found_psfs_{root}_G{guider}.txt')\n",
    "all_psfs_table = read_all_found_psfs(all_psfs_filename)\n",
    "\n",
    "all_psfs_table"
   ]
  },
  {
   "cell_type": "markdown",
   "id": "0f32a623",
   "metadata": {},
   "source": [
    "### Do a quick visual check to make sure that the identified segments are correct "
   ]
  },
  {
   "cell_type": "code",
   "execution_count": null,
   "id": "ad9cb425",
   "metadata": {},
   "outputs": [],
   "source": [
    "pseudo_fgs = fits.getdata(os.path.join(out_dir, 'out', root, 'FGS_imgs', \n",
    "                                       f'unshifted_{root}_G{guider}.fits'))"
   ]
  },
  {
   "cell_type": "code",
   "execution_count": null,
   "id": "03d3049f",
   "metadata": {},
   "outputs": [],
   "source": [
    "xs = all_psfs_table['x'].values\n",
    "ys = all_psfs_table['y'].values\n",
    "labels = all_psfs_table['label'].values\n",
    "segments = all_psfs_table['segment'].values\n",
    "\n",
    "plt.figure(figsize=(10, 8))\n",
    "plt.imshow(pseudo_fgs, cmap='Blues_r', vmin=0, vmax=1000, origin='upper')\n",
    "plt.title(f\"Pseudo FGS image from FGS\")\n",
    "for segment, label, y, x in zip(segments, labels, ys, xs):\n",
    "    plt.annotate(label, (x, y), (x+5, y+5), color='white', fontsize=12)\n",
    "    plt.annotate(segment, (x, y), (x-40, y-60), color='cyan', fontsize=12)\n",
    "plt.show()"
   ]
  },
  {
   "cell_type": "code",
   "execution_count": null,
   "id": "3c56a331",
   "metadata": {},
   "outputs": [],
   "source": [
    "Image(filename=orientation_filename, height=400, width=400) "
   ]
  },
  {
   "cell_type": "markdown",
   "id": "f4b48c77",
   "metadata": {},
   "source": [
    "Confirm that the segments found are consistent with the diagrams above (depending on which guider is being used) and matches what is given in the all_psfs_table for the pseudo-FGS image from the ID strips. If you need to update the segment names in the table, you can do so by creating a list of the actual segment IDs in order as they appear in the table (for example called `actual_segments` and run a cell with the following lines of code: \n",
    "```\n",
    "actual_segments = [,] # Fill in this list\n",
    "all_psfs_table['segment'] = actual_segments\n",
    "```"
   ]
  },
  {
   "cell_type": "code",
   "execution_count": null,
   "id": "aac4f8f3",
   "metadata": {},
   "outputs": [],
   "source": [
    "all_psfs_table"
   ]
  },
  {
   "cell_type": "markdown",
   "id": "23e712ce",
   "metadata": {},
   "source": [
    "# About this notebook\n",
    "\n",
    "Author: K. Brooks\n",
    "\n",
    "Last updated: 13 Jan, 2022"
   ]
  },
  {
   "cell_type": "code",
   "execution_count": null,
   "id": "db7c165d",
   "metadata": {},
   "outputs": [],
   "source": []
  }
 ],
 "metadata": {
  "kernelspec": {
   "display_name": "Python 3 (ipykernel)",
   "language": "python",
   "name": "python3"
  },
  "language_info": {
   "codemirror_mode": {
    "name": "ipython",
    "version": 3
   },
   "file_extension": ".py",
   "mimetype": "text/x-python",
   "name": "python",
   "nbconvert_exporter": "python",
   "pygments_lexer": "ipython3",
   "version": "3.7.11"
  }
 },
 "nbformat": 4,
 "nbformat_minor": 5
}
