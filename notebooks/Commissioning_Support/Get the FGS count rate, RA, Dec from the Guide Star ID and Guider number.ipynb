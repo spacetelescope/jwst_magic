{
 "cells": [
  {
   "cell_type": "markdown",
   "metadata": {},
   "source": [
    "# Grab the FGS count rate, RA, and Dec for the Guide Star in the Guider being used"
   ]
  },
  {
   "cell_type": "markdown",
   "metadata": {},
   "source": [
    "First import the `fgscountrate` tool which will enable use to get the FGS count rate, RA, and Dec of the guide star, and any other information that comes from the Guide Star Catalog."
   ]
  },
  {
   "cell_type": "code",
   "execution_count": 1,
   "metadata": {},
   "outputs": [],
   "source": [
    "import numpy as np\n",
    "\n",
    "import fgscountrate"
   ]
  },
  {
   "cell_type": "markdown",
   "metadata": {},
   "source": [
    "Give the Guide Star ID and the guider being used for this observation"
   ]
  },
  {
   "cell_type": "code",
   "execution_count": 2,
   "metadata": {},
   "outputs": [],
   "source": [
    "guide_star_id = 'S4OL071716' # Replace this with the actual Guide Star ID for this observation\n",
    "guider_number = 1 # Replace this with the guider number used for this observation"
   ]
  },
  {
   "cell_type": "markdown",
   "metadata": {},
   "source": [
    "## Get the Count Rate "
   ]
  },
  {
   "cell_type": "markdown",
   "metadata": {},
   "source": [
    "Run the following cells to get the FGS count rate of this guide star"
   ]
  },
  {
   "cell_type": "code",
   "execution_count": 3,
   "metadata": {},
   "outputs": [],
   "source": [
    "fgs = fgscountrate.FGSCountrate(guide_star_id=guide_star_id, guider=guider_number) \n",
    "count_rate_242, _, magnitude_242, _ = fgs.query_fgs_countrate_magnitude(catalog='GSC242')"
   ]
  },
  {
   "cell_type": "code",
   "execution_count": 4,
   "metadata": {},
   "outputs": [
    {
     "name": "stdout",
     "output_type": "stream",
     "text": [
      "34776411.26870995\n"
     ]
    }
   ],
   "source": [
    "print(count_rate_242)"
   ]
  },
  {
   "cell_type": "code",
   "execution_count": 5,
   "metadata": {},
   "outputs": [
    {
     "name": "stdout",
     "output_type": "stream",
     "text": [
      "10.081283725546275\n"
     ]
    }
   ],
   "source": [
    "print(magnitude_242)"
   ]
  },
  {
   "cell_type": "markdown",
   "metadata": {},
   "source": [
    "## Compare with GSC 2.3.4"
   ]
  },
  {
   "cell_type": "markdown",
   "metadata": {},
   "source": [
    "Given some inconsistencies seen in GA obs1, we now are checking to make sure that the 2MASS bands were not overwritten between GSC 2.3.4 and GSC 2.4.2. Here we check if the two catalogs give the same or different answers. \n",
    "\n",
    "*If the answers are different, **use the GSC 2.3.4** magnitudes*"
   ]
  },
  {
   "cell_type": "code",
   "execution_count": 6,
   "metadata": {},
   "outputs": [],
   "source": [
    "fgs = fgscountrate.FGSCountrate(guide_star_id=guide_star_id, guider=guider_number) \n",
    "count_rate_23, _, magnitude_23, _ = fgs.query_fgs_countrate_magnitude(catalog='GSC23')"
   ]
  },
  {
   "cell_type": "code",
   "execution_count": 7,
   "metadata": {},
   "outputs": [
    {
     "name": "stdout",
     "output_type": "stream",
     "text": [
      "97389324.18076903\n"
     ]
    }
   ],
   "source": [
    "print(count_rate_23)"
   ]
  },
  {
   "cell_type": "code",
   "execution_count": 8,
   "metadata": {},
   "outputs": [
    {
     "name": "stdout",
     "output_type": "stream",
     "text": [
      "8.960300193843512\n"
     ]
    }
   ],
   "source": [
    "print(magnitude_23)"
   ]
  },
  {
   "cell_type": "code",
   "execution_count": 9,
   "metadata": {},
   "outputs": [
    {
     "name": "stdout",
     "output_type": "stream",
     "text": [
      "Mismatch in GSC 2.4.2 and GSC 2.3! Use the GSC 2.3 magnitude: 8.960300193843512\n"
     ]
    }
   ],
   "source": [
    "if not np.isclose(magnitude_242, magnitude_23):\n",
    "    print(f'Mismatch in GSC 2.4.2 and GSC 2.3! Use the GSC 2.3 magnitude: {magnitude_23}')"
   ]
  },
  {
   "cell_type": "markdown",
   "metadata": {},
   "source": [
    "## Get the RA and Dec"
   ]
  },
  {
   "cell_type": "markdown",
   "metadata": {},
   "source": [
    "Run the following cells to get the RA and Dec. Note that the data frame that is passed back has a lot of information that might be helpful to you. "
   ]
  },
  {
   "cell_type": "code",
   "execution_count": 10,
   "metadata": {},
   "outputs": [],
   "source": [
    "data_frame = fgscountrate.utils.query_gsc(gs_id=guide_star_id)"
   ]
  },
  {
   "cell_type": "code",
   "execution_count": 11,
   "metadata": {},
   "outputs": [
    {
     "data": {
      "text/html": [
       "<div>\n",
       "<style scoped>\n",
       "    .dataframe tbody tr th:only-of-type {\n",
       "        vertical-align: middle;\n",
       "    }\n",
       "\n",
       "    .dataframe tbody tr th {\n",
       "        vertical-align: top;\n",
       "    }\n",
       "\n",
       "    .dataframe thead th {\n",
       "        text-align: right;\n",
       "    }\n",
       "</style>\n",
       "<table border=\"1\" class=\"dataframe\">\n",
       "  <thead>\n",
       "    <tr style=\"text-align: right;\">\n",
       "      <th></th>\n",
       "      <th>hstID</th>\n",
       "      <th>gsc1ID</th>\n",
       "      <th>gsc2ID</th>\n",
       "      <th>GAIAdr1sourceID</th>\n",
       "      <th>GAIAdr2sourceID</th>\n",
       "      <th>ra</th>\n",
       "      <th>dec</th>\n",
       "      <th>epoch</th>\n",
       "      <th>raErr</th>\n",
       "      <th>decErr</th>\n",
       "      <th>...</th>\n",
       "      <th>NUVMag</th>\n",
       "      <th>NUVMagErr</th>\n",
       "      <th>NUVMagCode</th>\n",
       "      <th>NUVmagSource</th>\n",
       "      <th>gsc2semiMajorAxis</th>\n",
       "      <th>gsc2eccentricity</th>\n",
       "      <th>gsc2positionAngle</th>\n",
       "      <th>sourceStatus</th>\n",
       "      <th>mag</th>\n",
       "      <th>objID</th>\n",
       "    </tr>\n",
       "  </thead>\n",
       "  <tbody>\n",
       "    <tr>\n",
       "      <th>0</th>\n",
       "      <td>S4OL071716</td>\n",
       "      <td>-999.0</td>\n",
       "      <td>S113231171716</td>\n",
       "      <td>-999.0</td>\n",
       "      <td>5232224856165504640</td>\n",
       "      <td>159.506895</td>\n",
       "      <td>-69.699753</td>\n",
       "      <td>2015.5</td>\n",
       "      <td>0.000062</td>\n",
       "      <td>0.000058</td>\n",
       "      <td>...</td>\n",
       "      <td>-999.0</td>\n",
       "      <td>-999.0</td>\n",
       "      <td>-999.0</td>\n",
       "      <td>-999.0</td>\n",
       "      <td>4.53912</td>\n",
       "      <td>0.114277</td>\n",
       "      <td>31.2144</td>\n",
       "      <td>1001011503</td>\n",
       "      <td>13.037154</td>\n",
       "      <td>2113231171716</td>\n",
       "    </tr>\n",
       "  </tbody>\n",
       "</table>\n",
       "<p>1 rows × 154 columns</p>\n",
       "</div>"
      ],
      "text/plain": [
       "         hstID  gsc1ID         gsc2ID  GAIAdr1sourceID      GAIAdr2sourceID  \\\n",
       "0  S4OL071716   -999.0  S113231171716           -999.0  5232224856165504640   \n",
       "\n",
       "           ra        dec   epoch     raErr    decErr  ...  NUVMag  NUVMagErr  \\\n",
       "0  159.506895 -69.699753  2015.5  0.000062  0.000058  ...  -999.0     -999.0   \n",
       "\n",
       "   NUVMagCode  NUVmagSource  gsc2semiMajorAxis  gsc2eccentricity  \\\n",
       "0      -999.0        -999.0            4.53912          0.114277   \n",
       "\n",
       "   gsc2positionAngle  sourceStatus        mag          objID  \n",
       "0            31.2144    1001011503  13.037154  2113231171716  \n",
       "\n",
       "[1 rows x 154 columns]"
      ]
     },
     "execution_count": 11,
     "metadata": {},
     "output_type": "execute_result"
    }
   ],
   "source": [
    "data_frame"
   ]
  },
  {
   "cell_type": "code",
   "execution_count": 12,
   "metadata": {},
   "outputs": [],
   "source": [
    "ra = data_frame['ra'].values[0]\n",
    "dec = data_frame['dec'].values[0]"
   ]
  },
  {
   "cell_type": "code",
   "execution_count": 13,
   "metadata": {},
   "outputs": [
    {
     "name": "stdout",
     "output_type": "stream",
     "text": [
      "RA: 159.506895090423\n",
      "Dec: -69.6997532917772\n"
     ]
    }
   ],
   "source": [
    "print(f\"RA: {ra}\")\n",
    "print(f\"Dec: {dec}\")"
   ]
  },
  {
   "cell_type": "markdown",
   "metadata": {},
   "source": [
    "## Compare Catalog Values for a List of GS IDs"
   ]
  },
  {
   "cell_type": "markdown",
   "metadata": {},
   "source": [
    "For the case where we are stacked and will be running guiding with multiple possible guide stars, we may want to test a large list of guide star IDs to check their discrepancies between Guide Star Catalogs.\n",
    "\n",
    "From discussions with the FGS SI team, we decided that an acceptable cut off for useable guide star IDs were ones where the percent difference between the new and old catalog was not greater than 50%. This is not a perfect system, but we have seen success with 50% changes in the past. \n",
    "\n",
    "Below is code that will check and print out all the stars with some discrepancy and then all the stars that do not meet this 50% requirement"
   ]
  },
  {
   "cell_type": "code",
   "execution_count": 14,
   "metadata": {},
   "outputs": [
    {
     "name": "stdout",
     "output_type": "stream",
     "text": [
      "The total number of unique guide star IDs in this visit file is 27\n"
     ]
    }
   ],
   "source": [
    "# Paste the GSIDs from the Guide Star Report in between the sets of quotes\n",
    "# Seperate the IDs by spaces/enters (remove any commas/non-ID words) and the code will figure it out\n",
    "\n",
    "guide_star_id_list =\"\"\"\n",
    "\n",
    "S1HP000309   S1HP082727  S1HP083237  S1HP083463  S1HP627502  S1HP627527\n",
    "S1HP082727    S1HP000309  S1HP082389  S1HP627502  S1HP627527  S1HP699282\n",
    "S1HP082311    S1HP081346  S1HP082130  S1HP627651  S1HP699293\n",
    "S1HP735867   S1HP088978  S1HP736126\n",
    "S1HP078292 \n",
    "S1HP078629  \n",
    "\n",
    "S1HP620356   \n",
    "S1HP085881    S1HP086094  S1HP627328\n",
    "S1HP086094    S1HP085881  S1HP627351\n",
    "S1HP084514  \n",
    "S1HP082254  S1HP082573  S1HP738376\n",
    "\n",
    "\"\"\".split()\n",
    "guide_star_id_list = np.unique(guide_star_id_list)\n",
    "\n",
    "print(f\"The total number of unique guide star IDs in this visit file is {len(guide_star_id_list)}\")"
   ]
  },
  {
   "cell_type": "code",
   "execution_count": 15,
   "metadata": {},
   "outputs": [
    {
     "name": "stdout",
     "output_type": "stream",
     "text": [
      "Printing all differences in ID catalog values > 0.1 or IDs that cannot be checked\n",
      "For Guider 1\n",
      "  GS ID: S1HP000309 has a difference of 0.13608408619410817 magnitudes\n",
      "  GS ID: S1HP078292 has a difference of 0.10185501915592177 magnitudes\n",
      "  GS ID: S1HP078629 has a difference of 0.10266664066728381 magnitudes\n",
      "  GS ID: S1HP082389 has a difference of 0.10436240080485604 magnitudes\n",
      "  GS ID: S1HP082573 has a difference of 0.101002588711534 magnitudes\n",
      "  GS ID: S1HP082727 has a difference of 0.11519336769069 magnitudes\n",
      "  GS ID: S1HP083237 has a difference of 0.1556625018529143 magnitudes\n",
      "  GS ID: S1HP083463 has a difference of 0.10237993053448058 magnitudes\n",
      "  GS ID: S1HP084514 has a difference of 0.11944099741995018 magnitudes\n",
      "  GS ID: S1HP085881 has a difference of 0.16996259387309998 magnitudes\n",
      "  GS ID: S1HP620356 Error is No guide stars match these requirements in catalog GSC23\n",
      "  GS ID: S1HP627328 Error is No guide stars match these requirements in catalog GSC23\n",
      "  GS ID: S1HP627351 Error is No guide stars match these requirements in catalog GSC23\n",
      "  GS ID: S1HP627502 Error is No guide stars match these requirements in catalog GSC23\n",
      "  GS ID: S1HP627527 Error is No guide stars match these requirements in catalog GSC23\n",
      "  GS ID: S1HP627651 Error is No guide stars match these requirements in catalog GSC23\n",
      "  GS ID: S1HP699282 Error is No guide stars match these requirements in catalog GSC23\n",
      "  GS ID: S1HP699293 Error is No guide stars match these requirements in catalog GSC23\n",
      "  GS ID: S1HP735867 Error is No guide stars match these requirements in catalog GSC23\n",
      "  GS ID: S1HP736126 Error is No guide stars match these requirements in catalog GSC23\n",
      "  GS ID: S1HP738376 Error is No guide stars match these requirements in catalog GSC23\n",
      "For Guider 2\n",
      "  GS ID: S1HP000309 has a difference of 0.16148298252107374 magnitudes\n",
      "  GS ID: S1HP078629 has a difference of 0.10759964286958734 magnitudes\n",
      "  GS ID: S1HP082389 has a difference of 0.10696648133979281 magnitudes\n",
      "  GS ID: S1HP082573 has a difference of 0.10034452120300585 magnitudes\n",
      "  GS ID: S1HP082727 has a difference of 0.12099233712693724 magnitudes\n",
      "  GS ID: S1HP083237 has a difference of 0.15477338529484364 magnitudes\n",
      "  GS ID: S1HP083463 has a difference of 0.10741287026823088 magnitudes\n",
      "  GS ID: S1HP084514 has a difference of 0.12344196740764701 magnitudes\n",
      "  GS ID: S1HP085881 has a difference of 0.1709584012385328 magnitudes\n",
      "  GS ID: S1HP620356 Error is No guide stars match these requirements in catalog GSC23\n",
      "  GS ID: S1HP627328 Error is No guide stars match these requirements in catalog GSC23\n",
      "  GS ID: S1HP627351 Error is No guide stars match these requirements in catalog GSC23\n",
      "  GS ID: S1HP627502 Error is No guide stars match these requirements in catalog GSC23\n",
      "  GS ID: S1HP627527 Error is No guide stars match these requirements in catalog GSC23\n",
      "  GS ID: S1HP627651 Error is No guide stars match these requirements in catalog GSC23\n",
      "  GS ID: S1HP699282 Error is No guide stars match these requirements in catalog GSC23\n",
      "  GS ID: S1HP699293 Error is No guide stars match these requirements in catalog GSC23\n",
      "  GS ID: S1HP735867 Error is No guide stars match these requirements in catalog GSC23\n",
      "  GS ID: S1HP736126 Error is No guide stars match these requirements in catalog GSC23\n",
      "  GS ID: S1HP738376 Error is No guide stars match these requirements in catalog GSC23\n"
     ]
    }
   ],
   "source": [
    "print('Printing all differences in ID catalog values > 0.1 or IDs that cannot be checked')\n",
    "for guider_number in [1,2]:\n",
    "    print(f'For Guider {guider_number}')\n",
    "    for guide_star_id in guide_star_id_list:\n",
    "        try:\n",
    "            fgs = fgscountrate.FGSCountrate(guide_star_id=guide_star_id, guider=guider_number) \n",
    "            count_rate_242, _, magnitude_242, _ = fgs.query_fgs_countrate_magnitude(catalog='GSC242')\n",
    "\n",
    "            fgs = fgscountrate.FGSCountrate(guide_star_id=guide_star_id, guider=guider_number) \n",
    "            count_rate_23, _, magnitude_23, _ = fgs.query_fgs_countrate_magnitude(catalog='GSC23')\n",
    "        except NameError as err:\n",
    "            print(f'  GS ID: {guide_star_id} Error is {str(err)}')\n",
    "            continue\n",
    "\n",
    "        if np.abs(magnitude_242 - magnitude_23) > 0.1:\n",
    "            print(f'  GS ID: {guide_star_id} has a difference of {np.abs(magnitude_242-magnitude_23)} magnitudes')"
   ]
  },
  {
   "cell_type": "code",
   "execution_count": 16,
   "metadata": {},
   "outputs": [
    {
     "name": "stdout",
     "output_type": "stream",
     "text": [
      "Printing all differences in ID catalog values > 50%\n",
      "For Guider 1\n",
      "For Guider 2\n"
     ]
    }
   ],
   "source": [
    "print('Printing all differences in ID catalog values > 50%')\n",
    "for guider_number in [1,2]:\n",
    "    print(f'For Guider {guider_number}')\n",
    "    for guide_star_id in guide_star_id_list:\n",
    "        try:\n",
    "            fgs = fgscountrate.FGSCountrate(guide_star_id=guide_star_id, guider=guider_number) \n",
    "            count_rate_242, _, magnitude_242, _ = fgs.query_fgs_countrate_magnitude(catalog='GSC242')\n",
    "\n",
    "            fgs = fgscountrate.FGSCountrate(guide_star_id=guide_star_id, guider=guider_number) \n",
    "            count_rate_23, _, magnitude_23, _ = fgs.query_fgs_countrate_magnitude(catalog='GSC23')\n",
    "        except NameError as err:\n",
    "            continue\n",
    "\n",
    "        if np.abs((count_rate_242 - count_rate_23)/count_rate_23) > 0.5:\n",
    "            print(f' GS ID: {guide_star_id} has a % difference of {round((count_rate_242 - count_rate_23)/count_rate_23 * 100)}%')"
   ]
  },
  {
   "cell_type": "markdown",
   "metadata": {},
   "source": [
    "## About this notebook\n",
    "Author: K. Brooks\n",
    "Last updated: 19 February, 2022"
   ]
  },
  {
   "cell_type": "code",
   "execution_count": null,
   "metadata": {},
   "outputs": [],
   "source": []
  }
 ],
 "metadata": {
  "kernelspec": {
   "display_name": "Python 3 (ipykernel)",
   "language": "python",
   "name": "python3"
  },
  "language_info": {
   "codemirror_mode": {
    "name": "ipython",
    "version": 3
   },
   "file_extension": ".py",
   "mimetype": "text/x-python",
   "name": "python",
   "nbconvert_exporter": "python",
   "pygments_lexer": "ipython3",
   "version": "3.9.7"
  }
 },
 "nbformat": 4,
 "nbformat_minor": 2
}
