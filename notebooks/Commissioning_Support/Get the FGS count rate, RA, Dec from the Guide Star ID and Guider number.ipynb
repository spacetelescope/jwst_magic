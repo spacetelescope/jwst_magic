{
 "cells": [
  {
   "cell_type": "markdown",
   "metadata": {},
   "source": [
    "# Grab the FGS count rate, RA, and Dec for the Guide Star in the Guider being used"
   ]
  },
  {
   "cell_type": "markdown",
   "metadata": {},
   "source": [
    "First import the `fgscountrate` tool which will enable use to get the FGS count rate, RA, and Dec of the guide star, and any other information that comes from the Guide Star Catalog."
   ]
  },
  {
   "cell_type": "code",
   "execution_count": 1,
   "metadata": {},
   "outputs": [],
   "source": [
    "import fgscountrate"
   ]
  },
  {
   "cell_type": "markdown",
   "metadata": {},
   "source": [
    "Give the Guide Star ID and the guider being used for this observation"
   ]
  },
  {
   "cell_type": "code",
   "execution_count": 2,
   "metadata": {},
   "outputs": [],
   "source": [
    "guide_star_id = 'S4FM000115' # Replace this with the actual Guide Star ID for this observation\n",
    "guider_number = 1 # Replace this with the guider number used for this observation"
   ]
  },
  {
   "cell_type": "markdown",
   "metadata": {},
   "source": [
    "## Get the Count Rate "
   ]
  },
  {
   "cell_type": "markdown",
   "metadata": {},
   "source": [
    "Run the following cells to get the FGS count rate of this guide star"
   ]
  },
  {
   "cell_type": "code",
   "execution_count": 3,
   "metadata": {},
   "outputs": [],
   "source": [
    "fgs = fgscountrate.FGSCountrate(guide_star_id=guide_star_id, guider=guider_number) \n",
    "count_rate, _, magnitude, _ = fgs.query_fgs_countrate_magnitude()"
   ]
  },
  {
   "cell_type": "code",
   "execution_count": 4,
   "metadata": {},
   "outputs": [
    {
     "name": "stdout",
     "output_type": "stream",
     "text": [
      "10206451.505541924\n"
     ]
    }
   ],
   "source": [
    "print(count_rate)"
   ]
  },
  {
   "cell_type": "code",
   "execution_count": 5,
   "metadata": {},
   "outputs": [
    {
     "name": "stdout",
     "output_type": "stream",
     "text": [
      "11.403501896300469\n"
     ]
    }
   ],
   "source": [
    "print(magnitude)"
   ]
  },
  {
   "cell_type": "markdown",
   "metadata": {},
   "source": [
    "## Get the RA and Dec"
   ]
  },
  {
   "cell_type": "markdown",
   "metadata": {},
   "source": [
    "Run the following cells to get the RA and Dec. Note that the data frame that is passed back has a lot of information that might be helpful to you. "
   ]
  },
  {
   "cell_type": "code",
   "execution_count": 5,
   "metadata": {},
   "outputs": [],
   "source": [
    "data_frame = fgscountrate.utils.query_gsc(gs_id=guide_star_id)"
   ]
  },
  {
   "cell_type": "code",
   "execution_count": 6,
   "metadata": {},
   "outputs": [
    {
     "data": {
      "text/html": [
       "<div>\n",
       "<style scoped>\n",
       "    .dataframe tbody tr th:only-of-type {\n",
       "        vertical-align: middle;\n",
       "    }\n",
       "\n",
       "    .dataframe tbody tr th {\n",
       "        vertical-align: top;\n",
       "    }\n",
       "\n",
       "    .dataframe thead th {\n",
       "        text-align: right;\n",
       "    }\n",
       "</style>\n",
       "<table border=\"1\" class=\"dataframe\">\n",
       "  <thead>\n",
       "    <tr style=\"text-align: right;\">\n",
       "      <th></th>\n",
       "      <th>hstID</th>\n",
       "      <th>gsc1ID</th>\n",
       "      <th>gsc2ID</th>\n",
       "      <th>GAIAdr1sourceID</th>\n",
       "      <th>GAIAdr2sourceID</th>\n",
       "      <th>ra</th>\n",
       "      <th>dec</th>\n",
       "      <th>epoch</th>\n",
       "      <th>raErr</th>\n",
       "      <th>decErr</th>\n",
       "      <th>...</th>\n",
       "      <th>NUVMag</th>\n",
       "      <th>NUVMagErr</th>\n",
       "      <th>NUVMagCode</th>\n",
       "      <th>NUVmagSource</th>\n",
       "      <th>gsc2semiMajorAxis</th>\n",
       "      <th>gsc2eccentricity</th>\n",
       "      <th>gsc2positionAngle</th>\n",
       "      <th>sourceStatus</th>\n",
       "      <th>mag</th>\n",
       "      <th>objID</th>\n",
       "    </tr>\n",
       "  </thead>\n",
       "  <tbody>\n",
       "    <tr>\n",
       "      <th>0</th>\n",
       "      <td>S4FM000115</td>\n",
       "      <td>889901813</td>\n",
       "      <td>S1121302115</td>\n",
       "      <td>5478847646431635328</td>\n",
       "      <td>5478847646431635328</td>\n",
       "      <td>102.439922</td>\n",
       "      <td>-62.021421</td>\n",
       "      <td>2015.5</td>\n",
       "      <td>0.000012</td>\n",
       "      <td>0.000016</td>\n",
       "      <td>...</td>\n",
       "      <td>-999.0</td>\n",
       "      <td>-999.0</td>\n",
       "      <td>-999.0</td>\n",
       "      <td>-999.0</td>\n",
       "      <td>5.28807</td>\n",
       "      <td>0.08958</td>\n",
       "      <td>42.0624</td>\n",
       "      <td>101011205</td>\n",
       "      <td>13.283779</td>\n",
       "      <td>21121302115</td>\n",
       "    </tr>\n",
       "  </tbody>\n",
       "</table>\n",
       "<p>1 rows × 154 columns</p>\n",
       "</div>"
      ],
      "text/plain": [
       "         hstID     gsc1ID       gsc2ID      GAIAdr1sourceID  \\\n",
       "0  S4FM000115   889901813  S1121302115  5478847646431635328   \n",
       "\n",
       "       GAIAdr2sourceID          ra        dec   epoch     raErr    decErr  \\\n",
       "0  5478847646431635328  102.439922 -62.021421  2015.5  0.000012  0.000016   \n",
       "\n",
       "   ...  NUVMag  NUVMagErr  NUVMagCode  NUVmagSource  gsc2semiMajorAxis  \\\n",
       "0  ...  -999.0     -999.0      -999.0        -999.0            5.28807   \n",
       "\n",
       "   gsc2eccentricity  gsc2positionAngle  sourceStatus        mag        objID  \n",
       "0           0.08958            42.0624     101011205  13.283779  21121302115  \n",
       "\n",
       "[1 rows x 154 columns]"
      ]
     },
     "execution_count": 6,
     "metadata": {},
     "output_type": "execute_result"
    }
   ],
   "source": [
    "data_frame"
   ]
  },
  {
   "cell_type": "code",
   "execution_count": 7,
   "metadata": {},
   "outputs": [],
   "source": [
    "ra = data_frame['ra'].values[0]\n",
    "dec = data_frame['dec'].values[0]"
   ]
  },
  {
   "cell_type": "code",
   "execution_count": 8,
   "metadata": {},
   "outputs": [
    {
     "name": "stdout",
     "output_type": "stream",
     "text": [
      "RA: 102.43992218415\n",
      "Dec: -62.0214206990925\n"
     ]
    }
   ],
   "source": [
    "print(f\"RA: {ra}\")\n",
    "print(f\"Dec: {dec}\")"
   ]
  },
  {
   "cell_type": "markdown",
   "metadata": {},
   "source": [
    "## About this notebook\n",
    "Author: K. Brooks\n",
    "Last updated: 21 July, 2021"
   ]
  }
 ],
 "metadata": {
  "kernelspec": {
   "display_name": "Python 3 (ipykernel)",
   "language": "python",
   "name": "python3"
  },
  "language_info": {
   "codemirror_mode": {
    "name": "ipython",
    "version": 3
   },
   "file_extension": ".py",
   "mimetype": "text/x-python",
   "name": "python",
   "nbconvert_exporter": "python",
   "pygments_lexer": "ipython3",
   "version": "3.7.11"
  }
 },
 "nbformat": 4,
 "nbformat_minor": 2
}
