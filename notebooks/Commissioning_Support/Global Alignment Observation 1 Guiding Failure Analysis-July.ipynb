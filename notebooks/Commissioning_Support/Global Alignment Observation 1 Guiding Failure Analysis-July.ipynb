{
 "cells": [
  {
   "cell_type": "markdown",
   "metadata": {},
   "source": [
    "<font><div><center> \n",
    "# Failure during Observation 1 of Global Alignment\n",
    "</center></div></font> "
   ]
  },
  {
   "cell_type": "markdown",
   "metadata": {},
   "source": [
    "This notebook is for the case that guiding fails during Global Alignment (1 or 2) observation 1 due to a failure of ID, ACQ, or TRK when trying for the 2nd or 3rd to engage closed-loop guiding. "
   ]
  },
  {
   "cell_type": "markdown",
   "metadata": {},
   "source": [
    "This notebook currently has this set up with GA 1 and GA 2 data from MIRAGE. If you need to use this for commissioning, save a copy of this notebook and replace the indicated options in the cell below with the necessary information."
   ]
  },
  {
   "cell_type": "code",
   "execution_count": 1,
   "metadata": {},
   "outputs": [],
   "source": [
    "# Import necessary packages\n",
    "\n",
    "# Standard Library\n",
    "from glob import glob\n",
    "import os\n",
    "from io import StringIO\n",
    "\n",
    "# Third Party Packages\n",
    "from astropy.io import fits\n",
    "import matplotlib.pyplot as plt\n",
    "from matplotlib.colors import LogNorm\n",
    "import numpy as np\n",
    "import pandas as pd\n",
    "\n",
    "%matplotlib inline"
   ]
  },
  {
   "cell_type": "markdown",
   "metadata": {},
   "source": [
    "# Guiding Failure in OTE-07 Observation 1\n",
    "\n",
    "* [Parameters to change](##Parameters-to-change)\n",
    "\n"
   ]
  },
  {
   "cell_type": "markdown",
   "metadata": {},
   "source": [
    "<font color='Tomato'> <div style='background-color: rgba(255, 99, 71, 0.3)'><center> \n",
    "##    \n",
    "## You will not be able to run this notebook without changing the below parameters\n",
    "##    \n",
    "</center></div></font>"
   ]
  },
  {
   "cell_type": "markdown",
   "metadata": {},
   "source": [
    "<font><div><center> \n",
    "## Parameters to change \n",
    "</center></div></font>  "
   ]
  },
  {
   "cell_type": "markdown",
   "metadata": {},
   "source": [
    "To run this notebook for your data set where guiding has failed, you will need to change the parameters in the call below to match your data. This notebook is set up such that this is the ONLY cell you should have to update. "
   ]
  },
  {
   "cell_type": "code",
   "execution_count": 126,
   "metadata": {},
   "outputs": [],
   "source": [
    "# Values that have been set in MAGIC\n",
    "\n",
    "threshold = .6  # Value in MAGIC to set the count rate threshold\n",
    "guider = 1  # FGS dectector that will be used for observation 1 -- this will always be 1 for OTE-07/GA1\n",
    "nrc_detector = 'A3'  # NIRCam detector used for NIRCam observations"
   ]
  },
  {
   "cell_type": "code",
   "execution_count": 138,
   "metadata": {},
   "outputs": [],
   "source": [
    "# Information about the command used to for the override\n",
    "\n",
    "# Out Directory passed intp MAGIC\n",
    "commanded_out_dir = '/Users/kbrooks/git_repos/jwst-magic-fork/out/ga_contingency/' \n",
    "\n",
    "# Root passed into MAGIC\n",
    "root_psuedo_fgs = 'for_ote07_obs1'\n",
    "\n",
    "# Number associated with the config used for the commands. Expecting up to 3\n",
    "config_numbers = [1, 2, 3]"
   ]
  },
  {
   "cell_type": "code",
   "execution_count": 59,
   "metadata": {},
   "outputs": [],
   "source": [
    "# The location of data from the observatory\n",
    "failed_observation_products = '/Users/kbrooks/git_repos/jwst-magic-fork/out/ga_contingency/data_products'\n",
    "\n",
    "# For each step where you have the data, provide the filename of the images in the above directory\n",
    "# It's likely that the below filenames are already correct, but be sure to check them!\n",
    "# If you do not have all of this data, you can delete the file name or comment out the line\n",
    "\n",
    "#  --Before the first mirror move--\n",
    "nrc_track_1_filename = 'jw01141001001_02101_00001_nrca3_cal.fits'\n",
    "\n",
    "#  --After the first mirror move--\n",
    "nrc_coarse_1_filename = 'jw01141001001_02101_00002_nrca3_cal.fits'\n",
    "fgs_coarse_1_filename = 'jw01141001001_03101_00001_g1_cal.fits'\n",
    "nrc_track_2_filename = 'jw01141001001_05101_00001_nrca3_cal.fits'\n",
    "\n",
    "#  --After the first mirror move--\n",
    "nrc_coarse_2_filename = 'jw01141001001_05101_00002_nrca3_cal.fits'\n",
    "fgs_coarse_2_filename = 'jw01141001001_06101_00001_g1_cal.fits'\n"
   ]
  },
  {
   "cell_type": "code",
   "execution_count": 25,
   "metadata": {},
   "outputs": [
    {
     "name": "stdout",
     "output_type": "stream",
     "text": [
      "/Users/kbrooks/git_repos/jwst-magic-fork/out/ga_contingency/data_products/idSim_cfg_default_20210713_164854.bobj\n"
     ]
    }
   ],
   "source": [
    "# The bright object list that will come out of running the failed ID strips through DHAS\n",
    "bright_object_list_config1 = glob(os.path.join(failed_observation_products, 'idSim_cfg_default_*.bobj'))[0]\n",
    "print(bright_object_list_config1)"
   ]
  },
  {
   "cell_type": "code",
   "execution_count": 26,
   "metadata": {},
   "outputs": [],
   "source": [
    "# CAR information \n",
    "program_id = 1141 # GA1; use 1151 for GA2\n",
    "observation = 1"
   ]
  },
  {
   "cell_type": "markdown",
   "metadata": {},
   "source": [
    "<font color='DodgerBlue'> <div style='background-color: rgba(30, 144, 255, 0.3)'><center> \n",
    "##    \n",
    "## Run the following cells without changing them\n",
    "##    \n",
    "</center></div></font>"
   ]
  },
  {
   "cell_type": "markdown",
   "metadata": {},
   "source": [
    "<font><div><center> \n",
    "### Set up mapping between segment names and MAGIC's labelling \n",
    "</center></div></font>  "
   ]
  },
  {
   "cell_type": "markdown",
   "metadata": {},
   "source": [
    "**Guider 1**\n",
    "\n",
    "<table><tr><td><img src=\"../g1_psf_orientation_raw_magic.png\" style=\"width: 400px;\"></td><td><img src=\"../JWSTgrid_side.png\" style=\"width: 400px;\"></td></tr></table>"
   ]
  },
  {
   "cell_type": "code",
   "execution_count": 27,
   "metadata": {},
   "outputs": [],
   "source": [
    "# Do not change this cell\n",
    "\n",
    "# MAGIC segment labels to segment naming map\n",
    "segment_map_g1 = {\"A\":\"B4-13\", \"B\":\"C4-14\", \"C\":\"C3-12\", \"D\":\"B5-15\",\n",
    "                  \"E\":\"A4-4\", \"F\":\"B3-11\", \"G\":\"A5-5\", \"H\":\"A3-3\", \n",
    "                  \"I\":\"C5-16\", \"J\":\"C2-10\", \"K\":\"A6-6\", \"L\":\"A2-2\", \n",
    "                  \"M\":\"B6-17\", \"N\":\"A1-1\", \"O\":\"B2-9\", \"P\":\"C6-18\", \n",
    "                  \"Q\":\"C1-8\", \"R\":\"B1-7\"}"
   ]
  },
  {
   "cell_type": "markdown",
   "metadata": {},
   "source": [
    "**Guider 2**\n",
    "\n",
    "<table><tr><td><img src=\"../g2_psf_orientation_raw_magic.png\" style=\"width: 400px;\"></td><td><img src=\"../JWSTgrid_side.png\" style=\"width: 400px;\"></td></tr></table>"
   ]
  },
  {
   "cell_type": "code",
   "execution_count": 29,
   "metadata": {},
   "outputs": [],
   "source": [
    "# Do not change this cell\n",
    "\n",
    "# MAGIC segment labels to segment naming map\n",
    "segment_map_g2 = {\"A\":\"B1-7\", \"B\":\"C6-18\", \"C\":\"C1-8\", \"D\":\"B6-17\",\n",
    "                  \"E\":\"A1-1\", \"F\":\"B2-9\", \"G\":\"A6-6\", \"H\":\"A2-2\", \n",
    "                  \"I\":\"C5-16\", \"J\":\"C2-10\", \"K\":\"A5-5\", \"L\":\"A3-3\", \n",
    "                  \"M\":\"B5-15\", \"N\":\"A4-4\", \"O\":\"B3-11\", \"P\":\"C4-14\", \n",
    "                  \"Q\":\"C3-12\", \"R\":\"B4-13\"}"
   ]
  },
  {
   "cell_type": "code",
   "execution_count": 30,
   "metadata": {},
   "outputs": [],
   "source": [
    "# Do not change these variables\n",
    "if guider==1:\n",
    "    segment_map = segment_map_g1\n",
    "elif guider==2:\n",
    "    segment_map = segment_map_g2\n",
    "else:\n",
    "    raise ValueError('There are only two guiders. Please provide \"1\" or \"2\" for the guider variable')"
   ]
  },
  {
   "cell_type": "markdown",
   "metadata": {},
   "source": [
    "<font><div><center> \n",
    "# Examine the data from the failed observation\n",
    "</center></div></font>  "
   ]
  },
  {
   "cell_type": "markdown",
   "metadata": {},
   "source": [
    "All of the data below is in the SCI frame which is different from the frame the the MAGIC products are in. The plots below are informative *only* and are not meant to be used to extrapolate information."
   ]
  },
  {
   "cell_type": "code",
   "execution_count": 142,
   "metadata": {},
   "outputs": [],
   "source": [
    "# Open the images\n",
    "try: \n",
    "    nircam_track_1 = fits.getdata(os.path.join(failed_observation_products, nrc_track_1_filename))\n",
    "\n",
    "    nircam_coarse_1 = fits.getdata(os.path.join(failed_observation_products, nrc_coarse_1_filename))\n",
    "    fgs_coarse_1 = fits.getdata(os.path.join(failed_observation_products, fgs_coarse_1_filename))\n",
    "    try:  \n",
    "        nircam_track_2 = fits.getdata(os.path.join(failed_observation_products, nrc_track_2_filename))\n",
    "        mirror_move_2 = True\n",
    "    except (FileNotFoundError, IsADirectoryError):\n",
    "        print('Observation failed to get into track after first mirror move')\n",
    "        mirror_move_2 = False\n",
    "\n",
    "    if mirror_move_2:\n",
    "        nircam_coarse_2 = fits.getdata(os.path.join(failed_observation_products, nrc_coarse_2_filename))\n",
    "        fgs_coarse_2 = fits.getdata(os.path.join(failed_observation_products, fgs_coarse_2_filename))\n",
    "except (FileNotFoundError, IsADirectoryError):\n",
    "    print('Observation failed to get into track on the first attempt. Only guider data will be available.')"
   ]
  },
  {
   "cell_type": "code",
   "execution_count": 143,
   "metadata": {},
   "outputs": [
    {
     "data": {
      "image/png": "[encoded data removed]",
      "text/plain": [
       "<Figure size 1296x432 with 3 Axes>"
      ]
     },
     "metadata": {
      "needs_background": "light"
     },
     "output_type": "display_data"
    },
    {
     "data": {
      "image/png": "[encoded data removed]",
      "text/plain": [
       "<Figure size 1296x432 with 3 Axes>"
      ]
     },
     "metadata": {
      "needs_background": "light"
     },
     "output_type": "display_data"
    },
    {
     "data": {
      "image/png": "[encoded data removed]",
      "text/plain": [
       "<Figure size 1296x432 with 3 Axes>"
      ]
     },
     "metadata": {
      "needs_background": "light"
     },
     "output_type": "display_data"
    }
   ],
   "source": [
    "# Plot images\n",
    "try:\n",
    "    fig, ax = plt.subplots(1, 3, figsize=(18, 6))\n",
    "    ax[0].imshow(nircam_track_1, cmap='Blues_r', vmin=0, vmax=10000, origin='lower')\n",
    "    ax[0].set_title('NIRCam TRACK 1')\n",
    "    ax[0].axis('off')\n",
    "    ax[1].axis('off')\n",
    "    ax[2].axis('off')\n",
    "    fig.suptitle(\"Before Secondary Mirror Moves\")\n",
    "    plt.show()\n",
    "\n",
    "    fig, ax = plt.subplots(1, 3, figsize=(18, 6))\n",
    "\n",
    "    ax[0].imshow(nircam_coarse_1, cmap='Blues_r', vmin=0, vmax=10000, origin='lower')\n",
    "    ax[0].set_title('NIRCam COARSE 1')\n",
    "    ax[0].axis('off')\n",
    "    ax[1].imshow(fgs_coarse_1, cmap='Blues_r', vmin=0, vmax=50, origin='lower')\n",
    "    ax[1].set_title('FGS COARSE 1')\n",
    "    ax[1].axis('off')\n",
    "    fig.suptitle(\"After first Secondary Mirror Move\")\n",
    "\n",
    "    try:\n",
    "        ax[2].imshow(nircam_track_2, cmap='Blues_r', vmin=0, vmax=10000, origin='lower')\n",
    "        ax[2].set_title('NIRCam TRACK 2')\n",
    "        ax[2].axis('off')\n",
    "        plt.show()\n",
    "\n",
    "        fig, ax = plt.subplots(1, 3, figsize=(18, 6))\n",
    "\n",
    "        ax[0].imshow(nircam_coarse_2, cmap='Blues_r', vmin=0, vmax=10000, origin='lower')\n",
    "        ax[0].set_title('NIRCam COARSE 2')\n",
    "        ax[0].axis('off')\n",
    "        ax[1].imshow(fgs_coarse_2, cmap='Blues_r', vmin=0, vmax=50, origin='lower')\n",
    "        ax[1].set_title('FGS COARSE 2')\n",
    "        ax[1].axis('off')\n",
    "        ax[2].axis('off')\n",
    "        fig.suptitle(\"After second Secondary Mirror Move\")\n",
    "    except NameError:\n",
    "        plt.show()\n",
    "except NameError:\n",
    "    print('No full frame data NIRCam or FGS to show')"
   ]
  },
  {
   "cell_type": "markdown",
   "metadata": {},
   "source": [
    "<font><div><center> \n",
    "#  Compare the Guiding Selections with the Bright Object List\n",
    "</center></div></font>\n",
    "    \n",
    "Take the ID strips for a failed run (from sky/MAST) and run them through the DAHS to get bright object list Compare the bright object list to the command"
   ]
  },
  {
   "cell_type": "markdown",
   "metadata": {},
   "source": [
    "## Bright Object List"
   ]
  },
  {
   "cell_type": "code",
   "execution_count": 80,
   "metadata": {},
   "outputs": [
    {
     "data": {
      "text/plain": [
       "'/Users/kbrooks/git_repos/jwst-magic-fork/out/ga_contingency/out/ote07_obs1_fgs_coarse1/guiding_config_1/dhas_shifted/idSim_cfg_default_20210713_164854.bobj'"
      ]
     },
     "execution_count": 80,
     "metadata": {},
     "output_type": "execute_result"
    }
   ],
   "source": [
    "# Print the bright object list filename\n",
    "bright_object_list"
   ]
  },
  {
   "cell_type": "code",
   "execution_count": 81,
   "metadata": {},
   "outputs": [
    {
     "data": {
      "text/html": [
       "<div>\n",
       "<style scoped>\n",
       "    .dataframe tbody tr th:only-of-type {\n",
       "        vertical-align: middle;\n",
       "    }\n",
       "\n",
       "    .dataframe tbody tr th {\n",
       "        vertical-align: top;\n",
       "    }\n",
       "\n",
       "    .dataframe thead th {\n",
       "        text-align: right;\n",
       "    }\n",
       "</style>\n",
       "<table border=\"1\" class=\"dataframe\">\n",
       "  <thead>\n",
       "    <tr style=\"text-align: right;\">\n",
       "      <th></th>\n",
       "      <th>Cand#</th>\n",
       "      <th>Strip#</th>\n",
       "      <th>CDS#</th>\n",
       "      <th>FPA Row (pixels)</th>\n",
       "      <th>FPA Column (pixels)</th>\n",
       "      <th>FPA Peak Signal (counts)</th>\n",
       "      <th>FPA Count Sum (counts)</th>\n",
       "    </tr>\n",
       "  </thead>\n",
       "  <tbody>\n",
       "    <tr>\n",
       "      <th>0</th>\n",
       "      <td>0</td>\n",
       "      <td>27</td>\n",
       "      <td>1</td>\n",
       "      <td>1508</td>\n",
       "      <td>1118</td>\n",
       "      <td>1194</td>\n",
       "      <td>7792</td>\n",
       "    </tr>\n",
       "    <tr>\n",
       "      <th>1</th>\n",
       "      <td>1</td>\n",
       "      <td>30</td>\n",
       "      <td>1</td>\n",
       "      <td>1668</td>\n",
       "      <td>1208</td>\n",
       "      <td>1016</td>\n",
       "      <td>7289</td>\n",
       "    </tr>\n",
       "    <tr>\n",
       "      <th>2</th>\n",
       "      <td>2</td>\n",
       "      <td>21</td>\n",
       "      <td>2</td>\n",
       "      <td>1183</td>\n",
       "      <td>1116</td>\n",
       "      <td>997</td>\n",
       "      <td>7404</td>\n",
       "    </tr>\n",
       "    <tr>\n",
       "      <th>3</th>\n",
       "      <td>3</td>\n",
       "      <td>27</td>\n",
       "      <td>2</td>\n",
       "      <td>1502</td>\n",
       "      <td>1301</td>\n",
       "      <td>1180</td>\n",
       "      <td>6853</td>\n",
       "    </tr>\n",
       "    <tr>\n",
       "      <th>4</th>\n",
       "      <td>4</td>\n",
       "      <td>24</td>\n",
       "      <td>1</td>\n",
       "      <td>1343</td>\n",
       "      <td>1209</td>\n",
       "      <td>1109</td>\n",
       "      <td>6316</td>\n",
       "    </tr>\n",
       "    <tr>\n",
       "      <th>5</th>\n",
       "      <td>5</td>\n",
       "      <td>30</td>\n",
       "      <td>2</td>\n",
       "      <td>1674</td>\n",
       "      <td>1028</td>\n",
       "      <td>883</td>\n",
       "      <td>6039</td>\n",
       "    </tr>\n",
       "    <tr>\n",
       "      <th>6</th>\n",
       "      <td>6</td>\n",
       "      <td>21</td>\n",
       "      <td>1</td>\n",
       "      <td>1177</td>\n",
       "      <td>1302</td>\n",
       "      <td>839</td>\n",
       "      <td>5667</td>\n",
       "    </tr>\n",
       "    <tr>\n",
       "      <th>7</th>\n",
       "      <td>7</td>\n",
       "      <td>24</td>\n",
       "      <td>1</td>\n",
       "      <td>1340</td>\n",
       "      <td>1392</td>\n",
       "      <td>750</td>\n",
       "      <td>4678</td>\n",
       "    </tr>\n",
       "    <tr>\n",
       "      <th>8</th>\n",
       "      <td>8</td>\n",
       "      <td>18</td>\n",
       "      <td>2</td>\n",
       "      <td>1018</td>\n",
       "      <td>1208</td>\n",
       "      <td>595</td>\n",
       "      <td>4116</td>\n",
       "    </tr>\n",
       "    <tr>\n",
       "      <th>9</th>\n",
       "      <td>9</td>\n",
       "      <td>30</td>\n",
       "      <td>2</td>\n",
       "      <td>1682</td>\n",
       "      <td>836</td>\n",
       "      <td>388</td>\n",
       "      <td>2440</td>\n",
       "    </tr>\n",
       "    <tr>\n",
       "      <th>10</th>\n",
       "      <td>10</td>\n",
       "      <td>19</td>\n",
       "      <td>2</td>\n",
       "      <td>1029</td>\n",
       "      <td>841</td>\n",
       "      <td>335</td>\n",
       "      <td>2371</td>\n",
       "    </tr>\n",
       "    <tr>\n",
       "      <th>11</th>\n",
       "      <td>11</td>\n",
       "      <td>18</td>\n",
       "      <td>2</td>\n",
       "      <td>1025</td>\n",
       "      <td>1024</td>\n",
       "      <td>311</td>\n",
       "      <td>2059</td>\n",
       "    </tr>\n",
       "    <tr>\n",
       "      <th>12</th>\n",
       "      <td>12</td>\n",
       "      <td>19</td>\n",
       "      <td>2</td>\n",
       "      <td>1028</td>\n",
       "      <td>1210</td>\n",
       "      <td>241</td>\n",
       "      <td>1678</td>\n",
       "    </tr>\n",
       "  </tbody>\n",
       "</table>\n",
       "</div>"
      ],
      "text/plain": [
       "    Cand#  Strip#  CDS#  FPA Row (pixels)  FPA Column (pixels)  \\\n",
       "0       0      27     1              1508                 1118   \n",
       "1       1      30     1              1668                 1208   \n",
       "2       2      21     2              1183                 1116   \n",
       "3       3      27     2              1502                 1301   \n",
       "4       4      24     1              1343                 1209   \n",
       "5       5      30     2              1674                 1028   \n",
       "6       6      21     1              1177                 1302   \n",
       "7       7      24     1              1340                 1392   \n",
       "8       8      18     2              1018                 1208   \n",
       "9       9      30     2              1682                  836   \n",
       "10     10      19     2              1029                  841   \n",
       "11     11      18     2              1025                 1024   \n",
       "12     12      19     2              1028                 1210   \n",
       "\n",
       "    FPA Peak Signal (counts)   FPA Count Sum (counts)  \n",
       "0                       1194                     7792  \n",
       "1                       1016                     7289  \n",
       "2                        997                     7404  \n",
       "3                       1180                     6853  \n",
       "4                       1109                     6316  \n",
       "5                        883                     6039  \n",
       "6                        839                     5667  \n",
       "7                        750                     4678  \n",
       "8                        595                     4116  \n",
       "9                        388                     2440  \n",
       "10                       335                     2371  \n",
       "11                       311                     2059  \n",
       "12                       241                     1678  "
      ]
     },
     "execution_count": 81,
     "metadata": {},
     "output_type": "execute_result"
    }
   ],
   "source": [
    "# Read the bright object list into a table (Data Frame)\n",
    "bright_object_df = pd.read_csv(bright_object_list)\n",
    "\n",
    "# Display the table\n",
    "bright_object_df"
   ]
  },
  {
   "cell_type": "markdown",
   "metadata": {},
   "source": [
    "In the above dataframe, the 'FPA Column (pixels)' column corresponds to 'x', the 'FPA Row (pixels)' column corresponds to 'y', and the 'FPA Count Sum (counts)' is our 3x3 count rate that is labelled 'countrate' in the guiding selections file."
   ]
  },
  {
   "cell_type": "code",
   "execution_count": 148,
   "metadata": {},
   "outputs": [
    {
     "data": {
      "image/png": "[encoded data removed]",
      "text/plain": [
       "<Figure size 864x720 with 1 Axes>"
      ]
     },
     "metadata": {
      "needs_background": "light"
     },
     "output_type": "display_data"
    }
   ],
   "source": [
    "# Plot it\n",
    "plt.figure(figsize=(12, 10))\n",
    "plt.imshow(psuedo_fgs, cmap='Blues_r', vmin=0, vmax=1000, origin='lower')\n",
    "\n",
    "for i, (column, row) in enumerate(zip(bright_object_df['FPA Column (pixels)'].values, \n",
    "                                  bright_object_df['FPA Row (pixels)'].values)):\n",
    "    plt.annotate(i, (column, row), (column-20, row+20), color='white', fontsize=15)\n",
    "\n",
    "plt.title('Pseudo-FGS image for OTE-07 obs 1 with the bright objects found in DHAS')\n",
    "plt.show()"
   ]
  },
  {
   "cell_type": "markdown",
   "metadata": {},
   "source": [
    "### Guiding Selections for Guiding Configuration 1"
   ]
  },
  {
   "cell_type": "code",
   "execution_count": 145,
   "metadata": {},
   "outputs": [
    {
     "data": {
      "text/html": [
       "<div>\n",
       "<style scoped>\n",
       "    .dataframe tbody tr th:only-of-type {\n",
       "        vertical-align: middle;\n",
       "    }\n",
       "\n",
       "    .dataframe tbody tr th {\n",
       "        vertical-align: top;\n",
       "    }\n",
       "\n",
       "    .dataframe thead th {\n",
       "        text-align: right;\n",
       "    }\n",
       "</style>\n",
       "<table border=\"1\" class=\"dataframe\">\n",
       "  <thead>\n",
       "    <tr style=\"text-align: right;\">\n",
       "      <th></th>\n",
       "      <th>y</th>\n",
       "      <th>x</th>\n",
       "      <th>countrate</th>\n",
       "      <th>threshold</th>\n",
       "    </tr>\n",
       "  </thead>\n",
       "  <tbody>\n",
       "    <tr>\n",
       "      <th>0</th>\n",
       "      <td>1024.5</td>\n",
       "      <td>1024.5</td>\n",
       "      <td>30726.0</td>\n",
       "      <td>18435.6</td>\n",
       "    </tr>\n",
       "    <tr>\n",
       "      <th>1</th>\n",
       "      <td>1654.5</td>\n",
       "      <td>1216.5</td>\n",
       "      <td>26162.0</td>\n",
       "      <td>15697.2</td>\n",
       "    </tr>\n",
       "    <tr>\n",
       "      <th>2</th>\n",
       "      <td>1667.5</td>\n",
       "      <td>853.5</td>\n",
       "      <td>15204.0</td>\n",
       "      <td>9122.4</td>\n",
       "    </tr>\n",
       "  </tbody>\n",
       "</table>\n",
       "</div>"
      ],
      "text/plain": [
       "        y       x  countrate  threshold\n",
       "0  1024.5  1024.5    30726.0    18435.6\n",
       "1  1654.5  1216.5    26162.0    15697.2\n",
       "2  1667.5   853.5    15204.0     9122.4"
      ]
     },
     "execution_count": 145,
     "metadata": {},
     "output_type": "execute_result"
    }
   ],
   "source": [
    "# Guiding selections file\n",
    "# The first row is the guide star, subsequent rows are reference stars. Order of ref stars doesn't matter.\n",
    "commanded = pd.read_csv(os.path.join(out_dir, 'out', root_psuedo_fgs, f'guiding_config_{config_numbers[0]}',\n",
    "                        f'shifted_guiding_selections_{root_psuedo_fgs}_G{guider}_config{config_numbers[0]}.txt'),\n",
    "                        skiprows=1, delimiter=' ', names=['y', 'x', 'countrate'])\n",
    "\n",
    "# Add the count rate threshold to the table\n",
    "thresholds = threshold * commanded['countrate'].values\n",
    "\n",
    "commanded['threshold'] = thresholds\n",
    "\n",
    "# Display the table\n",
    "commanded"
   ]
  },
  {
   "cell_type": "code",
   "execution_count": 79,
   "metadata": {},
   "outputs": [
    {
     "data": {
      "image/png": "[encoded data removed]",
      "text/plain": [
       "<Figure size 864x720 with 1 Axes>"
      ]
     },
     "metadata": {
      "needs_background": "light"
     },
     "output_type": "display_data"
    }
   ],
   "source": [
    "# Plot our Psuedo FGS image with the guiding selections highlighted\n",
    "image_filename = os.path.join(out_dir, 'out', root_psuedo_fgs, 'guiding_config_1', 'FGS_imgs', \n",
    "                                   f'shifted_{root_psuedo_fgs}_G1_config1.fits')\n",
    "\n",
    "# Load in the image\n",
    "psuedo_fgs = fits.getdata(image_filename)\n",
    "\n",
    "# Plot it\n",
    "plt.figure(figsize=(12, 10))\n",
    "plt.imshow(psuedo_fgs, cmap='Blues_r', vmin=0, vmax=1000, origin='lower')\n",
    "plt.scatter(commanded['x'].values[0], commanded['y'].values[0], s=150, facecolors='none',  edgecolors='yellow',\n",
    "            linewidths=2.0, label='Guide Star')\n",
    "plt.scatter(commanded['x'].values[1:], commanded['y'].values[1:], s=150, facecolors='none',  edgecolors='C1',\n",
    "            linewidths=2.0, label=\"Reference Stars\")\n",
    "plt.legend()\n",
    "plt.title('Pseudo-FGS image for OTE-07 obs 1')\n",
    "plt.show()"
   ]
  },
  {
   "cell_type": "markdown",
   "metadata": {},
   "source": [
    "TODO: Use the mapping to tell us which segments this is?"
   ]
  },
  {
   "cell_type": "markdown",
   "metadata": {},
   "source": [
    "### Update the Commanded dataframe with the counts and threshold during ID - for comparison with the bright objects"
   ]
  },
  {
   "cell_type": "code",
   "execution_count": 75,
   "metadata": {},
   "outputs": [],
   "source": [
    "# Frame time for ID\n",
    "t_id = 0.3406 "
   ]
  },
  {
   "cell_type": "code",
   "execution_count": 124,
   "metadata": {},
   "outputs": [],
   "source": [
    "# Include counts for ID\n",
    "commanded_count_rates = commanded['countrate'].values\n",
    "commanded_counts_id = commanded_count_rates*t_id\n",
    "\n",
    "commanded['id counts'] = commanded_counts_id\n",
    "\n",
    "# Include thresholds for ID\n",
    "commanded_thresholds = commanded['thresholds'].values\n",
    "commanded_threshold_id = com_thresholds*t_id\n",
    "\n",
    "commanded['id threshold'] = com_threshold_id"
   ]
  },
  {
   "cell_type": "code",
   "execution_count": 125,
   "metadata": {},
   "outputs": [
    {
     "data": {
      "text/html": [
       "<div>\n",
       "<style scoped>\n",
       "    .dataframe tbody tr th:only-of-type {\n",
       "        vertical-align: middle;\n",
       "    }\n",
       "\n",
       "    .dataframe tbody tr th {\n",
       "        vertical-align: top;\n",
       "    }\n",
       "\n",
       "    .dataframe thead th {\n",
       "        text-align: right;\n",
       "    }\n",
       "</style>\n",
       "<table border=\"1\" class=\"dataframe\">\n",
       "  <thead>\n",
       "    <tr style=\"text-align: right;\">\n",
       "      <th></th>\n",
       "      <th>y</th>\n",
       "      <th>x</th>\n",
       "      <th>countrate</th>\n",
       "      <th>thresholds</th>\n",
       "      <th>id counts</th>\n",
       "      <th>id threshold</th>\n",
       "    </tr>\n",
       "  </thead>\n",
       "  <tbody>\n",
       "    <tr>\n",
       "      <th>0</th>\n",
       "      <td>1024.5</td>\n",
       "      <td>1024.5</td>\n",
       "      <td>30726.0</td>\n",
       "      <td>27653.4</td>\n",
       "      <td>10465.2756</td>\n",
       "      <td>9418.74804</td>\n",
       "    </tr>\n",
       "    <tr>\n",
       "      <th>1</th>\n",
       "      <td>1654.5</td>\n",
       "      <td>1216.5</td>\n",
       "      <td>26162.0</td>\n",
       "      <td>23545.8</td>\n",
       "      <td>8910.7772</td>\n",
       "      <td>8019.69948</td>\n",
       "    </tr>\n",
       "    <tr>\n",
       "      <th>2</th>\n",
       "      <td>1667.5</td>\n",
       "      <td>853.5</td>\n",
       "      <td>15204.0</td>\n",
       "      <td>13683.6</td>\n",
       "      <td>5178.4824</td>\n",
       "      <td>4660.63416</td>\n",
       "    </tr>\n",
       "  </tbody>\n",
       "</table>\n",
       "</div>"
      ],
      "text/plain": [
       "        y       x  countrate  thresholds   id counts  id threshold\n",
       "0  1024.5  1024.5    30726.0     27653.4  10465.2756    9418.74804\n",
       "1  1654.5  1216.5    26162.0     23545.8   8910.7772    8019.69948\n",
       "2  1667.5   853.5    15204.0     13683.6   5178.4824    4660.63416"
      ]
     },
     "execution_count": 125,
     "metadata": {},
     "output_type": "execute_result"
    }
   ],
   "source": [
    "commanded"
   ]
  },
  {
   "cell_type": "markdown",
   "metadata": {},
   "source": [
    "## Cross-match the command with the bright object list "
   ]
  },
  {
   "cell_type": "code",
   "execution_count": 82,
   "metadata": {},
   "outputs": [
    {
     "data": {
      "image/png": "[encoded data removed]",
      "text/plain": [
       "<Figure size 864x720 with 1 Axes>"
      ]
     },
     "metadata": {
      "needs_background": "light"
     },
     "output_type": "display_data"
    }
   ],
   "source": [
    "# Plot it\n",
    "plt.figure(figsize=(12, 10))\n",
    "plt.imshow(psuedo_fgs, cmap='Blues_r', vmin=0, vmax=1000, origin='lower')\n",
    "plt.scatter(commanded['x'].values[0], commanded['y'].values[0], s=100, facecolors='none',  edgecolors='yellow',\n",
    "            linewidths=2.0, label='Guide Star')\n",
    "plt.scatter(commanded['x'].values[1], commanded['y'].values[1], s=100, facecolors='none',  edgecolors='C1',\n",
    "            linewidths=2.0, label=\"Reference Star 1\")\n",
    "plt.scatter(commanded['x'].values[2], commanded['y'].values[2], s=100, facecolors='none',  edgecolors='C2',\n",
    "            linewidths=2.0, label=\"Reference Star 2\")\n",
    "for i, (column, row) in enumerate(zip(bright_object_df['FPA Column (pixels)'].values, \n",
    "                                  bright_object_df['FPA Row (pixels)'].values)):\n",
    "    plt.annotate(i, (column, row), (column-20, row+20), color='white')\n",
    "plt.legend()\n",
    "plt.title('Pseudo-FGS image for OTE-07 obs 1')\n",
    "plt.show()"
   ]
  },
  {
   "cell_type": "code",
   "execution_count": 106,
   "metadata": {},
   "outputs": [
    {
     "name": "stdout",
     "output_type": "stream",
     "text": [
      "Guide Star: 11\n",
      "Ref 1: 1\n",
      "Ref 2: 9\n",
      "\n"
     ]
    }
   ],
   "source": [
    "# Find the indices of the object in the bright object list that most closely matches the commanded values\n",
    "def minimize(y1, x1, y2, x2):\n",
    "    return np.abs((y1-y2)+(x1-x2))\n",
    "\n",
    "def find_bright_obj(y, x):\n",
    "    index = bright_object_df.apply(\n",
    "        lambda row: minimize(y, x, row['FPA Row (pixels)'], row['FPA Column (pixels)']), \n",
    "        axis=1)\n",
    "    return index.idxmin()\n",
    "\n",
    "matching_indices = commanded.apply(\n",
    "                                    lambda row: find_bright_obj(row['y'], row['x']), \n",
    "                                    axis=1).values\n",
    "print('Guide Star: {}\\nRef 1: {}\\nRef 2: {}\\n'.format(*matching_indices))\n",
    "\n",
    " "
   ]
  },
  {
   "cell_type": "code",
   "execution_count": 107,
   "metadata": {},
   "outputs": [],
   "source": [
    "# If the above algorithm doesn't choose the correct indicies (based on the plot above), you can overwrite that \n",
    "#  array below, uncomment the line, and run the cell.\n",
    "# matching_indices = [11, 1, 9]"
   ]
  },
  {
   "cell_type": "code",
   "execution_count": 109,
   "metadata": {},
   "outputs": [
    {
     "data": {
      "text/html": [
       "<div>\n",
       "<style scoped>\n",
       "    .dataframe tbody tr th:only-of-type {\n",
       "        vertical-align: middle;\n",
       "    }\n",
       "\n",
       "    .dataframe tbody tr th {\n",
       "        vertical-align: top;\n",
       "    }\n",
       "\n",
       "    .dataframe thead th {\n",
       "        text-align: right;\n",
       "    }\n",
       "</style>\n",
       "<table border=\"1\" class=\"dataframe\">\n",
       "  <thead>\n",
       "    <tr style=\"text-align: right;\">\n",
       "      <th></th>\n",
       "      <th>FPA Row (pixels)</th>\n",
       "      <th>FPA Column (pixels)</th>\n",
       "      <th>FPA Count Sum (counts)</th>\n",
       "    </tr>\n",
       "  </thead>\n",
       "  <tbody>\n",
       "    <tr>\n",
       "      <th>11</th>\n",
       "      <td>1025</td>\n",
       "      <td>1024</td>\n",
       "      <td>2059</td>\n",
       "    </tr>\n",
       "    <tr>\n",
       "      <th>1</th>\n",
       "      <td>1668</td>\n",
       "      <td>1208</td>\n",
       "      <td>7289</td>\n",
       "    </tr>\n",
       "    <tr>\n",
       "      <th>9</th>\n",
       "      <td>1682</td>\n",
       "      <td>836</td>\n",
       "      <td>2440</td>\n",
       "    </tr>\n",
       "  </tbody>\n",
       "</table>\n",
       "</div>"
      ],
      "text/plain": [
       "    FPA Row (pixels)  FPA Column (pixels)   FPA Count Sum (counts)\n",
       "11              1025                 1024                     2059\n",
       "1               1668                 1208                     7289\n",
       "9               1682                  836                     2440"
      ]
     },
     "execution_count": 109,
     "metadata": {},
     "output_type": "execute_result"
    }
   ],
   "source": [
    "selected_bright_object_df = bright_object_df.loc[matching_indices]\n",
    "\n",
    "selected_bright_object_df = selected_bright_object_df[['FPA Row (pixels)', 'FPA Column (pixels)', \n",
    "                                                       ' FPA Count Sum (counts)']]\n",
    "\n",
    "selected_bright_object_df"
   ]
  },
  {
   "cell_type": "markdown",
   "metadata": {},
   "source": [
    "## Analysis"
   ]
  },
  {
   "cell_type": "markdown",
   "metadata": {},
   "source": [
    "[Here is where you can analysis what you have seen in the comaparison above. I will write my analysis for the above example here, you might wish to include your analysis in your notebook so you can pass that information off to the relavent teams]"
   ]
  },
  {
   "cell_type": "code",
   "execution_count": 136,
   "metadata": {},
   "outputs": [],
   "source": [
    "def compare_commanded_vs_measured(commanded_df, measured_df, commanded_index, measured_index):\n",
    "    \"\"\"\n",
    "    Both data frames are expected to have the same order and number. The measured_df is expected to come from the \n",
    "    bright object list\n",
    "    Index which index in the list to use: GS = 0, REF1 = 1, REF2 = 2\n",
    "    \"\"\"\n",
    "    # Grab appropriate row in each data frame\n",
    "    commanded = commanded_df.loc[[commanded_index]]\n",
    "    measured = measured_df.loc[[measured_index]]\n",
    "    \n",
    "    # Find the floor of the *3x3 counts* that we are allowing\n",
    "    commanded_counts = commanded['id counts'].values[0]\n",
    "    commanded_threshold = commanded['id threshold'].values[0]\n",
    "    minimum_counts = commanded_counts - commanded_threshold\n",
    "\n",
    "    # Grab the 3x3 count sum that was measured for the same object\n",
    "    measured_counts = measured[' FPA Count Sum (counts)'].values[0]\n",
    "    \n",
    "    # Compare\n",
    "    if measured_counts < minimum_counts:\n",
    "        print('The measured number of counts is below the commanded - threshold value.')\n",
    "        new_threshold = (commanded_counts - measured_counts)/commanded_counts\n",
    "        print(f' Recommended threshold = {new_threshold}')\n",
    "    else: \n",
    "        print('The measured number of counts is equal to or greater than the commanded '\n",
    "              + f'- threshold value by {np.round(measured_counts - minimum_counts)} counts.')\n",
    "        new_threshold = threshold # None\n",
    "        \n",
    "    return new_threshold\n",
    "\n",
    "\n",
    "def compare_config(commanded_df, measured_df, matching_indices):\n",
    "    \"\"\"\n",
    "    Compare the commanded counts and threshold with the measured counts\n",
    "    \"\"\"\n",
    "    recommended_thresholds = []\n",
    "    order = ['GS', 'REF1', 'REF2']\n",
    "    for commanded_index, measured_index, object in zip(np.arange(3), matching_indices, order):\n",
    "        print(object)\n",
    "        recommended_thresholds.append(compare_commanded_vs_measured(commanded_df, measured_df, \n",
    "                                                                    commanded_index, measured_index))\n",
    "        \n",
    "    if all(thresh == threshold for thresh in recommended_thresholds):\n",
    "        print(f\"\\tNo new threshold needed. Config should have passed ID with threshold of {threshold}\")\n",
    "    else:\n",
    "        recommended_new_threshold = max(recommended_thresholds)\n",
    "        print(f\"\\tRecommended new threshold = {recommended_new_threshold}\")"
   ]
  },
  {
   "cell_type": "markdown",
   "metadata": {},
   "source": [
    "### Config 1 "
   ]
  },
  {
   "cell_type": "markdown",
   "metadata": {},
   "source": [
    "#### Guide star "
   ]
  },
  {
   "cell_type": "code",
   "execution_count": 137,
   "metadata": {},
   "outputs": [
    {
     "name": "stdout",
     "output_type": "stream",
     "text": [
      "GS\n",
      "1046.5275600000004\n",
      "2059\n",
      "The measured number of counts is equal to or greater than the commanded - threshold value by 1012.0 counts.\n",
      "REF1\n",
      "891.0777200000002\n",
      "7289\n",
      "The measured number of counts is equal to or greater than the commanded - threshold value by 6398.0 counts.\n",
      "REF2\n",
      "517.8482399999994\n",
      "2440\n",
      "The measured number of counts is equal to or greater than the commanded - threshold value by 1922.0 counts.\n",
      "\tNo new threshold needed. Config should have passed ID with threshold of 0.6\n"
     ]
    }
   ],
   "source": [
    "compare_config(commanded, selected_bright_object_df, matching_indices)"
   ]
  },
  {
   "cell_type": "markdown",
   "metadata": {},
   "source": [
    "## Making a new override command "
   ]
  },
  {
   "cell_type": "code",
   "execution_count": null,
   "metadata": {},
   "outputs": [],
   "source": [
    "# TODO: determine what threshold is necessary to pass\n",
    "\n",
    "# Make clear that the failure is ...?\n",
    "\n",
    "Options update the thresholds on the same commands, or pick new commands\n",
    "\n",
    "Use the same commands if the new recommended threshold is less than 100%. \n",
    "Use a new commands if the recommended threshold is over 100%"
   ]
  }
 ],
 "metadata": {
  "kernelspec": {
   "display_name": "Python 3",
   "language": "python",
   "name": "python3"
  },
  "language_info": {
   "codemirror_mode": {
    "name": "ipython",
    "version": 3
   },
   "file_extension": ".py",
   "mimetype": "text/x-python",
   "name": "python",
   "nbconvert_exporter": "python",
   "pygments_lexer": "ipython3",
   "version": "3.7.10"
  }
 },
 "nbformat": 4,
 "nbformat_minor": 2
}
