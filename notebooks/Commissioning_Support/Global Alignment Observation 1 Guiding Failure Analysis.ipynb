{
 "cells": [
  {
   "cell_type": "markdown",
   "metadata": {},
   "source": [
    "This notebook is for the case that guiding fails during Global Alignment (1 or 2) observation 1 due to a failure of ID, ACQ, or TRK when trying for the 2nd or 3rd to engage closed-loop guiding. \n",
    "\n",
    "In order to follow the analysis here, you will need to first run the images you do have from NIRCam (all track and coarse images) through the Star Selection step of MAGIC, choosing an arbitrary config in order for the all PSFs file to be save out. This is necessary since it will allow us to do our analysis here of those PSFs "
   ]
  },
  {
   "cell_type": "code",
   "execution_count": 27,
   "metadata": {},
   "outputs": [],
   "source": [
    "# Import necessary packages\n",
    "\n",
    "# Standard Library\n",
    "from glob import glob\n",
    "import os\n",
    "from io import StringIO\n",
    "\n",
    "# Third Party Packages\n",
    "from astropy.io import fits\n",
    "import matplotlib.pyplot as plt\n",
    "from matplotlib.colors import LogNorm\n",
    "import numpy as np\n",
    "import pandas as pd\n",
    "\n",
    "%matplotlib inline"
   ]
  },
  {
   "cell_type": "markdown",
   "metadata": {},
   "source": [
    "This notebook currently has this set up with GA 1 and GA 2 data from MIRAGE. If you need to use this for commissioning, save a copy of this notebook and replace the indicated options in the cell below with the necessary information."
   ]
  },
  {
   "cell_type": "markdown",
   "metadata": {},
   "source": [
    "# TO DO\n",
    "1. turn df creation into a function\n",
    "\n",
    "2. add analysis sections\n",
    "\n",
    "3. add table of contents\n",
    "\n",
    "4. add GA2\n",
    "\n",
    "5. come up with some extrapolation model to see how we might expect count rates to change for the next mirror move\n",
    "\n",
    "6. set up a function that will grab all of the data if you provide a directory where only these data exist"
   ]
  },
  {
   "cell_type": "markdown",
   "metadata": {},
   "source": [
    "### Set up mapping between segment names and MAGIC's labelling "
   ]
  },
  {
   "cell_type": "markdown",
   "metadata": {},
   "source": [
    "In MAGIC, we will be utilizing the all_psfs file which labels each segment with a lettering system to MAGIC. Since we will need to report our results, we will need the actual segment name. Below I set up a mapping system based on the figures shown. Note that this is only valid for an uninverted array (which is what we expect for GA). \n",
    "\n",
    "*Do not change these cells.*"
   ]
  },
  {
   "cell_type": "markdown",
   "metadata": {},
   "source": [
    "**Guider 1**\n",
    "\n",
    "<table><tr><td><img src=\"../g1_psf_orientation_raw_magic.png\" style=\"width: 400px;\"></td><td><img src=\"../JWSTgrid_side.png\" style=\"width: 400px;\"></td></tr></table>"
   ]
  },
  {
   "cell_type": "code",
   "execution_count": null,
   "metadata": {},
   "outputs": [],
   "source": [
    "# Do not change this cell\n",
    "\n",
    "# MAGIC segment labels to segment naming map\n",
    "segment_map_g1 = {\"A\":\"B4-13\", \"B\":\"C4-14\", \"C\":\"C3-12\", \"D\":\"B5-15\",\n",
    "                  \"E\":\"A4-4\", \"F\":\"B3-11\", \"G\":\"A5-5\", \"H\":\"A3-3\", \n",
    "                  \"I\":\"C5-16\", \"J\":\"C2-10\", \"K\":\"A6-6\", \"L\":\"A2-2\", \n",
    "                  \"M\":\"B6-17\", \"N\":\"A1-1\", \"O\":\"B2-9\", \"P\":\"C6-18\", \n",
    "                  \"Q\":\"C1-8\", \"R\":\"B1-7\"}"
   ]
  },
  {
   "cell_type": "markdown",
   "metadata": {},
   "source": [
    "**Guider 2**\n",
    "\n",
    "<table><tr><td><img src=\"../g2_psf_orientation_raw_magic.png\" style=\"width: 400px;\"></td><td><img src=\"../JWSTgrid_side.png\" style=\"width: 400px;\"></td></tr></table>"
   ]
  },
  {
   "cell_type": "code",
   "execution_count": 18,
   "metadata": {},
   "outputs": [],
   "source": [
    "# Do not change this cell\n",
    "\n",
    "# MAGIC segment labels to segment naming map\n",
    "segment_map_g2 = {\"A\":\"B1-7\", \"B\":\"C6-18\", \"C\":\"C1-8\", \"D\":\"B6-17\",\n",
    "                  \"E\":\"A1-1\", \"F\":\"B2-9\", \"G\":\"A6-6\", \"H\":\"A2-2\", \n",
    "                  \"I\":\"C5-16\", \"J\":\"C2-10\", \"K\":\"A5-5\", \"L\":\"A3-3\", \n",
    "                  \"M\":\"B5-15\", \"N\":\"A4-4\", \"O\":\"B3-11\", \"P\":\"C4-14\", \n",
    "                  \"Q\":\"C3-12\", \"R\":\"B4-13\"}"
   ]
  },
  {
   "cell_type": "markdown",
   "metadata": {},
   "source": [
    "# Functions "
   ]
  },
  {
   "cell_type": "code",
   "execution_count": 201,
   "metadata": {},
   "outputs": [],
   "source": [
    "def grab_count_rate_information(all_psfs_filename, segment_map):\n",
    "    \"\"\"\n",
    "    Given the all_psfs file for an image, retrieve the count rates for all segment PSFs and return a\n",
    "    Pandas.DataFrame object (table) of the segments and their associated 3x3 count rate in order from\n",
    "    segments A 1-6 -> C 1-6\n",
    "    \"\"\"\n",
    "    \n",
    "    all_psfs_table = pd.read_csv(all_psfs_filename, comment='#', names=['label', 'y', 'x', 'countrate'], sep=' ')\n",
    "\n",
    "    segments = [segment_map[label] for label in all_psfs_table['label']]\n",
    "\n",
    "    # Add the segment name to the table\n",
    "    all_psfs_table.insert(1, 'segment', segments)\n",
    "    \n",
    "    seg_cr_table = all_psfs_table[['segment', 'countrate']]\n",
    "    seg_cr_table = seg_cr_table.sort_values('segment', ascending=True)\n",
    "    \n",
    "    return seg_cr_table"
   ]
  },
  {
   "cell_type": "code",
   "execution_count": 267,
   "metadata": {},
   "outputs": [],
   "source": [
    "# make a table/dictionary with instument, mode, instance, visit_group, exposure\n",
    "ga_obs1_dict = {'instrument':['nircam', 'nircam', 'fgs', 'nircam', 'nircam', 'fgs', 'nircam'], \n",
    "              'mode':['track', 'coarse', 'coarse', 'track', 'coarse', 'coarse', 'track'],\n",
    "              'instance':[1, 1, 1, 2, 2, 2, 3],\n",
    "              'visit_group':[2, 2, 3, 5, 5, 6, 8],\n",
    "              'exposure_number':[1, 2, 1, 1, 2, 1, 1]}\n",
    "ga_obs1_exposures = pd.DataFrame(ga_obs1_dict)"
   ]
  },
  {
   "cell_type": "code",
   "execution_count": 268,
   "metadata": {},
   "outputs": [
    {
     "data": {
      "text/html": [
       "<div>\n",
       "<style scoped>\n",
       "    .dataframe tbody tr th:only-of-type {\n",
       "        vertical-align: middle;\n",
       "    }\n",
       "\n",
       "    .dataframe tbody tr th {\n",
       "        vertical-align: top;\n",
       "    }\n",
       "\n",
       "    .dataframe thead th {\n",
       "        text-align: right;\n",
       "    }\n",
       "</style>\n",
       "<table border=\"1\" class=\"dataframe\">\n",
       "  <thead>\n",
       "    <tr style=\"text-align: right;\">\n",
       "      <th></th>\n",
       "      <th>instrument</th>\n",
       "      <th>mode</th>\n",
       "      <th>instance</th>\n",
       "      <th>visit_group</th>\n",
       "      <th>exposure_number</th>\n",
       "    </tr>\n",
       "  </thead>\n",
       "  <tbody>\n",
       "    <tr>\n",
       "      <th>0</th>\n",
       "      <td>nircam</td>\n",
       "      <td>track</td>\n",
       "      <td>1</td>\n",
       "      <td>2</td>\n",
       "      <td>1</td>\n",
       "    </tr>\n",
       "    <tr>\n",
       "      <th>1</th>\n",
       "      <td>nircam</td>\n",
       "      <td>coarse</td>\n",
       "      <td>1</td>\n",
       "      <td>2</td>\n",
       "      <td>2</td>\n",
       "    </tr>\n",
       "    <tr>\n",
       "      <th>2</th>\n",
       "      <td>fgs</td>\n",
       "      <td>coarse</td>\n",
       "      <td>1</td>\n",
       "      <td>3</td>\n",
       "      <td>1</td>\n",
       "    </tr>\n",
       "    <tr>\n",
       "      <th>3</th>\n",
       "      <td>nircam</td>\n",
       "      <td>track</td>\n",
       "      <td>2</td>\n",
       "      <td>5</td>\n",
       "      <td>1</td>\n",
       "    </tr>\n",
       "    <tr>\n",
       "      <th>4</th>\n",
       "      <td>nircam</td>\n",
       "      <td>coarse</td>\n",
       "      <td>2</td>\n",
       "      <td>5</td>\n",
       "      <td>2</td>\n",
       "    </tr>\n",
       "    <tr>\n",
       "      <th>5</th>\n",
       "      <td>fgs</td>\n",
       "      <td>coarse</td>\n",
       "      <td>2</td>\n",
       "      <td>6</td>\n",
       "      <td>1</td>\n",
       "    </tr>\n",
       "    <tr>\n",
       "      <th>6</th>\n",
       "      <td>nircam</td>\n",
       "      <td>track</td>\n",
       "      <td>3</td>\n",
       "      <td>8</td>\n",
       "      <td>1</td>\n",
       "    </tr>\n",
       "  </tbody>\n",
       "</table>\n",
       "</div>"
      ],
      "text/plain": [
       "  instrument    mode  instance  visit_group  exposure_number\n",
       "0     nircam   track         1            2                1\n",
       "1     nircam  coarse         1            2                2\n",
       "2        fgs  coarse         1            3                1\n",
       "3     nircam   track         2            5                1\n",
       "4     nircam  coarse         2            5                2\n",
       "5        fgs  coarse         2            6                1\n",
       "6     nircam   track         3            8                1"
      ]
     },
     "execution_count": 268,
     "metadata": {},
     "output_type": "execute_result"
    }
   ],
   "source": [
    "ga_obs1_exposures"
   ]
  },
  {
   "cell_type": "code",
   "execution_count": 269,
   "metadata": {},
   "outputs": [],
   "source": [
    "def find_exposure(ga_obs1_exposures, instrument, instance, mode):\n",
    "    instrument_select = ga_obs1_exposures[ga_obs1_exposures['instrument']==instrument.lower()]\n",
    "    mode_select = instrument_select[instrument_select['mode']==mode.lower()]\n",
    "    instance_select = mode_select[mode_select['instance']==instance]\n",
    "    \n",
    "    return instance_select"
   ]
  },
  {
   "cell_type": "code",
   "execution_count": 270,
   "metadata": {},
   "outputs": [],
   "source": [
    "def grab_visit_exp(ga_obs1_exposures, instrument, instance, mode):\n",
    "    instance_select = find_exposure(ga_obs1_exposures, instrument, instance, mode)\n",
    "    \n",
    "    return int(thing['visit_group']), int(thing['exposure_number'])"
   ]
  },
  {
   "cell_type": "code",
   "execution_count": 331,
   "metadata": {},
   "outputs": [],
   "source": [
    "def get_info_from_image(out_dir, root, guider, instrument, detector, mode, instance,\n",
    "                        plot_image=True):\n",
    "\n",
    "    if instrument.lower() not in ['nircam', 'fgs']:\n",
    "        raise ValueError(f\"What is this: {instrument}? Expect NIRCam or FGS.\")\n",
    "\n",
    "\n",
    "    if instrument.lower()=='fgs':\n",
    "        if not detector in [1, 2]:\n",
    "            raise ValueError('There are only two guiders. Please provide \"1\" or \"2\" for the guider variable')\n",
    "    \n",
    "    segment_map = [segment_map_g1 if guider==1 else segment_map_g2][0]\n",
    "        \n",
    "    if plot_image:\n",
    "#         # Get specific exposure information\n",
    "#         print(instrument)\n",
    "#         visit_group, exp_num = grab_visit_exp(ga_obs1_exposures, instrument, instance, mode)\n",
    "#         print(visit_group)\n",
    "        ins = 'nrc' if instrument.lower()=='nircam' else 'g'\n",
    "#         # Expected filename anatomy\n",
    "#         image_filename = f'jw0{program_id}001001_0{visit_group}101_0000{exp_num}_{ins}{detector.lower()}_cal.fits'\n",
    "        detector = str(detector)\n",
    "        image_filename = glob(os.path.join(out_dir, 'out', root, f\"*{ins}{detector.lower()}_cal.fits\"))[0]\n",
    "        \n",
    "        # Load in the image\n",
    "        image_sci = fits.getdata(image_filename)\n",
    "\n",
    "        # Look at the image\n",
    "        plt.figure(figsize=(10, 8))\n",
    "        plt.imshow(image_sci, cmap='Blues_r', vmin=0, vmax=10000)\n",
    "        plt.title(f'OTE-07 (GA1) Obs1 {instrument.upper()} {mode.upper()} {instance} (SCI frame)')\n",
    "        plt.show()\n",
    "        \n",
    "    all_psfs_filename = os.path.join(out_dir, 'out', root, f\"unshifted_all_found_psfs_{root}_G{guider}.txt\")\n",
    "    \n",
    "    seg_cr_table = grab_count_rate_information(all_psfs_filename, segment_map)\n",
    "    \n",
    "    return seg_cr_table"
   ]
  },
  {
   "cell_type": "code",
   "execution_count": 179,
   "metadata": {},
   "outputs": [],
   "source": [
    "def count_columns(dataframe):\n",
    "    \"\"\" Get the current number of columns in a dataframe\n",
    "    \"\"\"\n",
    "    return int(dataframe.count('columns')[0])"
   ]
  },
  {
   "cell_type": "markdown",
   "metadata": {},
   "source": [
    "# Global Alignment 1 "
   ]
  },
  {
   "cell_type": "code",
   "execution_count": 3,
   "metadata": {},
   "outputs": [],
   "source": [
    "# Do not change these variables\n",
    "program_id = 1141 \n",
    "observation = 1\n"
   ]
  },
  {
   "cell_type": "code",
   "execution_count": 4,
   "metadata": {},
   "outputs": [],
   "source": [
    "# Variables to change - these should match what was used in the MAGIC GUI\n",
    "guider = 1  # Edit as necessary\n",
    "nrc_detector = 'A3'\n",
    "out_dir = '/Users/kbrooks/git_repos/jwst-magic-fork/out/ga_contingency/'  # Directory for the practice/rehearsal/commissioning\n",
    "threshold = 0.6 # Default is 0.6, change if you have changed this in the GUI\n"
   ]
  },
  {
   "cell_type": "code",
   "execution_count": 197,
   "metadata": {},
   "outputs": [],
   "source": [
    "if guider==1:\n",
    "    segment_map = segment_map_g1\n",
    "elif guider==2:\n",
    "    segment_map = segment_map_g2\n",
    "else:\n",
    "    raise ValueError('There are only two guiders. Please provide \"1\" or \"2\" for the guider variable')"
   ]
  },
  {
   "cell_type": "markdown",
   "metadata": {},
   "source": [
    "## Image 1: NIRCam track #1 / SM @ 0um"
   ]
  },
  {
   "cell_type": "code",
   "execution_count": 323,
   "metadata": {},
   "outputs": [
    {
     "data": {
      "image/png": "[encoded data removed]",
      "text/plain": [
       "<Figure size 720x576 with 1 Axes>"
      ]
     },
     "metadata": {
      "needs_background": "light"
     },
     "output_type": "display_data"
    }
   ],
   "source": [
    "root = 'ote07_obs1_nrc_track1'\n",
    "\n",
    "seg_cr_table_track_1 = get_info_from_image(out_dir, root, guider, instrument='nircam', detector=nrc_detector, \n",
    "                                           mode='track', instance=1, plot_image=True)"
   ]
  },
  {
   "cell_type": "markdown",
   "metadata": {},
   "source": [
    "## Image 2: NIRCam COARSE #1 / SM @ -400um"
   ]
  },
  {
   "cell_type": "code",
   "execution_count": 324,
   "metadata": {},
   "outputs": [
    {
     "data": {
      "image/png": "[encoded data removed]",
      "text/plain": [
       "<Figure size 720x576 with 1 Axes>"
      ]
     },
     "metadata": {
      "needs_background": "light"
     },
     "output_type": "display_data"
    }
   ],
   "source": [
    "root = 'ote07_obs1_nrc_coarse1'\n",
    "\n",
    "seg_cr_table_coarse_1 = get_info_from_image(out_dir, root, guider, instrument='nircam', detector=nrc_detector, \n",
    "                                           mode='coarse', instance=1, plot_image=True)"
   ]
  },
  {
   "cell_type": "markdown",
   "metadata": {},
   "source": [
    "## Image 3: FGS COARSE #1 / SM @ -400um"
   ]
  },
  {
   "cell_type": "code",
   "execution_count": 332,
   "metadata": {},
   "outputs": [
    {
     "data": {
      "image/png": "[encoded data removed]",
      "text/plain": [
       "<Figure size 720x576 with 1 Axes>"
      ]
     },
     "metadata": {
      "needs_background": "light"
     },
     "output_type": "display_data"
    },
    {
     "ename": "FileNotFoundError",
     "evalue": "[Errno 2] File b'/Users/kbrooks/git_repos/jwst-magic-fork/out/ga_contingency/out/ote07_obs1_fgs_coarse1/unshifted_all_found_psfs_ote07_obs1_fgs_coarse1_G1.txt' does not exist: b'/Users/kbrooks/git_repos/jwst-magic-fork/out/ga_contingency/out/ote07_obs1_fgs_coarse1/unshifted_all_found_psfs_ote07_obs1_fgs_coarse1_G1.txt'",
     "output_type": "error",
     "traceback": [
      "\u001b[0;31m---------------------------------------------------------------------------\u001b[0m",
      "\u001b[0;31mFileNotFoundError\u001b[0m                         Traceback (most recent call last)",
      "\u001b[0;32m<ipython-input-332-4727a431d732>\u001b[0m in \u001b[0;36m<module>\u001b[0;34m\u001b[0m\n\u001b[1;32m      2\u001b[0m \u001b[0;34m\u001b[0m\u001b[0m\n\u001b[1;32m      3\u001b[0m seg_cr_table_fgs_coarse_1 = get_info_from_image(out_dir, root, guider, instrument='fgs', detector=guider, \n\u001b[0;32m----> 4\u001b[0;31m                                            mode='coarse', instance=1, plot_image=True)\n\u001b[0m",
      "\u001b[0;32m<ipython-input-331-2332ac97f5da>\u001b[0m in \u001b[0;36mget_info_from_image\u001b[0;34m(out_dir, root, guider, instrument, detector, mode, instance, plot_image)\u001b[0m\n\u001b[1;32m     34\u001b[0m     \u001b[0mall_psfs_filename\u001b[0m \u001b[0;34m=\u001b[0m \u001b[0mos\u001b[0m\u001b[0;34m.\u001b[0m\u001b[0mpath\u001b[0m\u001b[0;34m.\u001b[0m\u001b[0mjoin\u001b[0m\u001b[0;34m(\u001b[0m\u001b[0mout_dir\u001b[0m\u001b[0;34m,\u001b[0m \u001b[0;34m'out'\u001b[0m\u001b[0;34m,\u001b[0m \u001b[0mroot\u001b[0m\u001b[0;34m,\u001b[0m \u001b[0;34mf\"unshifted_all_found_psfs_{root}_G{guider}.txt\"\u001b[0m\u001b[0;34m)\u001b[0m\u001b[0;34m\u001b[0m\u001b[0;34m\u001b[0m\u001b[0m\n\u001b[1;32m     35\u001b[0m \u001b[0;34m\u001b[0m\u001b[0m\n\u001b[0;32m---> 36\u001b[0;31m     \u001b[0mseg_cr_table\u001b[0m \u001b[0;34m=\u001b[0m \u001b[0mgrab_count_rate_information\u001b[0m\u001b[0;34m(\u001b[0m\u001b[0mall_psfs_filename\u001b[0m\u001b[0;34m,\u001b[0m \u001b[0msegment_map\u001b[0m\u001b[0;34m)\u001b[0m\u001b[0;34m\u001b[0m\u001b[0;34m\u001b[0m\u001b[0m\n\u001b[0m\u001b[1;32m     37\u001b[0m \u001b[0;34m\u001b[0m\u001b[0m\n\u001b[1;32m     38\u001b[0m     \u001b[0;32mreturn\u001b[0m \u001b[0mseg_cr_table\u001b[0m\u001b[0;34m\u001b[0m\u001b[0;34m\u001b[0m\u001b[0m\n",
      "\u001b[0;32m<ipython-input-201-5e42d90c62ef>\u001b[0m in \u001b[0;36mgrab_count_rate_information\u001b[0;34m(all_psfs_filename, segment_map)\u001b[0m\n\u001b[1;32m      6\u001b[0m     \"\"\"\n\u001b[1;32m      7\u001b[0m \u001b[0;34m\u001b[0m\u001b[0m\n\u001b[0;32m----> 8\u001b[0;31m     \u001b[0mall_psfs_table\u001b[0m \u001b[0;34m=\u001b[0m \u001b[0mpd\u001b[0m\u001b[0;34m.\u001b[0m\u001b[0mread_csv\u001b[0m\u001b[0;34m(\u001b[0m\u001b[0mall_psfs_filename\u001b[0m\u001b[0;34m,\u001b[0m \u001b[0mcomment\u001b[0m\u001b[0;34m=\u001b[0m\u001b[0;34m'#'\u001b[0m\u001b[0;34m,\u001b[0m \u001b[0mnames\u001b[0m\u001b[0;34m=\u001b[0m\u001b[0;34m[\u001b[0m\u001b[0;34m'label'\u001b[0m\u001b[0;34m,\u001b[0m \u001b[0;34m'y'\u001b[0m\u001b[0;34m,\u001b[0m \u001b[0;34m'x'\u001b[0m\u001b[0;34m,\u001b[0m \u001b[0;34m'countrate'\u001b[0m\u001b[0;34m]\u001b[0m\u001b[0;34m,\u001b[0m \u001b[0msep\u001b[0m\u001b[0;34m=\u001b[0m\u001b[0;34m' '\u001b[0m\u001b[0;34m)\u001b[0m\u001b[0;34m\u001b[0m\u001b[0;34m\u001b[0m\u001b[0m\n\u001b[0m\u001b[1;32m      9\u001b[0m \u001b[0;34m\u001b[0m\u001b[0m\n\u001b[1;32m     10\u001b[0m     \u001b[0msegments\u001b[0m \u001b[0;34m=\u001b[0m \u001b[0;34m[\u001b[0m\u001b[0msegment_map\u001b[0m\u001b[0;34m[\u001b[0m\u001b[0mlabel\u001b[0m\u001b[0;34m]\u001b[0m \u001b[0;32mfor\u001b[0m \u001b[0mlabel\u001b[0m \u001b[0;32min\u001b[0m \u001b[0mall_psfs_table\u001b[0m\u001b[0;34m[\u001b[0m\u001b[0;34m'label'\u001b[0m\u001b[0;34m]\u001b[0m\u001b[0;34m]\u001b[0m\u001b[0;34m\u001b[0m\u001b[0;34m\u001b[0m\u001b[0m\n",
      "\u001b[0;32m~/miniconda2/envs/magic/lib/python3.7/site-packages/pandas/io/parsers.py\u001b[0m in \u001b[0;36mparser_f\u001b[0;34m(filepath_or_buffer, sep, delimiter, header, names, index_col, usecols, squeeze, prefix, mangle_dupe_cols, dtype, engine, converters, true_values, false_values, skipinitialspace, skiprows, skipfooter, nrows, na_values, keep_default_na, na_filter, verbose, skip_blank_lines, parse_dates, infer_datetime_format, keep_date_col, date_parser, dayfirst, cache_dates, iterator, chunksize, compression, thousands, decimal, lineterminator, quotechar, quoting, doublequote, escapechar, comment, encoding, dialect, error_bad_lines, warn_bad_lines, delim_whitespace, low_memory, memory_map, float_precision)\u001b[0m\n\u001b[1;32m    683\u001b[0m         )\n\u001b[1;32m    684\u001b[0m \u001b[0;34m\u001b[0m\u001b[0m\n\u001b[0;32m--> 685\u001b[0;31m         \u001b[0;32mreturn\u001b[0m \u001b[0m_read\u001b[0m\u001b[0;34m(\u001b[0m\u001b[0mfilepath_or_buffer\u001b[0m\u001b[0;34m,\u001b[0m \u001b[0mkwds\u001b[0m\u001b[0;34m)\u001b[0m\u001b[0;34m\u001b[0m\u001b[0;34m\u001b[0m\u001b[0m\n\u001b[0m\u001b[1;32m    686\u001b[0m \u001b[0;34m\u001b[0m\u001b[0m\n\u001b[1;32m    687\u001b[0m     \u001b[0mparser_f\u001b[0m\u001b[0;34m.\u001b[0m\u001b[0m__name__\u001b[0m \u001b[0;34m=\u001b[0m \u001b[0mname\u001b[0m\u001b[0;34m\u001b[0m\u001b[0;34m\u001b[0m\u001b[0m\n",
      "\u001b[0;32m~/miniconda2/envs/magic/lib/python3.7/site-packages/pandas/io/parsers.py\u001b[0m in \u001b[0;36m_read\u001b[0;34m(filepath_or_buffer, kwds)\u001b[0m\n\u001b[1;32m    455\u001b[0m \u001b[0;34m\u001b[0m\u001b[0m\n\u001b[1;32m    456\u001b[0m     \u001b[0;31m# Create the parser.\u001b[0m\u001b[0;34m\u001b[0m\u001b[0;34m\u001b[0m\u001b[0;34m\u001b[0m\u001b[0m\n\u001b[0;32m--> 457\u001b[0;31m     \u001b[0mparser\u001b[0m \u001b[0;34m=\u001b[0m \u001b[0mTextFileReader\u001b[0m\u001b[0;34m(\u001b[0m\u001b[0mfp_or_buf\u001b[0m\u001b[0;34m,\u001b[0m \u001b[0;34m**\u001b[0m\u001b[0mkwds\u001b[0m\u001b[0;34m)\u001b[0m\u001b[0;34m\u001b[0m\u001b[0;34m\u001b[0m\u001b[0m\n\u001b[0m\u001b[1;32m    458\u001b[0m \u001b[0;34m\u001b[0m\u001b[0m\n\u001b[1;32m    459\u001b[0m     \u001b[0;32mif\u001b[0m \u001b[0mchunksize\u001b[0m \u001b[0;32mor\u001b[0m \u001b[0miterator\u001b[0m\u001b[0;34m:\u001b[0m\u001b[0;34m\u001b[0m\u001b[0;34m\u001b[0m\u001b[0m\n",
      "\u001b[0;32m~/miniconda2/envs/magic/lib/python3.7/site-packages/pandas/io/parsers.py\u001b[0m in \u001b[0;36m__init__\u001b[0;34m(self, f, engine, **kwds)\u001b[0m\n\u001b[1;32m    893\u001b[0m             \u001b[0mself\u001b[0m\u001b[0;34m.\u001b[0m\u001b[0moptions\u001b[0m\u001b[0;34m[\u001b[0m\u001b[0;34m\"has_index_names\"\u001b[0m\u001b[0;34m]\u001b[0m \u001b[0;34m=\u001b[0m \u001b[0mkwds\u001b[0m\u001b[0;34m[\u001b[0m\u001b[0;34m\"has_index_names\"\u001b[0m\u001b[0;34m]\u001b[0m\u001b[0;34m\u001b[0m\u001b[0;34m\u001b[0m\u001b[0m\n\u001b[1;32m    894\u001b[0m \u001b[0;34m\u001b[0m\u001b[0m\n\u001b[0;32m--> 895\u001b[0;31m         \u001b[0mself\u001b[0m\u001b[0;34m.\u001b[0m\u001b[0m_make_engine\u001b[0m\u001b[0;34m(\u001b[0m\u001b[0mself\u001b[0m\u001b[0;34m.\u001b[0m\u001b[0mengine\u001b[0m\u001b[0;34m)\u001b[0m\u001b[0;34m\u001b[0m\u001b[0;34m\u001b[0m\u001b[0m\n\u001b[0m\u001b[1;32m    896\u001b[0m \u001b[0;34m\u001b[0m\u001b[0m\n\u001b[1;32m    897\u001b[0m     \u001b[0;32mdef\u001b[0m \u001b[0mclose\u001b[0m\u001b[0;34m(\u001b[0m\u001b[0mself\u001b[0m\u001b[0;34m)\u001b[0m\u001b[0;34m:\u001b[0m\u001b[0;34m\u001b[0m\u001b[0;34m\u001b[0m\u001b[0m\n",
      "\u001b[0;32m~/miniconda2/envs/magic/lib/python3.7/site-packages/pandas/io/parsers.py\u001b[0m in \u001b[0;36m_make_engine\u001b[0;34m(self, engine)\u001b[0m\n\u001b[1;32m   1133\u001b[0m     \u001b[0;32mdef\u001b[0m \u001b[0m_make_engine\u001b[0m\u001b[0;34m(\u001b[0m\u001b[0mself\u001b[0m\u001b[0;34m,\u001b[0m \u001b[0mengine\u001b[0m\u001b[0;34m=\u001b[0m\u001b[0;34m\"c\"\u001b[0m\u001b[0;34m)\u001b[0m\u001b[0;34m:\u001b[0m\u001b[0;34m\u001b[0m\u001b[0;34m\u001b[0m\u001b[0m\n\u001b[1;32m   1134\u001b[0m         \u001b[0;32mif\u001b[0m \u001b[0mengine\u001b[0m \u001b[0;34m==\u001b[0m \u001b[0;34m\"c\"\u001b[0m\u001b[0;34m:\u001b[0m\u001b[0;34m\u001b[0m\u001b[0;34m\u001b[0m\u001b[0m\n\u001b[0;32m-> 1135\u001b[0;31m             \u001b[0mself\u001b[0m\u001b[0;34m.\u001b[0m\u001b[0m_engine\u001b[0m \u001b[0;34m=\u001b[0m \u001b[0mCParserWrapper\u001b[0m\u001b[0;34m(\u001b[0m\u001b[0mself\u001b[0m\u001b[0;34m.\u001b[0m\u001b[0mf\u001b[0m\u001b[0;34m,\u001b[0m \u001b[0;34m**\u001b[0m\u001b[0mself\u001b[0m\u001b[0;34m.\u001b[0m\u001b[0moptions\u001b[0m\u001b[0;34m)\u001b[0m\u001b[0;34m\u001b[0m\u001b[0;34m\u001b[0m\u001b[0m\n\u001b[0m\u001b[1;32m   1136\u001b[0m         \u001b[0;32melse\u001b[0m\u001b[0;34m:\u001b[0m\u001b[0;34m\u001b[0m\u001b[0;34m\u001b[0m\u001b[0m\n\u001b[1;32m   1137\u001b[0m             \u001b[0;32mif\u001b[0m \u001b[0mengine\u001b[0m \u001b[0;34m==\u001b[0m \u001b[0;34m\"python\"\u001b[0m\u001b[0;34m:\u001b[0m\u001b[0;34m\u001b[0m\u001b[0;34m\u001b[0m\u001b[0m\n",
      "\u001b[0;32m~/miniconda2/envs/magic/lib/python3.7/site-packages/pandas/io/parsers.py\u001b[0m in \u001b[0;36m__init__\u001b[0;34m(self, src, **kwds)\u001b[0m\n\u001b[1;32m   1915\u001b[0m         \u001b[0mkwds\u001b[0m\u001b[0;34m[\u001b[0m\u001b[0;34m\"usecols\"\u001b[0m\u001b[0;34m]\u001b[0m \u001b[0;34m=\u001b[0m \u001b[0mself\u001b[0m\u001b[0;34m.\u001b[0m\u001b[0musecols\u001b[0m\u001b[0;34m\u001b[0m\u001b[0;34m\u001b[0m\u001b[0m\n\u001b[1;32m   1916\u001b[0m \u001b[0;34m\u001b[0m\u001b[0m\n\u001b[0;32m-> 1917\u001b[0;31m         \u001b[0mself\u001b[0m\u001b[0;34m.\u001b[0m\u001b[0m_reader\u001b[0m \u001b[0;34m=\u001b[0m \u001b[0mparsers\u001b[0m\u001b[0;34m.\u001b[0m\u001b[0mTextReader\u001b[0m\u001b[0;34m(\u001b[0m\u001b[0msrc\u001b[0m\u001b[0;34m,\u001b[0m \u001b[0;34m**\u001b[0m\u001b[0mkwds\u001b[0m\u001b[0;34m)\u001b[0m\u001b[0;34m\u001b[0m\u001b[0;34m\u001b[0m\u001b[0m\n\u001b[0m\u001b[1;32m   1918\u001b[0m         \u001b[0mself\u001b[0m\u001b[0;34m.\u001b[0m\u001b[0munnamed_cols\u001b[0m \u001b[0;34m=\u001b[0m \u001b[0mself\u001b[0m\u001b[0;34m.\u001b[0m\u001b[0m_reader\u001b[0m\u001b[0;34m.\u001b[0m\u001b[0munnamed_cols\u001b[0m\u001b[0;34m\u001b[0m\u001b[0;34m\u001b[0m\u001b[0m\n\u001b[1;32m   1919\u001b[0m \u001b[0;34m\u001b[0m\u001b[0m\n",
      "\u001b[0;32mpandas/_libs/parsers.pyx\u001b[0m in \u001b[0;36mpandas._libs.parsers.TextReader.__cinit__\u001b[0;34m()\u001b[0m\n",
      "\u001b[0;32mpandas/_libs/parsers.pyx\u001b[0m in \u001b[0;36mpandas._libs.parsers.TextReader._setup_parser_source\u001b[0;34m()\u001b[0m\n",
      "\u001b[0;31mFileNotFoundError\u001b[0m: [Errno 2] File b'/Users/kbrooks/git_repos/jwst-magic-fork/out/ga_contingency/out/ote07_obs1_fgs_coarse1/unshifted_all_found_psfs_ote07_obs1_fgs_coarse1_G1.txt' does not exist: b'/Users/kbrooks/git_repos/jwst-magic-fork/out/ga_contingency/out/ote07_obs1_fgs_coarse1/unshifted_all_found_psfs_ote07_obs1_fgs_coarse1_G1.txt'"
     ]
    }
   ],
   "source": [
    "root = 'ote07_obs1_fgs_coarse1'\n",
    "\n",
    "seg_cr_table_fgs_coarse_1 = get_info_from_image(out_dir, root, guider, instrument='fgs', detector=guider, \n",
    "                                           mode='coarse', instance=1, plot_image=True)"
   ]
  },
  {
   "cell_type": "markdown",
   "metadata": {},
   "source": [
    "## Image 4: NIRCam track #2 / SM @ -400um"
   ]
  },
  {
   "cell_type": "code",
   "execution_count": 325,
   "metadata": {},
   "outputs": [
    {
     "data": {
      "image/png": "[encoded data removed]",
      "text/plain": [
       "<Figure size 720x576 with 1 Axes>"
      ]
     },
     "metadata": {
      "needs_background": "light"
     },
     "output_type": "display_data"
    }
   ],
   "source": [
    "root = 'ote07_obs1_nrc_track2'\n",
    "\n",
    "seg_cr_table_track_2 = get_info_from_image(out_dir, root, guider, instrument='nircam', detector=nrc_detector, \n",
    "                                           mode='track', instance=2, plot_image=True)"
   ]
  },
  {
   "cell_type": "markdown",
   "metadata": {},
   "source": [
    "## Image 5: NIRCam coarse #2 / SM @ +400um"
   ]
  },
  {
   "cell_type": "code",
   "execution_count": 326,
   "metadata": {},
   "outputs": [
    {
     "data": {
      "image/png": "[encoded data removed]",
      "text/plain": [
       "<Figure size 720x576 with 1 Axes>"
      ]
     },
     "metadata": {
      "needs_background": "light"
     },
     "output_type": "display_data"
    }
   ],
   "source": [
    "root = 'ote07_obs1_nrc_coarse2'\n",
    "\n",
    "seg_cr_table_coarse_2 = get_info_from_image(out_dir, root, guider, instrument='nircam', detector=nrc_detector, \n",
    "                                           mode='coarse', instance=2, plot_image=True)"
   ]
  },
  {
   "cell_type": "markdown",
   "metadata": {},
   "source": [
    "## Image 7: NIRCam track #3 / SM @ +400um"
   ]
  },
  {
   "cell_type": "code",
   "execution_count": 327,
   "metadata": {},
   "outputs": [
    {
     "data": {
      "image/png": "[encoded data removed]",
      "text/plain": [
       "<Figure size 720x576 with 1 Axes>"
      ]
     },
     "metadata": {
      "needs_background": "light"
     },
     "output_type": "display_data"
    }
   ],
   "source": [
    "root_7 = 'ote07_obs1_nrc_track3' \n",
    "\n",
    "seg_cr_table_track_3 = get_info_from_image(out_dir, root, guider, instrument='nircam', detector=nrc_detector, \n",
    "                                           mode='track', instance=3, plot_image=True)"
   ]
  },
  {
   "cell_type": "markdown",
   "metadata": {},
   "source": [
    "# Collect all the count rates across all the images\n",
    "\n",
    "For this section you will have to edit according to where you had a failure. You can do this by deleting the lines for the images that you did not get. For the sake of this exercise, I will compare the 3x3 count rates for segment PSFs for all 5 NIRCam images"
   ]
  },
  {
   "cell_type": "code",
   "execution_count": 182,
   "metadata": {},
   "outputs": [],
   "source": [
    "# Make one dataframe\n",
    "all_nrc_crs = seg_cr_track_1[['segment', 'countrate']] # First track image\n",
    "# Rename second column\n",
    "all_nrc_crs = all_nrc_crs.rename(columns={'countrate': 'track 1 countrate'})"
   ]
  },
  {
   "cell_type": "code",
   "execution_count": 183,
   "metadata": {},
   "outputs": [],
   "source": [
    "# Add additional columns - DELETE LINES IF YOU DON'T HAVE THAT DATA\n",
    "all_nrc_crs.insert(count_columns(all_nrc_crs), 'coarse 1 countrate', seg_cr_coarse_1['countrate']) \n",
    "all_nrc_crs.insert(count_columns(all_nrc_crs), 'track 2 countrate', seg_cr_track_2['countrate'])\n",
    "all_nrc_crs.insert(count_columns(all_nrc_crs), 'coarse 2 countrate', seg_cr_coarse_2['countrate'])\n",
    "all_nrc_crs.insert(count_columns(all_nrc_crs), 'track 3 countrate', seg_cr_track_3['countrate'])"
   ]
  },
  {
   "cell_type": "code",
   "execution_count": 184,
   "metadata": {},
   "outputs": [
    {
     "data": {
      "text/html": [
       "<div>\n",
       "<style scoped>\n",
       "    .dataframe tbody tr th:only-of-type {\n",
       "        vertical-align: middle;\n",
       "    }\n",
       "\n",
       "    .dataframe tbody tr th {\n",
       "        vertical-align: top;\n",
       "    }\n",
       "\n",
       "    .dataframe thead th {\n",
       "        text-align: right;\n",
       "    }\n",
       "</style>\n",
       "<table border=\"1\" class=\"dataframe\">\n",
       "  <thead>\n",
       "    <tr style=\"text-align: right;\">\n",
       "      <th></th>\n",
       "      <th>segment</th>\n",
       "      <th>track 1 countrate</th>\n",
       "      <th>coarse 1 countrate</th>\n",
       "      <th>track 2 countrate</th>\n",
       "      <th>coarse 2 countrate</th>\n",
       "      <th>track 3 countrate</th>\n",
       "    </tr>\n",
       "  </thead>\n",
       "  <tbody>\n",
       "    <tr>\n",
       "      <th>8</th>\n",
       "      <td>A1-1</td>\n",
       "      <td>30690.0</td>\n",
       "      <td>81359.0</td>\n",
       "      <td>90923.0</td>\n",
       "      <td>4235.0</td>\n",
       "      <td>4452.0</td>\n",
       "    </tr>\n",
       "    <tr>\n",
       "      <th>5</th>\n",
       "      <td>A2-2</td>\n",
       "      <td>60242.0</td>\n",
       "      <td>73771.0</td>\n",
       "      <td>3706.0</td>\n",
       "      <td>998.0</td>\n",
       "      <td>512.0</td>\n",
       "    </tr>\n",
       "    <tr>\n",
       "      <th>4</th>\n",
       "      <td>A3-3</td>\n",
       "      <td>72546.0</td>\n",
       "      <td>3903.0</td>\n",
       "      <td>6414.0</td>\n",
       "      <td>41860.0</td>\n",
       "      <td>45855.0</td>\n",
       "    </tr>\n",
       "    <tr>\n",
       "      <th>7</th>\n",
       "      <td>A4-4</td>\n",
       "      <td>63357.0</td>\n",
       "      <td>7528.0</td>\n",
       "      <td>7611.0</td>\n",
       "      <td>30475.0</td>\n",
       "      <td>30736.0</td>\n",
       "    </tr>\n",
       "    <tr>\n",
       "      <th>12</th>\n",
       "      <td>A5-5</td>\n",
       "      <td>92542.0</td>\n",
       "      <td>13924.0</td>\n",
       "      <td>14271.0</td>\n",
       "      <td>19738.0</td>\n",
       "      <td>18507.0</td>\n",
       "    </tr>\n",
       "    <tr>\n",
       "      <th>13</th>\n",
       "      <td>A6-6</td>\n",
       "      <td>1757.0</td>\n",
       "      <td>9227.0</td>\n",
       "      <td>96164.0</td>\n",
       "      <td>2381.0</td>\n",
       "      <td>2468.0</td>\n",
       "    </tr>\n",
       "    <tr>\n",
       "      <th>9</th>\n",
       "      <td>B1-7</td>\n",
       "      <td>9671.0</td>\n",
       "      <td>81757.0</td>\n",
       "      <td>82092.0</td>\n",
       "      <td>2341.0</td>\n",
       "      <td>2513.0</td>\n",
       "    </tr>\n",
       "    <tr>\n",
       "      <th>2</th>\n",
       "      <td>B2-9</td>\n",
       "      <td>30707.0</td>\n",
       "      <td>39338.0</td>\n",
       "      <td>41034.0</td>\n",
       "      <td>8678.0</td>\n",
       "      <td>9095.0</td>\n",
       "    </tr>\n",
       "    <tr>\n",
       "      <th>0</th>\n",
       "      <td>B3-11</td>\n",
       "      <td>12442.0</td>\n",
       "      <td>21581.0</td>\n",
       "      <td>24628.0</td>\n",
       "      <td>16543.0</td>\n",
       "      <td>20134.0</td>\n",
       "    </tr>\n",
       "    <tr>\n",
       "      <th>10</th>\n",
       "      <td>B4-13</td>\n",
       "      <td>10380.0</td>\n",
       "      <td>2209.0</td>\n",
       "      <td>2274.0</td>\n",
       "      <td>21438.0</td>\n",
       "      <td>25327.0</td>\n",
       "    </tr>\n",
       "    <tr>\n",
       "      <th>17</th>\n",
       "      <td>B5-15</td>\n",
       "      <td>19944.0</td>\n",
       "      <td>17560.0</td>\n",
       "      <td>18435.0</td>\n",
       "      <td>18443.0</td>\n",
       "      <td>19866.0</td>\n",
       "    </tr>\n",
       "    <tr>\n",
       "      <th>15</th>\n",
       "      <td>B6-17</td>\n",
       "      <td>36937.0</td>\n",
       "      <td>78603.0</td>\n",
       "      <td>86333.0</td>\n",
       "      <td>1000.0</td>\n",
       "      <td>629.0</td>\n",
       "    </tr>\n",
       "    <tr>\n",
       "      <th>6</th>\n",
       "      <td>C1-8</td>\n",
       "      <td>66106.0</td>\n",
       "      <td>57549.0</td>\n",
       "      <td>57277.0</td>\n",
       "      <td>2710.0</td>\n",
       "      <td>2393.0</td>\n",
       "    </tr>\n",
       "    <tr>\n",
       "      <th>1</th>\n",
       "      <td>C2-10</td>\n",
       "      <td>41484.0</td>\n",
       "      <td>20037.0</td>\n",
       "      <td>20472.0</td>\n",
       "      <td>18245.0</td>\n",
       "      <td>21303.0</td>\n",
       "    </tr>\n",
       "    <tr>\n",
       "      <th>3</th>\n",
       "      <td>C3-12</td>\n",
       "      <td>23859.0</td>\n",
       "      <td>6111.0</td>\n",
       "      <td>80107.0</td>\n",
       "      <td>12780.0</td>\n",
       "      <td>14449.0</td>\n",
       "    </tr>\n",
       "    <tr>\n",
       "      <th>14</th>\n",
       "      <td>C4-14</td>\n",
       "      <td>24244.0</td>\n",
       "      <td>87097.0</td>\n",
       "      <td>10072.0</td>\n",
       "      <td>15130.0</td>\n",
       "      <td>16271.0</td>\n",
       "    </tr>\n",
       "    <tr>\n",
       "      <th>16</th>\n",
       "      <td>C5-16</td>\n",
       "      <td>51180.0</td>\n",
       "      <td>64289.0</td>\n",
       "      <td>65965.0</td>\n",
       "      <td>1512.0</td>\n",
       "      <td>2478.0</td>\n",
       "    </tr>\n",
       "    <tr>\n",
       "      <th>11</th>\n",
       "      <td>C6-18</td>\n",
       "      <td>43257.0</td>\n",
       "      <td>102827.0</td>\n",
       "      <td>107234.0</td>\n",
       "      <td>1626.0</td>\n",
       "      <td>1455.0</td>\n",
       "    </tr>\n",
       "  </tbody>\n",
       "</table>\n",
       "</div>"
      ],
      "text/plain": [
       "   segment  track 1 countrate  coarse 1 countrate  track 2 countrate  \\\n",
       "8     A1-1            30690.0             81359.0            90923.0   \n",
       "5     A2-2            60242.0             73771.0             3706.0   \n",
       "4     A3-3            72546.0              3903.0             6414.0   \n",
       "7     A4-4            63357.0              7528.0             7611.0   \n",
       "12    A5-5            92542.0             13924.0            14271.0   \n",
       "13    A6-6             1757.0              9227.0            96164.0   \n",
       "9     B1-7             9671.0             81757.0            82092.0   \n",
       "2     B2-9            30707.0             39338.0            41034.0   \n",
       "0    B3-11            12442.0             21581.0            24628.0   \n",
       "10   B4-13            10380.0              2209.0             2274.0   \n",
       "17   B5-15            19944.0             17560.0            18435.0   \n",
       "15   B6-17            36937.0             78603.0            86333.0   \n",
       "6     C1-8            66106.0             57549.0            57277.0   \n",
       "1    C2-10            41484.0             20037.0            20472.0   \n",
       "3    C3-12            23859.0              6111.0            80107.0   \n",
       "14   C4-14            24244.0             87097.0            10072.0   \n",
       "16   C5-16            51180.0             64289.0            65965.0   \n",
       "11   C6-18            43257.0            102827.0           107234.0   \n",
       "\n",
       "    coarse 2 countrate  track 3 countrate  \n",
       "8               4235.0             4452.0  \n",
       "5                998.0              512.0  \n",
       "4              41860.0            45855.0  \n",
       "7              30475.0            30736.0  \n",
       "12             19738.0            18507.0  \n",
       "13              2381.0             2468.0  \n",
       "9               2341.0             2513.0  \n",
       "2               8678.0             9095.0  \n",
       "0              16543.0            20134.0  \n",
       "10             21438.0            25327.0  \n",
       "17             18443.0            19866.0  \n",
       "15              1000.0              629.0  \n",
       "6               2710.0             2393.0  \n",
       "1              18245.0            21303.0  \n",
       "3              12780.0            14449.0  \n",
       "14             15130.0            16271.0  \n",
       "16              1512.0             2478.0  \n",
       "11              1626.0             1455.0  "
      ]
     },
     "execution_count": 184,
     "metadata": {},
     "output_type": "execute_result"
    }
   ],
   "source": [
    "all_nrc_crs"
   ]
  },
  {
   "cell_type": "markdown",
   "metadata": {},
   "source": [
    "### Now what??"
   ]
  },
  {
   "cell_type": "markdown",
   "metadata": {},
   "source": [
    "### A. \n",
    "See if the problem is difference in the count rate we gave and that of the actual data - will need to include input data (w/ FGS image)\n",
    "\n",
    "1. compare difference between coarse and track countrates - % difference\n",
    "\n",
    "2. include FGS data in this"
   ]
  },
  {
   "cell_type": "markdown",
   "metadata": {},
   "source": [
    "### B. \n",
    "Look at % change between track and next coarse image (we will have the % error that we can expect from the above analysis)"
   ]
  },
  {
   "cell_type": "markdown",
   "metadata": {},
   "source": [
    "### C.\n",
    "Given the data we do have, determine an extrapolation model for what PSFs/what count rate thresholds we need (I need to actually do that work)"
   ]
  },
  {
   "cell_type": "markdown",
   "metadata": {},
   "source": [
    "## Failure after first mirror move"
   ]
  },
  {
   "cell_type": "code",
   "execution_count": null,
   "metadata": {},
   "outputs": [],
   "source": []
  },
  {
   "cell_type": "markdown",
   "metadata": {},
   "source": [
    "## Failure after second mirror move"
   ]
  },
  {
   "cell_type": "code",
   "execution_count": null,
   "metadata": {},
   "outputs": [],
   "source": []
  },
  {
   "cell_type": "markdown",
   "metadata": {},
   "source": [
    "# Data Analysis - only for if you have all data"
   ]
  },
  {
   "cell_type": "markdown",
   "metadata": {},
   "source": [
    "## Compare TRACK data (if you have it)"
   ]
  },
  {
   "cell_type": "code",
   "execution_count": 186,
   "metadata": {},
   "outputs": [
    {
     "data": {
      "text/html": [
       "<div>\n",
       "<style scoped>\n",
       "    .dataframe tbody tr th:only-of-type {\n",
       "        vertical-align: middle;\n",
       "    }\n",
       "\n",
       "    .dataframe tbody tr th {\n",
       "        vertical-align: top;\n",
       "    }\n",
       "\n",
       "    .dataframe thead th {\n",
       "        text-align: right;\n",
       "    }\n",
       "</style>\n",
       "<table border=\"1\" class=\"dataframe\">\n",
       "  <thead>\n",
       "    <tr style=\"text-align: right;\">\n",
       "      <th></th>\n",
       "      <th>segment</th>\n",
       "      <th>track 1 countrate</th>\n",
       "      <th>track 2 countrate</th>\n",
       "      <th>track 3 countrate</th>\n",
       "    </tr>\n",
       "  </thead>\n",
       "  <tbody>\n",
       "    <tr>\n",
       "      <th>8</th>\n",
       "      <td>A1-1</td>\n",
       "      <td>30690.0</td>\n",
       "      <td>90923.0</td>\n",
       "      <td>4452.0</td>\n",
       "    </tr>\n",
       "    <tr>\n",
       "      <th>5</th>\n",
       "      <td>A2-2</td>\n",
       "      <td>60242.0</td>\n",
       "      <td>3706.0</td>\n",
       "      <td>512.0</td>\n",
       "    </tr>\n",
       "    <tr>\n",
       "      <th>4</th>\n",
       "      <td>A3-3</td>\n",
       "      <td>72546.0</td>\n",
       "      <td>6414.0</td>\n",
       "      <td>45855.0</td>\n",
       "    </tr>\n",
       "    <tr>\n",
       "      <th>7</th>\n",
       "      <td>A4-4</td>\n",
       "      <td>63357.0</td>\n",
       "      <td>7611.0</td>\n",
       "      <td>30736.0</td>\n",
       "    </tr>\n",
       "    <tr>\n",
       "      <th>12</th>\n",
       "      <td>A5-5</td>\n",
       "      <td>92542.0</td>\n",
       "      <td>14271.0</td>\n",
       "      <td>18507.0</td>\n",
       "    </tr>\n",
       "    <tr>\n",
       "      <th>13</th>\n",
       "      <td>A6-6</td>\n",
       "      <td>1757.0</td>\n",
       "      <td>96164.0</td>\n",
       "      <td>2468.0</td>\n",
       "    </tr>\n",
       "    <tr>\n",
       "      <th>9</th>\n",
       "      <td>B1-7</td>\n",
       "      <td>9671.0</td>\n",
       "      <td>82092.0</td>\n",
       "      <td>2513.0</td>\n",
       "    </tr>\n",
       "    <tr>\n",
       "      <th>2</th>\n",
       "      <td>B2-9</td>\n",
       "      <td>30707.0</td>\n",
       "      <td>41034.0</td>\n",
       "      <td>9095.0</td>\n",
       "    </tr>\n",
       "    <tr>\n",
       "      <th>0</th>\n",
       "      <td>B3-11</td>\n",
       "      <td>12442.0</td>\n",
       "      <td>24628.0</td>\n",
       "      <td>20134.0</td>\n",
       "    </tr>\n",
       "    <tr>\n",
       "      <th>10</th>\n",
       "      <td>B4-13</td>\n",
       "      <td>10380.0</td>\n",
       "      <td>2274.0</td>\n",
       "      <td>25327.0</td>\n",
       "    </tr>\n",
       "    <tr>\n",
       "      <th>17</th>\n",
       "      <td>B5-15</td>\n",
       "      <td>19944.0</td>\n",
       "      <td>18435.0</td>\n",
       "      <td>19866.0</td>\n",
       "    </tr>\n",
       "    <tr>\n",
       "      <th>15</th>\n",
       "      <td>B6-17</td>\n",
       "      <td>36937.0</td>\n",
       "      <td>86333.0</td>\n",
       "      <td>629.0</td>\n",
       "    </tr>\n",
       "    <tr>\n",
       "      <th>6</th>\n",
       "      <td>C1-8</td>\n",
       "      <td>66106.0</td>\n",
       "      <td>57277.0</td>\n",
       "      <td>2393.0</td>\n",
       "    </tr>\n",
       "    <tr>\n",
       "      <th>1</th>\n",
       "      <td>C2-10</td>\n",
       "      <td>41484.0</td>\n",
       "      <td>20472.0</td>\n",
       "      <td>21303.0</td>\n",
       "    </tr>\n",
       "    <tr>\n",
       "      <th>3</th>\n",
       "      <td>C3-12</td>\n",
       "      <td>23859.0</td>\n",
       "      <td>80107.0</td>\n",
       "      <td>14449.0</td>\n",
       "    </tr>\n",
       "    <tr>\n",
       "      <th>14</th>\n",
       "      <td>C4-14</td>\n",
       "      <td>24244.0</td>\n",
       "      <td>10072.0</td>\n",
       "      <td>16271.0</td>\n",
       "    </tr>\n",
       "    <tr>\n",
       "      <th>16</th>\n",
       "      <td>C5-16</td>\n",
       "      <td>51180.0</td>\n",
       "      <td>65965.0</td>\n",
       "      <td>2478.0</td>\n",
       "    </tr>\n",
       "    <tr>\n",
       "      <th>11</th>\n",
       "      <td>C6-18</td>\n",
       "      <td>43257.0</td>\n",
       "      <td>107234.0</td>\n",
       "      <td>1455.0</td>\n",
       "    </tr>\n",
       "  </tbody>\n",
       "</table>\n",
       "</div>"
      ],
      "text/plain": [
       "   segment  track 1 countrate  track 2 countrate  track 3 countrate\n",
       "8     A1-1            30690.0            90923.0             4452.0\n",
       "5     A2-2            60242.0             3706.0              512.0\n",
       "4     A3-3            72546.0             6414.0            45855.0\n",
       "7     A4-4            63357.0             7611.0            30736.0\n",
       "12    A5-5            92542.0            14271.0            18507.0\n",
       "13    A6-6             1757.0            96164.0             2468.0\n",
       "9     B1-7             9671.0            82092.0             2513.0\n",
       "2     B2-9            30707.0            41034.0             9095.0\n",
       "0    B3-11            12442.0            24628.0            20134.0\n",
       "10   B4-13            10380.0             2274.0            25327.0\n",
       "17   B5-15            19944.0            18435.0            19866.0\n",
       "15   B6-17            36937.0            86333.0              629.0\n",
       "6     C1-8            66106.0            57277.0             2393.0\n",
       "1    C2-10            41484.0            20472.0            21303.0\n",
       "3    C3-12            23859.0            80107.0            14449.0\n",
       "14   C4-14            24244.0            10072.0            16271.0\n",
       "16   C5-16            51180.0            65965.0             2478.0\n",
       "11   C6-18            43257.0           107234.0             1455.0"
      ]
     },
     "execution_count": 186,
     "metadata": {},
     "output_type": "execute_result"
    }
   ],
   "source": [
    "track_nrc_crs = all_nrc_crs[['segment', 'track 1 countrate', 'track 2 countrate', 'track 3 countrate']]\n",
    "track_nrc_crs"
   ]
  },
  {
   "cell_type": "markdown",
   "metadata": {},
   "source": [
    "## Compare COARSE data (if you have it)"
   ]
  },
  {
   "cell_type": "code",
   "execution_count": 188,
   "metadata": {},
   "outputs": [
    {
     "data": {
      "text/html": [
       "<div>\n",
       "<style scoped>\n",
       "    .dataframe tbody tr th:only-of-type {\n",
       "        vertical-align: middle;\n",
       "    }\n",
       "\n",
       "    .dataframe tbody tr th {\n",
       "        vertical-align: top;\n",
       "    }\n",
       "\n",
       "    .dataframe thead th {\n",
       "        text-align: right;\n",
       "    }\n",
       "</style>\n",
       "<table border=\"1\" class=\"dataframe\">\n",
       "  <thead>\n",
       "    <tr style=\"text-align: right;\">\n",
       "      <th></th>\n",
       "      <th>segment</th>\n",
       "      <th>coarse 1 countrate</th>\n",
       "      <th>coarse 2 countrate</th>\n",
       "    </tr>\n",
       "  </thead>\n",
       "  <tbody>\n",
       "    <tr>\n",
       "      <th>8</th>\n",
       "      <td>A1-1</td>\n",
       "      <td>81359.0</td>\n",
       "      <td>4235.0</td>\n",
       "    </tr>\n",
       "    <tr>\n",
       "      <th>5</th>\n",
       "      <td>A2-2</td>\n",
       "      <td>73771.0</td>\n",
       "      <td>998.0</td>\n",
       "    </tr>\n",
       "    <tr>\n",
       "      <th>4</th>\n",
       "      <td>A3-3</td>\n",
       "      <td>3903.0</td>\n",
       "      <td>41860.0</td>\n",
       "    </tr>\n",
       "    <tr>\n",
       "      <th>7</th>\n",
       "      <td>A4-4</td>\n",
       "      <td>7528.0</td>\n",
       "      <td>30475.0</td>\n",
       "    </tr>\n",
       "    <tr>\n",
       "      <th>12</th>\n",
       "      <td>A5-5</td>\n",
       "      <td>13924.0</td>\n",
       "      <td>19738.0</td>\n",
       "    </tr>\n",
       "    <tr>\n",
       "      <th>13</th>\n",
       "      <td>A6-6</td>\n",
       "      <td>9227.0</td>\n",
       "      <td>2381.0</td>\n",
       "    </tr>\n",
       "    <tr>\n",
       "      <th>9</th>\n",
       "      <td>B1-7</td>\n",
       "      <td>81757.0</td>\n",
       "      <td>2341.0</td>\n",
       "    </tr>\n",
       "    <tr>\n",
       "      <th>2</th>\n",
       "      <td>B2-9</td>\n",
       "      <td>39338.0</td>\n",
       "      <td>8678.0</td>\n",
       "    </tr>\n",
       "    <tr>\n",
       "      <th>0</th>\n",
       "      <td>B3-11</td>\n",
       "      <td>21581.0</td>\n",
       "      <td>16543.0</td>\n",
       "    </tr>\n",
       "    <tr>\n",
       "      <th>10</th>\n",
       "      <td>B4-13</td>\n",
       "      <td>2209.0</td>\n",
       "      <td>21438.0</td>\n",
       "    </tr>\n",
       "    <tr>\n",
       "      <th>17</th>\n",
       "      <td>B5-15</td>\n",
       "      <td>17560.0</td>\n",
       "      <td>18443.0</td>\n",
       "    </tr>\n",
       "    <tr>\n",
       "      <th>15</th>\n",
       "      <td>B6-17</td>\n",
       "      <td>78603.0</td>\n",
       "      <td>1000.0</td>\n",
       "    </tr>\n",
       "    <tr>\n",
       "      <th>6</th>\n",
       "      <td>C1-8</td>\n",
       "      <td>57549.0</td>\n",
       "      <td>2710.0</td>\n",
       "    </tr>\n",
       "    <tr>\n",
       "      <th>1</th>\n",
       "      <td>C2-10</td>\n",
       "      <td>20037.0</td>\n",
       "      <td>18245.0</td>\n",
       "    </tr>\n",
       "    <tr>\n",
       "      <th>3</th>\n",
       "      <td>C3-12</td>\n",
       "      <td>6111.0</td>\n",
       "      <td>12780.0</td>\n",
       "    </tr>\n",
       "    <tr>\n",
       "      <th>14</th>\n",
       "      <td>C4-14</td>\n",
       "      <td>87097.0</td>\n",
       "      <td>15130.0</td>\n",
       "    </tr>\n",
       "    <tr>\n",
       "      <th>16</th>\n",
       "      <td>C5-16</td>\n",
       "      <td>64289.0</td>\n",
       "      <td>1512.0</td>\n",
       "    </tr>\n",
       "    <tr>\n",
       "      <th>11</th>\n",
       "      <td>C6-18</td>\n",
       "      <td>102827.0</td>\n",
       "      <td>1626.0</td>\n",
       "    </tr>\n",
       "  </tbody>\n",
       "</table>\n",
       "</div>"
      ],
      "text/plain": [
       "   segment  coarse 1 countrate  coarse 2 countrate\n",
       "8     A1-1             81359.0              4235.0\n",
       "5     A2-2             73771.0               998.0\n",
       "4     A3-3              3903.0             41860.0\n",
       "7     A4-4              7528.0             30475.0\n",
       "12    A5-5             13924.0             19738.0\n",
       "13    A6-6              9227.0              2381.0\n",
       "9     B1-7             81757.0              2341.0\n",
       "2     B2-9             39338.0              8678.0\n",
       "0    B3-11             21581.0             16543.0\n",
       "10   B4-13              2209.0             21438.0\n",
       "17   B5-15             17560.0             18443.0\n",
       "15   B6-17             78603.0              1000.0\n",
       "6     C1-8             57549.0              2710.0\n",
       "1    C2-10             20037.0             18245.0\n",
       "3    C3-12              6111.0             12780.0\n",
       "14   C4-14             87097.0             15130.0\n",
       "16   C5-16             64289.0              1512.0\n",
       "11   C6-18            102827.0              1626.0"
      ]
     },
     "execution_count": 188,
     "metadata": {},
     "output_type": "execute_result"
    }
   ],
   "source": [
    "coarse_nrc_crs = all_nrc_crs[['segment', 'coarse 1 countrate', 'coarse 2 countrate']]\n",
    "coarse_nrc_crs"
   ]
  },
  {
   "cell_type": "markdown",
   "metadata": {},
   "source": [
    "# Bright object list\n",
    "(new work July 2021)"
   ]
  },
  {
   "cell_type": "markdown",
   "metadata": {},
   "source": [
    "RUN THE ABOVE DATA AGAIN WITH NEW MAGIC\n",
    "\n",
    "TO DO:\n",
    "1. Grab bright object list for current state\n",
    "2. plot bright object list information with guiding selections file on input image (doesn't matter which image, just determine the matching between the two lists)\n"
   ]
  },
  {
   "cell_type": "code",
   "execution_count": 5,
   "metadata": {},
   "outputs": [
    {
     "data": {
      "text/plain": [
       "'/Users/kbrooks/git_repos/jwst-magic-fork/out/ga_contingency/out/ote07_obs1_fgs_coarse1/guiding_config_1/dhas_shifted/idSim_cfg_default_20210713_164854.bobj'"
      ]
     },
     "execution_count": 5,
     "metadata": {},
     "output_type": "execute_result"
    }
   ],
   "source": [
    "# Use a BS list to start\\\n",
    "bright_object_list = glob(os.path.join(out_dir, 'out', 'ote07_obs1_fgs_coarse1', 'guiding_config_1', 'dhas_shifted',\n",
    "                                       '*.bobj'))[0]\n",
    "bright_object_list"
   ]
  },
  {
   "cell_type": "code",
   "execution_count": 16,
   "metadata": {},
   "outputs": [
    {
     "data": {
      "text/html": [
       "<div>\n",
       "<style scoped>\n",
       "    .dataframe tbody tr th:only-of-type {\n",
       "        vertical-align: middle;\n",
       "    }\n",
       "\n",
       "    .dataframe tbody tr th {\n",
       "        vertical-align: top;\n",
       "    }\n",
       "\n",
       "    .dataframe thead th {\n",
       "        text-align: right;\n",
       "    }\n",
       "</style>\n",
       "<table border=\"1\" class=\"dataframe\">\n",
       "  <thead>\n",
       "    <tr style=\"text-align: right;\">\n",
       "      <th></th>\n",
       "      <th>Cand#</th>\n",
       "      <th>Strip#</th>\n",
       "      <th>CDS#</th>\n",
       "      <th>FPA Row (pixels)</th>\n",
       "      <th>FPA Column (pixels)</th>\n",
       "      <th>FPA Peak Signal (counts)</th>\n",
       "      <th>FPA Count Sum (counts)</th>\n",
       "    </tr>\n",
       "  </thead>\n",
       "  <tbody>\n",
       "    <tr>\n",
       "      <th>0</th>\n",
       "      <td>0</td>\n",
       "      <td>27</td>\n",
       "      <td>1</td>\n",
       "      <td>1508</td>\n",
       "      <td>1118</td>\n",
       "      <td>1194</td>\n",
       "      <td>7792</td>\n",
       "    </tr>\n",
       "    <tr>\n",
       "      <th>1</th>\n",
       "      <td>1</td>\n",
       "      <td>30</td>\n",
       "      <td>1</td>\n",
       "      <td>1668</td>\n",
       "      <td>1208</td>\n",
       "      <td>1016</td>\n",
       "      <td>7289</td>\n",
       "    </tr>\n",
       "    <tr>\n",
       "      <th>2</th>\n",
       "      <td>2</td>\n",
       "      <td>21</td>\n",
       "      <td>2</td>\n",
       "      <td>1183</td>\n",
       "      <td>1116</td>\n",
       "      <td>997</td>\n",
       "      <td>7404</td>\n",
       "    </tr>\n",
       "    <tr>\n",
       "      <th>3</th>\n",
       "      <td>3</td>\n",
       "      <td>27</td>\n",
       "      <td>2</td>\n",
       "      <td>1502</td>\n",
       "      <td>1301</td>\n",
       "      <td>1180</td>\n",
       "      <td>6853</td>\n",
       "    </tr>\n",
       "    <tr>\n",
       "      <th>4</th>\n",
       "      <td>4</td>\n",
       "      <td>24</td>\n",
       "      <td>1</td>\n",
       "      <td>1343</td>\n",
       "      <td>1209</td>\n",
       "      <td>1109</td>\n",
       "      <td>6316</td>\n",
       "    </tr>\n",
       "    <tr>\n",
       "      <th>5</th>\n",
       "      <td>5</td>\n",
       "      <td>30</td>\n",
       "      <td>2</td>\n",
       "      <td>1674</td>\n",
       "      <td>1028</td>\n",
       "      <td>883</td>\n",
       "      <td>6039</td>\n",
       "    </tr>\n",
       "    <tr>\n",
       "      <th>6</th>\n",
       "      <td>6</td>\n",
       "      <td>21</td>\n",
       "      <td>1</td>\n",
       "      <td>1177</td>\n",
       "      <td>1302</td>\n",
       "      <td>839</td>\n",
       "      <td>5667</td>\n",
       "    </tr>\n",
       "    <tr>\n",
       "      <th>7</th>\n",
       "      <td>7</td>\n",
       "      <td>24</td>\n",
       "      <td>1</td>\n",
       "      <td>1340</td>\n",
       "      <td>1392</td>\n",
       "      <td>750</td>\n",
       "      <td>4678</td>\n",
       "    </tr>\n",
       "    <tr>\n",
       "      <th>8</th>\n",
       "      <td>8</td>\n",
       "      <td>18</td>\n",
       "      <td>2</td>\n",
       "      <td>1018</td>\n",
       "      <td>1208</td>\n",
       "      <td>595</td>\n",
       "      <td>4116</td>\n",
       "    </tr>\n",
       "    <tr>\n",
       "      <th>9</th>\n",
       "      <td>9</td>\n",
       "      <td>30</td>\n",
       "      <td>2</td>\n",
       "      <td>1682</td>\n",
       "      <td>836</td>\n",
       "      <td>388</td>\n",
       "      <td>2440</td>\n",
       "    </tr>\n",
       "    <tr>\n",
       "      <th>10</th>\n",
       "      <td>10</td>\n",
       "      <td>19</td>\n",
       "      <td>2</td>\n",
       "      <td>1029</td>\n",
       "      <td>841</td>\n",
       "      <td>335</td>\n",
       "      <td>2371</td>\n",
       "    </tr>\n",
       "    <tr>\n",
       "      <th>11</th>\n",
       "      <td>11</td>\n",
       "      <td>18</td>\n",
       "      <td>2</td>\n",
       "      <td>1025</td>\n",
       "      <td>1024</td>\n",
       "      <td>311</td>\n",
       "      <td>2059</td>\n",
       "    </tr>\n",
       "    <tr>\n",
       "      <th>12</th>\n",
       "      <td>12</td>\n",
       "      <td>19</td>\n",
       "      <td>2</td>\n",
       "      <td>1028</td>\n",
       "      <td>1210</td>\n",
       "      <td>241</td>\n",
       "      <td>1678</td>\n",
       "    </tr>\n",
       "  </tbody>\n",
       "</table>\n",
       "</div>"
      ],
      "text/plain": [
       "    Cand#  Strip#  CDS#  FPA Row (pixels)  FPA Column (pixels)  \\\n",
       "0       0      27     1              1508                 1118   \n",
       "1       1      30     1              1668                 1208   \n",
       "2       2      21     2              1183                 1116   \n",
       "3       3      27     2              1502                 1301   \n",
       "4       4      24     1              1343                 1209   \n",
       "5       5      30     2              1674                 1028   \n",
       "6       6      21     1              1177                 1302   \n",
       "7       7      24     1              1340                 1392   \n",
       "8       8      18     2              1018                 1208   \n",
       "9       9      30     2              1682                  836   \n",
       "10     10      19     2              1029                  841   \n",
       "11     11      18     2              1025                 1024   \n",
       "12     12      19     2              1028                 1210   \n",
       "\n",
       "    FPA Peak Signal (counts)   FPA Count Sum (counts)  \n",
       "0                       1194                     7792  \n",
       "1                       1016                     7289  \n",
       "2                        997                     7404  \n",
       "3                       1180                     6853  \n",
       "4                       1109                     6316  \n",
       "5                        883                     6039  \n",
       "6                        839                     5667  \n",
       "7                        750                     4678  \n",
       "8                        595                     4116  \n",
       "9                        388                     2440  \n",
       "10                       335                     2371  \n",
       "11                       311                     2059  \n",
       "12                       241                     1678  "
      ]
     },
     "execution_count": 16,
     "metadata": {},
     "output_type": "execute_result"
    }
   ],
   "source": [
    "bright_object_df = pd.read_csv(bright_object_list)\n",
    "\n",
    "bright_object_df"
   ]
  },
  {
   "cell_type": "code",
   "execution_count": 29,
   "metadata": {},
   "outputs": [
    {
     "data": {
      "text/plain": [
       "array([1508, 1668, 1183, 1502, 1343, 1674, 1177, 1340, 1018, 1682, 1029,\n",
       "       1025, 1028])"
      ]
     },
     "execution_count": 29,
     "metadata": {},
     "output_type": "execute_result"
    }
   ],
   "source": [
    "bright_object_df['FPA Row (pixels)'].values"
   ]
  },
  {
   "cell_type": "code",
   "execution_count": 24,
   "metadata": {},
   "outputs": [],
   "source": [
    "# Plot the bright object list over a pseudo-fgs image with the magic values so we can join the two datasets\n",
    "root = 'ote07_obs1_nrc_track1'\n",
    "instrument = 'nircam'\n",
    "mode = 'track'\n",
    "instance = 1\n",
    "ins = 'nrc' \n",
    "#         # Expected filename anatomy\n",
    "#         image_filename = f'jw0{program_id}001001_0{visit_group}101_0000{exp_num}_{ins}{detector.lower()}_cal.fits'\n",
    "detector = str(nrc_detector)\n",
    "image_filename = os.path.join(out_dir, 'out', root, 'FGS_imgs', \n",
    "                              'unshifted_ote07_obs1_nrc_track1_G1.fits') \n",
    "                      #f\"*{ins}{detector.lower()}_cal.fits\"))[0]\n",
    "\n",
    "# Load in the image\n",
    "image_sci = fits.getdata(image_filename)"
   ]
  },
  {
   "cell_type": "code",
   "execution_count": 33,
   "metadata": {},
   "outputs": [
    {
     "data": {
      "image/png": "[encoded data removed]",
      "text/plain": [
       "<Figure size 720x576 with 1 Axes>"
      ]
     },
     "metadata": {
      "needs_background": "light"
     },
     "output_type": "display_data"
    }
   ],
   "source": [
    "# Look at the image\n",
    "plt.figure(figsize=(10, 8))\n",
    "plt.imshow(image_sci, cmap='Blues_r', vmin=0, vmax=10000, origin='lower')\n",
    "\n",
    "# bright object list\n",
    "plt.scatter(bright_object_df['FPA Column (pixels)'].values, \n",
    "            bright_object_df['FPA Row (pixels)'].values, color='C1')\n",
    "\n",
    "\n",
    "plt.title(f'OTE-07 (GA1) Obs1 {instrument.upper()} {mode.upper()} {instance} (SCI frame)')\n",
    "plt.show()"
   ]
  },
  {
   "cell_type": "markdown",
   "metadata": {},
   "source": [
    "# Taking a step back "
   ]
  },
  {
   "cell_type": "markdown",
   "metadata": {},
   "source": [
    "- input image from LOS-02, use this to make our override files (star file in the DHAS world)\n",
    "- failed run\n",
    "- get down the data\n",
    "    - EX1: failed after first mirror move\n",
    "        - FGS ID, acq, trk before mirror move\n",
    "        - NIRCam image in Track before mirror move\n",
    "        - NIRCam in coarse\n",
    "        - FGS im coarse\n",
    "        - FGS track-attempt products where it failed (should at least have ID)\n",
    "    - EX2: failed after second mirror move\n",
    "        - all products above, plus:\n",
    "        - completed 2nd track attempt files\n",
    "        - NIRCam image in track \n",
    "        - NIRCam in coarse\n",
    "        - FGS in coarse\n",
    "        - FGS track-attempt products where it failed\n",
    "        \n",
    "If we fail after the second mirror move (EX2), we can discuss it as a team, but since we have NIRCam coarse images, we have all the information we need (in theory) to carry on. \n",
    "\n",
    "EX1 is the most likely case so we will look at that one here. "
   ]
  },
  {
   "cell_type": "markdown",
   "metadata": {},
   "source": [
    "In MAGIC to make test products:\n",
    "\n",
    "- use LOS-02 obs 2 image to make \"override file\" (make .star file that will act as the override file in DHAS)\n",
    "- use FGS point source seed image from MIRAGE to make your pseudo ID strips \n",
    "- look at the NIRCam track image, NIRCam coarse, and FGS coarse\n",
    "- (you would also probably look at data from first track attempt, but we don't have that, we could make it from the NIRCam track image, but it's probably not necessary for analysis, we might see some variations in the counts...)"
   ]
  },
  {
   "cell_type": "markdown",
   "metadata": {},
   "source": [
    "### Parameters to change "
   ]
  },
  {
   "cell_type": "code",
   "execution_count": 54,
   "metadata": {},
   "outputs": [],
   "source": [
    "threshold = .9\n",
    "guider = 1 \n",
    "nrc_detector = 'A3'\n",
    "\n",
    "out_dir = '/Users/kbrooks/git_repos/jwst-magic-fork/out/ga_contingency/' \n",
    "# We expect MAGIC directory structures for each of the following\n",
    "root_psuedo_fgs = 'for_ote07_obs1'\n",
    "root_nrc_track_1 = 'ote07_obs1_nrc_track1'\n",
    "root_nrc_coarse_1 = 'ote07_obs1_nrc_coarse1'\n",
    "root_fgs_coarse_1 = 'ote07_obs1_fgs_coarse1'\n",
    "# This will not be in the above directory\n",
    "bright_object_list = glob(os.path.join(out_dir, 'out', root_fgs_coarse_1, 'guiding_config_1', \n",
    "                                        'dhas_shifted', '*.bobj'))[0]"
   ]
  },
  {
   "cell_type": "markdown",
   "metadata": {},
   "source": [
    "### Parameters to NOT change "
   ]
  },
  {
   "cell_type": "code",
   "execution_count": 49,
   "metadata": {},
   "outputs": [],
   "source": [
    "# Do not change these variables\n",
    "program_id = 1141 \n",
    "observation = 1"
   ]
  },
  {
   "cell_type": "code",
   "execution_count": null,
   "metadata": {},
   "outputs": [],
   "source": [
    "if guider==1:\n",
    "    segment_map = segment_map_g1\n",
    "elif guider==2:\n",
    "    segment_map = segment_map_g2\n",
    "else:\n",
    "    raise ValueError('There are only two guiders. Please provide \"1\" or \"2\" for the guider variable')"
   ]
  },
  {
   "cell_type": "markdown",
   "metadata": {},
   "source": [
    "## Input image and commanded segments with count rates"
   ]
  },
  {
   "cell_type": "code",
   "execution_count": 31,
   "metadata": {},
   "outputs": [
    {
     "data": {
      "text/html": [
       "<div>\n",
       "<style scoped>\n",
       "    .dataframe tbody tr th:only-of-type {\n",
       "        vertical-align: middle;\n",
       "    }\n",
       "\n",
       "    .dataframe tbody tr th {\n",
       "        vertical-align: top;\n",
       "    }\n",
       "\n",
       "    .dataframe thead th {\n",
       "        text-align: right;\n",
       "    }\n",
       "</style>\n",
       "<table border=\"1\" class=\"dataframe\">\n",
       "  <thead>\n",
       "    <tr style=\"text-align: right;\">\n",
       "      <th></th>\n",
       "      <th>y</th>\n",
       "      <th>x</th>\n",
       "      <th>countrate</th>\n",
       "    </tr>\n",
       "  </thead>\n",
       "  <tbody>\n",
       "    <tr>\n",
       "      <th>0</th>\n",
       "      <td>1024.5</td>\n",
       "      <td>1024.5</td>\n",
       "      <td>30726.0</td>\n",
       "    </tr>\n",
       "    <tr>\n",
       "      <th>1</th>\n",
       "      <td>1654.5</td>\n",
       "      <td>1216.5</td>\n",
       "      <td>26162.0</td>\n",
       "    </tr>\n",
       "    <tr>\n",
       "      <th>2</th>\n",
       "      <td>1667.5</td>\n",
       "      <td>853.5</td>\n",
       "      <td>15204.0</td>\n",
       "    </tr>\n",
       "  </tbody>\n",
       "</table>\n",
       "</div>"
      ],
      "text/plain": [
       "        y       x  countrate\n",
       "0  1024.5  1024.5    30726.0\n",
       "1  1654.5  1216.5    26162.0\n",
       "2  1667.5   853.5    15204.0"
      ]
     },
     "execution_count": 31,
     "metadata": {},
     "output_type": "execute_result"
    }
   ],
   "source": [
    "# Guiding selections file\n",
    "# The first row is the guide star, subsequent rows are reference stars. Order of ref stars doesn't matter.\n",
    "commanded = pd.read_csv(os.path.join(out_dir, 'out', root, 'guiding_config_1',\n",
    "                        f'shifted_guiding_selections_{root}_G{guider}_config1.txt'),\n",
    "                        skiprows=1, delimiter=' ', names=['y', 'x', 'countrate'])\n",
    "\n",
    "commanded"
   ]
  },
  {
   "cell_type": "code",
   "execution_count": 47,
   "metadata": {},
   "outputs": [
    {
     "data": {
      "text/html": [
       "<div>\n",
       "<style scoped>\n",
       "    .dataframe tbody tr th:only-of-type {\n",
       "        vertical-align: middle;\n",
       "    }\n",
       "\n",
       "    .dataframe tbody tr th {\n",
       "        vertical-align: top;\n",
       "    }\n",
       "\n",
       "    .dataframe thead th {\n",
       "        text-align: right;\n",
       "    }\n",
       "</style>\n",
       "<table border=\"1\" class=\"dataframe\">\n",
       "  <thead>\n",
       "    <tr style=\"text-align: right;\">\n",
       "      <th></th>\n",
       "      <th>y</th>\n",
       "      <th>x</th>\n",
       "      <th>countrate</th>\n",
       "      <th>thresholds</th>\n",
       "    </tr>\n",
       "  </thead>\n",
       "  <tbody>\n",
       "    <tr>\n",
       "      <th>0</th>\n",
       "      <td>1024.5</td>\n",
       "      <td>1024.5</td>\n",
       "      <td>30726.0</td>\n",
       "      <td>27653.4</td>\n",
       "    </tr>\n",
       "    <tr>\n",
       "      <th>1</th>\n",
       "      <td>1654.5</td>\n",
       "      <td>1216.5</td>\n",
       "      <td>26162.0</td>\n",
       "      <td>23545.8</td>\n",
       "    </tr>\n",
       "    <tr>\n",
       "      <th>2</th>\n",
       "      <td>1667.5</td>\n",
       "      <td>853.5</td>\n",
       "      <td>15204.0</td>\n",
       "      <td>13683.6</td>\n",
       "    </tr>\n",
       "  </tbody>\n",
       "</table>\n",
       "</div>"
      ],
      "text/plain": [
       "        y       x  countrate  thresholds\n",
       "0  1024.5  1024.5    30726.0     27653.4\n",
       "1  1654.5  1216.5    26162.0     23545.8\n",
       "2  1667.5   853.5    15204.0     13683.6"
      ]
     },
     "execution_count": 47,
     "metadata": {},
     "output_type": "execute_result"
    }
   ],
   "source": [
    "# Add the count rate threshold to the table\n",
    "thresholds = threshold * commanded['countrate'].values\n",
    "\n",
    "commanded['thresholds'] = thresholds\n",
    "\n",
    "commanded"
   ]
  },
  {
   "cell_type": "code",
   "execution_count": 48,
   "metadata": {},
   "outputs": [
    {
     "data": {
      "image/png": "[encoded data removed]",
      "text/plain": [
       "<Figure size 864x720 with 1 Axes>"
      ]
     },
     "metadata": {
      "needs_background": "light"
     },
     "output_type": "display_data"
    }
   ],
   "source": [
    "# Plot our Psuedo FGS image\n",
    "root = root_psuedo_fgs\n",
    "image_filename = os.path.join(out_dir, 'out', root, 'guiding_config_1', 'FGS_imgs', \n",
    "                                   f'shifted_{root}_G1_config1.fits')\n",
    "\n",
    "# Load in the image\n",
    "psuedo_fgs = fits.getdata(image_filename)\n",
    "\n",
    "# Plot it\n",
    "plt.figure(figsize=(12, 10))\n",
    "plt.imshow(psuedo_fgs, cmap='Blues_r', vmin=0, vmax=1000, origin='lower')\n",
    "plt.scatter(commanded['x'].values[0], commanded['y'].values[0], s=100, facecolors='none',  edgecolors='yellow',\n",
    "            linewidths=2.0, label='Guide Star')\n",
    "plt.scatter(commanded['x'].values[1:], commanded['y'].values[1:], s=100, facecolors='none',  edgecolors='C1',\n",
    "            linewidths=2.0, label=\"Reference Stars\")\n",
    "plt.legend()\n",
    "plt.title('Pseudo-FGS image for OTE-07 obs 1')\n",
    "plt.show()"
   ]
  },
  {
   "cell_type": "markdown",
   "metadata": {},
   "source": [
    "# Look at the data products that we have"
   ]
  },
  {
   "cell_type": "markdown",
   "metadata": {},
   "source": [
    "TODO: indicate config 1, 2, and 3 on these images"
   ]
  },
  {
   "cell_type": "markdown",
   "metadata": {},
   "source": [
    "## NIRCam image while in Track (first attempt - no mirror move)"
   ]
  },
  {
   "cell_type": "code",
   "execution_count": 10,
   "metadata": {},
   "outputs": [
    {
     "data": {
      "image/png": "[encoded data removed]",
      "text/plain": [
       "<Figure size 720x576 with 1 Axes>"
      ]
     },
     "metadata": {
      "needs_background": "light"
     },
     "output_type": "display_data"
    }
   ],
   "source": [
    "# Plot the bright object list over a pseudo-fgs image with the magic values so we can join the two datasets\n",
    "root = root_nrc_track_1\n",
    "image_filename = glob(os.path.join(out_dir, 'out', root, f'jw*_nrc{nrc_detector.lower()}_cal.fits'))[0]\n",
    "\n",
    "# Load in the image\n",
    "image_sci = fits.getdata(image_filename)\n",
    "\n",
    "# Plot it\n",
    "plt.figure(figsize=(10, 8))\n",
    "plt.imshow(image_sci, cmap='Blues_r', vmin=0, vmax=10000, origin='lower')\n",
    "plt.title('OTE-07 (GA1) NIRCam in Track (1) Obs1  (SCI coordinate frame)')\n",
    "plt.show()"
   ]
  },
  {
   "cell_type": "markdown",
   "metadata": {},
   "source": [
    "## NIRCam image while in Coarse point (after first secondary mirror move)"
   ]
  },
  {
   "cell_type": "code",
   "execution_count": 11,
   "metadata": {},
   "outputs": [
    {
     "data": {
      "image/png": "[encoded data removed]",
      "text/plain": [
       "<Figure size 720x576 with 1 Axes>"
      ]
     },
     "metadata": {
      "needs_background": "light"
     },
     "output_type": "display_data"
    }
   ],
   "source": [
    "# Plot the bright object list over a pseudo-fgs image with the magic values so we can join the two datasets\n",
    "root = root_nrc_coarse_1\n",
    "image_filename = glob(os.path.join(out_dir, 'out', root, f'jw*_nrc{nrc_detector.lower()}_cal.fits'))[0]\n",
    "\n",
    "# Load in the image\n",
    "image_sci = fits.getdata(image_filename)\n",
    "\n",
    "# Plot it\n",
    "plt.figure(figsize=(10, 8))\n",
    "plt.imshow(image_sci, cmap='Blues_r', vmin=0, vmax=10000, origin='lower')\n",
    "plt.title('OTE-07 (GA1) NIRCam in coarse (1) Obs1  (SCI coordinate frame)')\n",
    "plt.show()"
   ]
  },
  {
   "cell_type": "markdown",
   "metadata": {},
   "source": [
    "## FGS image while in Coarse point (after first secondary mirror move)"
   ]
  },
  {
   "cell_type": "code",
   "execution_count": 15,
   "metadata": {},
   "outputs": [
    {
     "data": {
      "image/png": "[encoded data removed]",
      "text/plain": [
       "<Figure size 720x576 with 1 Axes>"
      ]
     },
     "metadata": {
      "needs_background": "light"
     },
     "output_type": "display_data"
    }
   ],
   "source": [
    "# Plot the bright object list over a pseudo-fgs image with the magic values so we can join the two datasets\n",
    "root = root_fgs_coarse_1\n",
    "image_filename = glob(os.path.join(out_dir, 'out', root, f'jw*_g{guider}_cal.fits'))[0]\n",
    "\n",
    "# Load in the image\n",
    "image_sci = fits.getdata(image_filename)\n",
    "\n",
    "# Plot it\n",
    "plt.figure(figsize=(10, 8))\n",
    "plt.imshow(image_sci, cmap='Blues_r', vmin=0, vmax=50, origin='lower')\n",
    "plt.title('OTE-07 (GA1) Guider in coarse (1) Obs1  (SCI coordinate frame)')\n",
    "plt.show()"
   ]
  },
  {
   "cell_type": "markdown",
   "metadata": {},
   "source": [
    "##  Compare\n",
    "TODO: take ID strips (from sky) and run through the DAHS to get bright object list (if we don't already get it). Compare the bright object list to the command"
   ]
  },
  {
   "cell_type": "code",
   "execution_count": 55,
   "metadata": {},
   "outputs": [
    {
     "data": {
      "text/plain": [
       "'/Users/kbrooks/git_repos/jwst-magic-fork/out/ga_contingency/out/ote07_obs1_fgs_coarse1/guiding_config_1/dhas_shifted/idSim_cfg_default_20210713_164854.bobj'"
      ]
     },
     "execution_count": 55,
     "metadata": {},
     "output_type": "execute_result"
    }
   ],
   "source": [
    "# Use a BS list to start\n",
    "# TODO: replace with your birght object list\n",
    "\n",
    "bright_object_list"
   ]
  },
  {
   "cell_type": "code",
   "execution_count": 56,
   "metadata": {},
   "outputs": [
    {
     "data": {
      "text/html": [
       "<div>\n",
       "<style scoped>\n",
       "    .dataframe tbody tr th:only-of-type {\n",
       "        vertical-align: middle;\n",
       "    }\n",
       "\n",
       "    .dataframe tbody tr th {\n",
       "        vertical-align: top;\n",
       "    }\n",
       "\n",
       "    .dataframe thead th {\n",
       "        text-align: right;\n",
       "    }\n",
       "</style>\n",
       "<table border=\"1\" class=\"dataframe\">\n",
       "  <thead>\n",
       "    <tr style=\"text-align: right;\">\n",
       "      <th></th>\n",
       "      <th>Cand#</th>\n",
       "      <th>Strip#</th>\n",
       "      <th>CDS#</th>\n",
       "      <th>FPA Row (pixels)</th>\n",
       "      <th>FPA Column (pixels)</th>\n",
       "      <th>FPA Peak Signal (counts)</th>\n",
       "      <th>FPA Count Sum (counts)</th>\n",
       "    </tr>\n",
       "  </thead>\n",
       "  <tbody>\n",
       "    <tr>\n",
       "      <th>0</th>\n",
       "      <td>0</td>\n",
       "      <td>27</td>\n",
       "      <td>1</td>\n",
       "      <td>1508</td>\n",
       "      <td>1118</td>\n",
       "      <td>1194</td>\n",
       "      <td>7792</td>\n",
       "    </tr>\n",
       "    <tr>\n",
       "      <th>1</th>\n",
       "      <td>1</td>\n",
       "      <td>30</td>\n",
       "      <td>1</td>\n",
       "      <td>1668</td>\n",
       "      <td>1208</td>\n",
       "      <td>1016</td>\n",
       "      <td>7289</td>\n",
       "    </tr>\n",
       "    <tr>\n",
       "      <th>2</th>\n",
       "      <td>2</td>\n",
       "      <td>21</td>\n",
       "      <td>2</td>\n",
       "      <td>1183</td>\n",
       "      <td>1116</td>\n",
       "      <td>997</td>\n",
       "      <td>7404</td>\n",
       "    </tr>\n",
       "    <tr>\n",
       "      <th>3</th>\n",
       "      <td>3</td>\n",
       "      <td>27</td>\n",
       "      <td>2</td>\n",
       "      <td>1502</td>\n",
       "      <td>1301</td>\n",
       "      <td>1180</td>\n",
       "      <td>6853</td>\n",
       "    </tr>\n",
       "    <tr>\n",
       "      <th>4</th>\n",
       "      <td>4</td>\n",
       "      <td>24</td>\n",
       "      <td>1</td>\n",
       "      <td>1343</td>\n",
       "      <td>1209</td>\n",
       "      <td>1109</td>\n",
       "      <td>6316</td>\n",
       "    </tr>\n",
       "    <tr>\n",
       "      <th>5</th>\n",
       "      <td>5</td>\n",
       "      <td>30</td>\n",
       "      <td>2</td>\n",
       "      <td>1674</td>\n",
       "      <td>1028</td>\n",
       "      <td>883</td>\n",
       "      <td>6039</td>\n",
       "    </tr>\n",
       "    <tr>\n",
       "      <th>6</th>\n",
       "      <td>6</td>\n",
       "      <td>21</td>\n",
       "      <td>1</td>\n",
       "      <td>1177</td>\n",
       "      <td>1302</td>\n",
       "      <td>839</td>\n",
       "      <td>5667</td>\n",
       "    </tr>\n",
       "    <tr>\n",
       "      <th>7</th>\n",
       "      <td>7</td>\n",
       "      <td>24</td>\n",
       "      <td>1</td>\n",
       "      <td>1340</td>\n",
       "      <td>1392</td>\n",
       "      <td>750</td>\n",
       "      <td>4678</td>\n",
       "    </tr>\n",
       "    <tr>\n",
       "      <th>8</th>\n",
       "      <td>8</td>\n",
       "      <td>18</td>\n",
       "      <td>2</td>\n",
       "      <td>1018</td>\n",
       "      <td>1208</td>\n",
       "      <td>595</td>\n",
       "      <td>4116</td>\n",
       "    </tr>\n",
       "    <tr>\n",
       "      <th>9</th>\n",
       "      <td>9</td>\n",
       "      <td>30</td>\n",
       "      <td>2</td>\n",
       "      <td>1682</td>\n",
       "      <td>836</td>\n",
       "      <td>388</td>\n",
       "      <td>2440</td>\n",
       "    </tr>\n",
       "    <tr>\n",
       "      <th>10</th>\n",
       "      <td>10</td>\n",
       "      <td>19</td>\n",
       "      <td>2</td>\n",
       "      <td>1029</td>\n",
       "      <td>841</td>\n",
       "      <td>335</td>\n",
       "      <td>2371</td>\n",
       "    </tr>\n",
       "    <tr>\n",
       "      <th>11</th>\n",
       "      <td>11</td>\n",
       "      <td>18</td>\n",
       "      <td>2</td>\n",
       "      <td>1025</td>\n",
       "      <td>1024</td>\n",
       "      <td>311</td>\n",
       "      <td>2059</td>\n",
       "    </tr>\n",
       "    <tr>\n",
       "      <th>12</th>\n",
       "      <td>12</td>\n",
       "      <td>19</td>\n",
       "      <td>2</td>\n",
       "      <td>1028</td>\n",
       "      <td>1210</td>\n",
       "      <td>241</td>\n",
       "      <td>1678</td>\n",
       "    </tr>\n",
       "  </tbody>\n",
       "</table>\n",
       "</div>"
      ],
      "text/plain": [
       "    Cand#  Strip#  CDS#  FPA Row (pixels)  FPA Column (pixels)  \\\n",
       "0       0      27     1              1508                 1118   \n",
       "1       1      30     1              1668                 1208   \n",
       "2       2      21     2              1183                 1116   \n",
       "3       3      27     2              1502                 1301   \n",
       "4       4      24     1              1343                 1209   \n",
       "5       5      30     2              1674                 1028   \n",
       "6       6      21     1              1177                 1302   \n",
       "7       7      24     1              1340                 1392   \n",
       "8       8      18     2              1018                 1208   \n",
       "9       9      30     2              1682                  836   \n",
       "10     10      19     2              1029                  841   \n",
       "11     11      18     2              1025                 1024   \n",
       "12     12      19     2              1028                 1210   \n",
       "\n",
       "    FPA Peak Signal (counts)   FPA Count Sum (counts)  \n",
       "0                       1194                     7792  \n",
       "1                       1016                     7289  \n",
       "2                        997                     7404  \n",
       "3                       1180                     6853  \n",
       "4                       1109                     6316  \n",
       "5                        883                     6039  \n",
       "6                        839                     5667  \n",
       "7                        750                     4678  \n",
       "8                        595                     4116  \n",
       "9                        388                     2440  \n",
       "10                       335                     2371  \n",
       "11                       311                     2059  \n",
       "12                       241                     1678  "
      ]
     },
     "execution_count": 56,
     "metadata": {},
     "output_type": "execute_result"
    }
   ],
   "source": [
    "bright_object_df = pd.read_csv(bright_object_list)\n",
    "\n",
    "bright_object_df"
   ]
  },
  {
   "cell_type": "markdown",
   "metadata": {},
   "source": [
    "In the above dataframe, the 'FPA Column (pixels)' column corresponds to 'x', the 'FPA Row (pixels)' column corresponds to 'y', and the 'FPA Count Sum (counts)' is our 3x3 count rate that is labelled 'countrate' in the guiding selections file."
   ]
  },
  {
   "cell_type": "code",
   "execution_count": 84,
   "metadata": {},
   "outputs": [
    {
     "data": {
      "image/png": "[encoded data removed]",
      "text/plain": [
       "<Figure size 864x720 with 1 Axes>"
      ]
     },
     "metadata": {
      "needs_background": "light"
     },
     "output_type": "display_data"
    }
   ],
   "source": [
    "# Plot it\n",
    "plt.figure(figsize=(12, 10))\n",
    "plt.imshow(psuedo_fgs, cmap='Blues_r', vmin=0, vmax=1000, origin='lower')\n",
    "plt.scatter(commanded['x'].values[0], commanded['y'].values[0], s=100, facecolors='none',  edgecolors='yellow',\n",
    "            linewidths=2.0, label='Guide Star')\n",
    "plt.scatter(commanded['x'].values[1], commanded['y'].values[1], s=100, facecolors='none',  edgecolors='C1',\n",
    "            linewidths=2.0, label=\"Reference Star 1\")\n",
    "plt.scatter(commanded['x'].values[2], commanded['y'].values[2], s=100, facecolors='none',  edgecolors='C2',\n",
    "            linewidths=2.0, label=\"Reference Star 2\")\n",
    "for i, (column, row) in enumerate(zip(bright_object_df['FPA Column (pixels)'].values, \n",
    "                                  bright_object_df['FPA Row (pixels)'].values)):\n",
    "    plt.annotate(i, (column, row), (column-20, row+20), color='white')\n",
    "plt.legend()\n",
    "plt.title('Pseudo-FGS image for OTE-07 obs 1')\n",
    "plt.show()"
   ]
  },
  {
   "cell_type": "code",
   "execution_count": 85,
   "metadata": {},
   "outputs": [],
   "source": [
    "# Give candidate numbers of guide and reference stars\n",
    "# THIS WILL CHANGE BASED ON YOUR DATA\n",
    "guide_star_bobj = 11\n",
    "ref_star_bobj_1 = 1 \n",
    "ref_star_bobj_2 = 9"
   ]
  },
  {
   "cell_type": "code",
   "execution_count": 86,
   "metadata": {},
   "outputs": [
    {
     "data": {
      "text/html": [
       "<div>\n",
       "<style scoped>\n",
       "    .dataframe tbody tr th:only-of-type {\n",
       "        vertical-align: middle;\n",
       "    }\n",
       "\n",
       "    .dataframe tbody tr th {\n",
       "        vertical-align: top;\n",
       "    }\n",
       "\n",
       "    .dataframe thead th {\n",
       "        text-align: right;\n",
       "    }\n",
       "</style>\n",
       "<table border=\"1\" class=\"dataframe\">\n",
       "  <thead>\n",
       "    <tr style=\"text-align: right;\">\n",
       "      <th></th>\n",
       "      <th>FPA Row (pixels)</th>\n",
       "      <th>FPA Column (pixels)</th>\n",
       "      <th>FPA Count Sum (counts)</th>\n",
       "    </tr>\n",
       "  </thead>\n",
       "  <tbody>\n",
       "    <tr>\n",
       "      <th>11</th>\n",
       "      <td>1025</td>\n",
       "      <td>1024</td>\n",
       "      <td>2059</td>\n",
       "    </tr>\n",
       "    <tr>\n",
       "      <th>1</th>\n",
       "      <td>1668</td>\n",
       "      <td>1208</td>\n",
       "      <td>7289</td>\n",
       "    </tr>\n",
       "    <tr>\n",
       "      <th>9</th>\n",
       "      <td>1682</td>\n",
       "      <td>836</td>\n",
       "      <td>2440</td>\n",
       "    </tr>\n",
       "  </tbody>\n",
       "</table>\n",
       "</div>"
      ],
      "text/plain": [
       "    FPA Row (pixels)  FPA Column (pixels)   FPA Count Sum (counts)\n",
       "11              1025                 1024                     2059\n",
       "1               1668                 1208                     7289\n",
       "9               1682                  836                     2440"
      ]
     },
     "execution_count": 86,
     "metadata": {},
     "output_type": "execute_result"
    }
   ],
   "source": [
    "selected_bright_object_df = bright_object_df.loc[[guide_star_bobj, \n",
    "                                                  ref_star_bobj_1, \n",
    "                                                  ref_star_bobj_2]]\n",
    "\n",
    "selected_bright_object_df = selected_bright_object_df[['FPA Row (pixels)', 'FPA Column (pixels)', \n",
    "                                                       ' FPA Count Sum (counts)']]\n",
    "\n",
    "selected_bright_object_df"
   ]
  },
  {
   "cell_type": "markdown",
   "metadata": {},
   "source": [
    "#TODO: Do I need to multiple the 3x3 countrate by the t_cds of the ID strips?"
   ]
  },
  {
   "cell_type": "code",
   "execution_count": 87,
   "metadata": {},
   "outputs": [
    {
     "data": {
      "text/html": [
       "<div>\n",
       "<style scoped>\n",
       "    .dataframe tbody tr th:only-of-type {\n",
       "        vertical-align: middle;\n",
       "    }\n",
       "\n",
       "    .dataframe tbody tr th {\n",
       "        vertical-align: top;\n",
       "    }\n",
       "\n",
       "    .dataframe thead th {\n",
       "        text-align: right;\n",
       "    }\n",
       "</style>\n",
       "<table border=\"1\" class=\"dataframe\">\n",
       "  <thead>\n",
       "    <tr style=\"text-align: right;\">\n",
       "      <th></th>\n",
       "      <th>y</th>\n",
       "      <th>x</th>\n",
       "      <th>countrate</th>\n",
       "      <th>thresholds</th>\n",
       "    </tr>\n",
       "  </thead>\n",
       "  <tbody>\n",
       "    <tr>\n",
       "      <th>0</th>\n",
       "      <td>1024.5</td>\n",
       "      <td>1024.5</td>\n",
       "      <td>30726.0</td>\n",
       "      <td>27653.4</td>\n",
       "    </tr>\n",
       "    <tr>\n",
       "      <th>1</th>\n",
       "      <td>1654.5</td>\n",
       "      <td>1216.5</td>\n",
       "      <td>26162.0</td>\n",
       "      <td>23545.8</td>\n",
       "    </tr>\n",
       "    <tr>\n",
       "      <th>2</th>\n",
       "      <td>1667.5</td>\n",
       "      <td>853.5</td>\n",
       "      <td>15204.0</td>\n",
       "      <td>13683.6</td>\n",
       "    </tr>\n",
       "  </tbody>\n",
       "</table>\n",
       "</div>"
      ],
      "text/plain": [
       "        y       x  countrate  thresholds\n",
       "0  1024.5  1024.5    30726.0     27653.4\n",
       "1  1654.5  1216.5    26162.0     23545.8\n",
       "2  1667.5   853.5    15204.0     13683.6"
      ]
     },
     "execution_count": 87,
     "metadata": {},
     "output_type": "execute_result"
    }
   ],
   "source": [
    "commanded"
   ]
  },
  {
   "cell_type": "markdown",
   "metadata": {},
   "source": [
    "## Analysis"
   ]
  },
  {
   "cell_type": "markdown",
   "metadata": {},
   "source": [
    "[Here is where you can analysis what you have seen in the comaparison above. I will write my analysis for the above example here, you might wish to include your analysis in your notebook so you can pass that information off to the relavent teams]"
   ]
  },
  {
   "cell_type": "markdown",
   "metadata": {},
   "source": [
    "### Config 1 "
   ]
  },
  {
   "cell_type": "code",
   "execution_count": 111,
   "metadata": {},
   "outputs": [],
   "source": [
    "# Convert from 3x3 count rate to 3x3 counts \n",
    "t_id = 0.3406 "
   ]
  },
  {
   "cell_type": "code",
   "execution_count": 162,
   "metadata": {},
   "outputs": [],
   "source": [
    "def compare_commanded_vs_measured(commanded_df, measured_df, commanded_index, measured_index):\n",
    "    \"\"\"\n",
    "    Both data frames are expected to have the same order and number. The measured_df is expected to come from the \n",
    "    bright object list\n",
    "    Index which index in the list to use: GS = 0, REF1 = 1, REF2 = 2\n",
    "    \"\"\"\n",
    "    # Grab appropriate row in each data frame\n",
    "    commanded = commanded_df.loc[[commanded_index]]\n",
    "    measured = measured_df.loc[[measured_index]]\n",
    "    \n",
    "    # Find the floor of the *3x3 counts* that we are allowing\n",
    "    commanded_counts = commanded['countrate'].values[0]*t_id\n",
    "    commanded_threshold = commanded['thresholds'].values[0]*t_id\n",
    "    minimum_counts = commanded_counts - commanded_threshold\n",
    "\n",
    "    # Grab the 3x3 count sum that was measured for the same object\n",
    "    measured_counts = measured[' FPA Count Sum (counts)'].values[0]\n",
    "    \n",
    "    # Compare\n",
    "    if measured_counts < minimum_counts:\n",
    "        print('The measured number of counts is below the commanded - threshold value.')\n",
    "        new_threshold = (commanded_counts - measured_counts)/commanded_counts\n",
    "        print(f' Recommended threshold = {new_threshold}')\n",
    "    else: \n",
    "        print('The measured number of counts is equal to or greater than the commanded '\n",
    "              + f'- threshold value by {np.round(measured_counts - minimum_counts)} counts.')\n",
    "        new_threshold = threshold # None\n",
    "        \n",
    "    return new_threshold\n",
    "\n",
    "def compare_config(commanded_df, measured_df, matching_indicies_bobj):\n",
    "    \n",
    "    recommended_thresholds = []\n",
    "    for commanded_index, measured_index in zip(np.arange(3), matching_indicies_bobj):\n",
    "        \n",
    "        recommended_thresholds.append(compare_commanded_vs_measured(commanded_df, measured_df, \n",
    "                                                                    commanded_index, measured_index))\n",
    "        \n",
    "    if all(thresh == threshold for thresh in recommended_thresholds):\n",
    "        print(f\"No new threshold needed. Config should have passed ID with threshold of {threshold}\")\n",
    "    else:\n",
    "        recommended_new_threshold = max(recommended_thresholds)\n",
    "        print(f\"Recommended new threshold = {recommended_new_threshold}\")"
   ]
  },
  {
   "cell_type": "markdown",
   "metadata": {},
   "source": [
    "#### Guide star "
   ]
  },
  {
   "cell_type": "code",
   "execution_count": 161,
   "metadata": {},
   "outputs": [
    {
     "name": "stdout",
     "output_type": "stream",
     "text": [
      "The measured number of counts is equal to or greater than the commanded - threshold value by 1012.0 counts.\n",
      "The measured number of counts is equal to or greater than the commanded - threshold value by 6398.0 counts.\n",
      "The measured number of counts is equal to or greater than the commanded - threshold value by 1922.0 counts.\n",
      "No new thershold needed. Config should have passed ID with threshold of 0.9\n"
     ]
    }
   ],
   "source": [
    "compare_config(commanded, selected_bright_object_df, [guide_star_bobj, ref_star_bobj_1, ref_star_bobj_2])"
   ]
  },
  {
   "cell_type": "markdown",
   "metadata": {},
   "source": [
    "# TODO: How to test new products? Use the new command with actual ID strips in DHAS"
   ]
  }
 ],
 "metadata": {
  "kernelspec": {
   "display_name": "Python 3",
   "language": "python",
   "name": "python3"
  },
  "language_info": {
   "codemirror_mode": {
    "name": "ipython",
    "version": 3
   },
   "file_extension": ".py",
   "mimetype": "text/x-python",
   "name": "python",
   "nbconvert_exporter": "python",
   "pygments_lexer": "ipython3",
   "version": "3.7.10"
  }
 },
 "nbformat": 4,
 "nbformat_minor": 2
}
