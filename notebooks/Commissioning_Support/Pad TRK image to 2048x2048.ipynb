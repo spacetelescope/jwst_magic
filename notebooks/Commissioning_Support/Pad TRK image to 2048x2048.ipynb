{
 "cells": [
  {
   "cell_type": "code",
   "execution_count": 2,
   "metadata": {},
   "outputs": [],
   "source": [
    "from astropy.io import fits\n",
    "import matplotlib.pyplot as plt\n",
    "from matplotlib.colors import LogNorm\n",
    "import numpy as np\n",
    "\n",
    "import fgscountrate \n",
    "\n",
    "%matplotlib inline"
   ]
  },
  {
   "cell_type": "code",
   "execution_count": null,
   "metadata": {},
   "outputs": [],
   "source": [
    "trk_filename = \"./test_track_data.fits\" # Replace with your filename, including it's full path\n",
    "out_filename = \"~/Desktop/test_track_full_frame.fits\" # Replace with where you want the file to be saved and it's new name"
   ]
  },
  {
   "cell_type": "code",
   "execution_count": null,
   "metadata": {},
   "outputs": [],
   "source": [
    "# Read in the TRACK image and get it's header\n",
    "trk_image, trk_header = fits.getdata(trk_filename, header=True)"
   ]
  },
  {
   "cell_type": "code",
   "execution_count": null,
   "metadata": {},
   "outputs": [],
   "source": [
    "# Plot the first frame in the TRACK cube\n",
    "plt.figure(figsize=(12, 10))\n",
    "plt.imshow(trk_image, norm=LogNorm()) \n",
    "plt.colorbar()\n",
    "plt.show()"
   ]
  },
  {
   "cell_type": "code",
   "execution_count": null,
   "metadata": {},
   "outputs": [],
   "source": [
    "# Pad the TRACK image to a 2048x2048 sized image\n",
    "trk_window = trk_image.shape[0]\n",
    "full_window = 2048\n",
    "trk_full_image = np.pad(trk_image, pad=((full_window//2) - (trk//2)), mode='constant')"
   ]
  },
  {
   "cell_type": "code",
   "execution_count": null,
   "metadata": {},
   "outputs": [],
   "source": [
    "# Plot the padded image to make sure it looks good\n",
    "plt.figure(figsize=(12, 10))\n",
    "plt.imshow(trk_full_image, norm=LogNorm()) \n",
    "plt.colorbar()\n",
    "plt.show()"
   ]
  },
  {
   "cell_type": "code",
   "execution_count": null,
   "metadata": {},
   "outputs": [],
   "source": [
    "hdul = fits.PrimaryHDU(data=trk_full_image, header=trk_header)\n",
    "\n",
    "hdul.writeto(out_filename, overwrite=True)"
   ]
  }
 ],
 "metadata": {
  "kernelspec": {
   "display_name": "Python 3",
   "language": "python",
   "name": "python3"
  },
  "language_info": {
   "codemirror_mode": {
    "name": "ipython",
    "version": 3
   },
   "file_extension": ".py",
   "mimetype": "text/x-python",
   "name": "python",
   "nbconvert_exporter": "python",
   "pygments_lexer": "ipython3",
   "version": "3.7.6"
  }
 },
 "nbformat": 4,
 "nbformat_minor": 2
}
