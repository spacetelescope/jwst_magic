{
 "cells": [
  {
   "cell_type": "markdown",
   "id": "1aff3366",
   "metadata": {},
   "source": [
    "# Early OTE Commissioning Guiding PSF Analysis"
   ]
  },
  {
   "cell_type": "markdown",
   "id": "77a59008",
   "metadata": {},
   "source": [
    "During the five non-deployment OTE-CARs that precede LOS-02, the WF Guiding team will do periodic checks of the PSFs and determine if there are any concerns for guiding in LOS-02. This notebook will walk through image analysis of images from OTE-01, OTE-02, OTE-03, OTE-04, and OTE-06 AFTER they have been executed. We do not expect analysis of OTE-05 to be necessary. We focus on PSF shapes and how many \"guideable\" segment PSFs we have at each stage. \n",
    "\n",
    "It is important to note that this notebook will do very similar analysis for all CARs, with some small adjustments for OTE-03 and OTE-04 because of the type of data we will get. A lot of the data is presented without drawing conclusions, it will be up to you to do so. In some cases you might find the there is more information than you think is helpful, it is up to you to determine what is helpful and what is not. \n",
    "\n",
    "As each step is completed, as needed, please communicate a summary of what you have found to WF Ops via email or over the loops during a non-busy time in commissioning. \n",
    "\n",
    "*It is very important to provide WF Ops with an update if you think the number of \"guidable\" segment PSFs is less than 6 prior to OTE-03.*"
   ]
  },
  {
   "cell_type": "markdown",
   "id": "4035ae1d",
   "metadata": {},
   "source": [
    "### To save a plot\n",
    "\n",
    "If you want to save any plots to be printed or just viewed in Preview or another window, right click on the plots you want to save and then choose \"Save image as...\""
   ]
  },
  {
   "cell_type": "code",
   "execution_count": null,
   "id": "2ea68ef3",
   "metadata": {},
   "outputs": [],
   "source": [
    "# Make sure to run this cell before moving to one of the analysis sections\n",
    "import os\n",
    "from glob import glob\n",
    "\n",
    "from astropy.io import fits\n",
    "import matplotlib\n",
    "import matplotlib.pyplot as plt\n",
    "from matplotlib.colors import LogNorm\n",
    "import numpy as np\n",
    "import pandas as pd\n",
    "\n",
    "import notebook_utils\n",
    "from notebook_utils import GA_PSF_LOCATIONS\n",
    "\n",
    "font = {'size' : 16}\n",
    "matplotlib.rc('font', **font)\n",
    "\n",
    "%matplotlib inline"
   ]
  },
  {
   "cell_type": "markdown",
   "id": "94b1f8a0",
   "metadata": {},
   "source": [
    "# Table of Contents\n",
    "1. [Overview of products from Shadow](#Overview-of-the-products-we-can-expect-from-Shadow-and-others)\n",
    "2. [After OTE-01](#After-OTE-01)\n",
    "3. [After OTE-02](#After-OTE-02)\n",
    "4. [After OTE-03](#After-OTE-03)\n",
    "5. [After OTE-04](#After-OTE-04)\n",
    "6. [After OTE-05](#After-OTE-05) - no WF Guiding analysis currently expected\n",
    "7. [After OTE-06](#After-OTE-06)\n",
    "\n",
    "The following sections are support sections and may not be run\n",
    "\n",
    "8. [Examine all OTE-03 Data](#Look-at-different-focus-positions-in-OTE-03-data)\n",
    "9. [Grab Large Image Array PSF Locations](#Get-simulated-NIRCam-locations-of-LOS-02-PSFs)\n"
   ]
  },
  {
   "cell_type": "markdown",
   "id": "f5a4b6cb",
   "metadata": {},
   "source": [
    "# Overview of the products we can expect from Shadow and others "
   ]
  },
  {
   "cell_type": "markdown",
   "id": "926fdfb9",
   "metadata": {},
   "source": [
    "### What you will expect to have from Shadow\n",
    "1. Path to the mosaic or knowledge about which file(s) to look for if they are coming via DANs\n",
    "2. (Optional) A general idea of the location of the target star in the mosaic image\n",
    "3. When segment information is known, a location where we can find the printout/electronic copy of which segment is which"
   ]
  },
  {
   "cell_type": "markdown",
   "id": "64025f43",
   "metadata": {},
   "source": [
    "# After OTE 01 "
   ]
  },
  {
   "cell_type": "markdown",
   "id": "9c2a5723",
   "metadata": {},
   "source": [
    "## OTE-01: Initial Image Mosiac"
   ]
  },
  {
   "cell_type": "markdown",
   "id": "dcf03046",
   "metadata": {},
   "source": [
    "OTE-01 is the initial image mosaic and its goal is to find the 18 segments. \n",
    "\n",
    "There will be a range of focus for the PSFs; some will be close to focus, some will be out of focus. This will cause several of the segment PSFs to be saturated because, by requirement, the target star should be very bright and isolated. If a PSF is not saturated, it likely has a large defocus. The closer to focus, the more saturation will expected. \n",
    "\n",
    "After finding the segments, either Shadow or WF Guiding, through this notebook, will define an initial offset of each segment PSF from the target location, which is given by a rough estimate of the center of the PMSA deployment. If the target PSFs are too bright, we can inspect the shape of the PSFs by looking at the fainter background stars, however this notebook is not currently set up for that path since the simulated images that we have do not have such an option.\n",
    "\n",
    "For OTE-01, we will have some idea of the shape of the segment PSFs but no idea of any of the segments' identifications. \n",
    "\n",
    "**Note: Shadow downsamples the detector images for the mosaic** but we do have the normal DMS images, so Shadow can give you the name of the DMS file that has the segments for a not downsampled option. If that is the case, look at the [OTE-03](#After-OTE-03) or [OTE-04](#After-OTE-04) sections to know how to combine the detector images to make our own mosaic.\n",
    "\n",
    "#### After OTE-01, Shadow will provide:\n",
    " - End of OTE-01 mosaic path (will be available in the `/data/...` directory in SOGS)\n"
   ]
  },
  {
   "cell_type": "markdown",
   "id": "0f25fe1e",
   "metadata": {},
   "source": [
    "<font color='Tomato'> <div><center>  \n",
    "## Make sure the following parameters are correct\n",
    "</center></div></font>"
   ]
  },
  {
   "cell_type": "code",
   "execution_count": null,
   "id": "e231f19f",
   "metadata": {},
   "outputs": [],
   "source": [
    "# CAR information\n",
    "car = 'OTE-01' # Make sure this form matches how it is written in the path to the data\n",
    "program_id = 1134"
   ]
  },
  {
   "cell_type": "code",
   "execution_count": null,
   "id": "ba6bf3c7",
   "metadata": {},
   "outputs": [],
   "source": [
    "# Directory where the files can be found\n",
    "main_directory = '/ifs/jwst/tel/TeamPractices/' #/data/jwst/wss/flight/\n",
    "\n",
    "# Path to the OTE-01 mosaic\n",
    "ote01_mosaic = os.path.join(main_directory, f'{car}/mosaic0_obs1-2_median_sub_gbrady_05032021.fits')\n",
    "\n",
    "# The original mosaic will be resampled, see if shadow can give you the new pixelscale\n",
    "ote01_pixelscale = None # If set to None, the NIRCam SW pixelscale of 0.031\"/pixel will be used\n",
    "\n",
    "# Define  the (x, y) pixel location of the target in the image\n",
    "# If no location is provided, set variable equal to None and the code will take the median of the PSF locations\n",
    "ote01_target_location = None "
   ]
  },
  {
   "cell_type": "markdown",
   "id": "530d54c0",
   "metadata": {},
   "source": [
    "<font color='DodgerBlue'> <div><center>  \n",
    "## Run the following cells without changing them   \n",
    "</center></div></font>"
   ]
  },
  {
   "cell_type": "markdown",
   "id": "72294c2c",
   "metadata": {},
   "source": [
    "The below cell will take a little while to run because the image is large. "
   ]
  },
  {
   "cell_type": "code",
   "execution_count": null,
   "id": "b5bdce5f",
   "metadata": {},
   "outputs": [],
   "source": [
    "# We use the header for getting the pixel scale so it's okay that it is for only one of the images\n",
    "ote01_image, ote01_header = fits.getdata(ote01_mosaic, header=True)\n",
    "\n",
    "# Create a PsfAnalysis object for OTE-02, this is how we can do most of the analysis\n",
    "ote01 = notebook_utils.PsfAnalysis(car, ote01_image, ote01_header, ote01_pixelscale, ote01_target_location)"
   ]
  },
  {
   "cell_type": "code",
   "execution_count": null,
   "id": "0ef1b8ce",
   "metadata": {},
   "outputs": [],
   "source": [
    "# Measure the PSF locations and their characteristics for the OTE-01 mosaic\n",
    "# Adjust the psf_window_radius if the window around the cut out PSFs below as needed\n",
    "# This function will measure the FWHM_x, FWHM_y, the distance to the target location, \n",
    "#  and the encircled energy for each PSF\n",
    "ote01.get_image_information(smoothing='high', psf_window_radius=40)"
   ]
  },
  {
   "cell_type": "code",
   "execution_count": null,
   "id": "85566c4a",
   "metadata": {},
   "outputs": [],
   "source": [
    "# Plot the full mosaic with the estimated target location and identified PSFs\n",
    "ote01.plot_image_with_psfs(xlim=None, # If you need to change the x axis limits, do so here\n",
    "                           ylim=None, # If you need to change the y axis limits, do so here\n",
    "                           label_color='white') # If you can't read the PSF labels, change this parameter"
   ]
  },
  {
   "cell_type": "markdown",
   "id": "18bfa792",
   "metadata": {},
   "source": [
    "<font color='SlateBlue'> <div>\n",
    "\n",
    "### Things to look for:    \n",
    " \n",
    "</div></font>\n",
    "\n",
    "\n",
    "- How many segment PSFs are saturated (zeros in the center of the PSF)?\n",
    "- Is there a single bright spot in the PSF or are there multiple knots/lobes?\n"
   ]
  },
  {
   "cell_type": "code",
   "execution_count": null,
   "id": "1a036831",
   "metadata": {
    "scrolled": false
   },
   "outputs": [],
   "source": [
    "# Cut out each segment and do a visual check\n",
    "ote01.plot_each_identified_segment_psf(num_psf_per_row=4,\n",
    "                                       labels=None) # Change this if you have segment knowledge"
   ]
  },
  {
   "cell_type": "markdown",
   "id": "f1cffda4",
   "metadata": {},
   "source": [
    "IMPORTANT NOTE: Any PSFs that have saturated cores may not have reliable FWHM or EE measurements"
   ]
  },
  {
   "cell_type": "code",
   "execution_count": null,
   "id": "9d65dc73",
   "metadata": {},
   "outputs": [],
   "source": [
    "# Let's look at the measured properties of each PSF\n",
    "# The index on the left is the same as the numbering in the plots above\n",
    "ote01.info_df"
   ]
  },
  {
   "cell_type": "markdown",
   "id": "b36f2484",
   "metadata": {},
   "source": [
    "In the table, the x, y location of each PSF has been found, it's associated FWHM_x and FWHM_y have been measured, as well as the distance to the estimated target location."
   ]
  },
  {
   "cell_type": "markdown",
   "id": "bc9acf83",
   "metadata": {},
   "source": [
    "## Look at FWHM values and distance to the target"
   ]
  },
  {
   "cell_type": "markdown",
   "id": "1f640353",
   "metadata": {},
   "source": [
    "In the plots below, a circle is plotted for each located PSF in the mosiac image. The color of the circle is indicated by the value of the parameter indicated in the title. Green indicates a better value, red indicates a worse value, relative to the other data points. \n",
    "\n",
    "The distance to target can tell us how much the PSF might change once it is moved to its large image array location"
   ]
  },
  {
   "cell_type": "code",
   "execution_count": null,
   "id": "bfa5e891",
   "metadata": {},
   "outputs": [],
   "source": [
    "# Look at FWHM x and y (though the images should tell you the same information)\n",
    "ote01.plot_multiple_parameters(['fwhm_x', 'fwhm_y', 'distance_to_target'])"
   ]
  },
  {
   "cell_type": "markdown",
   "id": "af4076a0",
   "metadata": {},
   "source": [
    "### If EE has been measured, plot it!"
   ]
  },
  {
   "cell_type": "code",
   "execution_count": null,
   "id": "61f53e36",
   "metadata": {
    "scrolled": false
   },
   "outputs": [],
   "source": [
    "# We will only measure EE if pixel scale is not None\n",
    "# All plots have the SAME y axis\n",
    "ote01.plot_ee(num_psf_per_row=4, \n",
    "              labels=None) # Change this if you have segment knowledge     "
   ]
  },
  {
   "cell_type": "markdown",
   "id": "dd20af1f",
   "metadata": {},
   "source": [
    "### Based on the above information, how many segment PSFs are good enough to guide one?"
   ]
  },
  {
   "cell_type": "markdown",
   "id": "6991066c",
   "metadata": {},
   "source": [
    "<font color='Tomato'> <div><center>    \n",
    "### Update the next cell (only) as needed   \n",
    "</center></div></font>"
   ]
  },
  {
   "cell_type": "code",
   "execution_count": null,
   "id": "867ae2a9",
   "metadata": {},
   "outputs": [],
   "source": [
    "# Give the number of PSFs that you think are good enough to guide on\n",
    "good = 13 "
   ]
  },
  {
   "cell_type": "markdown",
   "id": "ba1d48a0",
   "metadata": {},
   "source": [
    "If the number of \"Good\" PSFs is more than, or equal to 6, then we can feel confident that we can get a guiding scenario. If it is less than 6, then we will need OTE-03"
   ]
  },
  {
   "cell_type": "code",
   "execution_count": null,
   "id": "165d05fb",
   "metadata": {},
   "outputs": [],
   "source": [
    "if good < 6:\n",
    "    print(f'We only have {good} PSFs that we think are good enough for guiding. We need more than 6.')\n",
    "else:\n",
    "    print(f'We have {good} PSFs that we think are good enough for guiding, which might be enough.')"
   ]
  },
  {
   "cell_type": "markdown",
   "id": "ee039c9d",
   "metadata": {},
   "source": [
    "# After OTE 02"
   ]
  },
  {
   "cell_type": "markdown",
   "id": "88b0ec5a",
   "metadata": {},
   "source": [
    "## OTE-02: Alignment Matrix 1"
   ]
  },
  {
   "cell_type": "markdown",
   "id": "19965ef4",
   "metadata": {},
   "source": [
    "WSS/WSS Shadow will use the OTE-01 initial mosaic offset from the expected target to do the first telescope correction for OTE-02, so that it points roughy to the center of the initial deployment. \n",
    "\n",
    "For OTE-02 we have NIRCam ALL images, so we should have a partial view of the initial deployment (not mosaic) but these should have few, if any, saturated PSFs. Saturation in any of the PSFs will imply that the defocus is too large between all segments. \n",
    "\n",
    "The process for OTE-01 and OTE-02  for WF Guiding will be the same. Both OTE-01 and OTE-02 images are expected to have high backgrounds.\n",
    "\n",
    "*It is very important to provide WF Ops with an update if you think the number of \"guidable\" segment PSFs is less than 6 prior to OTE-03.*\n",
    "\n",
    "#### After OTE-02, Shadow will provide:\n",
    " - End of OTE-02 mosaic path - if no mosaic is provided use the code shown in section [OTE-03](#After-OTE-03) to make your own\n",
    " - Any information from any discussions regarding PSF quality dicussed in the WF office **if time allows**"
   ]
  },
  {
   "cell_type": "markdown",
   "id": "2a323569",
   "metadata": {},
   "source": [
    "*Do the same analysis that you did after OTE-01, just with the image of the partial deployment*"
   ]
  },
  {
   "cell_type": "markdown",
   "id": "2190757e",
   "metadata": {},
   "source": [
    "<font color='Tomato'> <div><center>  \n",
    "## Make sure the following parameters are correct\n",
    "</center></div></font>"
   ]
  },
  {
   "cell_type": "code",
   "execution_count": null,
   "id": "164c2d3c",
   "metadata": {},
   "outputs": [],
   "source": [
    "# CAR information\n",
    "car = 'OTE-02' # Make sure this form matches how it is written in the path to the data\n",
    "program_id = 1135"
   ]
  },
  {
   "cell_type": "code",
   "execution_count": null,
   "id": "3afd2a5f",
   "metadata": {},
   "outputs": [],
   "source": [
    "# Directory where the files can be found\n",
    "main_directory = '/ifs/jwst/tel/TeamPractices/' #/data/jwst/wss/flight/\n",
    "\n",
    "# Location of the OTE-02 mosaic with most segments\n",
    "ote02_mosaic = os.path.join(main_directory, f'{car}/output/mosaic0_OTE-02-Obs1+2-SW.fits')\n",
    "\n",
    "# Pixelscale of the image, replace the None below if the mosaic has been rebinned by shadow\n",
    "ote02_pixelscale = None # If set to None, the NIRCam SW pixelscale of 0.031\"/pixel will be used\n",
    "\n",
    "# Define  the (x, y) pixel location of the target in the image\n",
    "# If no location is provided, set variable equal to None\n",
    "ote02_target_location = None"
   ]
  },
  {
   "cell_type": "markdown",
   "id": "a543c9bd",
   "metadata": {},
   "source": [
    "<font color='DodgerBlue'> <div><center>\n",
    "## Run the following cells without changing them \n",
    "</center></div></font>"
   ]
  },
  {
   "cell_type": "markdown",
   "id": "38b715f8",
   "metadata": {},
   "source": [
    "The below cell will take a little while to run because the image is large. "
   ]
  },
  {
   "cell_type": "code",
   "execution_count": null,
   "id": "c9892d70",
   "metadata": {},
   "outputs": [],
   "source": [
    "# We use the header for getting the pixel scale so it's okay that it is for only one of the images\n",
    "ote02_image, ote02_header = fits.getdata(ote02_mosaic, header=True)\n",
    "\n",
    "# Create a PsfAnalysis object for OTE-02, this is how we can do most of the analysis\n",
    "ote02 = notebook_utils.PsfAnalysis(car, ote02_image, ote02_header, ote02_pixelscale, ote02_target_location)"
   ]
  },
  {
   "cell_type": "code",
   "execution_count": null,
   "id": "604601c1",
   "metadata": {},
   "outputs": [],
   "source": [
    "# Measure the PSF locations and their characteristics for the OTE-02 mosaic\n",
    "# Adjust the psf_window_radius if the window around the cut out PSFs below as needed\n",
    "# This function will measure the FWHM_x, FWHM_y, the distance to the target location, \n",
    "#  and the encircled energy for each PSF\n",
    "ote02.get_image_information(smoothing='high', psf_window_radius=40)"
   ]
  },
  {
   "cell_type": "code",
   "execution_count": null,
   "id": "8585f9ff",
   "metadata": {},
   "outputs": [],
   "source": [
    "# Plot the full mosaic with the estimated target location and identified PSFs\n",
    "ote02.plot_image_with_psfs(xlim=None, # If you need to change the x axis limits, do so here\n",
    "                           ylim=None, # If you need to change the y axis limits, do so here\n",
    "                           label_color='white') # If you can't read the PSF labels, change this parameter"
   ]
  },
  {
   "cell_type": "markdown",
   "id": "e8d34a99",
   "metadata": {},
   "source": [
    "<font color='SlateBlue'> <div>\n",
    "\n",
    "### Things to look for:    \n",
    " \n",
    "</div></font>\n",
    "\n",
    "\n",
    "- How many segment PSFs are saturated (zeros in the center of the PSF)?\n",
    "- Is there a single bright spot in the PSF or are there multiple knots/lobes?\n"
   ]
  },
  {
   "cell_type": "code",
   "execution_count": null,
   "id": "fde21ceb",
   "metadata": {
    "scrolled": false
   },
   "outputs": [],
   "source": [
    "# Cut out each segment and do a visual check\n",
    "ote02.plot_each_identified_segment_psf(num_psf_per_row=4,\n",
    "                                       labels=None) # Change this if you have segment knowledge"
   ]
  },
  {
   "cell_type": "markdown",
   "id": "b6c7713d",
   "metadata": {},
   "source": [
    "IMPORTANT NOTE: Any PSFs that have saturated cores may not have reliable FWHM or EE measurements"
   ]
  },
  {
   "cell_type": "code",
   "execution_count": null,
   "id": "dbb5c413",
   "metadata": {},
   "outputs": [],
   "source": [
    "# Let's look at the properties of each PSF. \n",
    "# The index on the left is the same as the numbering in the plots above\n",
    "ote02.info_df"
   ]
  },
  {
   "cell_type": "markdown",
   "id": "4656d5ef",
   "metadata": {},
   "source": [
    "In the table, the x, y location of each PSF has been found, it's associated FWHM_x and FWHM_y have been measured, as well as the distance to the estimated target location."
   ]
  },
  {
   "cell_type": "markdown",
   "id": "7d66f937",
   "metadata": {},
   "source": [
    "## Look at FWHM values and distance to the target"
   ]
  },
  {
   "cell_type": "markdown",
   "id": "e0970571",
   "metadata": {},
   "source": [
    "In the plots below, a circle is plotted for each located PSF in the mosiac image. The color of the circle is indicated by the value of the parameter indicated in the title. Green indicates a better value, red indicates a worse value, relative to the other data points. \n",
    "\n",
    "The distance to target can tell us how much the PSF might change once it is moved to its large image array location"
   ]
  },
  {
   "cell_type": "code",
   "execution_count": null,
   "id": "08a7153e",
   "metadata": {},
   "outputs": [],
   "source": [
    "# Look at FWHM x and y (though the images should tell you the same information)\n",
    "ote02.plot_multiple_parameters(['fwhm_x', 'fwhm_y', 'distance_to_target'])"
   ]
  },
  {
   "cell_type": "markdown",
   "id": "3e916d7e",
   "metadata": {},
   "source": [
    "### If EE has been measured, plot it!"
   ]
  },
  {
   "cell_type": "code",
   "execution_count": null,
   "id": "47ac2eef",
   "metadata": {
    "scrolled": false
   },
   "outputs": [],
   "source": [
    "# We will only measure EE if pixel scale is not None\n",
    "# All plots have the SAME y axis\n",
    "ote02.plot_ee(num_psf_per_row=4, \n",
    "              labels=None) # Change this if you have segment knowledge     "
   ]
  },
  {
   "cell_type": "markdown",
   "id": "66abafaf",
   "metadata": {},
   "source": [
    "### Based on the above information, how many segment PSFs are good enough to guide one?"
   ]
  },
  {
   "cell_type": "markdown",
   "id": "cc8dd230",
   "metadata": {},
   "source": [
    "<font color='Tomato'> <div><center>    \n",
    "### Update the next cell (only) as needed   \n",
    "</center></div></font>"
   ]
  },
  {
   "cell_type": "code",
   "execution_count": null,
   "id": "7c8a690e",
   "metadata": {},
   "outputs": [],
   "source": [
    "# Give the number of PSFs that you think are good enough to guide on\n",
    "good = 13 "
   ]
  },
  {
   "cell_type": "markdown",
   "id": "3e8ece74",
   "metadata": {},
   "source": [
    "If the number of \"Good\" PSFs is more than, or equal to 6, then we can feel confident that we can get a guiding scenario. If it is less than 6, then we will need OTE-03"
   ]
  },
  {
   "cell_type": "code",
   "execution_count": null,
   "id": "ab8c667f",
   "metadata": {},
   "outputs": [],
   "source": [
    "if good < 6:\n",
    "    print(f'We only have {good} PSFs that we think are good enough for guiding. We need more than 6.')\n",
    "else:\n",
    "    print(f'We have {good} PSFs that we think are good enough for guiding, which might be enough.')"
   ]
  },
  {
   "cell_type": "markdown",
   "id": "49970fcd",
   "metadata": {},
   "source": [
    "# After OTE 03"
   ]
  },
  {
   "cell_type": "markdown",
   "id": "1638c134",
   "metadata": {},
   "source": [
    "## OTE-03: Secondary Mirror Focus Sweep "
   ]
  },
  {
   "cell_type": "markdown",
   "id": "f012a109",
   "metadata": {},
   "source": [
    "**OTE-03 is optional, but likely to occur.** \n",
    "\n",
    "During OTE-03, the secondary mirror will be moved 100um in either direction in order to find the best focus for the segment PSFs that are visible in the field.\n",
    "\n",
    "We will have the NRCALL exposures, as with OTE-02, with as many segments in the field as possible. At the end of OTE-03 we might have a tentative segment ID (though we will not consider this in our analysis) and should have better (or more compact) PSFs for guiding.\n",
    "\n",
    "WF Guiding should have recieved DANs for all OTE-03 data.\n",
    "\n",
    "#### After OTE-03, Shadow will provide:\n",
    " - Any idea regarding which segment PSF is which. There will be a formal list somewhere, in a PNG (will be avilable on a pring out or in `/data/…`)\n"
   ]
  },
  {
   "cell_type": "markdown",
   "id": "1c1bd76e",
   "metadata": {},
   "source": [
    "If you want to just inspect the images with the secondary mirror at different focus positions, you can do this [here](#Look-at-different-focus-positions-in-OTE-03-data)"
   ]
  },
  {
   "cell_type": "markdown",
   "id": "844641f9",
   "metadata": {},
   "source": [
    "<font color='Tomato'> <div><center>  \n",
    "## Make sure the following parameters are correct\n",
    "</center></div></font>"
   ]
  },
  {
   "cell_type": "code",
   "execution_count": null,
   "id": "4eafb9f3",
   "metadata": {},
   "outputs": [],
   "source": [
    "# CAR information\n",
    "car = 'OTE-03' # Make sure this form matches how it is written in the path to the data\n",
    "program_id = 1136"
   ]
  },
  {
   "cell_type": "code",
   "execution_count": null,
   "id": "d406c975",
   "metadata": {},
   "outputs": [],
   "source": [
    "# Directory where the files can be found\n",
    "main_directory = '/ifs/jwst/tel/TeamPractices/' #/data/jwst/wss/guiding/Commissioning/ote03\n",
    "\n",
    "# Location of the NIRCam images at the best focus\n",
    "ote03_best_focus_images = glob(os.path.join(main_directory, \n",
    "                                            f'{car}/output/jw01136003001_01101_00002_nrc*_cal.fits'))\n",
    "\n",
    "# Pixelscale of the image, replace the None below if the mosaic has been rebinned by shadow\n",
    "ote03_pixelscale = None # If set to None, the NIRCam SW pixelscale of 0.031\"/pixel will be used\n",
    "\n",
    "# Define  the (x, y) pixel location of the target in the image\n",
    "# If no location is provided, set variable equal to None\n",
    "ote03_target_location = None"
   ]
  },
  {
   "cell_type": "code",
   "execution_count": null,
   "id": "1a50ad3a",
   "metadata": {},
   "outputs": [],
   "source": [
    "ote03_best_focus_images"
   ]
  },
  {
   "cell_type": "markdown",
   "id": "2bdf3279",
   "metadata": {},
   "source": [
    "<font color='DodgerBlue'> <div><center>  \n",
    "## Run the following cells without changing them \n",
    "</center></div></font>"
   ]
  },
  {
   "cell_type": "markdown",
   "id": "2e353534",
   "metadata": {},
   "source": [
    "Now, we have a better idea of which segment is which, AND we have focus diversity. Here we will be able to match a guess of the PSF in the images we have with their segment name, and then cut that out of the images that we have and put at their GA positions. This prepares us for OTE-07."
   ]
  },
  {
   "cell_type": "code",
   "execution_count": null,
   "id": "cc01f32b",
   "metadata": {},
   "outputs": [],
   "source": [
    "# Plot out all all nircam images, and make our own mosiac\n",
    "\n",
    "# -------------------     -------------------\n",
    "# |        |        |     |        |        | \n",
    "# |   A2   |   A4   |     |   B3   |   B1   |\n",
    "# |        |        |     |        |        |\n",
    "# |        |        |     |        |        |\n",
    "# -------------------     -------------------\n",
    "# |        |        |     |        |        |\n",
    "# |   A1   |   A3   |     |   B4   |   B2   |\n",
    "# |        |        |     |        |        |\n",
    "# |________|________|     |________|________| "
   ]
  },
  {
   "cell_type": "code",
   "execution_count": null,
   "id": "8c6e1a90",
   "metadata": {},
   "outputs": [],
   "source": [
    "ote03_nrca_images, ote03_nrcb_images = notebook_utils.separate_nircam_images(ote03_best_focus_images)\n",
    "\n",
    "nrca_data_list, nrca_name_list = notebook_utils.get_nrc_data_from_list(ote03_nrca_images)\n",
    "notebook_utils.plot_nrca_images(nrca_data_list, nrca_name_list)\n",
    "\n",
    "nrcb_data_list, nrcb_name_list = notebook_utils.get_nrc_data_from_list(ote03_nrcb_images)\n",
    "notebook_utils.plot_nrcb_images(nrcb_data_list, nrcb_name_list)"
   ]
  },
  {
   "cell_type": "code",
   "execution_count": null,
   "id": "48567ad6",
   "metadata": {},
   "outputs": [],
   "source": [
    "# Make our mosaic\n",
    "ote03_image = notebook_utils.create_basic_mosaic(nrca_data_list, nrcb_data_list)\n",
    "\n",
    "plt.figure(figsize=(10,20))\n",
    "plt.imshow(ote03_image, norm=LogNorm(vmin=1, vmax=1000), origin='lower')\n",
    "plt.title(f'{car} mosaic')\n",
    "plt.axis('off')\n",
    "plt.show()"
   ]
  },
  {
   "cell_type": "markdown",
   "id": "0be2b7e9",
   "metadata": {},
   "source": [
    "<font color='DodgerBlue'> <div><center>\n",
    "## Run the following cells without changing them \n",
    "</center></div></font>"
   ]
  },
  {
   "cell_type": "code",
   "execution_count": null,
   "id": "0e98d31c",
   "metadata": {},
   "outputs": [],
   "source": [
    "# We use the header for getting the pixel scale so it's okay that it is for only one of the images\n",
    "ote03_header = fits.getheader(ote03_best_focus_images[0]) \n",
    "\n",
    "# Create a PsfAnalysis object for OTE-03, this is how we can do most of the analysis\n",
    "ote03 = notebook_utils.PsfAnalysis(car, ote03_image, ote03_header, ote03_pixelscale, ote03_target_location)"
   ]
  },
  {
   "cell_type": "code",
   "execution_count": null,
   "id": "0a6a7d59",
   "metadata": {},
   "outputs": [],
   "source": [
    "# Measure the PSF locations and their characteristics for the OTE-03 image that we have\n",
    "# Adjust the psf_window_radius if the window around the cut out PSFs below as needed\n",
    "# This function will measure the FWHM_x, FWHM_y, the distance to the target location, \n",
    "#  and the encircled energy for each PSF\n",
    "ote03.get_image_information(smoothing='high', psf_window_radius=100)"
   ]
  },
  {
   "cell_type": "code",
   "execution_count": null,
   "id": "8b85bc13",
   "metadata": {},
   "outputs": [],
   "source": [
    "# Plot the full mosaic with the estimated target location and identified PSFs\n",
    "ote03.plot_image_with_psfs(xlim=None, # If you need to change the x axis limits, do so here\n",
    "                           ylim=None, # If you need to change the y axis limits, do so here\n",
    "                           label_color='white') # If you can't read the PSF labels, change this parameter"
   ]
  },
  {
   "cell_type": "markdown",
   "id": "7fda576d",
   "metadata": {},
   "source": [
    "<font color='SlateBlue'> <div>\n",
    "\n",
    "### Things to look for:    \n",
    " \n",
    "</div></font>\n",
    "\n",
    "\n",
    "- How many segment PSFs are saturated (zeros in the center of the PSF)?\n",
    "- Is there a single bright spot in the PSF or are there multiple knots/lobes?\n"
   ]
  },
  {
   "cell_type": "code",
   "execution_count": null,
   "id": "51a65e4c",
   "metadata": {
    "scrolled": false
   },
   "outputs": [],
   "source": [
    "# Cut out each segment and do a visual check\n",
    "ote03.plot_each_identified_segment_psf(num_psf_per_row=4,\n",
    "                                       labels=None # Change this if you have segment knowledge\n",
    "                                      )"
   ]
  },
  {
   "cell_type": "markdown",
   "id": "3175e620",
   "metadata": {},
   "source": [
    "IMPORTANT NOTE: Any PSFs that have saturated cores may not have reliable FWHM or EE measurements"
   ]
  },
  {
   "cell_type": "code",
   "execution_count": null,
   "id": "3311e2ff",
   "metadata": {},
   "outputs": [],
   "source": [
    "# Let's look at the properties of each PSF. \n",
    "# The index on the left is the same as the numbering in the plots above\n",
    "ote03.info_df"
   ]
  },
  {
   "cell_type": "markdown",
   "id": "0eed69f8",
   "metadata": {},
   "source": [
    "In the table, the x, y location of each PSF has been found, it's associated FWHM_x and FWHM_y have been measured, as well as the distance to the estimated target location."
   ]
  },
  {
   "cell_type": "markdown",
   "id": "9ecaced8",
   "metadata": {},
   "source": [
    "## Look at FWHM values and distance to the target"
   ]
  },
  {
   "cell_type": "markdown",
   "id": "67ba83a4",
   "metadata": {},
   "source": [
    "In the plots below, a circle is plotted for each located PSF in the mosiac image. The color of the circle is indicated by the value of the parameter indicated in the title. Green indicates a better value, red indicates a worse value, relative to the other data points. \n",
    "\n",
    "The distance to target can tell us how much the PSF might change once it is moved to its large image array location"
   ]
  },
  {
   "cell_type": "code",
   "execution_count": null,
   "id": "8ba2747a",
   "metadata": {},
   "outputs": [],
   "source": [
    "# Look at FWHM x and y (though the images should tell you the same information)\n",
    "ote03.plot_multiple_parameters(['fwhm_x', 'fwhm_y', 'distance_to_target'])"
   ]
  },
  {
   "cell_type": "markdown",
   "id": "7fb5b176",
   "metadata": {},
   "source": [
    "### If EE has been measured, plot it!"
   ]
  },
  {
   "cell_type": "code",
   "execution_count": null,
   "id": "52ded390",
   "metadata": {
    "scrolled": false
   },
   "outputs": [],
   "source": [
    "# We will only measure EE if pixel scale is not None\n",
    "# All plots have the SAME y axis\n",
    "ote03.plot_ee(num_psf_per_row=4, \n",
    "              labels=None) # Change this if you have segment knowledge     "
   ]
  },
  {
   "cell_type": "markdown",
   "id": "09359144",
   "metadata": {},
   "source": [
    "### Based on the above information, how many segment PSFs are good enough to guide one?"
   ]
  },
  {
   "cell_type": "markdown",
   "id": "25d83855",
   "metadata": {},
   "source": [
    "<font color='Tomato'> <div><center>    \n",
    "### Update the next cell (only) as needed   \n",
    "</center></div></font>"
   ]
  },
  {
   "cell_type": "code",
   "execution_count": null,
   "id": "659a5fe2",
   "metadata": {},
   "outputs": [],
   "source": [
    "# Give the number of PSFs that you think are good enough to guide on\n",
    "good = 13 "
   ]
  },
  {
   "cell_type": "markdown",
   "id": "3f6a9939",
   "metadata": {},
   "source": [
    "If the number of \"Good\" PSFs is more than, or equal to 6, then we can feel confident that we can get a guiding scenario. If it is less than 6, then we will need OTE-03"
   ]
  },
  {
   "cell_type": "code",
   "execution_count": null,
   "id": "64a49465",
   "metadata": {},
   "outputs": [],
   "source": [
    "if good < 6:\n",
    "    print(f'We only have {good} PSFs that we think are good enough for guiding. We need more than 6.')\n",
    "else:\n",
    "    print(f'We have {good} PSFs that we think are good enough for guiding, which might be enough.')"
   ]
  },
  {
   "cell_type": "markdown",
   "id": "73806be9",
   "metadata": {},
   "source": [
    "# After OTE 04"
   ]
  },
  {
   "cell_type": "markdown",
   "id": "3baad23b",
   "metadata": {},
   "source": [
    "## OTE-04: Segment ID"
   ]
  },
  {
   "cell_type": "markdown",
   "id": "18959957",
   "metadata": {},
   "source": [
    "At the end of OTE-04 we should have the ID of each segment, with images of all the segment PSFs. In order to find all the PSFs, there will likely be multiple pointings so that we can image and identify all PSFs. It's likely that we will need to analyze a combination of multiple pointings in order to complete our analysis of all segment PSFs. A possible caveat is that some segments may be on top or close to each other, thus, some contamination could affect the PSF measurements.\n",
    "\n",
    "As this point, WF Guiding should be able to make a fake large image array image that can be run through MAGIC and DHAS. All successful guide/reference star configurations, should be recorded.\n",
    "\n",
    "#### After OTE-04, Shadow will provide:\n",
    " - Which segment is which in either an OTE-04 image printout or online. Format and communication is unclear (will be avilable on a print out or in `/data/…`)\n"
   ]
  },
  {
   "cell_type": "markdown",
   "id": "5a495499",
   "metadata": {},
   "source": [
    "**Ask Shadow which sets of pointings will have all of the segments and only load those images.**"
   ]
  },
  {
   "cell_type": "markdown",
   "id": "b4e2e3c0",
   "metadata": {},
   "source": [
    "<font color='Tomato'> <div><center>  \n",
    "## Make sure the following parameters are correct\n",
    "</center></div></font>"
   ]
  },
  {
   "cell_type": "code",
   "execution_count": null,
   "id": "3da2267d",
   "metadata": {},
   "outputs": [],
   "source": [
    "# CAR information\n",
    "car = 'OTE-04' # Make sure this form matches how it is written in the path to the data\n",
    "program_id = 1137"
   ]
  },
  {
   "cell_type": "code",
   "execution_count": null,
   "id": "6c34e4c7",
   "metadata": {},
   "outputs": [],
   "source": [
    "# Directory where the files can be found\n",
    "main_directory = '/ifs/jwst/tel/TeamPractices/' #/data/jwst/wss/guiding/Commissioning/ote04\n",
    "\n",
    "# Pixelscale of the image, replace the None below if the mosaic has been rebinned by shadow\n",
    "ote04_pixelscale = None # If set to None, the NIRCam SW pixelscale of 0.031\"/pixel will be used\n",
    "\n",
    "# Pointing 1\n",
    "# Choose the best set of exposures for the first pointing\n",
    "ote04_pointing1_images = glob(os.path.join(main_directory, \n",
    "                                           f'{car}/output/jw01137001001_01101_00019_nrc*_cal.fits'))\n",
    "\n",
    "# Define the (x, y) pixel location of the target in the image\n",
    "# If no location is provided, set variable equal to None\n",
    "ote04_target_location1 = None\n",
    "\n",
    "\n",
    "# Pointing 2\n",
    "# Choose the best set of exposures for the first pointing\n",
    "ote04_pointing2_images = glob(os.path.join(main_directory, \n",
    "                                           f'{car}/output/jw01137002001_01101_00004_nrc*_cal.fits'))\n",
    "\n",
    "# Define the (x, y) pixel location of the target in the image\n",
    "# If no location is provided, set variable equal to None\n",
    "ote04_target_location2 = None\n",
    "\n",
    "# Pointing 3\n",
    "# Include more pointings as they exist.\n",
    "# ote04_pointing3 = glob(os.path.join(main_directory, \n",
    "#                                     f'{car}/output/jw01137003001_01101_00004_nrc*_cal.fits'))\n",
    "\n",
    "\n",
    "ote04_matching_dictionary = {}"
   ]
  },
  {
   "cell_type": "markdown",
   "id": "9ba353e6",
   "metadata": {},
   "source": [
    "<font color='DodgerBlue'> <div><center>  \n",
    "## Run the following cells without changing them \n",
    "</center></div></font>"
   ]
  },
  {
   "cell_type": "markdown",
   "id": "2bccbbe4",
   "metadata": {},
   "source": [
    "Now, we know which segment is which. After OTE-04 will be the first time that we will be able to create the full large image array configuration that can be saved to an image to be run through MAGIC and DHAS. \n",
    "\n",
    "To do this, we will first make separate mosaic images for each pointing, and then, using the provided information about which PSF is which segment, we can cut out those PSFs from their respective mosaic images and create a large image array configuration."
   ]
  },
  {
   "cell_type": "code",
   "execution_count": null,
   "id": "5cdd38c5",
   "metadata": {},
   "outputs": [],
   "source": [
    "# Plot out all all nircam images, and make our own mosiac\n",
    "\n",
    "# -------------------     -------------------\n",
    "# |        |        |     |        |        | \n",
    "# |   A2   |   A4   |     |   B3   |   B1   |\n",
    "# |        |        |     |        |        |\n",
    "# |        |        |     |        |        |\n",
    "# -------------------     -------------------\n",
    "# |        |        |     |        |        |\n",
    "# |   A1   |   A3   |     |   B4   |   B2   |\n",
    "# |        |        |     |        |        |\n",
    "# |________|________|     |________|________| "
   ]
  },
  {
   "cell_type": "markdown",
   "id": "1b0260cc",
   "metadata": {},
   "source": [
    "### Pointing 1 "
   ]
  },
  {
   "cell_type": "code",
   "execution_count": null,
   "id": "65e0de8a",
   "metadata": {},
   "outputs": [],
   "source": [
    "ote04_pointing1_images"
   ]
  },
  {
   "cell_type": "code",
   "execution_count": null,
   "id": "cfa68106",
   "metadata": {},
   "outputs": [],
   "source": [
    "ote04_nrca_images1, ote04_nrcb_images1 = notebook_utils.separate_nircam_images(ote04_pointing1_images)\n",
    "\n",
    "nrca_data_list1, nrca_name_list1 = notebook_utils.get_nrc_data_from_list(ote04_nrca_images1)\n",
    "# If you want to plot out the NRCA images, uncomment the below line\n",
    "# notebook_utils.plot_nrca_images(nrca_data_list1, nrca_name_list1)\n",
    "\n",
    "nrcb_data_list1, nrcb_name_list1 = notebook_utils.get_nrc_data_from_list(ote04_nrcb_images1)\n",
    "# If you want to plot out the NRCB images, uncomment the below line\n",
    "# notebook_utils.plot_nrcb_images(nrcb_data_list1, nrcb_name_list1)\n",
    "\n",
    "# Make our mosaic\n",
    "ote04_image1 = notebook_utils.create_basic_mosaic(nrca_data_list1, nrcb_data_list1)"
   ]
  },
  {
   "cell_type": "code",
   "execution_count": null,
   "id": "4248cff6",
   "metadata": {},
   "outputs": [],
   "source": [
    "# We use the header for getting the pixel scale so it's okay that it is for only one of the images\n",
    "ote04_header = fits.getheader(ote04_pointing1_images[0]) \n",
    "\n",
    "# Create a PsfAnalysis object for OTE-03, this is how we can do most of the analysis\n",
    "ote04_pointing1 = notebook_utils.PsfAnalysis(car, ote04_image1, ote04_header, ote04_pixelscale, \n",
    "                                             ote04_target_location1)\n",
    "\n",
    "# Measure the PSF locations and their characteristics for the OTE-03 image that we have\n",
    "# Adjust the psf_window_radius if the window around the cut out PSFs below as needed\n",
    "ote04_pointing1.get_image_information(smoothing='high', psf_window_radius=100)"
   ]
  },
  {
   "cell_type": "code",
   "execution_count": null,
   "id": "ceb10cae",
   "metadata": {},
   "outputs": [],
   "source": [
    "# Plot the full mosaic with the estimated target location and identified PSFs\n",
    "ote04_pointing1.plot_image_with_psfs(xlim=None, # If you need to change the x axis limits, do so here\n",
    "                                     ylim=None, # If you need to change the y axis limits, do so here\n",
    "                                     label_color='white', # If you can't read the PSF labels, change this parameter\n",
    "                                     legend_location='lower left' # 'best', 'upper left', 'upper right', 'lower left', 'lower right'\n",
    "                                     )                   # 'upper center', 'lower center', 'center left', 'center right' "
   ]
  },
  {
   "cell_type": "code",
   "execution_count": null,
   "id": "94627474",
   "metadata": {},
   "outputs": [],
   "source": [
    "# With the help of Shadow, determine the segment ID, if known, for each of the labelled PSFs in the above image \n",
    "# In the dictionary below, for each known PSF, record the associated number: segment ID. \n",
    "\n",
    "# Segment names: A1-1, A2-2, A3-3, A4-4, A5-5, A6-6, \n",
    "#                B1-7, B2-9, B3-11, B4-13, B5-15, B6-17, \n",
    "#                C1-8, C2-10, C3-13, C4-14, C5-16, C6-18\n",
    "\n",
    "# Delete any entry where that segment is not present in the above image.\n",
    "# Do not include partial segments unless this is the only image that they are in\n",
    "# DO NOT include any repeats\n",
    "ote04_matching_dictionary['pointing_1'] = {7  :'A1-1', \n",
    "                                            6  :'A3-3', \n",
    "                                            0  :'A4-4', \n",
    "                                            4  :'A5-5', \n",
    "                                            10 :'A6-6', \n",
    "                                            9  :'B1-7',\n",
    "                                            13 :'B2-9', \n",
    "                                            14 :'B3-11', \n",
    "                                            1  :'B4-13', \n",
    "                                            2  :'B5-15', \n",
    "                                             3 :'C3-12', \n",
    "                                            11 :'C4-14', \n",
    "                                          }"
   ]
  },
  {
   "cell_type": "markdown",
   "id": "d688ab15",
   "metadata": {},
   "source": [
    "### Pointing 2 "
   ]
  },
  {
   "cell_type": "code",
   "execution_count": null,
   "id": "b983a3d0",
   "metadata": {},
   "outputs": [],
   "source": [
    "ote04_pointing2_images"
   ]
  },
  {
   "cell_type": "code",
   "execution_count": null,
   "id": "c0b52e3d",
   "metadata": {},
   "outputs": [],
   "source": [
    "ote04_nrca_images2, ote04_nrcb_images2 = notebook_utils.separate_nircam_images(ote04_pointing2_images)\n",
    "\n",
    "nrca_data_list2, nrca_name_list2 = notebook_utils.get_nrc_data_from_list(ote04_nrca_images2)\n",
    "# If you want to plot out the NRCA images, uncomment the below line\n",
    "# notebook_utils.plot_nrca_images(nrca_data_list2, nrca_name_list2)\n",
    "\n",
    "nrcb_data_list2, nrcb_name_list2 = notebook_utils.get_nrc_data_from_list(ote04_nrcb_images2)\n",
    "# If you want to plot out the NRCB images, uncomment the below line\n",
    "# notebook_utils.plot_nrcb_images(nrcb_data_list2, nrcb_name_list2)\n",
    "\n",
    "# Make our mosaic\n",
    "ote04_image2 = notebook_utils.create_basic_mosaic(nrca_data_list2, nrcb_data_list2)"
   ]
  },
  {
   "cell_type": "code",
   "execution_count": null,
   "id": "b20ffb02",
   "metadata": {},
   "outputs": [],
   "source": [
    "# We use the header for getting the pixel scale so it's okay that it is for only one of the images\n",
    "ote04_header = fits.getheader(ote04_pointing2_images[0]) \n",
    "\n",
    "# Create a PsfAnalysis object for OTE-03, this is how we can do most of the analysis\n",
    "ote04_pointing2 = notebook_utils.PsfAnalysis(car, ote04_image2, ote04_header, ote04_pixelscale, \n",
    "                                             ote04_target_location2)\n",
    "\n",
    "# Measure the PSF locations and their characteristics for the OTE-03 image that we have\n",
    "# Adjust the psf_window_radius if the window around the cut out PSFs below as needed\n",
    "ote04_pointing2.get_image_information(smoothing='high', psf_window_radius=100)"
   ]
  },
  {
   "cell_type": "code",
   "execution_count": null,
   "id": "c32dcaff",
   "metadata": {},
   "outputs": [],
   "source": [
    "# Plot the full mosaic with the estimated target location and identified PSFs\n",
    "ote04_pointing2.plot_image_with_psfs(xlim=None, # If you need to change the x axis limits, do so here\n",
    "                                     ylim=None, # If you need to change the y axis limits, do so here\n",
    "                                     label_color='white') # If you can't read the PSF labels, change this parameter"
   ]
  },
  {
   "cell_type": "markdown",
   "id": "eecf2993",
   "metadata": {},
   "source": [
    "<font color='Tomato'> <div><center>    \n",
    "## Make sure the following parameters are correct   \n",
    "</center></div></font>"
   ]
  },
  {
   "cell_type": "code",
   "execution_count": null,
   "id": "d08e5eb8",
   "metadata": {},
   "outputs": [],
   "source": [
    "# With the help of Shadow, determine the segment ID, if known, for each of the labelled PSFs in the above image \n",
    "# In the dictionary below, for each known PSF, record the associated number: segment ID. \n",
    "\n",
    "# Segment names: A1-1, A2-2, A3-3, A4-4, A5-5, A6-6, \n",
    "#                B1-7, B2-9, B3-11, B4-13, B5-15, B6-17, \n",
    "#                C1-8, C2-10, C3-13, C4-14, C5-16, C6-18\n",
    "\n",
    "# Delete any entry where that segment is not present in the above image.\n",
    "# Do not include partial segments unless this is the only image that they are in\n",
    "# DO NOT include any repeats\n",
    "ote04_matching_dictionary['pointing_2'] ={5   :'A2-2', \n",
    "                                          0   :'B6-17', \n",
    "                                          1   :'C1-8', \n",
    "                                          3   :'C2-10', \n",
    "                                          4   :'C5-16', \n",
    "                                          2   :'C6-18'\n",
    "                                          }"
   ]
  },
  {
   "cell_type": "markdown",
   "id": "6f7e2c69",
   "metadata": {},
   "source": [
    "### Combine the different pointings so that we can use all the data together"
   ]
  },
  {
   "cell_type": "code",
   "execution_count": null,
   "id": "e6f45848",
   "metadata": {},
   "outputs": [],
   "source": [
    "ote04_combined = notebook_utils.PsfAnalysis(car, None, ote04_header, ote04_pixelscale, \n",
    "                                            None)"
   ]
  },
  {
   "cell_type": "code",
   "execution_count": null,
   "id": "11ddb50b",
   "metadata": {},
   "outputs": [],
   "source": [
    "info_dfs = [ote04_pointing1.info_df, ote04_pointing2.info_df]\n",
    "ee_fn_lists = [ote04_pointing1.ee_fns, ote04_pointing2.ee_fns]\n",
    "ote04_combined.info_df, ote04_combined.ee_fns = notebook_utils.create_combined_pointing_df(info_dfs, \n",
    "                                                                                           ote04_matching_dictionary,\n",
    "                                                                                           ee_fn_lists)\n",
    "\n",
    "ote04_combined.info_df"
   ]
  },
  {
   "cell_type": "code",
   "execution_count": null,
   "id": "cd33a6c1",
   "metadata": {},
   "outputs": [],
   "source": [
    "# Put the images in order of the pointings\n",
    "pointings_images = [ote04_pointing1.corrected_image, ote04_pointing2.corrected_image]\n",
    "psf_window_radius = 100\n",
    "ote04_combined.psfs = notebook_utils.get_psfs_from_all_pointings(ote04_combined.info_df, pointings_images, psf_window_radius)\n",
    "ote04_combined.psf_window_radius = psf_window_radius"
   ]
  },
  {
   "cell_type": "code",
   "execution_count": null,
   "id": "e1a81379",
   "metadata": {
    "scrolled": false
   },
   "outputs": [],
   "source": [
    "# Cut out each segment and do a visual check\n",
    "# Change the size of the postage stamp cut out, by adjusting the window_size value which is the size of one side\n",
    "ote04_combined.plot_each_identified_segment_psf(num_psf_per_row=4,\n",
    "                                                labels=ote04_combined.info_df['segment'].values)"
   ]
  },
  {
   "cell_type": "markdown",
   "id": "62081d7b",
   "metadata": {},
   "source": [
    "### Place the segments at their Large Image Array configuration"
   ]
  },
  {
   "cell_type": "code",
   "execution_count": null,
   "id": "07c71b3b",
   "metadata": {},
   "outputs": [],
   "source": [
    "# Put known segment postage stamps in large image array locations\n",
    "ote04_large_image_array, ga_xs, ga_ys = notebook_utils.create_image_array(ote04_combined.psfs,\n",
    "                                                                          ote04_combined.info_df['segment'].values,\n",
    "                                                                          ote04_combined.psf_window_radius)\n",
    "\n",
    "# Plot out new image with distance color coded by how far from boresight\n",
    "plt.figure(figsize=(10, 10))\n",
    "plt.imshow(ote04_large_image_array, norm=LogNorm(vmin=1), origin='upper')\n",
    "plt.title(f\"Assumed Large Image Array created from {car} data\")\n",
    "plt.colorbar()\n",
    "plt.show()"
   ]
  },
  {
   "cell_type": "code",
   "execution_count": null,
   "id": "95afbf56",
   "metadata": {},
   "outputs": [],
   "source": [
    "# Save this out to an image that we can run through MAGIC\n",
    "out_dir = '~/Desktop/' # /data/wss/guiding/Commissioning/ote04 # Make sure this is where you want to save it\n",
    "filename = f'pseudo_large_image_array_from_{car}.fits'\n",
    "notebook_utils.save_out_image_for_magic(ote04_large_image_array, ote04_header, filename, out_dir)"
   ]
  },
  {
   "cell_type": "markdown",
   "id": "82a0d927",
   "metadata": {},
   "source": [
    "### Plot heat map of distances from estimated target location "
   ]
  },
  {
   "cell_type": "markdown",
   "id": "6c357731",
   "metadata": {},
   "source": [
    "Here we are showing how much a single segment PSF will have to move to get it near to the target location. This implies that the shape of the PSF might change once it is put in the large image array configuration. "
   ]
  },
  {
   "cell_type": "code",
   "execution_count": null,
   "id": "461e5054",
   "metadata": {
    "scrolled": false
   },
   "outputs": [],
   "source": [
    "# Look at high level numbers\n",
    "ote04_combined.plot_multiple_parameters(['distance_to_target'], xs=ga_xs, ys=ga_ys,\n",
    "                                        xlim=(0,2048), ylim=(2048, 0))"
   ]
  },
  {
   "cell_type": "code",
   "execution_count": null,
   "id": "a654426d",
   "metadata": {
    "scrolled": false
   },
   "outputs": [],
   "source": [
    "# Break down the FWHM further\n",
    "ote04_combined.plot_multiple_parameters(['fwhm_x', 'fwhm_y'], xs=ga_xs, ys=ga_ys,\n",
    "                                        xlim=(0, 2048), ylim=(2048, 0))"
   ]
  },
  {
   "cell_type": "code",
   "execution_count": null,
   "id": "8242bb97",
   "metadata": {},
   "outputs": [],
   "source": [
    "# We will only measure EE if pixel scale is not None\n",
    "# All plots have the SAME y axis\n",
    "ote04_combined.plot_ee(num_psf_per_row=4, \n",
    "                       labels=ote04_combined.info_df['segment'].values)    "
   ]
  },
  {
   "cell_type": "markdown",
   "id": "afcee015",
   "metadata": {},
   "source": [
    "You can now run this file through MAGIC and see if you can find some selections that can be used for LOS-02"
   ]
  },
  {
   "cell_type": "markdown",
   "id": "4f581a94",
   "metadata": {},
   "source": [
    "# After OTE 05"
   ]
  },
  {
   "cell_type": "markdown",
   "id": "64e749cc",
   "metadata": {},
   "source": [
    "## OTE-05: Alignment Matrix 2"
   ]
  },
  {
   "cell_type": "markdown",
   "id": "a89481a2",
   "metadata": {},
   "source": [
    "OTE-05 is similar to OTE-02.\n",
    "\n",
    "We do not expect to have any new information from OTE-05 that can help WF Guiding prepare for LOS-02, so no analysis will be done. "
   ]
  },
  {
   "cell_type": "markdown",
   "id": "d45c6e25",
   "metadata": {},
   "source": [
    "# After OTE 06"
   ]
  },
  {
   "cell_type": "markdown",
   "id": "7cdfdd01",
   "metadata": {},
   "source": [
    "## OTE-06: Segment Image Array 1"
   ]
  },
  {
   "cell_type": "markdown",
   "id": "fa3c445e",
   "metadata": {},
   "source": [
    "During OTE-06, WSS forms the large array in NIRCam A3. At the end of OTE-06 we'll have the same configuration and PSF as in LOS-02 and the first exposure of OTE-07. This is also a good time to do a full PSF characterization in preparation for Guiding.\n",
    "\n",
    "#### After OTE-06, Shadow will provide:\n",
    "- Nothing"
   ]
  },
  {
   "cell_type": "markdown",
   "id": "10403175",
   "metadata": {},
   "source": [
    "*Do a quick run with the same analysis that you did after OTE-01, OTE-02, OTE-03, OTE-04.*\n",
    "\n",
    "Then you will run the final image from OTE-06 through MAGIC as patrt of the nominal special guiding process"
   ]
  },
  {
   "cell_type": "markdown",
   "id": "154ba874",
   "metadata": {},
   "source": [
    "<font color='Tomato'> <div><center>  \n",
    "## Make sure the following parameters are correct\n",
    "</center></div></font>"
   ]
  },
  {
   "cell_type": "code",
   "execution_count": null,
   "id": "d180f968",
   "metadata": {},
   "outputs": [],
   "source": [
    "# CAR information\n",
    "car = 'OTE-06' # Make sure this form matches how it is written in the path to the data\n",
    "program_id = 1140"
   ]
  },
  {
   "cell_type": "code",
   "execution_count": null,
   "id": "6b3cee2b",
   "metadata": {},
   "outputs": [],
   "source": [
    "# Directory where the files can be found\n",
    "main_directory = '/ifs/jwst/tel/TeamPractices/' #/data/jwst/wss/guiding/Commissioning/ote-06\n",
    "\n",
    "# Location of the final image from OTE-06\n",
    "ote06_file = os.path.join(main_directory, f'{car}/output/jw01140003001_01101_00019_nrca3_cal.fits')\n",
    "\n",
    "# Pixelscale of the image, replace the None below if the mosaic has been rebinned by shadow\n",
    "ote06_pixelscale = None # If set to None, the NIRCam SW pixelscale of 0.031\"/pixel will be used"
   ]
  },
  {
   "cell_type": "markdown",
   "id": "c6a0b645",
   "metadata": {},
   "source": [
    "<font color='DodgerBlue'> <div><center>\n",
    "## Run the following cells without changing them \n",
    "</center></div></font>"
   ]
  },
  {
   "cell_type": "code",
   "execution_count": null,
   "id": "2a4b4e43",
   "metadata": {},
   "outputs": [],
   "source": [
    "# We use the header for getting the pixel scale\n",
    "ote06_image, ote06_header = fits.getdata(ote06_file, header=True)\n",
    "\n",
    "# Create a PsfAnalysis object for OTE-06, this is how we can do most of the analysis\n",
    "ote06 = notebook_utils.PsfAnalysis(car, ote06_image, ote06_header, ote06_pixelscale)"
   ]
  },
  {
   "cell_type": "code",
   "execution_count": null,
   "id": "c1cf2966",
   "metadata": {},
   "outputs": [],
   "source": [
    "# Measure the PSF locations and their characteristics for the OTE-06 image that we have\n",
    "# Adjust the psf_window_radius if the window around the cut out PSFs below as needed\n",
    "ote06.get_image_information(smoothing='high', psf_window_radius=40)"
   ]
  },
  {
   "cell_type": "code",
   "execution_count": null,
   "id": "236cedcf",
   "metadata": {},
   "outputs": [],
   "source": [
    "# Plot the image with the estimated target location (center of pointing) and identified PSFs\n",
    "ote06.plot_image_with_psfs(xlim=None, # If you need to change the x axis limits, do so here\n",
    "                           ylim=None, # If you need to change the y axis limits, do so here\n",
    "                           label_color='white') # If you can't read the PSF labels, change this parameter"
   ]
  },
  {
   "cell_type": "markdown",
   "id": "d8aa6c27",
   "metadata": {},
   "source": [
    "<font color='SlateBlue'> <div>\n",
    "\n",
    "### Things to look for:    \n",
    " \n",
    "</div></font>\n",
    "\n",
    "\n",
    "- How many segment PSFs are saturated (zeros in the center of the PSF)?\n",
    "- Is there a single bright spot in the PSF or are there multiple knots/lobes?\n"
   ]
  },
  {
   "cell_type": "code",
   "execution_count": null,
   "id": "68ead521",
   "metadata": {
    "scrolled": false
   },
   "outputs": [],
   "source": [
    "# Cut out each segment and do a visual check\n",
    "ote06.plot_each_identified_segment_psf(num_psf_per_row=4,\n",
    "                                       labels=None) # Change this if you have segment knowledge"
   ]
  },
  {
   "cell_type": "markdown",
   "id": "070d22fb",
   "metadata": {},
   "source": [
    "IMPORTANT NOTE: Any PSFs that have saturated cores may not have reliable FWHM or EE measurements"
   ]
  },
  {
   "cell_type": "code",
   "execution_count": null,
   "id": "7a9273b3",
   "metadata": {},
   "outputs": [],
   "source": [
    "# Let's look at the properties of each PSF. \n",
    "# The index on the left is the same as the numbering in the plots above\n",
    "ote06.info_df"
   ]
  },
  {
   "cell_type": "markdown",
   "id": "da000551",
   "metadata": {},
   "source": [
    "In the table, the x, y location of each PSF has been found, it's associated FWHM_x and FWHM_y have been measured, as well as the distance to the estimated target location."
   ]
  },
  {
   "cell_type": "markdown",
   "id": "74d527b8",
   "metadata": {},
   "source": [
    "## Look at FWHM values and distance to the target"
   ]
  },
  {
   "cell_type": "markdown",
   "id": "20012f81",
   "metadata": {},
   "source": [
    "In the plots below, a circle is plotted for each located PSF in the mosiac image. The color of the circle is indicated by the value of the parameter indicated in the title. Green indicates a better value, red indicates a worse value, relative to the other data points. "
   ]
  },
  {
   "cell_type": "code",
   "execution_count": null,
   "id": "3f6314ff",
   "metadata": {},
   "outputs": [],
   "source": [
    "# Look at FWHM x and y (though the images should tell you the same information)\n",
    "ote06.plot_multiple_parameters(['fwhm_x', 'fwhm_y', 'distance_to_target'])"
   ]
  },
  {
   "cell_type": "markdown",
   "id": "e19b7d08",
   "metadata": {},
   "source": [
    "### If EE has been measured, plot it!"
   ]
  },
  {
   "cell_type": "code",
   "execution_count": null,
   "id": "f26dc624",
   "metadata": {
    "scrolled": false
   },
   "outputs": [],
   "source": [
    "# We will only measure EE if pixel scale is not None\n",
    "# All plots have the SAME y axis\n",
    "ote06.plot_ee(num_psf_per_row=4, \n",
    "              labels=None) # Change this if you have segment knowledge     "
   ]
  },
  {
   "cell_type": "markdown",
   "id": "818c474f",
   "metadata": {},
   "source": [
    "### Congrats! You have made it to the start of the special guiding part of OTE Commissioning! Good Luck!"
   ]
  },
  {
   "cell_type": "markdown",
   "id": "9bca5a41",
   "metadata": {},
   "source": [
    "Below you will find some additional support analysis that is optional. "
   ]
  },
  {
   "cell_type": "markdown",
   "id": "68b8b14b",
   "metadata": {},
   "source": [
    "# Look at different focus positions in OTE-03 data"
   ]
  },
  {
   "cell_type": "markdown",
   "id": "f2eb81d5",
   "metadata": {},
   "source": [
    "This section is set up so that you can visually inspect the OTE-03 images as the secondary mirror moves through the different focus positions.\n",
    "\n",
    "This section has been built off my (K. Brooks) understanding of OTE-03, that the first image in the observation will be without a mirror move and that the subsequent exposures in the observation will be taken at the 5 focus sweep positions. Please confirm this process, as well as the secondary mirror locations during the sweep (since this is will be determined in flight) with Shadow before running the following cells. "
   ]
  },
  {
   "cell_type": "code",
   "execution_count": null,
   "id": "eff34b3c",
   "metadata": {},
   "outputs": [],
   "source": [
    "# CAR information\n",
    "car = 'OTE-03'  # Make sure this form matches how it is written in the path to the data\n",
    "program_id = 1136"
   ]
  },
  {
   "cell_type": "code",
   "execution_count": null,
   "id": "5d35648b",
   "metadata": {},
   "outputs": [],
   "source": [
    "# Directory where the files can be found\n",
    "main_directory = '/ifs/jwst/tel/TeamPractices/'\n",
    "\n",
    "# Location of the NIRCam images at the best focus\n",
    "ote03_best_focus_images = glob(os.path.join(main_directory, \n",
    "                                            f'{car}/output/jw01136003001_01101_00002_nrc*_cal.fits'))\n",
    "\n",
    "\n",
    "# Location of the file exported from QUIP\n",
    "# If no file is provided, set variable equal to None\n",
    "ote03_info_from_shadow = None\n",
    "\n",
    "# Define location of the target in the image\n",
    "# If no location is provided, set variable equal to None\n",
    "ote03_target_location = None"
   ]
  },
  {
   "cell_type": "code",
   "execution_count": null,
   "id": "53bbdef9",
   "metadata": {},
   "outputs": [],
   "source": [
    "# Only grab shortwave detector images\n",
    "ote03_focus1_images = glob(os.path.join(main_directory, \n",
    "                                        f'{car}/output/jw01136001001_01101_00001_nrc*[1-4]_cal.fits'))\n",
    "\n",
    "ote03_focus2_images = glob(os.path.join(main_directory, \n",
    "                                        f'{car}/output/jw01136001001_01101_00002_nrc*[1-4]_cal.fits'))\n",
    "\n",
    "ote03_focus3_images = glob(os.path.join(main_directory, \n",
    "                                        f'{car}/output/jw01136001001_01101_00003_nrc*[1-4]_cal.fits'))\n",
    "\n",
    "ote03_focus4_images = glob(os.path.join(main_directory, \n",
    "                                        f'{car}/output/jw01136001001_01101_00004_nrc*[1-4]_cal.fits'))\n",
    "\n",
    "ote03_focus5_images = glob(os.path.join(main_directory, \n",
    "                                        f'{car}/output/jw01136001001_01101_00005_nrc*[1-4]_cal.fits'))\n",
    "\n",
    "ote03_focus6_images = glob(os.path.join(main_directory, \n",
    "                                        f'{car}/output/jw01136001001_01101_00006_nrc*[1-4]_cal.fits'))\n",
    "\n",
    "# The defocus positions used are not set in stone and different positions may be used \n",
    "#  depending on what is determined by WSS. Ask Shadow for the defocus positions if this is\n",
    "#  not known to you via WF room communications\n",
    "sm_defocus_positions = [-400, -200, 0, 200, 400]"
   ]
  },
  {
   "cell_type": "markdown",
   "id": "5b1cd934",
   "metadata": {},
   "source": [
    "<font color='DodgerBlue'> <div><center>  \n",
    "## Run the following cells without changing them \n",
    "</center></div></font>"
   ]
  },
  {
   "cell_type": "code",
   "execution_count": null,
   "id": "c947e2d2",
   "metadata": {
    "scrolled": false
   },
   "outputs": [],
   "source": [
    "ote03_nrca_images, ote03_nrcb_images = notebook_utils.separate_nircam_images(ote03_focus1_images)\n",
    "# Separate out the data\n",
    "nrca_data_list, nrca_name_list = notebook_utils.get_nrc_data_from_list(ote03_nrca_images)\n",
    "nrcb_data_list, nrcb_name_list = notebook_utils.get_nrc_data_from_list(ote03_nrcb_images)\n",
    "\n",
    "# Make our mosaic\n",
    "ote03_focus1 = notebook_utils.create_basic_mosaic(nrca_data_list, nrcb_data_list)\n",
    "\n",
    "plt.figure(figsize=(10,20))\n",
    "plt.imshow(ote03_focus1, norm=LogNorm(vmin=1, vmax=1000), origin='lower')\n",
    "plt.title(f'{car} mosaic - 1st focus position, starting focus')\n",
    "plt.axis('off')\n",
    "plt.show()"
   ]
  },
  {
   "cell_type": "code",
   "execution_count": null,
   "id": "e7ca90cb",
   "metadata": {},
   "outputs": [],
   "source": [
    "ote03_nrca_images, ote03_nrcb_images = notebook_utils.separate_nircam_images(ote03_focus2_images)\n",
    "# Separate out the data\n",
    "nrca_data_list, nrca_name_list = notebook_utils.get_nrc_data_from_list(ote03_nrca_images)\n",
    "nrcb_data_list, nrcb_name_list = notebook_utils.get_nrc_data_from_list(ote03_nrcb_images)\n",
    "\n",
    "# Make our mosaic\n",
    "ote03_focus2 = notebook_utils.create_basic_mosaic(nrca_data_list, nrcb_data_list)\n",
    "\n",
    "plt.figure(figsize=(10,20))\n",
    "plt.imshow(ote03_focus2, norm=LogNorm(vmin=1, vmax=1000), origin='lower')\n",
    "plt.title(f'{car} mosaic - 2st focus position: {sm_defocus_positions[0]}um')\n",
    "plt.axis('off')\n",
    "plt.show()"
   ]
  },
  {
   "cell_type": "code",
   "execution_count": null,
   "id": "e108ae8d",
   "metadata": {},
   "outputs": [],
   "source": [
    "ote03_nrca_images, ote03_nrcb_images = notebook_utils.separate_nircam_images(ote03_focus3_images)\n",
    "# Separate out the data\n",
    "nrca_data_list, nrca_name_list = notebook_utils.get_nrc_data_from_list(ote03_nrca_images)\n",
    "nrcb_data_list, nrcb_name_list = notebook_utils.get_nrc_data_from_list(ote03_nrcb_images)\n",
    "\n",
    "# Make our mosaic\n",
    "ote03_focus3 = notebook_utils.create_basic_mosaic(nrca_data_list, nrcb_data_list)\n",
    "\n",
    "plt.figure(figsize=(10,20))\n",
    "plt.imshow(ote03_focus3, norm=LogNorm(vmin=1, vmax=1000), origin='lower')\n",
    "plt.title(f'{car} mosaic - 3rd focus position: {sm_defocus_positions[1]}um')\n",
    "plt.axis('off')\n",
    "plt.show()"
   ]
  },
  {
   "cell_type": "code",
   "execution_count": null,
   "id": "2ac9fd10",
   "metadata": {},
   "outputs": [],
   "source": [
    "ote03_nrca_images, ote03_nrcb_images = notebook_utils.separate_nircam_images(ote03_focus4_images)\n",
    "# Separate out the data\n",
    "nrca_data_list, nrca_name_list = notebook_utils.get_nrc_data_from_list(ote03_nrca_images)\n",
    "nrcb_data_list, nrcb_name_list = notebook_utils.get_nrc_data_from_list(ote03_nrcb_images)\n",
    "\n",
    "# Make our mosaic\n",
    "ote03_focus4 = notebook_utils.create_basic_mosaic(nrca_data_list, nrcb_data_list)\n",
    "\n",
    "plt.figure(figsize=(10,20))\n",
    "plt.imshow(ote03_focus4, norm=LogNorm(vmin=1, vmax=1000), origin='lower')\n",
    "plt.title(f'{car} mosaic - 4th focus position: {sm_defocus_positions[2]}um')\n",
    "plt.axis('off')\n",
    "plt.show()"
   ]
  },
  {
   "cell_type": "code",
   "execution_count": null,
   "id": "f87b8a16",
   "metadata": {},
   "outputs": [],
   "source": [
    "ote03_nrca_images, ote03_nrcb_images = notebook_utils.separate_nircam_images(ote03_focus5_images)\n",
    "# Separate out the data\n",
    "nrca_data_list, nrca_name_list = notebook_utils.get_nrc_data_from_list(ote03_nrca_images)\n",
    "nrcb_data_list, nrcb_name_list = notebook_utils.get_nrc_data_from_list(ote03_nrcb_images)\n",
    "\n",
    "# Make our mosaic\n",
    "ote03_focus5 = notebook_utils.create_basic_mosaic(nrca_data_list, nrcb_data_list)\n",
    "\n",
    "plt.figure(figsize=(10,20))\n",
    "plt.imshow(ote03_focus5, norm=LogNorm(vmin=1, vmax=1000), origin='lower')\n",
    "plt.title(f'{car} mosaic - 5th focus position: {sm_defocus_positions[3]}um')\n",
    "plt.axis('off')\n",
    "plt.show()"
   ]
  },
  {
   "cell_type": "code",
   "execution_count": null,
   "id": "0e2cc3bb",
   "metadata": {},
   "outputs": [],
   "source": [
    "ote03_nrca_images, ote03_nrcb_images = notebook_utils.separate_nircam_images(ote03_focus6_images)\n",
    "# Separate out the data\n",
    "nrca_data_list, nrca_name_list = notebook_utils.get_nrc_data_from_list(ote03_nrca_images)\n",
    "nrcb_data_list, nrcb_name_list = notebook_utils.get_nrc_data_from_list(ote03_nrcb_images)\n",
    "\n",
    "# Make our mosaic\n",
    "ote03_focus6 = notebook_utils.create_basic_mosaic(nrca_data_list, nrcb_data_list)\n",
    "\n",
    "plt.figure(figsize=(10,20))\n",
    "plt.imshow(ote03_focus6, norm=LogNorm(vmin=1, vmax=1000), origin='lower')\n",
    "plt.title(f'{car} mosaic - 6th focus position: {sm_defocus_positions[4]}um')\n",
    "plt.axis('off')\n",
    "plt.show()"
   ]
  },
  {
   "cell_type": "markdown",
   "id": "8c4a5a54",
   "metadata": {},
   "source": [
    "# Get simulated NIRCam locations of LOS-02 PSFs "
   ]
  },
  {
   "cell_type": "markdown",
   "id": "4359bcc1",
   "metadata": {},
   "source": [
    "This section walks through getting the locations of each of the segment PSFs in the large image array configuration. This section is only to support the operations in OTE-04 above.\n",
    "\n",
    "**Do not run these cells unless you need to find new locations of the segment PSFs in the large image array configuration**"
   ]
  },
  {
   "cell_type": "code",
   "execution_count": null,
   "id": "ba6e0d30",
   "metadata": {},
   "outputs": [],
   "source": [
    "los02_image = fits.getdata('/ifs/jwst/tel/LRE5/LOS-02/output/LRE5-RfR/jw01410002001_02101_00001_nrca3_cal.fits')"
   ]
  },
  {
   "cell_type": "code",
   "execution_count": null,
   "id": "d9695847",
   "metadata": {},
   "outputs": [],
   "source": [
    "plt.figure(figsize=(10, 8))\n",
    "plt.imshow(los02_image, norm=LogNorm(vmin=1))\n",
    "plt.title('Large Image Configuration')\n",
    "plt.show()"
   ]
  },
  {
   "cell_type": "code",
   "execution_count": null,
   "id": "086ef77f",
   "metadata": {},
   "outputs": [],
   "source": [
    "# Do not change this cell\n",
    "# mapping of magic segment labels to WSS numbers\n",
    "\n",
    "SEGMENT_MAP_SCI = [\"B1-7\",  \"C6-18\", \"C1-8\",  \"B6-17\",\n",
    "                   \"A1-1\",  \"B2-9\",  \"A6-6\",  \"A2-2\", \n",
    "                   \"C5-16\", \"C2-10\", \"A5-5\",  \"A3-3\", \n",
    "                   \"B5-15\", \"A4-4\",  \"B3-11\", \"C4-14\", \n",
    "                   \"C3-12\", \"B4-13\"]"
   ]
  },
  {
   "cell_type": "code",
   "execution_count": null,
   "id": "22c6c16e",
   "metadata": {},
   "outputs": [],
   "source": [
    "x_list, y_list = notebook_utils.get_position_from_magic(los02_image, \n",
    "                                                        smoothing='high', \n",
    "                                                        npeaks=np.inf)"
   ]
  },
  {
   "cell_type": "code",
   "execution_count": null,
   "id": "1ec3028f",
   "metadata": {},
   "outputs": [],
   "source": [
    "plt.figure(figsize=(10, 8))\n",
    "plt.imshow(los02_image, norm=LogNorm(vmin=1))\n",
    "for i, (seg, x, y) in enumerate(zip(SEGMENT_MAP_SCI, x_list, y_list)):\n",
    "    plt.annotate(i, (x, y), (x+15, y+15), color='white' )\n",
    "    plt.annotate(seg, (x, y), (x-30, y-30), color='white' )"
   ]
  },
  {
   "cell_type": "code",
   "execution_count": null,
   "id": "bb543a41",
   "metadata": {},
   "outputs": [],
   "source": [
    "all_psfs_table = pd.DataFrame({'segment':SEGMENT_MAP_SCI, 'x':x_list, 'y':y_list, })\n",
    "\n",
    "all_psfs_table"
   ]
  },
  {
   "cell_type": "code",
   "execution_count": null,
   "id": "e0b3d9e5",
   "metadata": {},
   "outputs": [],
   "source": [
    "truth_locations = all_psfs_table.set_index('segment').T.to_dict('list')\n",
    "truth_locations"
   ]
  },
  {
   "cell_type": "code",
   "execution_count": null,
   "id": "8eae1515",
   "metadata": {},
   "outputs": [],
   "source": [
    "truth_locations == notebook_utils.GA_PSF_LOCATIONS"
   ]
  }
 ],
 "metadata": {
  "kernelspec": {
   "display_name": "Python 3 (ipykernel)",
   "language": "python",
   "name": "python3"
  },
  "language_info": {
   "codemirror_mode": {
    "name": "ipython",
    "version": 3
   },
   "file_extension": ".py",
   "mimetype": "text/x-python",
   "name": "python",
   "nbconvert_exporter": "python",
   "pygments_lexer": "ipython3",
   "version": "3.7.11"
  }
 },
 "nbformat": 4,
 "nbformat_minor": 5
}
