{
 "cells": [
  {
   "cell_type": "markdown",
   "id": "974f53a9",
   "metadata": {},
   "source": [
    "Some FGS images made by MIRAGE show very wide spreads in count rates. Looking into this, it looks like there are a few highly negative pixels and a few (or one) highly positive pixel. When MAGIC tries to normalize this image, it throws all of the available counts into the one (or couple) highly positive pixel(s). This means that we have no PSF data in the converted image. \n",
    "\n",
    "In my analysis I was able to come up with a quick fix using the correct_image utility function in MAGIC that resets all negative values to zero and all values over a given threshold to that threshold. \n",
    "\n",
    "In MAGIC we **do not want to cap the input image unless it has gone through the pipeline** (since seed images will have count rates well into the millions for certain stars) or if we know it is a simulated image. \n"
   ]
  },
  {
   "cell_type": "code",
   "execution_count": 1,
   "id": "cae3a3db",
   "metadata": {},
   "outputs": [
    {
     "name": "stdout",
     "output_type": "stream",
     "text": [
      "Using backend:  Qt5Agg\n",
      "**WARNING**: LOCAL JWST PRD VERSION PRDOPSSOC-034 DOESN'T MATCH THE CURRENT ONLINE VERSION PRDOPSSOC-036\n",
      "Please consider updating pysiaf, e.g. pip install --upgrade pysiaf or conda update pysiaf\n",
      "Your MAGIC package is up to date\n",
      "Your FGS COUNTRATE package is up to date\n"
     ]
    }
   ],
   "source": [
    "# Import necessary packages\n",
    "import os \n",
    "\n",
    "from astropy.io import fits\n",
    "\n",
    "import jwst_magic"
   ]
  },
  {
   "cell_type": "code",
   "execution_count": null,
   "id": "702986ed",
   "metadata": {},
   "outputs": [],
   "source": [
    "# Path to the file that needs to be changed \n",
    " \n",
    "path_to_files = 'my_path_to_the_files' # CHANGE THIS VARIABLE \n"
   ]
  },
  {
   "cell_type": "code",
   "execution_count": null,
   "id": "dafa3347",
   "metadata": {},
   "outputs": [],
   "source": [
    "# Open the file and print out information about the file\n",
    "\n",
    "hdu = fits.open(os.path.join(path_to_files, my_file))\n",
    "hdu.info()\n"
   ]
  },
  {
   "cell_type": "code",
   "execution_count": null,
   "id": "e3042a89",
   "metadata": {},
   "outputs": [],
   "source": [
    "# Correct the pixels to make sure all count rates fall within 0 and 65,000\n",
    "\n",
    "new_sci = correct_image(sci, upper_threshold=65000, upper_limit=65000)\n",
    "new_primary = correct_image(primary, upper_threshold=65000, upper_limit=65000)\n",
    "\n",
    "hdu[0].data = new_primary\n",
    "hdu[1].data = new_sci"
   ]
  },
  {
   "cell_type": "code",
   "execution_count": null,
   "id": "bee6d2fc",
   "metadata": {},
   "outputs": [],
   "source": [
    "# Give the new filename which is in the same location as the old file\n",
    "\n",
    "filename = fits_files[4].split('/')[-1]\n",
    "parts = filename.split('.')\n",
    "new_filename = f\"{parts[0]}_corrected.{parts[1]}\"\n",
    "new_file = os.path.join(path_to_files, new_filename)\n",
    "\n",
    "print(new_file)"
   ]
  },
  {
   "cell_type": "code",
   "execution_count": null,
   "id": "4d9e344e",
   "metadata": {},
   "outputs": [],
   "source": [
    "# Write out updated data to a new file that will be used as input into MAGIC\n",
    "\n",
    "hdu.writeto(new_file)"
   ]
  }
 ],
 "metadata": {
  "kernelspec": {
   "display_name": "Python 3",
   "language": "python",
   "name": "python3"
  },
  "language_info": {
   "codemirror_mode": {
    "name": "ipython",
    "version": 3
   },
   "file_extension": ".py",
   "mimetype": "text/x-python",
   "name": "python",
   "nbconvert_exporter": "python",
   "pygments_lexer": "ipython3",
   "version": "3.7.10"
  }
 },
 "nbformat": 4,
 "nbformat_minor": 5
}
