{
 "cells": [
  {
   "cell_type": "markdown",
   "id": "2f738d87",
   "metadata": {},
   "source": [
    "This notebook can be used for any input images (we expect this to only be needed for simulated data) that have large spreads in the count rates. "
   ]
  },
  {
   "cell_type": "code",
   "execution_count": 2,
   "id": "08d87b09",
   "metadata": {},
   "outputs": [],
   "source": [
    "import os \n",
    "\n",
    "from astropy.io import fits"
   ]
  },
  {
   "cell_type": "code",
   "execution_count": 3,
   "id": "e4ba3a64",
   "metadata": {},
   "outputs": [],
   "source": [
    "def correct_image(image, upper_threshold=65000, upper_limit=65000):\n",
    "    \"\"\"\n",
    "    Correct image for negative and overly bright pixels\n",
    "    \"\"\"\n",
    "    img = np.copy(image)\n",
    "    img[img < 0] = 0.            # neg pixs -> 0\n",
    "    img[img >= upper_threshold] = upper_limit    # sat'd pixs -> 65K\n",
    "    img[np.isfinite(img) == 0] = 0.\n",
    "\n",
    "    return img"
   ]
  },
  {
   "cell_type": "code",
   "execution_count": null,
   "id": "98c6ff17",
   "metadata": {},
   "outputs": [],
   "source": [
    "# Provide path to and name of, file that needs to be corrected\n",
    "path_to_file_to_be_corrected = 'my_path_to_the_file\"\n",
    "my_file = 'filename_of_the_file_to_be_corrected'"
   ]
  },
  {
   "cell_type": "code",
   "execution_count": null,
   "id": "7f6d489c",
   "metadata": {},
   "outputs": [],
   "source": [
    "# Open the fits file\n",
    "hdu = fits.open(os.path.join(path_to_file_to_be_corrected, my_file))\n",
    "hdu.info()"
   ]
  },
  {
   "cell_type": "code",
   "execution_count": null,
   "id": "a60f749b",
   "metadata": {},
   "outputs": [],
   "source": [
    "# Correct the upper end of the counts a specified number\n",
    "# upper_threshold is the limit at which you want to reassign the count rate value\n",
    "# upper_limit is what the values over the upper_threshold should be set to\n",
    "new_sci = correct_image(sci, upper_threshold=65000, upper_limit=65000)\n",
    "new_primary = correct_image(primary, upper_threshold=65000, upper_limit=65000)"
   ]
  },
  {
   "cell_type": "code",
   "execution_count": null,
   "id": "af02e2f9",
   "metadata": {},
   "outputs": [],
   "source": [
    "# Assign corrected data to the hdu object\n",
    "hdu[0].data = new_primary\n",
    "hdu[1].data = new_sci"
   ]
  },
  {
   "cell_type": "code",
   "execution_count": null,
   "id": "ead47f8e",
   "metadata": {},
   "outputs": [],
   "source": [
    "# Create output filename. This is set up to give the same filename but with \"_corrected\" appended to the root\n",
    "filename = fits_files[4].split('/')[-1]\n",
    "parts = filename.split('.')\n",
    "new_filename = f\"{parts[0]}_corrected.{parts[1]}\"\n",
    "new_file = os.path.join(path_to_files, new_filename)"
   ]
  },
  {
   "cell_type": "code",
   "execution_count": null,
   "id": "e2029b8a",
   "metadata": {},
   "outputs": [],
   "source": [
    "# Write the new file\n",
    "hdu.writeto(new_file)"
   ]
  }
 ],
 "metadata": {
  "kernelspec": {
   "display_name": "Python 3",
   "language": "python",
   "name": "python3"
  },
  "language_info": {
   "codemirror_mode": {
    "name": "ipython",
    "version": 3
   },
   "file_extension": ".py",
   "mimetype": "text/x-python",
   "name": "python",
   "nbconvert_exporter": "python",
   "pygments_lexer": "ipython3",
   "version": "3.7.10"
  }
 },
 "nbformat": 4,
 "nbformat_minor": 5
}
