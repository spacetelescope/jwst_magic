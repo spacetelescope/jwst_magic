{
 "cells": [
  {
   "cell_type": "markdown",
   "id": "974f53a9",
   "metadata": {},
   "source": [
    "Some FGS images made by MIRAGE show very wide spreads in count rates. Looking into this, it looks like there are a few highly negative pixels and a few (or one) highly positive pixel. When MAGIC tries to normalize this image, it throws all of the available counts into the one (or couple) highly positive pixel(s). This means that we have no PSF data in the converted image. \n",
    "\n",
    "In my analysis I was able to come up with a quick fix using the correct_image utility function in MAGIC that resets all negative values to zero and all values over a given threshold to that threshold. \n",
    "\n",
    "In MAGIC we **do not want to cap the input image unless it has gone through the pipeline** (since seed images will have count rates well into the millions for certain stars) or if we know it is a simulated image. \n"
   ]
  },
  {
   "cell_type": "code",
   "execution_count": null,
   "id": "cae3a3db",
   "metadata": {},
   "outputs": [],
   "source": [
    "# Import necessary packages\n",
    "import os \n",
    "\n",
    "from astropy.io import fits\n",
    "\n",
    "from jwst_magic.utils import utils"
   ]
  },
  {
   "cell_type": "code",
   "execution_count": null,
   "id": "702986ed",
   "metadata": {},
   "outputs": [],
   "source": [
    "# Path to the file that needs to be changed \n",
    " \n",
    "path_to_file = 'path_to_the_file_to_be_corrected' # CHANGE THIS VARIABLE \n"
   ]
  },
  {
   "cell_type": "code",
   "execution_count": null,
   "id": "dafa3347",
   "metadata": {},
   "outputs": [],
   "source": [
    "# Open the file and print out information about the file\n",
    "\n",
    "hdu = fits.open(path_to_file)\n",
    "hdu.info()\n"
   ]
  },
  {
   "cell_type": "code",
   "execution_count": null,
   "id": "732dc27c",
   "metadata": {},
   "outputs": [],
   "source": [
    "# Based on the info that is printed above, choose the extension(s) of the hdu to correct\n",
    "# For the extension that has the image use either the associated \"No.\" or \"Name\" in the \n",
    "#  above info for the variable `extension` below \n",
    "extension = 'primary'\n",
    "data = hdu[extension].data"
   ]
  },
  {
   "cell_type": "code",
   "execution_count": null,
   "id": "e3042a89",
   "metadata": {},
   "outputs": [],
   "source": [
    "# Correct the pixels to make sure all count rates fall within 0 and 65,000\n",
    "new_data = utils.correct_image(data, upper_threshold=65000, upper_limit=65000)\n",
    "\n",
    "hdu[extension].data = new_data"
   ]
  },
  {
   "cell_type": "code",
   "execution_count": null,
   "id": "bee6d2fc",
   "metadata": {},
   "outputs": [],
   "source": [
    "# Give the new filename which is in the same location as the old file\n",
    "\n",
    "path, filename = os.path.split(path_to_file)\n",
    "parts = filename.split('.')\n",
    "new_filename = f\"{parts[0]}_corrected.{parts[1]}\"\n",
    "new_file = os.path.join(path, new_filename)\n",
    "\n",
    "print(new_file)"
   ]
  },
  {
   "cell_type": "code",
   "execution_count": null,
   "id": "4d9e344e",
   "metadata": {},
   "outputs": [],
   "source": [
    "# Write out updated data to a new file that will be used as input into MAGIC\n",
    "\n",
    "hdu.writeto(new_file)"
   ]
  }
 ],
 "metadata": {
  "kernelspec": {
   "display_name": "Python 3 (ipykernel)",
   "language": "python",
   "name": "python3"
  },
  "language_info": {
   "codemirror_mode": {
    "name": "ipython",
    "version": 3
   },
   "file_extension": ".py",
   "mimetype": "text/x-python",
   "name": "python",
   "nbconvert_exporter": "python",
   "pygments_lexer": "ipython3",
   "version": "3.7.11"
  }
 },
 "nbformat": 4,
 "nbformat_minor": 5
}
