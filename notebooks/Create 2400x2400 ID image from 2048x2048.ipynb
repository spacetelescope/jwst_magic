{
 "cells": [
  {
   "cell_type": "markdown",
   "metadata": {},
   "source": [
    "Make an XL image for FGSES. Pad CDS ID fits file from 2048 x 2048 out to 2400 x 2400. Add 5 extra PSFs to the padded area."
   ]
  },
  {
   "cell_type": "code",
   "execution_count": 2,
   "metadata": {},
   "outputs": [
    {
     "name": "stdout",
     "output_type": "stream",
     "text": [
      "Using backend:  Qt5Agg\n",
      "Your MAGIC package is up to date\n",
      "Your FGS COUNTRATE package is up to date\n"
     ]
    }
   ],
   "source": [
    "import os\n",
    "\n",
    "from astropy.io import fits\n",
    "import matplotlib.pyplot as plt\n",
    "from matplotlib.colors import LogNorm\n",
    "import numpy as np\n",
    "\n",
    "from jwst_magic.utils import utils\n",
    "from jwst_magic.fsw_file_writer import write_files\n",
    "\n",
    "%matplotlib inline"
   ]
  },
  {
   "cell_type": "code",
   "execution_count": 4,
   "metadata": {},
   "outputs": [],
   "source": [
    "#####################################################\n",
    "# USER NEEDS TO CHANGE THESE WITH EACH NEW DATA SET #\n",
    "#####################################################\n",
    "# Set input filenames\n",
    "in_dir = '/user/holfeltz/nelan'\n",
    "infile = os.path.join(in_dir, 'G1no11_BCF.fits')"
   ]
  },
  {
   "cell_type": "code",
   "execution_count": 5,
   "metadata": {},
   "outputs": [],
   "source": [
    "#####################################################\n",
    "# USER NEEDS TO CHANGE THESE WITH EACH NEW DATA SET #\n",
    "#####################################################\n",
    "# Set output filenames\n",
    "out_dir = in_dir\n",
    "fits_out = os.path.join(out_dir, 'LMC-LRE6_G1_IDcds_XL.fits')\n",
    "dat_out = os.path.join(out_dir, 'LMC-LRE6_G1_IDcds_XL.dat')"
   ]
  },
  {
   "cell_type": "code",
   "execution_count": null,
   "metadata": {},
   "outputs": [],
   "source": [
    "#####################################################\n",
    "# USER NEEDS TO CHANGE THESE WITH EACH NEW DATA SET #\n",
    "#####################################################\n",
    "# tell us what kind of image this is. \n",
    "# The acceptable types are: 'cds', 'ff', 'seed'\n",
    "#    'cds' : The ID CDS image from MAGIC (in 'stsci_'), we expect this to be a cube in units of counts\n",
    "#    'ff'  : The Full Frame ID image from MAGIC (in 'stsci_'), we expect this to be a single frame in units of counts\n",
    "#    'seed': The image in 'FGS_imgs' from MAGIC, this is in units of ADU/s and is lacking any bias information\n",
    "# Note that the 'seed' image will not account for saturation correctly since we are not calculating it based on the\n",
    "# different reads\n",
    "\n",
    "image_type = 'cds'"
   ]
  },
  {
   "cell_type": "code",
   "execution_count": 3,
   "metadata": {},
   "outputs": [],
   "source": [
    "# PSF locations\n",
    "psf_template_loc = '/user/holfeltz/simdata/webb_templates/'\n",
    "opd = 'OPD4'\n",
    "\n",
    "# Set up variables & indexing stuff\n",
    "psfx = 101\n",
    "psfy = 101\n",
    "image_size = 2048\n",
    "big_image_size = 2400\n",
    "pad = big_image_size - image_size\n",
    "dx = pad//2\n",
    "dy = dx\n",
    "half_psf = psfx//2 + 1"
   ]
  },
  {
   "cell_type": "code",
   "execution_count": 6,
   "metadata": {},
   "outputs": [],
   "source": [
    "# Read input data and header\n",
    "data, hdr = fits.getdata(infile, ext=0, header=True)\n",
    "\n",
    "# Make sure that we are only working with one frame in units of counts\n",
    "if image_type == 'cds':\n",
    "    data = data[0]\n",
    "elif image_type == 'ff':\n",
    "    data = data\n",
    "elif image_type == 'seed': \n",
    "    data = data*0.3406 # Convert to counts\n",
    "    data = utils.correct_image(data, upper_threshold=65535, upper_limit=65535)"
   ]
  },
  {
   "cell_type": "code",
   "execution_count": 7,
   "metadata": {},
   "outputs": [],
   "source": [
    "# Initialize output img\n",
    "obs = np.zeros([big_image_size, big_image_size])   # big output files\n",
    "obs[dx:dx+image_size, dy:dy+image_size] = data  # small insert/starting file"
   ]
  },
  {
   "cell_type": "code",
   "execution_count": 3,
   "metadata": {},
   "outputs": [
    {
     "name": "stdout",
     "output_type": "stream",
     "text": [
      "(2, 172425)\n",
      "172425\n"
     ]
    }
   ],
   "source": [
    "# Set up variables & indexing stuff\n",
    "psfx = 101\n",
    "psfy = 101\n",
    "image_size = 2048\n",
    "big_image_size = 2400\n",
    "pad = big_image_size - image_size\n",
    "dx = pad//2\n",
    "dy = dx\n",
    "half_psf = psfx//2 + 1\n",
    "# set up dummy arrays with pixel values that equal their x & y coords\n",
    "x = np.zeros([big_image_size,big_image_size])\n",
    "y = x\n",
    "for i in range(big_image_size):\n",
    "    x[:,i] = i\n",
    "y = np.rot90(x)\n",
    "y = np.flipud(y)\n",
    "# divide up padded area into left, right, top, & bottom regions\n",
    "# get (ix,iy) indices for where in the 2400x2400 image these pixel are located\n",
    "pad_all = (np.where((x >= half_psf) & (x <= dx-half_psf) & (y >= half_psf) & (y <= big_image_size-half_psf)) or\n",
    "    np.where((x >= big_image_size-dx+half_psf) & (x <= big_image_size-half_psf) & (y >= half_psf) & (y <= big_image_size-half_psf)) or\n",
    "    np.where((y >= half_psf) & (y <= big_image_size-dy+half_psf) & (x >= half_psf) & (x <= big_image_size-half_psf)) or\n",
    "    np.where((y >= half_psf) & (y <= big_image_size-dy+half_psf) & (x >= half_psf) & (x <= big_image_size-half_psf)))\n",
    "ss = np.shape(pad_all)\n",
    "print(ss)\n",
    "print(ss[1])\n",
    "\n"
   ]
  },
  {
   "cell_type": "code",
   "execution_count": 10,
   "metadata": {},
   "outputs": [
    {
     "name": "stdout",
     "output_type": "stream",
     "text": [
      "(25,)\n",
      "(2, 172425)\n",
      "0\n",
      "1\n",
      "2\n",
      "3\n",
      "4\n",
      "5\n",
      "6\n",
      "7\n",
      "8\n",
      "9\n",
      "10\n",
      "11\n",
      "12\n",
      "13\n",
      "14\n",
      "15\n",
      "16\n",
      "17\n",
      "18\n",
      "19\n",
      "20\n",
      "21\n",
      "22\n",
      "23\n",
      "24\n"
     ]
    }
   ],
   "source": [
    "################################################\n",
    "# USER MAY CHANGE THESE WITH EACH NEW DATA SET #\n",
    "################################################\n",
    "nstars = 25\n",
    "locount = 15000\n",
    "hicount = 10000000\n",
    "# get x & y coords in padded region for each requested pad-star\n",
    "i = np.random.randint(0, ss[1], size=nstars)\n",
    "x_rp = []\n",
    "y_rp = []\n",
    "for k in range(nstars):\n",
    "    x_rp.append(pad_all[0][i[k]])\n",
    "    y_rp.append(pad_all[1][i[k]])\n",
    "# get counts for each requsted pad-star\n",
    "adu = np.random.randint(nstars, locount, hicount)"
   ]
  },
  {
   "cell_type": "code",
   "execution_count": 8,
   "metadata": {},
   "outputs": [],
   "source": [
    "# Add 5 more stars to padded area\n",
    "nstar = 5\n",
    "\n",
    "# Star locations\n",
    "x_rp = np.array([675, 1881, 115, 1363, 2300])\n",
    "y_rp = np.array([166, 125, 852, 2345, 1650])\n",
    "\n",
    "# Counts\n",
    "adu = [99866, 24577, 62197, 104302, 95834]\n",
    "\n",
    "# PSF identifier for finding the PSF to use\n",
    "ipsf = ['422', '194', '062', '501', '654']  # PSF file numbers"
   ]
  },
  {
   "cell_type": "code",
   "execution_count": 9,
   "metadata": {},
   "outputs": [],
   "source": [
    "# Accumulate all stars in FOV at real pixel positions (postage stamps)\n",
    "for x, y, counts, psf in zip(x_rp, y_rp, adu, ipsf):\n",
    "    tmp = np.zeros_like(obs)\n",
    "    x1 = x - psfx//2\n",
    "    x2 = x + psfx//2 + 1\n",
    "    y1 = y - psfy//2\n",
    "    y2 = y + psfy//2 + 1\n",
    "    \n",
    "    # use psf templates\n",
    "    psftemp = os.path.join(psf_template_loc, f'M0V_{opd}_{psf}.fits')\n",
    "    psfii = fits.getdata(psftemp)\n",
    "    psfdat = counts * psfii / psfii.sum() # normalize psf\n",
    "    tmp[x1:x2, y1:y2] = psfdat\n",
    "    obs += tmp  # add psf to output img"
   ]
  },
  {
   "cell_type": "code",
   "execution_count": 12,
   "metadata": {},
   "outputs": [
    {
     "data": {
      "image/png": "[encoded data removed]",
      "text/plain": [
       "<Figure size 720x576 with 1 Axes>"
      ]
     },
     "metadata": {
      "needs_background": "light"
     },
     "output_type": "display_data"
    }
   ],
   "source": [
    "# Plot it out!\n",
    "\n",
    "plt.figure(figsize=(10, 8))\n",
    "plt.imshow(obs, norm=LogNorm())\n",
    "plt.show()"
   ]
  },
  {
   "cell_type": "code",
   "execution_count": null,
   "metadata": {
    "collapsed": true
   },
   "outputs": [],
   "source": [
    "# write out fits file\n",
    "print('writing fits file')\n",
    "\n",
    "utils.write_fits(fits_out, obs, header=hdr)\n",
    "\n",
    "# write out dat file\n",
    "for_dat = np.uint16(obs)\n",
    "flat = for_dat.flatten()\n",
    "fmt = '{:04X} '\n",
    "with open(dat_out, 'w') as file_out:\n",
    "    for dat in flat.astype(np.uint16):\n",
    "        file_out.write(fmt.format(dat))\n",
    "\n",
    "print('done')"
   ]
  },
  {
   "cell_type": "markdown",
   "metadata": {},
   "source": [
    "####  About this notebook:\n",
    "Author: S. Holfeltz\n",
    "\n",
    "Updates by: K. Brooks\n",
    "\n",
    "Last updated: 13 October, 2021"
   ]
  },
  {
   "cell_type": "code",
   "execution_count": null,
   "metadata": {},
   "outputs": [],
   "source": []
  }
 ],
 "metadata": {
  "anaconda-cloud": {},
  "kernelspec": {
   "display_name": "Python 3",
   "language": "python",
   "name": "python3"
  },
  "language_info": {
   "codemirror_mode": {
    "name": "ipython",
    "version": 3
   },
   "file_extension": ".py",
   "mimetype": "text/x-python",
   "name": "python",
   "nbconvert_exporter": "python",
   "pygments_lexer": "ipython3",
   "version": "3.7.10"
  }
 },
 "nbformat": 4,
 "nbformat_minor": 1
}
