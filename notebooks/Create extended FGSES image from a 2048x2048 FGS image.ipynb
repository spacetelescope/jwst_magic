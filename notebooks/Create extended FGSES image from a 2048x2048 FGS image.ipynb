{
 "cells": [
  {
   "cell_type": "markdown",
   "metadata": {},
   "source": [
    "# Create an extended FGSES image from a 2048x2048 FGS image"
   ]
  },
  {
   "cell_type": "markdown",
   "metadata": {},
   "source": [
    "**NOTE**: This notebook must be run on a machine that has access to central store if you want to add extra stars in the background"
   ]
  },
  {
   "cell_type": "markdown",
   "metadata": {},
   "source": [
    "Make an XL image for FGSES using a Full Frame, CDS, or Seed FGS image. This notebook will pad a FGS fits file from 2048 x 2048 out to a image between 4097x4097 and 4636x4636 to be compatible with the FGSES. This notebook will also add extra (phased) PSFs to the added padded area.\n",
    "\n",
    "Dependencies:\n",
    "- astropy\n",
    "- matplotlib\n",
    "- numpy\n",
    "- jwst_magic (private GitHub repository)"
   ]
  },
  {
   "cell_type": "markdown",
   "metadata": {},
   "source": [
    "### WARNING\n",
    "This notebook requires inputs from the user. Please pay attention to which cells will need to be changed based on the user's needs. "
   ]
  },
  {
   "cell_type": "code",
   "execution_count": null,
   "metadata": {},
   "outputs": [],
   "source": [
    "import os\n",
    "\n",
    "from astropy.io import fits\n",
    "import matplotlib.pyplot as plt\n",
    "from matplotlib.colors import LogNorm\n",
    "import numpy as np\n",
    "\n",
    "from jwst_magic.utils import utils\n",
    "from jwst_magic.fsw_file_writer import write_files\n",
    "\n",
    "%matplotlib inline"
   ]
  },
  {
   "cell_type": "code",
   "execution_count": null,
   "metadata": {},
   "outputs": [],
   "source": [
    "#####################################################################\n",
    "# USER NEEDS TO CHANGE THESE INPUT VARIABLES WITH EACH NEW DATA SET #\n",
    "#####################################################################\n",
    "# Set input filenames\n",
    "in_dir = '/users/holfeltz/data/' #CHANGE THIS LINE\n",
    "infile = os.path.join(in_dir, 'test_guideScene.fits') #CHANGE THIS LINE"
   ]
  },
  {
   "cell_type": "code",
   "execution_count": null,
   "metadata": {},
   "outputs": [],
   "source": [
    "#######################################################################\n",
    "# USER NEEDS TO CHANGE THESE OUTPUT VARIABLES WITH EACH NEW DATA SET #\n",
    "#######################################################################\n",
    "# Set output filenames\n",
    "out_dir = '/users/holfeltz/notebooks/'\n",
    "filename = 'test_shifted_XL'\n",
    "fits_out = os.path.join(out_dir, f'{filename}.fits')\n",
    "dat_out = os.path.join(out_dir, f'{filename}.dat')"
   ]
  },
  {
   "cell_type": "code",
   "execution_count": null,
   "metadata": {},
   "outputs": [],
   "source": [
    "#########################################################\n",
    "# USER NEEDS TO CHANGE THE IMAGE TYPE EACH NEW DATA SET #\n",
    "#########################################################\n",
    "# Tell us what kind of image this is. \n",
    "# The acceptable types are: 'cds', 'ff', 'seed'\n",
    "#    'cds' : The ID CDS image from MAGIC (in 'stsci_'), we expect this to be a cube in units of counts\n",
    "#    'ff'  : The Full Frame ID image from MAGIC (in 'stsci_'), we expect this to be a single frame in units of counts\n",
    "#    'seed': The image in 'FGS_imgs' from MAGIC, this is in units of ADU/s and is lacking any bias information\n",
    "# Note that the 'seed' image will not account for saturation correctly since we are not calculating it based on the\n",
    "# different reads\n",
    "\n",
    "image_type = 'ff'\n"
   ]
  },
  {
   "cell_type": "code",
   "execution_count": null,
   "metadata": {},
   "outputs": [],
   "source": [
    "##########################################################\n",
    "# USER MAY CHANGE EXTRA STAR INFO WITH EACH NEW DATA SET #\n",
    "##########################################################\n",
    "nstars = 250\n",
    "locount = 15000\n",
    "hicount = 10000000\n"
   ]
  },
  {
   "cell_type": "code",
   "execution_count": null,
   "metadata": {},
   "outputs": [],
   "source": [
    "#################################################################\n",
    "# USER NEEDS TO CHANGE X0 & Y0 DEPENDING ON THE INPUT IMAGE TYPE#\n",
    "#################################################################\n",
    "# X0 and Y0 is the pixel location of the guide star which will need \n",
    "#  to be put in the center of the final image\n",
    "# cds images are from guiding_config_?/stsci_shifted/*IDcds.fits\n",
    "# ff  images are from guiding_config_?/stsci_shifted/*IDff.fits\n",
    "# seed images are from anywhere         \n",
    "# shifted cds & ff images have the GS at (1024,1024) \n",
    "# seed images need to be shifted to put the GS at the center of the XL image\n",
    "\n",
    "small_y0 = 901   # DS9 x\n",
    "small_x0 = 1101  # DS9 y\n"
   ]
  },
  {
   "cell_type": "code",
   "execution_count": null,
   "metadata": {},
   "outputs": [],
   "source": [
    "# PSF locations\n",
    "psf_template_loc = '/user/holfeltz/simdata/webb_templates/'\n",
    "opd = 'OPD4'"
   ]
  },
  {
   "cell_type": "code",
   "execution_count": null,
   "metadata": {},
   "outputs": [],
   "source": [
    "# Set up variables & indexing stuff\n",
    "psfx, psfy = 101, 101\n",
    "\n",
    "half_psf = psfx//2 + 1\n",
    "\n",
    "small_image_size = 2048\n",
    "big_image_size = 4200 # Size must be between 4097x4097 and 4636x4636 (inclusively)\n",
    "\n",
    "big_x0 = big_image_size//2\n",
    "big_y0 = big_x0\n",
    "\n",
    "inset_x_lo = big_x0 - small_x0\n",
    "inset_x_hi = inset_x_lo + small_image_size\n",
    "inset_y_lo = big_y0 - small_y0\n",
    "inset_y_hi = inset_y_lo + small_image_size"
   ]
  },
  {
   "cell_type": "code",
   "execution_count": null,
   "metadata": {},
   "outputs": [],
   "source": [
    "# Read input data and header\n",
    "data, hdr = fits.getdata(infile, ext=0, header=True)\n",
    "print(f\"Data minimum: {np.min(data)}, maximum:{np.max(data)}\")\n",
    "\n",
    "# Make sure that we are only working with one frame in units of counts\n",
    "if image_type.lower() == 'cds':\n",
    "    data = data[0]\n",
    "    x0, y0 = 1024, 1024\n",
    "\n",
    "elif image_type.lower() == 'ff':\n",
    "    data = data[0]\n",
    "    x0, y0 = 1024, 1024\n",
    "\n",
    "elif image_type.lower() == 'seed': \n",
    "    data = data*0.3406 # Convert to counts\n",
    "    data = utils.correct_image(data, upper_threshold=65535, upper_limit=65535)\n",
    "    x0, y0 = gs_x, gs_y\n",
    "\n",
    "else:\n",
    "    print(f\"We don't know how to deal with {image_type} data. Please use only 'cds', 'ff, or 'seed'.\")\n"
   ]
  },
  {
   "cell_type": "code",
   "execution_count": null,
   "metadata": {},
   "outputs": [],
   "source": [
    "# Initialize output img\n",
    "obs = np.zeros([big_image_size, big_image_size])   # big output files\n",
    "obs[inset_x_lo : inset_x_hi, inset_y_lo : inset_y_hi] = data  # small insert/starting file"
   ]
  },
  {
   "cell_type": "code",
   "execution_count": null,
   "metadata": {},
   "outputs": [],
   "source": [
    "# Set up dummy arrays with pixel values that equal their x & y coords\n",
    "x = np.zeros([big_image_size,big_image_size])\n",
    "y = x\n",
    "for i in range(big_image_size):\n",
    "    x[:,i] = i\n",
    "y = np.rot90(x)\n",
    "y = np.flipud(y)\n",
    "\n",
    "# divide up padded area into left, right, top, & bottom regions\n",
    "# get (ix,iy) indices for where in the 2400x2400 image these pixel are located\n",
    "pad_img = np.zeros([big_image_size,big_image_size])\n",
    "pad_img[half_psf : inset_x_lo, half_psf : big_image_size - half_psf] = 1                                      # left\n",
    "pad_img[inset_x_hi + half_psf : big_image_size - half_psf, half_psf : big_image_size - half_psf] = 1          # right\n",
    "pad_img[inset_x_lo + half_psf : inset_x_hi - half_psf, inset_y_hi + half_psf : big_image_size - half_psf] = 1 # top\n",
    "pad_img[inset_x_lo + half_psf : inset_x_hi - half_psf, half_psf : inset_y_lo] = 1                             # bottom\n",
    "ixpad = np.where(pad_img == 1)\n",
    "ss = np.shape(ixpad)\n",
    "\n",
    "# get x & y coords in padded region for each requested pad-star\n",
    "i = np.random.randint(0,ss[1],size=nstars)\n",
    "x_rp = []\n",
    "y_rp = []\n",
    "for k in range(nstars):\n",
    "    x_rp.append(ixpad[0][i[k]])\n",
    "    y_rp.append(ixpad[1][i[k]])\n",
    "\n",
    "# get counts for each requsted pad-star\n",
    "adu = np.random.randint(locount,hicount,nstars)\n",
    "\n",
    "# PSF identifier for finding the PSF to use\n",
    "ipsf = np.random.randint(100,999,nstars)\n",
    "spsf = [\"\" for k in range(nstars)]\n",
    "spsf = str(ipsf).zfill(3)\n"
   ]
  },
  {
   "cell_type": "code",
   "execution_count": null,
   "metadata": {},
   "outputs": [],
   "source": [
    "# NOTE: This cell may take some time to run\n",
    "# Accumulate all stars in FOV at real pixel positions (postage stamps)\n",
    "try:\n",
    "    for x, y, counts, psf in zip(x_rp, y_rp, adu, ipsf):\n",
    "        tmp = np.zeros_like(obs)\n",
    "        x1 = x - psfx//2\n",
    "        x2 = x + psfx//2 + 1\n",
    "        y1 = y - psfy//2\n",
    "        y2 = y + psfy//2 + 1\n",
    "\n",
    "        # use psf templates\n",
    "        psftemp = os.path.join(psf_template_loc, f'M0V_{opd}_{psf}.fits')\n",
    "        psfii = fits.getdata(psftemp)\n",
    "        psfdat = counts * psfii / psfii.sum() # normalize psf\n",
    "        tmp[x1:x2, y1:y2] = psfdat\n",
    "        obs += tmp  # add psf to output img\n",
    "        \n",
    "except FileNotFoundError:\n",
    "    print('You are probably not connected to central store. If you ', \n",
    "          'want to include extra background stars, connect to central store and then run this cell again')"
   ]
  },
  {
   "cell_type": "code",
   "execution_count": null,
   "metadata": {},
   "outputs": [],
   "source": [
    "# Plot it out!\n",
    "plt.figure(figsize=(10, 8))\n",
    "plt.imshow(obs, norm=LogNorm())\n",
    "plt.show()"
   ]
  },
  {
   "cell_type": "code",
   "execution_count": null,
   "metadata": {},
   "outputs": [],
   "source": [
    "# Write out fits file\n",
    "print('writing fits file')\n",
    "\n",
    "utils.write_fits(fits_out, obs, header=hdr)\n",
    "\n",
    "# uint16(any value greater than 65,535) wraps instead of truncates\n",
    "# so we need to truncate the saturated values before we uint\n",
    "obs = utils.correct_image(obs,upper_threshold=65535, upper_limit=65535)\n",
    "\n",
    "# Write out dat file\n",
    "print('writing dat file')\n",
    "for_dat = np.uint16(obs)\n",
    "flat = for_dat.flatten()\n",
    "fmt = '{:04X} '\n",
    "with open(dat_out, 'w') as file_out:\n",
    "    for dat in flat.astype(np.uint16):\n",
    "        file_out.write(fmt.format(dat))\n",
    "print(f'Successfully wrote: {dat_out}')\n",
    "\n",
    "print('done')"
   ]
  },
  {
   "cell_type": "markdown",
   "metadata": {},
   "source": [
    "####  About this notebook:\n",
    "Author: S. Holfeltz\n",
    "\n",
    "Last updated: 15 December, 2021"
   ]
  },
  {
   "cell_type": "code",
   "execution_count": null,
   "metadata": {},
   "outputs": [],
   "source": []
  }
 ],
 "metadata": {
  "anaconda-cloud": {},
  "kernelspec": {
   "display_name": "Python 3 (ipykernel)",
   "language": "python",
   "name": "python3"
  },
  "language_info": {
   "codemirror_mode": {
    "name": "ipython",
    "version": 3
   },
   "file_extension": ".py",
   "mimetype": "text/x-python",
   "name": "python",
   "nbconvert_exporter": "python",
   "pygments_lexer": "ipython3",
   "version": "3.7.11"
  }
 },
 "nbformat": 4,
 "nbformat_minor": 1
}
