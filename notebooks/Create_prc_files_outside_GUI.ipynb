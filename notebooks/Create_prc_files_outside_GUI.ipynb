{
 "cells": [
  {
   "cell_type": "markdown",
   "metadata": {},
   "source": [
    "# Create procs through the backend"
   ]
  },
  {
   "cell_type": "markdown",
   "metadata": {},
   "source": [
    "Problem: For FSW  testing, Sherie needs the count rates in the cecil (?) procedures to be the catalog count rates, not the count rates measured by MAGIC. This notebook will walk through how to do this.\n",
    "\n",
    "OSS factor - the OSS factor is ONLY in the segment guiding module so you don't have to worry about this for making the procs. (If you are also making override files, you will need to deal with it there)\n",
    "\n",
    "For this, I am utilizing `jwst_magic/fsw_file_writer/mkproc.py`\n"
   ]
  },
  {
   "cell_type": "code",
   "execution_count": 1,
   "metadata": {},
   "outputs": [
    {
     "name": "stdout",
     "output_type": "stream",
     "text": [
      "Using backend:  Qt5Agg\n"
     ]
    }
   ],
   "source": [
    "import os\n",
    "\n",
    "import numpy as np\n",
    "\n",
    "from jwst_magic.fsw_file_writer import mkproc"
   ]
  },
  {
   "cell_type": "markdown",
   "metadata": {},
   "source": [
    "## If you have the xarr and yarr in a selection file"
   ]
  },
  {
   "cell_type": "code",
   "execution_count": 2,
   "metadata": {},
   "outputs": [],
   "source": [
    "# Pull out xarr and yarr\n",
    "# 'guiding_selections_custom_proc.txt' is a example file\n",
    "guiding_selections_file = 'guiding_selections_custom_proc.txt' # CHANGE ME\n",
    "yarr, xarr, _ = np.loadtxt(guiding_selections_file, delimiter=' ', skiprows=1).T # Only read xarr and yarr, ignore counrates"
   ]
  },
  {
   "cell_type": "markdown",
   "metadata": {},
   "source": [
    "## Run it to create proc"
   ]
  },
  {
   "cell_type": "code",
   "execution_count": 3,
   "metadata": {},
   "outputs": [],
   "source": [
    "# Inputs - CHANGE THESE FOR YOUR DATA\n",
    "# These values below are MADE UP\n",
    "\n",
    "guider = 1  # Guider number\n",
    "thresh_factor = 0.6  # Threshold factor for uncertainty\n",
    "\n",
    "root = 'custom_proc'  # Root name for naming of files\n",
    "out_dir = '.'  # Location of out directory incl. \"out\"\n",
    "\n",
    "xarr_id = np.array([5, 100, 250]) # COMMENT OUT IF PULLED FROM FILE\n",
    "yarr_id = np.array([104, 366, 789]) # COMMENT OUT IF PULLED FROM FILE\n",
    "counts_id = np.array([4000000, 6000724, 2345678]) # The custom count rates for the guide and reference stars"
   ]
  },
  {
   "cell_type": "code",
   "execution_count": 4,
   "metadata": {},
   "outputs": [],
   "source": [
    "# If the out and dhas dirs don't exist, make them:\n",
    "if not os.path.exists(os.path.join(out_dir, 'dhas')):\n",
    "    os.makedirs(os.path.join(out_dir, 'dhas'))"
   ]
  },
  {
   "cell_type": "code",
   "execution_count": 5,
   "metadata": {},
   "outputs": [],
   "source": [
    "# Start with ID\n",
    "step_id = \"ID\"\n",
    "acq1_imgsize = None # Since we start with ID, this can be none\n",
    "acq2_imgsize = None # Since we start with ID, this can be none"
   ]
  },
  {
   "cell_type": "code",
   "execution_count": 7,
   "metadata": {},
   "outputs": [
    {
     "data": {
      "text/plain": [
       "<jwst_magic.fsw_file_writer.mkproc.Mkproc at 0x1c1cba26a0>"
      ]
     },
     "execution_count": 7,
     "metadata": {},
     "output_type": "execute_result"
    }
   ],
   "source": [
    "mkproc.Mkproc(guider, root, xarr=xarr_id, yarr=yarr_id, counts=counts_id, \n",
    "              step=step_id, thresh_factor=thresh_factor, out_dir=out_dir, \n",
    "              acq1_imgsize=acq1_imgsize, acq2_imgsize=acq2_imgsize)"
   ]
  },
  {
   "cell_type": "code",
   "execution_count": 8,
   "metadata": {},
   "outputs": [],
   "source": [
    "# Now do ACQ\n",
    "step_acq = \"ACQ\"\n",
    "acq1_imgsize=128 # Since we start with ID, this can be none\n",
    "acq2_imgsize=32 # Since we start with ID, this can be none\n",
    "\n",
    "# This will be the first values from the arrays above: Guide Star info\n",
    "xarr_acq = np.array([xarr_id[0]]) \n",
    "yarr_acq = np.array([yarr_id[0]]) \n",
    "counts_acq = np.array([counts_id[0]])"
   ]
  },
  {
   "cell_type": "code",
   "execution_count": 9,
   "metadata": {},
   "outputs": [
    {
     "data": {
      "text/plain": [
       "<jwst_magic.fsw_file_writer.mkproc.Mkproc at 0x1c1cba2a58>"
      ]
     },
     "execution_count": 9,
     "metadata": {},
     "output_type": "execute_result"
    }
   ],
   "source": [
    "mkproc.Mkproc(guider, root, xarr=xarr_acq, yarr=yarr_acq, counts=counts_acq, \n",
    "              step=step_acq, thresh_factor=thresh_factor, out_dir=out_dir, \n",
    "              acq1_imgsize=acq1_imgsize, acq2_imgsize=acq2_imgsize)"
   ]
  },
  {
   "cell_type": "code",
   "execution_count": null,
   "metadata": {},
   "outputs": [],
   "source": []
  }
 ],
 "metadata": {
  "kernelspec": {
   "display_name": "Python 3",
   "language": "python",
   "name": "python3"
  },
  "language_info": {
   "codemirror_mode": {
    "name": "ipython",
    "version": 3
   },
   "file_extension": ".py",
   "mimetype": "text/x-python",
   "name": "python",
   "nbconvert_exporter": "python",
   "pygments_lexer": "ipython3",
   "version": "3.6.8"
  }
 },
 "nbformat": 4,
 "nbformat_minor": 2
}
