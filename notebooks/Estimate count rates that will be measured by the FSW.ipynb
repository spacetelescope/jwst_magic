{
 "cells": [
  {
   "cell_type": "markdown",
   "id": "d9343bea",
   "metadata": {},
   "source": [
    "Using the DHAS fits files that MAGIC creates, calculate what the expected count rates that DHAS will measure will be. "
   ]
  },
  {
   "cell_type": "code",
   "execution_count": 1,
   "id": "445a7053",
   "metadata": {},
   "outputs": [
    {
     "name": "stdout",
     "output_type": "stream",
     "text": [
      "Using backend:  Qt5Agg\n",
      "Your MAGIC package is up to date\n",
      "Your FGS COUNTRATE package is up to date\n"
     ]
    }
   ],
   "source": [
    "import os\n",
    "\n",
    "from astropy.io import fits\n",
    "import matplotlib.pyplot as plt\n",
    "import numpy as np\n",
    "\n",
    "from jwst_magic.utils import utils\n",
    "from jwst_magic.fsw_file_writer import buildfgssteps"
   ]
  },
  {
   "cell_type": "markdown",
   "id": "1bc2c59f",
   "metadata": {},
   "source": [
    "#### Functions "
   ]
  },
  {
   "cell_type": "code",
   "execution_count": 2,
   "id": "95ed867f",
   "metadata": {},
   "outputs": [],
   "source": [
    "def create_merged_id_full_frame(strips, nstrips=36, strip_height=64, yoffset=12, overlap=8, \n",
    "                                image_size=2048):\n",
    "    \"\"\"\n",
    "    Put an array of strips of size (nstrips, strip_height, image_size) into an array that \n",
    "    is image_size by image_size, accounting for the overlap\n",
    "    \n",
    "    \"\"\"\n",
    "    full_frame_merged = np.zeros((image_size, image_size))\n",
    "    \n",
    "    for i, strip in enumerate(strips):\n",
    "        if i == 0:\n",
    "            full_frame_merged[yoffset:yoffset+strip_height] = strip\n",
    "        else:\n",
    "            low = i * (strip_height - overlap) + yoffset\n",
    "            full_frame_merged[low + overlap :low + strip_height]=strip[overlap:]\n",
    "\n",
    "    return full_frame_merged"
   ]
  },
  {
   "cell_type": "code",
   "execution_count": 3,
   "id": "f5809dae",
   "metadata": {},
   "outputs": [],
   "source": [
    "def estimate_measured_count_rate(data, tcds):\n",
    "    '''\n",
    "    Data is the ID, ACQ1, or ACQ2 data created by MAGIC for the DHAS in units of counts\n",
    "\n",
    "    '''\n",
    "    box_size = np.shape(data[0])[1]\n",
    "    gs_y = box_size//2 #- .5\n",
    "    gs_x = box_size//2 #- .5\n",
    "\n",
    "    data_counts = buildfgssteps.create_cds(data) # TODO: only do this if it hasn't already been done at this point\n",
    "    # Only for ID, make the merged full frame images\n",
    "    if np.shape(data_counts) == (72, 64, 2048):\n",
    "        id_full_frame_1 = create_merged_id_full_frame(data_counts[::2])\n",
    "        id_full_frame_2 = create_merged_id_full_frame(data_counts[1::2])\n",
    "        data_counts = [id_full_frame_1, id_full_frame_2]\n",
    "    \n",
    "    median_counts = np.median(data_counts, axis=0)\n",
    "\n",
    "    # getting counts even though function says count rate\n",
    "    counts_sum = utils.get_countrate_3x3(gs_x, gs_y, median_counts) \n",
    "\n",
    "    # extrapolate the 3x3 CR associated with the summed counts\n",
    "    esimated_count_rate = counts_sum/tcds\n",
    "    \n",
    "    return esimated_count_rate"
   ]
  },
  {
   "cell_type": "markdown",
   "id": "7457dd22",
   "metadata": {},
   "source": [
    "#### Constants"
   ]
  },
  {
   "cell_type": "code",
   "execution_count": 4,
   "id": "d007fe38",
   "metadata": {},
   "outputs": [],
   "source": [
    "# CDS times for ID, ACQ1, and ACQ2\n",
    "tcds_id = 0.3406\n",
    "tcds_acq1 = 0.3612\n",
    "tcds_acq2 = 0.05016"
   ]
  },
  {
   "cell_type": "markdown",
   "id": "f130f099",
   "metadata": {},
   "source": [
    "## Test on actual data"
   ]
  },
  {
   "cell_type": "code",
   "execution_count": 5,
   "id": "10d207bd",
   "metadata": {},
   "outputs": [],
   "source": [
    "# If you want to run this on your own data, replace the below variables to match your data\n",
    "root = 'test_unlimited_cr_7mag'\n",
    "out_dir = '/Users/kbrooks/git_repos/jwst-magic-fork/out'\n",
    "guider = 1 \n",
    "config = 1"
   ]
  },
  {
   "cell_type": "code",
   "execution_count": 6,
   "id": "6eb73686",
   "metadata": {},
   "outputs": [],
   "source": [
    "# Build filenames matching MAGIC naming structure \n",
    "id_data = fits.getdata(os.path.join(out_dir, root, f\"guiding_config_{config}\",\n",
    "                                    \"dhas_shifted\", f\"{root}_G{guider}_IDstrips.fits\"))\n",
    "\n",
    "acq1_data = fits.getdata(os.path.join(out_dir, root, f\"guiding_config_{config}\",\n",
    "                                      \"dhas_shifted\", f\"{root}_G{guider}_ACQ1.fits\"))\n",
    "\n",
    "acq2_data = fits.getdata(os.path.join(out_dir, root, f\"guiding_config_{config}\",\n",
    "                                      \"dhas_shifted\", f\"{root}_G{guider}_ACQ2.fits\"))"
   ]
  },
  {
   "cell_type": "code",
   "execution_count": 7,
   "id": "60a8a309",
   "metadata": {},
   "outputs": [
    {
     "data": {
      "text/plain": [
       "Text(0.5, 1.0, 'Read 2')"
      ]
     },
     "execution_count": 7,
     "metadata": {},
     "output_type": "execute_result"
    }
   ],
   "source": [
    "# Look at the ACQ1 data, reads 1 and 2 - this data is very saturated\n",
    "fig, ax = plt.subplots(1, 2, figsize=(16, 8))\n",
    "ax[0].imshow(acq1_data[0])\n",
    "ax[0].set_title(\"Read 1\")\n",
    "\n",
    "ax[1].imshow(acq1_data[1])\n",
    "ax[1].set_title(\"Read 2\")"
   ]
  },
  {
   "cell_type": "markdown",
   "id": "160c6214",
   "metadata": {},
   "source": [
    "## ACQ1"
   ]
  },
  {
   "cell_type": "code",
   "execution_count": 8,
   "id": "4d149a85",
   "metadata": {},
   "outputs": [
    {
     "data": {
      "text/plain": [
       "622923.5880398671"
      ]
     },
     "execution_count": 8,
     "metadata": {},
     "output_type": "execute_result"
    }
   ],
   "source": [
    "estimated_acq1_count_rate = estimate_measured_count_rate(acq1_data, tcds_acq1)\n",
    "estimated_acq1_count_rate"
   ]
  },
  {
   "cell_type": "markdown",
   "id": "5c0edc03",
   "metadata": {},
   "source": [
    "## ACQ2"
   ]
  },
  {
   "cell_type": "code",
   "execution_count": 9,
   "id": "4460fc83",
   "metadata": {},
   "outputs": [
    {
     "data": {
      "text/plain": [
       "2396172.2488038274"
      ]
     },
     "execution_count": 9,
     "metadata": {},
     "output_type": "execute_result"
    }
   ],
   "source": [
    "estimated_acq2_count_rate = estimate_measured_count_rate(acq2_data, tcds_acq2)\n",
    "estimated_acq2_count_rate"
   ]
  },
  {
   "cell_type": "code",
   "execution_count": 10,
   "id": "bfff78e3",
   "metadata": {},
   "outputs": [
    {
     "name": "stdout",
     "output_type": "stream",
     "text": [
      "Is it possible to avoid failure with this data? no\n"
     ]
    }
   ],
   "source": [
    "# Failure will be unavoidable when 2 * ACQ1 CR > ACQ2 CR\n",
    "failure = 2 * estimated_acq1_count_rate < estimated_acq2_count_rate\n",
    "print(f\"Is it possible to avoid failure with this data? {'no' if failure else 'yes'}\")"
   ]
  },
  {
   "cell_type": "markdown",
   "id": "0f2919b2",
   "metadata": {},
   "source": [
    "## ID "
   ]
  },
  {
   "cell_type": "code",
   "execution_count": 11,
   "id": "e9305907",
   "metadata": {},
   "outputs": [
    {
     "data": {
      "text/plain": [
       "660598.9430416911"
      ]
     },
     "execution_count": 11,
     "metadata": {},
     "output_type": "execute_result"
    }
   ],
   "source": [
    "estimated_id_count_rate = estimate_measured_count_rate(id_data, tcds_id)\n",
    "estimated_id_count_rate"
   ]
  },
  {
   "cell_type": "markdown",
   "id": "ff184fc0",
   "metadata": {},
   "source": [
    "## Compare the above values with \"truth\" (what DHAS spits out) "
   ]
  },
  {
   "cell_type": "code",
   "execution_count": 12,
   "id": "4b27fcfe",
   "metadata": {},
   "outputs": [],
   "source": [
    "# \"Truth\" values - the values returned by DHAS\n",
    "dhas_id_cr = 660598.943 #saturated\n",
    "dhas_acq1_cr = 622923.588 #saturated\n",
    "dhas_acq2_crs = [2380303, 2375837, 2468919, 2405083, 2385785]\n",
    "dhas_acq2_cr = np.median(dhas_acq2_crs)\n",
    "dhas_acq2_cr_std = np.std(dhas_acq2_crs)\n"
   ]
  },
  {
   "cell_type": "code",
   "execution_count": 13,
   "id": "00582ab8",
   "metadata": {},
   "outputs": [
    {
     "name": "stdout",
     "output_type": "stream",
     "text": [
      "Approximately what I am aiming for\n",
      "\t ID CR: 660598.943\n",
      "\t ACQ1 CR: 622923.588\n",
      "\t ACQ2 CR: 2385785.0 +/- 34347.693335069824\n",
      "\t (ACQ2 CR range: 2351437.0 - 2420133.0)\n"
     ]
    }
   ],
   "source": [
    "print('Approximately what I am aiming for')\n",
    "print(f'\\t ID CR: {dhas_id_cr}')\n",
    "print(f'\\t ACQ1 CR: {dhas_acq1_cr}')\n",
    "print(f'\\t ACQ2 CR: {dhas_acq2_cr} +/- {dhas_acq2_cr_std}')\n",
    "print(f'\\t (ACQ2 CR range: {np.round(dhas_acq2_cr-dhas_acq2_cr_std)} - {np.round(dhas_acq2_cr+dhas_acq2_cr_std)})')"
   ]
  },
  {
   "cell_type": "markdown",
   "id": "9029e2f0",
   "metadata": {},
   "source": [
    "### About this notebook\n",
    "Author: K. Brooks\n",
    "\n",
    "Last updated: 6 October, 2021"
   ]
  },
  {
   "cell_type": "code",
   "execution_count": null,
   "id": "074db8cc",
   "metadata": {},
   "outputs": [],
   "source": []
  }
 ],
 "metadata": {
  "kernelspec": {
   "display_name": "Python 3",
   "language": "python",
   "name": "python3"
  },
  "language_info": {
   "codemirror_mode": {
    "name": "ipython",
    "version": 3
   },
   "file_extension": ".py",
   "mimetype": "text/x-python",
   "name": "python",
   "nbconvert_exporter": "python",
   "pygments_lexer": "ipython3",
   "version": "3.7.10"
  }
 },
 "nbformat": 4,
 "nbformat_minor": 5
}
