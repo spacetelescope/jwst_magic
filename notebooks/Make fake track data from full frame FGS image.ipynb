{
 "cells": [
  {
   "cell_type": "markdown",
   "id": "898e378d",
   "metadata": {},
   "source": [
    "This notebook will walk through the steps to make a TRK CDS image (which is not normally created as part of the MAGIC data suite) that can be used as fake track data to be used as input into the `Convert TRK postage stamp to full frame image for MAGIC.ipynb` notebook. "
   ]
  },
  {
   "cell_type": "code",
   "execution_count": 1,
   "id": "ff00fa0a",
   "metadata": {},
   "outputs": [
    {
     "name": "stdout",
     "output_type": "stream",
     "text": [
      "Using backend:  Qt5Agg\n",
      "Your MAGIC package is up to date\n",
      "Your FGS COUNTRATE package is up to date\n"
     ]
    }
   ],
   "source": [
    "import os\n",
    "\n",
    "from astropy.io import fits\n",
    "import matplotlib.pyplot as plt\n",
    "import numpy as np\n",
    "\n",
    "from jwst_magic.fsw_file_writer import buildfgssteps, write_files, detector_effects, config\n",
    "\n",
    "%matplotlib inline"
   ]
  },
  {
   "cell_type": "markdown",
   "id": "c733ea46",
   "metadata": {},
   "source": [
    "## 1. Run your input image through MAGIC's star selector step"
   ]
  },
  {
   "cell_type": "markdown",
   "id": "5bcabcb3",
   "metadata": {},
   "source": [
    "Record your out directory, and other relevant information below"
   ]
  },
  {
   "cell_type": "code",
   "execution_count": 2,
   "id": "75e9866d",
   "metadata": {},
   "outputs": [],
   "source": [
    "###############################################################\n",
    "#### Change the parameters in this cell to match your data ####\n",
    "###############################################################\n",
    "\n",
    "out_dir = '/Users/kbrooks/git_repos/jwst-magic-fork/out/mini_otb_oct/ote29'\n",
    "\n",
    "root = 'make_track_p100um'\n",
    "\n",
    "guider = 1\n",
    "\n",
    "config_number = 1\n",
    "\n",
    "mimf = True"
   ]
  },
  {
   "cell_type": "markdown",
   "id": "32a5e25c",
   "metadata": {},
   "source": [
    "## 2. Create a modified config.ini file"
   ]
  },
  {
   "cell_type": "markdown",
   "id": "8c705c73",
   "metadata": {},
   "source": [
    "Copy the below contents into a file called config.ini that will live in your out_dir:\n",
    "\n",
    "```\n",
    "[trk_dict]\n",
    "step = 'TRK'\n",
    "imgsize = 32\n",
    "nramps = 5000\n",
    "tframe = 0.01254\n",
    "ndrops1 = 0\n",
    "ndrops2 = 1\n",
    "bias = true\n",
    "cdsimg = true\n",
    "stripsimg = false```"
   ]
  },
  {
   "cell_type": "markdown",
   "id": "a7daa83b",
   "metadata": {},
   "source": [
    "## 3. Run the following cells to make a TRK CDS image"
   ]
  },
  {
   "cell_type": "code",
   "execution_count": 3,
   "id": "803429e4",
   "metadata": {},
   "outputs": [],
   "source": [
    "# Path to FGS_img image - this matches the MAGIC directory structure\n",
    "im = fits.getdata(os.path.join(out_dir, 'out', root, 'FGS_imgs', \n",
    "                               f'unshifted_{root}_G{guider}.fits'))\n",
    "# Path to guiding selections file\n",
    "guiding_selections_file = os.path.join(out_dir, 'out', root, f'guiding_config_{config_number}', \n",
    "                                       f'unshifted_guiding_selections_{root}_G{guider}_config{config_number}.txt')\n",
    "\n",
    "# Only need a PSF center file if the input image for MIMF\n",
    "if mimf: \n",
    "    psf_center_file = os.path.join(out_dir, 'out', root, \n",
    "                                   f'unshifted_psf_center_{root}_G{guider}.txt')\n",
    "else:\n",
    "    psf_center_file = None \n",
    "\n",
    "# We only care about the TRK data\n",
    "step = 'TRK'\n",
    "\n",
    "# This is the updated config.ini file mentioned above\n",
    "config_file = os.path.join(out_dir, 'config.ini') "
   ]
  },
  {
   "cell_type": "code",
   "execution_count": 4,
   "id": "e331da06",
   "metadata": {},
   "outputs": [
    {
     "name": "stdout",
     "output_type": "stream",
     "text": [
      "\u001b[38;21m2021-10-13 11:20:02,568 - INFO - Started logging to file /Users/kbrooks/git_repos/jwst-magic-fork/jwst_magic/logs/2021_10_13_Wed_112002_buildfgssteps_make_track_p100um.log\u001b[0m\n",
      "\u001b[38;21m2021-10-13 11:20:02,570 - INFO - FSW File Writing: Using /Users/kbrooks/git_repos/jwst-magic-fork/out/mini_otb_oct/ote29/out/make_track_p100um/guiding_config_1/unshifted_guiding_selections_make_track_p100um_G1_config1.txt as the guiding selections file\u001b[0m\n",
      "\u001b[33;21m2021-10-13 11:20:02,573 - WARNING - The selected guide star triggers bright guiding. A successful threshold factor would be greater than or equal to 0.845 but the user has forced a threshold factor of 0.6\u001b[0m\n",
      "\u001b[38;21m2021-10-13 11:20:04,092 - INFO - FSW File Writing: Creating TRK FSW files\u001b[0m\n"
     ]
    }
   ],
   "source": [
    "bfs_obj = buildfgssteps.BuildFGSSteps(im, guider, root, step, \n",
    "                                      guiding_selections_file=guiding_selections_file, \n",
    "                                      configfile=config_file, out_dir=out_dir, \n",
    "                                      psf_center_file=psf_center_file)"
   ]
  },
  {
   "cell_type": "code",
   "execution_count": 5,
   "id": "c912b440",
   "metadata": {},
   "outputs": [
    {
     "name": "stdout",
     "output_type": "stream",
     "text": [
      "\u001b[38;21m2021-10-13 11:20:04,319 - INFO - Successfully wrote: /Users/kbrooks/git_repos/jwst-magic-fork/out/mini_otb_oct/ote29/out/make_track_p100um/guiding_config_1/stsci_shifted/make_track_p100um_G1_TRKcds.fits\u001b[0m\n"
     ]
    }
   ],
   "source": [
    "# Update some of the object parameters to make sure the data is saved out in the correct place\n",
    "bfs_obj.out_dir = os.path.join(out_dir, 'out', root, 'guiding_config_1')\n",
    "bfs_obj.filename_root = '{}_G{}_{}'.format(bfs_obj.root, \n",
    "                                           bfs_obj.guider, \n",
    "                                           bfs_obj.step)\n",
    "\n",
    "# Write out the CDS image\n",
    "write_files.write_cds(bfs_obj)"
   ]
  },
  {
   "cell_type": "markdown",
   "id": "5a899406",
   "metadata": {},
   "source": [
    "#### About this notebook\n",
    "Author: K. Brooks\n",
    "\n",
    "Last updated: 13 October, 2021\n",
    "\n",
    "Version of MAGIC used: 3.1.0 (commit hash: 0dbcc30)"
   ]
  },
  {
   "cell_type": "code",
   "execution_count": null,
   "id": "61f9d526",
   "metadata": {},
   "outputs": [],
   "source": []
  }
 ],
 "metadata": {
  "kernelspec": {
   "display_name": "Python 3",
   "language": "python",
   "name": "python3"
  },
  "language_info": {
   "codemirror_mode": {
    "name": "ipython",
    "version": 3
   },
   "file_extension": ".py",
   "mimetype": "text/x-python",
   "name": "python",
   "nbconvert_exporter": "python",
   "pygments_lexer": "ipython3",
   "version": "3.7.10"
  }
 },
 "nbformat": 4,
 "nbformat_minor": 5
}
