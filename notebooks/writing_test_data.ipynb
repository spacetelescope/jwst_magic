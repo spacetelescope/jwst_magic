{
 "cells": [
  {
   "cell_type": "markdown",
   "metadata": {},
   "source": [
    "# Generate data for `test_correct_count_rate`"
   ]
  },
  {
   "cell_type": "code",
   "execution_count": null,
   "metadata": {},
   "outputs": [],
   "source": [
    "import importlib\n",
    "import os\n",
    "import pprint\n",
    "\n",
    "from astropy.io import fits\n",
    "import numpy as np\n",
    "\n",
    "from jwst_magic.fsw_file_writer.buildfgssteps import BuildFGSSteps, shift_to_id_attitude"
   ]
  },
  {
   "cell_type": "code",
   "execution_count": null,
   "metadata": {},
   "outputs": [],
   "source": [
    "def find_package_location(package):\n",
    "    return importlib.util.find_spec(package).submodule_search_locations[0]\n",
    "\n",
    "\n",
    "def find_repo_location(package):\n",
    "    return os.path.abspath(os.path.join(find_package_location(package), os.pardir))"
   ]
  },
  {
   "cell_type": "code",
   "execution_count": null,
   "metadata": {},
   "outputs": [],
   "source": [
    "repo_location = find_repo_location(package='jwst_magic')\n",
    "__location__ = os.path.join(repo_location, 'jwst_magic', 'tests')\n",
    "ROOT = 'test_buildfgssteps'\n",
    "SEGMENT_INFILE = os.path.join(__location__, 'data', 'unshifted_all_found_psfs_{}_G1.txt'.format(ROOT))\n",
    "SELECTED_SEGS = os.path.join(__location__, 'data', '{}_regfile.txt'.format(ROOT))\n",
    "CENTER_POINTING_1 = os.path.join(__location__, 'data', 'center_pointing_{}_G1.txt'.format(ROOT))\n",
    "TEST_DIRECTORY = os.path.join(__location__, 'out', ROOT)"
   ]
  },
  {
   "cell_type": "code",
   "execution_count": null,
   "metadata": {},
   "outputs": [],
   "source": [
    "with fits.open( os.path.join(__location__, 'data', 'fgs_data_2_cmimf.fits')) as hdulist:\n",
    "    open_image = hdulist[1].data"
   ]
  },
  {
   "cell_type": "code",
   "execution_count": null,
   "metadata": {
    "scrolled": true
   },
   "outputs": [],
   "source": [
    "d = {}\n",
    "\n",
    "for guider in [1, 2]:\n",
    "    d[guider] = {}\n",
    "    for step in ['LOSTRK', 'CAL', 'ID', 'ACQ1', 'ACQ2', 'TRK']:\n",
    "        d[guider][step] = {}\n",
    "        \n",
    "        bias = []\n",
    "        norm = []\n",
    "        strips = []\n",
    "        cds = []\n",
    "        product = []\n",
    "        \n",
    "        if step != 'LOSTRK':\n",
    "            n = 3\n",
    "        else:\n",
    "            n = 1\n",
    "            \n",
    "        for i in range(n):\n",
    "            # Add random seed to match what's in the test_correct_count_rate test\n",
    "            np.random.seed(100)\n",
    "            \n",
    "            # Run the code\n",
    "            fgs_im, guiding_selections_file, psf_center_file = shift_to_id_attitude(\n",
    "                    open_image, ROOT, guider, TEST_DIRECTORY, guiding_selections_file=SELECTED_SEGS,\n",
    "                    all_found_psfs_file=SEGMENT_INFILE, center_pointing_file=CENTER_POINTING_1,\n",
    "            psf_center_file=None, logger_passed=True)\n",
    "            BFS = BuildFGSSteps(fgs_im, guider, ROOT, step, guiding_selections_file=guiding_selections_file,\n",
    "                                out_dir=TEST_DIRECTORY, shift_id_attitude=True, use_readnoise=False)\n",
    "\n",
    "            # Don't know how to test bias - since it is so variable\n",
    "            if step != 'LOSTRK':\n",
    "                bias.append([np.min(BFS.bias), np.max(BFS.bias)])\n",
    "\n",
    "            norm.append([np.min(BFS.time_normed_im), np.max(BFS.time_normed_im)])\n",
    "            if step == 'ID':\n",
    "                strips.append([np.min(BFS.strips), np.max(BFS.strips)])\n",
    "            if 'TRK' not in step:\n",
    "                cds.append([np.min(BFS.cds), np.max(BFS.cds)])\n",
    "            product.append([np.min(BFS.image), np.max(BFS.image)])\n",
    "        \n",
    "        print()\n",
    "        print(guider, step)\n",
    "        print()\n",
    "        for l, name in zip([bias, norm , strips , cds , product, BFS.countrate], \n",
    "                              ['bias', 'norm' , 'strips' , 'cds' , step, 'countrate']):\n",
    "            l = np.array(l)\n",
    "            if (l.size > 0 and step == 'LOSTRK') or (name in ['norm']):\n",
    "                d[guider][step][name] = l[0]\n",
    "            elif name == 'countrate':\n",
    "                d[guider][step][name] = list(l)\n",
    "            elif l.size > 0 and name != 'countrate':\n",
    "                d[guider][step][name] = [round(np.average([m[0] for m in l]), -1), \n",
    "                                         round(np.average([m[1] for m in l]), -1)]\n",
    "\n",
    "        "
   ]
  },
  {
   "cell_type": "code",
   "execution_count": null,
   "metadata": {
    "scrolled": false
   },
   "outputs": [],
   "source": [
    "# What is printed here is used in jwst_magic/tests/data/parameterized_test_data.yaml\n",
    "pprint.pprint(d)"
   ]
  },
  {
   "cell_type": "code",
   "execution_count": null,
   "metadata": {},
   "outputs": [],
   "source": [
    "# print out data the same way it is in the .yaml file\n",
    "mode_order = ['CAL', 'ID', 'ACQ1', 'ACQ2', 'TRK', 'LOSTRK']\n",
    "for k in d:\n",
    "    print(f\"guider{k}:\")\n",
    "    for mode in mode_order:\n",
    "        print(f\"\\t{mode}:\")\n",
    "        print(f\"\\t\\tcountrates: {d[k][mode]['countrate']}\")\n",
    "        if mode != 'LOSTRK':\n",
    "            print(f\"\\t\\tbias: {d[k][mode]['bias']}\")\n",
    "        print(f\"\\t\\ttime_normed_im: {d[k][mode]['norm']}\")\n",
    "        if mode not in ['LOSTRK', 'TRK']:\n",
    "            print(f\"\\t\\tcds: {d[k][mode]['cds']}\")\n",
    "        if mode == 'ID':\n",
    "            print(f\"\\t\\tstrips: {d[k][mode]['strips']}\")\n",
    "        print(f\"\\t\\t{mode}: {d[k][mode][mode]}\")\n",
    "        "
   ]
  },
  {
   "cell_type": "markdown",
   "metadata": {},
   "source": [
    "# Generate data for `coordinate_tranforms`"
   ]
  },
  {
   "cell_type": "code",
   "execution_count": null,
   "metadata": {},
   "outputs": [],
   "source": [
    "import inspect\n",
    "from jwst_magic.utils import coordinate_transforms"
   ]
  },
  {
   "cell_type": "code",
   "execution_count": null,
   "metadata": {},
   "outputs": [],
   "source": [
    "for func in sorted(dir(coordinate_transforms)):\n",
    "    if not func.startswith('_') and '2' in func:\n",
    "        print(func)\n",
    "        func_to_call = getattr(coordinate_transforms, func)\n",
    "#         result = func_to_call()\n",
    "        arg_names = inspect.getfullargspec(func_to_call)[0]\n",
    "#         print(arg_names)\n",
    "    \n",
    "        if 'x_raw' in arg_names:\n",
    "            x, y = (1743.3, 241.9)\n",
    "            \n",
    "        else:\n",
    "            x, y = (-55.736935, 8.139518)\n",
    "            \n",
    "        if 'guider' in arg_names:\n",
    "            for guider in range(2):\n",
    "                result = func_to_call(x, y, guider + 1)\n",
    "                print(result)\n",
    "        elif 'detector' in arg_names:\n",
    "            result = func_to_call(x, y, 'NRCA3')\n",
    "            print(result)\n",
    "        else:\n",
    "            result = func_to_call(x, y)\n",
    "            print(result)"
   ]
  },
  {
   "cell_type": "code",
   "execution_count": null,
   "metadata": {},
   "outputs": [],
   "source": [
    "ANGLE_COORDS = (-55.736935, 8.139518)\n",
    "coordinate_transforms.DHAS2Raw(*ANGLE_COORDS, 1)"
   ]
  },
  {
   "cell_type": "markdown",
   "metadata": {},
   "source": [
    "# Generate data for `test_generate_segment_override_file`"
   ]
  },
  {
   "cell_type": "code",
   "execution_count": null,
   "metadata": {},
   "outputs": [],
   "source": [
    "from datetime import datetime\n",
    "\n",
    "from jwst_magic.tests.utils import parametrized_data\n",
    "from jwst_magic.utils import utils\n",
    "from jwst_magic.segment_guiding.segment_guiding import (generate_segment_override_file,\n",
    "                                                        SegmentGuidingCalculator,\n",
    "                                                        generate_photometry_override_file)"
   ]
  },
  {
   "cell_type": "code",
   "execution_count": null,
   "metadata": {},
   "outputs": [],
   "source": [
    "repo_location = find_repo_location(package='jwst_magic')\n",
    "__location__ = os.path.join(repo_location, 'jwst_magic', 'tests')\n",
    "ROOT = \"test_sgt\"\n",
    "SEGMENT_INFILE = os.path.join(__location__, 'data', '{}_ALLpsfs.txt'.format(ROOT))\n",
    "SELECTED_SEGS = os.path.join(__location__, 'data', '{}_regfile.txt'.format(ROOT))\n",
    "SELECTED_SEGS2 = os.path.join(__location__, 'data', 'unshifted_guiding_selections_{}_G1_config1.txt'.format(ROOT))\n",
    "SELECTED_SEGS3 = os.path.join(__location__, 'data', 'unshifted_guiding_selections_{}_G1_config2.txt'.format(ROOT))\n",
    "SHIFTED_SEGS = os.path.join(__location__, 'data', 'shifted_guiding_selections_{}_G1_config1.txt'.format(ROOT))\n",
    "SHIFTED_SEGS2 = os.path.join(__location__, 'data', 'shifted_guiding_selections_{}_G1_config2.txt'.format(ROOT))\n",
    "SHIFTED_SEGS3 = os.path.join(__location__, 'data', 'shifted_guiding_selections_{}_G1_config3.txt'.format(ROOT))\n",
    "SHIFTED_INFILE = os.path.join(__location__, 'data', 'shifted_all_found_psfs_{}_G1_config1.txt'.format(ROOT))\n",
    "SHIFTED_INFILE2 = os.path.join(__location__, 'data', 'shifted_all_found_psfs_{}_G1_config2.txt'.format(ROOT))\n",
    "SHIFTED_INFILE3 = os.path.join(__location__, 'data', 'shifted_all_found_psfs_{}_G1_config3.txt'.format(ROOT))"
   ]
  },
  {
   "cell_type": "code",
   "execution_count": null,
   "metadata": {},
   "outputs": [],
   "source": [
    "PROGRAM_ID = 1141\n",
    "OBSERVATION_NUM = 7\n",
    "VISIT_NUM = 1\n",
    "test_directory = os.path.join(__location__, 'out', ROOT)"
   ]
  },
  {
   "cell_type": "code",
   "execution_count": null,
   "metadata": {},
   "outputs": [],
   "source": [
    "sof_parameters = [\n",
    "                  ([0,0], [SELECTED_SEGS], [SEGMENT_INFILE], test_data[0]),\n",
    "                  ([4], [SELECTED_SEGS], [SEGMENT_INFILE], test_data[1]),\n",
    "                  ([0,0], [SELECTED_SEGS, SELECTED_SEGS2], [SEGMENT_INFILE, SEGMENT_INFILE], test_data[2]), # no matching segs\n",
    "                  (0, [SELECTED_SEGS, SELECTED_SEGS3], [SEGMENT_INFILE, SEGMENT_INFILE], test_data[3]), # 2 matching segs\n",
    "                  (0, np.array([[1, 12, 6]], dtype=object), [SEGMENT_INFILE], test_data[4]),\n",
    "                  (0, np.array([[1, 2, 3], [4, 1, 18, 12, 2]], dtype=object), [SEGMENT_INFILE, SEGMENT_INFILE], test_data[5]),\n",
    "                  (0, [SHIFTED_SEGS, SHIFTED_SEGS2], [SHIFTED_INFILE, SHIFTED_INFILE2], test_data[6]), # no matching segs\n",
    "                  (0, [SHIFTED_SEGS, SHIFTED_SEGS3], [SHIFTED_INFILE, SHIFTED_INFILE3], test_data[7]), # matching guide star\n",
    "                 ]\n",
    "for (center_of_pointing, selected_segs, segment_infile, correct_command) in sof_parameters:\n",
    "\n",
    "    guider = 1\n",
    "\n",
    "    guide_star_params_dict = {'v2_boff': 0.1,\n",
    "                              'v3_boff': 0.2,\n",
    "                              'fgs_num': guider,\n",
    "                              'ra': 90.9708,\n",
    "                              'dec': -67.3578,\n",
    "                              'pa': 157.1234,\n",
    "                              'center_of_pointing': center_of_pointing}\n",
    "\n",
    "    generate_segment_override_file(\n",
    "        segment_infile, guider, PROGRAM_ID, OBSERVATION_NUM, VISIT_NUM, root=ROOT,\n",
    "        out_dir=__location__, selected_segs_list=selected_segs,\n",
    "        guide_star_params_dict=guide_star_params_dict, parameter_dialog=False\n",
    "    )\n",
    "\n",
    "    # Check to make sure the override file was created, and in the right place\n",
    "    segment_override_file = os.path.join(test_directory, '{}_gs_override_1141_7_1.txt'.format(\n",
    "        datetime.now().strftime('%Y%m%d')))\n",
    "    assert os.path.isfile(segment_override_file)\n",
    "\n",
    "    # # Check to make sure the command was written correctly\n",
    "    with open(segment_override_file) as f:\n",
    "        segment_override_command = f.read()\n",
    "    \n",
    "    print(f'\"{segment_override_command}\", \\n')\n"
   ]
  },
  {
   "cell_type": "markdown",
   "metadata": {},
   "source": [
    "# Generate data for `test_write_override_report`"
   ]
  },
  {
   "cell_type": "code",
   "execution_count": null,
   "metadata": {},
   "outputs": [],
   "source": [
    "guider = 1\n",
    "guide_star_params_dict = {'v2_boff': 0.1,\n",
    "                          'v3_boff': 0.2,\n",
    "                          'fgs_num': guider,\n",
    "                          'ra': 90.9708,\n",
    "                          'dec': -67.3578,\n",
    "                          'pa': 157.1234,\n",
    "                          'center_of_pointing': 0}\n",
    "\n",
    "# Multiple commands - so multiple segment infiles\n",
    "selected_segs = np.array([[1, 2, 3], [4, 1, 18, 12, 2]], dtype=object)\n",
    "segment_infile = [SEGMENT_INFILE, SEGMENT_INFILE]\n",
    "\n",
    "generate_segment_override_file(\n",
    "    segment_infile, guider, PROGRAM_ID, OBSERVATION_NUM, VISIT_NUM, root=ROOT,\n",
    "    out_dir=__location__, selected_segs_list=selected_segs,\n",
    "    guide_star_params_dict=guide_star_params_dict, parameter_dialog=False\n",
    ")\n",
    "\n",
    "report_file = '{}_gs_override_{}_{}_{}_REPORT.txt'.format(datetime.now().strftime('%Y%m%d'),\n",
    "                                                          PROGRAM_ID,\n",
    "                                                          OBSERVATION_NUM,\n",
    "                                                          VISIT_NUM)\n",
    "report_file = os.path.join(test_directory, report_file)\n",
    "\n",
    "with open(report_file) as f:\n",
    "    lines = f.read().split('\\n')\n",
    "    print(lines)"
   ]
  },
  {
   "cell_type": "code",
   "execution_count": null,
   "metadata": {},
   "outputs": [],
   "source": [
    "report_file"
   ]
  },
  {
   "cell_type": "markdown",
   "metadata": {},
   "source": [
    "# Generate data for `test_segment_override_file_single_obs`"
   ]
  },
  {
   "cell_type": "code",
   "execution_count": null,
   "metadata": {},
   "outputs": [],
   "source": [
    "test_data = PARAMETRIZED_DATA['test_segment_override_file_single_obs']\n",
    "obs_num, correct_file_name, correct_command = '2', 'gs_override_1141_2_1.txt', test_data[0]"
   ]
  },
  {
   "cell_type": "code",
   "execution_count": null,
   "metadata": {},
   "outputs": [],
   "source": [
    "guider = 1\n",
    "guide_star_params_dict = {'v2_boff': 0.1,\n",
    "                          'v3_boff': 0.2,\n",
    "                          'fgs_num': guider,\n",
    "                          'ra': 90.9708,\n",
    "                          'dec': -67.3578,\n",
    "                          'pa': 157.1234,\n",
    "                          'center_of_pointing': 0}\n",
    "\n",
    "generate_segment_override_file(\n",
    "    [SEGMENT_INFILE], guider, PROGRAM_ID, obs_num, 1, root=ROOT,\n",
    "    out_dir=__location__, selected_segs_list=[SELECTED_SEGS],\n",
    "    guide_star_params_dict=guide_star_params_dict, parameter_dialog=False\n",
    ")\n",
    "\n",
    "# Check to make sure the override file was created, and in the right place\n",
    "segment_override_file = os.path.join(\n",
    "    test_directory, '{}_{}'.format(datetime.now().strftime('%Y%m%d'), correct_file_name)\n",
    ")\n",
    "assert os.path.isfile(segment_override_file)\n",
    "\n",
    "# Also check for the report\n",
    "segment_override_report = os.path.join(\n",
    "    test_directory, '{}_{}'.format(datetime.now().strftime('%Y%m%d'),\n",
    "                                   correct_file_name.split('.txt')[0] + '_REPORT.txt')\n",
    ")\n",
    "assert os.path.isfile(segment_override_report)\n",
    "\n",
    "# # Check to make sure the command was written correctly\n",
    "with open(segment_override_file) as f:\n",
    "    segment_override_command = f.read()"
   ]
  },
  {
   "cell_type": "code",
   "execution_count": null,
   "metadata": {},
   "outputs": [],
   "source": [
    "segment_override_command"
   ]
  }
 ],
 "metadata": {
  "kernelspec": {
   "display_name": "Python 3 (ipykernel)",
   "language": "python",
   "name": "python3"
  },
  "language_info": {
   "codemirror_mode": {
    "name": "ipython",
    "version": 3
   },
   "file_extension": ".py",
   "mimetype": "text/x-python",
   "name": "python",
   "nbconvert_exporter": "python",
   "pygments_lexer": "ipython3",
   "version": "3.9.7"
  }
 },
 "nbformat": 4,
 "nbformat_minor": 2
}
