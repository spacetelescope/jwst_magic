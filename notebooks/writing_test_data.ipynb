{
 "cells": [
  {
   "cell_type": "markdown",
   "metadata": {},
   "source": [
    "# Generate data for `test_correct_count_rate`"
   ]
  },
  {
   "cell_type": "code",
   "execution_count": null,
   "metadata": {},
   "outputs": [],
   "source": [
    "import importlib\n",
    "import os\n",
    "import pprint\n",
    "\n",
    "from astropy.io import fits\n",
    "import numpy as np\n",
    "\n",
    "from jwst_magic.fsw_file_writer.buildfgssteps import BuildFGSSteps, shift_to_id_attitude"
   ]
  },
  {
   "cell_type": "code",
   "execution_count": null,
   "metadata": {},
   "outputs": [],
   "source": [
    "def find_package_location(package):\n",
    "    return importlib.util.find_spec(package).submodule_search_locations[0]\n",
    "\n",
    "\n",
    "def find_repo_location(package):\n",
    "    return os.path.abspath(os.path.join(find_package_location(package), os.pardir))"
   ]
  },
  {
   "cell_type": "code",
   "execution_count": null,
   "metadata": {},
   "outputs": [],
   "source": [
    "repo_location = find_repo_location(package='jwst_magic')\n",
    "__location__ = os.path.join(repo_location, 'jwst_magic', 'tests')\n",
    "ROOT = 'test_buildfgssteps'\n",
    "SEGMENT_INFILE = os.path.join(__location__, 'data', 'unshifted_all_found_psfs_{}_G1.txt'.format(ROOT))\n",
    "SELECTED_SEGS = os.path.join(__location__, 'data', '{}_regfile.txt'.format(ROOT))\n",
    "CENTER_POINTING_1 = os.path.join(__location__, 'data', 'center_pointing_{}_G1.txt'.format(ROOT))\n",
    "TEST_DIRECTORY = os.path.join(__location__, 'out', ROOT)"
   ]
  },
  {
   "cell_type": "code",
   "execution_count": null,
   "metadata": {},
   "outputs": [],
   "source": [
    "with fits.open( os.path.join(__location__, 'data', 'fgs_data_2_cmimf.fits')) as hdulist:\n",
    "    open_image = hdulist[1].data"
   ]
  },
  {
   "cell_type": "code",
   "execution_count": null,
   "metadata": {
    "scrolled": true
   },
   "outputs": [],
   "source": [
    "d = {}\n",
    "for guider in [1, 2]:\n",
    "    d[guider] = {}\n",
    "    for step in ['LOSTRK', 'CAL', 'ID', 'ACQ1', 'ACQ2', 'TRK']:\n",
    "        d[guider][step] = {}\n",
    "        \n",
    "        bias = []\n",
    "        norm = []\n",
    "        strips = []\n",
    "        cds = []\n",
    "        product = []\n",
    "        \n",
    "        if step != 'LOSTRK':\n",
    "            n = 10\n",
    "        else:\n",
    "            n = 1\n",
    "            \n",
    "        for i in range(n):\n",
    "            # Run the code\n",
    "            fgs_im, guiding_selections_file, psf_center_file = shift_to_id_attitude(\n",
    "                    open_image, ROOT, guider, TEST_DIRECTORY, guiding_selections_file=SELECTED_SEGS,\n",
    "                    all_found_psfs_file=SEGMENT_INFILE, center_pointing_file=CENTER_POINTING_1,\n",
    "            psf_center_file=None, crowded_field=False, logger_passed=True)\n",
    "            BFS = BuildFGSSteps(fgs_im, guider, ROOT, step, guiding_selections_file=guiding_selections_file,\n",
    "                                out_dir=TEST_DIRECTORY, shift_id_attitude=True)\n",
    "\n",
    "            # Don't know how to test bias - since it is so variable\n",
    "            if step is not 'LOSTRK':\n",
    "                bias.append([np.min(BFS.bias), np.max(BFS.bias)])\n",
    "\n",
    "            norm.append([np.min(BFS.time_normed_im), np.max(BFS.time_normed_im)])\n",
    "            if step is 'ID':\n",
    "                strips.append([np.min(BFS.strips), np.max(BFS.strips)])\n",
    "            if 'TRK' not in step:\n",
    "                cds.append([np.min(BFS.cds), np.max(BFS.cds)])\n",
    "            product.append([np.min(BFS.image), np.max(BFS.image)])\n",
    "        \n",
    "        print()\n",
    "        print(guider, step)\n",
    "        print()\n",
    "        for l, name in zip([bias, norm , strips , cds , product, BFS.countrate], \n",
    "                              ['bias', 'norm' , 'strips' , 'cds' , step, 'countrate']):\n",
    "            if (l != [] and step == 'LOSTRK') or (name in ['countrate', 'norm']):\n",
    "                d[guider][step][name] = l[0]\n",
    "            elif l != [] and name != 'countrate':\n",
    "                d[guider][step][name] = [round(np.average([m[0] for m in l]), -1), \n",
    "                                         round(np.average([m[1] for m in l]), -1)]\n",
    "\n",
    "        "
   ]
  },
  {
   "cell_type": "code",
   "execution_count": null,
   "metadata": {},
   "outputs": [],
   "source": [
    "pprint.pprint(d)"
   ]
  },
  {
   "cell_type": "markdown",
   "metadata": {},
   "source": [
    "# Generate data for `coordinate_tranforms`"
   ]
  },
  {
   "cell_type": "code",
   "execution_count": null,
   "metadata": {},
   "outputs": [],
   "source": [
    "import inspect\n",
    "from jwst_magic.utils import coordinate_transforms"
   ]
  },
  {
   "cell_type": "code",
   "execution_count": null,
   "metadata": {},
   "outputs": [],
   "source": [
    "for func in sorted(dir(coordinate_transforms)):\n",
    "    if not func.startswith('_') and '2' in func:\n",
    "        print(func)\n",
    "        func_to_call = getattr(coordinate_transforms, func)\n",
    "#         result = func_to_call()\n",
    "        arg_names = inspect.getfullargspec(func_to_call)[0]\n",
    "#         print(arg_names)\n",
    "    \n",
    "        if 'x_raw' in arg_names:\n",
    "            x, y = (1743.3, 241.9)\n",
    "            \n",
    "        else:\n",
    "            x, y = (-55.736935, 8.139518)\n",
    "            \n",
    "        if 'guider' in arg_names:\n",
    "            for guider in range(2):\n",
    "                result = func_to_call(x, y, guider + 1)\n",
    "                print(result)\n",
    "        elif 'detector' in arg_names:\n",
    "            result = func_to_call(x, y, 'NRCA3')\n",
    "            print(result)\n",
    "        else:\n",
    "            result = func_to_call(x, y)\n",
    "            print(result)"
   ]
  },
  {
   "cell_type": "code",
   "execution_count": null,
   "metadata": {},
   "outputs": [],
   "source": [
    "ANGLE_COORDS = (-55.736935, 8.139518)\n",
    "coordinate_transforms.DHAS2Raw(*ANGLE_COORDS, 1)"
   ]
  },
  {
   "cell_type": "code",
   "execution_count": null,
   "metadata": {},
   "outputs": [],
   "source": []
  }
 ],
 "metadata": {
  "kernelspec": {
   "display_name": "Python 3",
   "language": "python",
   "name": "python3"
  },
  "language_info": {
   "codemirror_mode": {
    "name": "ipython",
    "version": 3
   },
   "file_extension": ".py",
   "mimetype": "text/x-python",
   "name": "python",
   "nbconvert_exporter": "python",
   "pygments_lexer": "ipython3",
   "version": "3.7.6"
  }
 },
 "nbformat": 4,
 "nbformat_minor": 2
}
